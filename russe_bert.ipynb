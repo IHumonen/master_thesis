{
 "cells": [
  {
   "cell_type": "code",
   "execution_count": 31,
   "metadata": {
    "id": "TceTtokVIAiK"
   },
   "outputs": [],
   "source": [
    "import sklearn\n",
    "import torch\n",
    "\n",
    "import numpy as np\n",
    "import pandas as pd\n",
    "\n",
    "import plotly.express as px\n",
    "\n",
    "from sklearn.cluster import KMeans, AgglomerativeClustering\n",
    "from sklearn.metrics.cluster import adjusted_rand_score\n",
    "from transformers import AutoTokenizer, AutoModel, BatchEncoding"
   ]
  },
  {
   "cell_type": "markdown",
   "metadata": {},
   "source": [
    "## Данные"
   ]
  },
  {
   "cell_type": "code",
   "execution_count": 2,
   "metadata": {},
   "outputs": [],
   "source": [
    "def get_word_form(context, position, task):\n",
    "    if task == 'bts-rnc':\n",
    "        raw = context[int(position[0]): int(position[1])+1]\n",
    "    else:\n",
    "        raw = context[int(position[0]): int(position[1])]\n",
    "    fixed = ''\n",
    "    for letter in raw.lower():\n",
    "        if letter.isalpha():\n",
    "            if letter != 'й':\n",
    "                fixed += letter\n",
    "            else:\n",
    "                fixed += 'и'\n",
    "    \n",
    "    return fixed"
   ]
  },
  {
   "cell_type": "code",
   "execution_count": 3,
   "metadata": {},
   "outputs": [],
   "source": [
    "task = 'wiki-wiki' #'active-dict' 'bts-rnc' 'wiki-wiki'"
   ]
  },
  {
   "cell_type": "code",
   "execution_count": 4,
   "metadata": {},
   "outputs": [],
   "source": [
    "train_df = pd.read_csv(f'../russe-wsi-kit/data/main/{task}/train.csv', delimiter='\\t')"
   ]
  },
  {
   "cell_type": "code",
   "execution_count": 5,
   "metadata": {},
   "outputs": [],
   "source": [
    "train_df = train_df.iloc[train_df['positions'].dropna().index]"
   ]
  },
  {
   "cell_type": "code",
   "execution_count": 6,
   "metadata": {},
   "outputs": [],
   "source": [
    "train_df['positions'] = train_df['positions'].apply(lambda x: x.split(','))"
   ]
  },
  {
   "cell_type": "code",
   "execution_count": 7,
   "metadata": {},
   "outputs": [],
   "source": [
    "train_df['positions'] = train_df['positions'].apply(lambda x: x[0].split('-'))"
   ]
  },
  {
   "cell_type": "code",
   "execution_count": 8,
   "metadata": {},
   "outputs": [],
   "source": [
    "train_df['word_form'] = train_df.apply(lambda x: get_word_form(x['context'], x['positions'], task), axis=1)"
   ]
  },
  {
   "cell_type": "code",
   "execution_count": 9,
   "metadata": {
    "scrolled": true
   },
   "outputs": [
    {
     "data": {
      "text/html": [
       "<div>\n",
       "<style scoped>\n",
       "    .dataframe tbody tr th:only-of-type {\n",
       "        vertical-align: middle;\n",
       "    }\n",
       "\n",
       "    .dataframe tbody tr th {\n",
       "        vertical-align: top;\n",
       "    }\n",
       "\n",
       "    .dataframe thead th {\n",
       "        text-align: right;\n",
       "    }\n",
       "</style>\n",
       "<table border=\"1\" class=\"dataframe\">\n",
       "  <thead>\n",
       "    <tr style=\"text-align: right;\">\n",
       "      <th></th>\n",
       "      <th>context_id</th>\n",
       "      <th>word</th>\n",
       "      <th>gold_sense_id</th>\n",
       "      <th>predict_sense_id</th>\n",
       "      <th>positions</th>\n",
       "      <th>context</th>\n",
       "      <th>word_form</th>\n",
       "    </tr>\n",
       "  </thead>\n",
       "  <tbody>\n",
       "    <tr>\n",
       "      <th>0</th>\n",
       "      <td>1</td>\n",
       "      <td>замок</td>\n",
       "      <td>1</td>\n",
       "      <td>NaN</td>\n",
       "      <td>[0, 5]</td>\n",
       "      <td>замок владимира мономаха в любече . многочисле...</td>\n",
       "      <td>замок</td>\n",
       "    </tr>\n",
       "    <tr>\n",
       "      <th>1</th>\n",
       "      <td>2</td>\n",
       "      <td>замок</td>\n",
       "      <td>1</td>\n",
       "      <td>NaN</td>\n",
       "      <td>[11, 16]</td>\n",
       "      <td>шильонский замок замок шильйон ( ) , известный...</td>\n",
       "      <td>замок</td>\n",
       "    </tr>\n",
       "    <tr>\n",
       "      <th>2</th>\n",
       "      <td>3</td>\n",
       "      <td>замок</td>\n",
       "      <td>1</td>\n",
       "      <td>NaN</td>\n",
       "      <td>[299, 304]</td>\n",
       "      <td>проведения архитектурно - археологических рабо...</td>\n",
       "      <td>замок</td>\n",
       "    </tr>\n",
       "    <tr>\n",
       "      <th>3</th>\n",
       "      <td>4</td>\n",
       "      <td>замок</td>\n",
       "      <td>1</td>\n",
       "      <td>NaN</td>\n",
       "      <td>[111, 116]</td>\n",
       "      <td>топи с . , л . белокуров легенда о завещании м...</td>\n",
       "      <td>замок</td>\n",
       "    </tr>\n",
       "    <tr>\n",
       "      <th>4</th>\n",
       "      <td>5</td>\n",
       "      <td>замок</td>\n",
       "      <td>1</td>\n",
       "      <td>NaN</td>\n",
       "      <td>[134, 139]</td>\n",
       "      <td>великий князь литовский гедимин после успешной...</td>\n",
       "      <td>замок</td>\n",
       "    </tr>\n",
       "    <tr>\n",
       "      <th>...</th>\n",
       "      <td>...</td>\n",
       "      <td>...</td>\n",
       "      <td>...</td>\n",
       "      <td>...</td>\n",
       "      <td>...</td>\n",
       "      <td>...</td>\n",
       "      <td>...</td>\n",
       "    </tr>\n",
       "    <tr>\n",
       "      <th>434</th>\n",
       "      <td>435</td>\n",
       "      <td>бор</td>\n",
       "      <td>2</td>\n",
       "      <td>NaN</td>\n",
       "      <td>[10, 13]</td>\n",
       "      <td>ленточный бор ле́нточные бо́ры — сосновые трав...</td>\n",
       "      <td>бор</td>\n",
       "    </tr>\n",
       "    <tr>\n",
       "      <th>435</th>\n",
       "      <td>436</td>\n",
       "      <td>бор</td>\n",
       "      <td>2</td>\n",
       "      <td>NaN</td>\n",
       "      <td>[101, 104]</td>\n",
       "      <td>в окрестностях барнаула , составляет —  км . н...</td>\n",
       "      <td>бор</td>\n",
       "    </tr>\n",
       "    <tr>\n",
       "      <th>436</th>\n",
       "      <td>437</td>\n",
       "      <td>бор</td>\n",
       "      <td>2</td>\n",
       "      <td>NaN</td>\n",
       "      <td>[17, 20]</td>\n",
       "      <td>также в сосновом бору открыта секция биатлона ...</td>\n",
       "      <td>бор</td>\n",
       "    </tr>\n",
       "    <tr>\n",
       "      <th>437</th>\n",
       "      <td>438</td>\n",
       "      <td>бор</td>\n",
       "      <td>2</td>\n",
       "      <td>NaN</td>\n",
       "      <td>[183, 186]</td>\n",
       "      <td>экспресс банк , мособлбанк , внешпромбанк , ба...</td>\n",
       "      <td>бор</td>\n",
       "    </tr>\n",
       "    <tr>\n",
       "      <th>438</th>\n",
       "      <td>439</td>\n",
       "      <td>бор</td>\n",
       "      <td>2</td>\n",
       "      <td>NaN</td>\n",
       "      <td>[11, 14]</td>\n",
       "      <td>каштакский бор каштакский бор — бор , находящи...</td>\n",
       "      <td>бор</td>\n",
       "    </tr>\n",
       "  </tbody>\n",
       "</table>\n",
       "<p>439 rows × 7 columns</p>\n",
       "</div>"
      ],
      "text/plain": [
       "     context_id   word  gold_sense_id  predict_sense_id   positions  \\\n",
       "0             1  замок              1               NaN      [0, 5]   \n",
       "1             2  замок              1               NaN    [11, 16]   \n",
       "2             3  замок              1               NaN  [299, 304]   \n",
       "3             4  замок              1               NaN  [111, 116]   \n",
       "4             5  замок              1               NaN  [134, 139]   \n",
       "..          ...    ...            ...               ...         ...   \n",
       "434         435    бор              2               NaN    [10, 13]   \n",
       "435         436    бор              2               NaN  [101, 104]   \n",
       "436         437    бор              2               NaN    [17, 20]   \n",
       "437         438    бор              2               NaN  [183, 186]   \n",
       "438         439    бор              2               NaN    [11, 14]   \n",
       "\n",
       "                                               context word_form  \n",
       "0    замок владимира мономаха в любече . многочисле...     замок  \n",
       "1    шильонский замок замок шильйон ( ) , известный...     замок  \n",
       "2    проведения архитектурно - археологических рабо...     замок  \n",
       "3    топи с . , л . белокуров легенда о завещании м...     замок  \n",
       "4    великий князь литовский гедимин после успешной...     замок  \n",
       "..                                                 ...       ...  \n",
       "434  ленточный бор ле́нточные бо́ры — сосновые трав...       бор  \n",
       "435  в окрестностях барнаула , составляет —  км . н...       бор  \n",
       "436  также в сосновом бору открыта секция биатлона ...       бор  \n",
       "437  экспресс банк , мособлбанк , внешпромбанк , ба...       бор  \n",
       "438  каштакский бор каштакский бор — бор , находящи...       бор  \n",
       "\n",
       "[439 rows x 7 columns]"
      ]
     },
     "execution_count": 9,
     "metadata": {},
     "output_type": "execute_result"
    }
   ],
   "source": [
    "train_df"
   ]
  },
  {
   "cell_type": "markdown",
   "metadata": {},
   "source": [
    "## BERT"
   ]
  },
  {
   "cell_type": "code",
   "execution_count": 10,
   "metadata": {},
   "outputs": [],
   "source": [
    "def get_word_location(target, tokens):\n",
    "    current = ''\n",
    "    current_indices = []\n",
    "    for i, token in enumerate(tokens):\n",
    "        if token[:2] == '##':\n",
    "            current += token[2:]\n",
    "            current_indices.append(i)\n",
    "        else:\n",
    "            current = token\n",
    "            current_indices = [i]\n",
    "        if current == target:\n",
    "            return current_indices\n",
    "    print(target, tokens)\n",
    "    return 'not found'"
   ]
  },
  {
   "cell_type": "code",
   "execution_count": 11,
   "metadata": {
    "id": "iY5AC9ENJsUi"
   },
   "outputs": [],
   "source": [
    "def get_embedding(tokens, location):\n",
    "    model.eval()\n",
    "    with torch.no_grad():\n",
    "        ids = tokenizer.convert_tokens_to_ids(tokens)\n",
    "        ids = torch.tensor(ids).reshape((1, len(tokens)))\n",
    "        embeds = model(ids)['last_hidden_state'].squeeze()\n",
    "        word_embeds = embeds[location, :]\n",
    "        \n",
    "        return word_embeds.sum(dim=0).numpy()"
   ]
  },
  {
   "cell_type": "code",
   "execution_count": 12,
   "metadata": {},
   "outputs": [],
   "source": [
    "target = 'дарами,'  \n",
    "tokens = ['покупать', 'преданность', 'дара', '##ми']"
   ]
  },
  {
   "cell_type": "code",
   "execution_count": 13,
   "metadata": {
    "colab": {
     "base_uri": "https://localhost:8080/",
     "height": 280,
     "referenced_widgets": [
      "95ed6ef5b10e4cf2919ec1c4d2cbe6e7",
      "43522302d19e4ca285d4d541a1b197d4",
      "ebc015b59c174d2f9c1ab926383447e7",
      "d665af7f64214a43984004137261e18f",
      "dd06a01eedc34b33a40d0b9d8e128d32",
      "109fb8e9cf0e4754a33a85ecd363cd80",
      "db94605b587244a8a00e426b446034ae",
      "98e6ffaabb3c4a7fa482c33641393bb0",
      "3b7b4a8c298b49a780d69700c0391a4d",
      "a4aa544945424c88afa593fe1441e7d9",
      "866e3aa45bdb48668900a645bc0beaad",
      "b03055741b4041a78909d517b42f3248",
      "113ed7db36be48a6a99543041181e2b6",
      "b5cf35368fdc41c081be6bc8f7fd5c20",
      "ec9efe984e2e43afbeb4e12e1f20e4d4",
      "1b8f32913e0f42d5a19b55493ee9cf95",
      "75aa1e69aa104d48bd73669d801ba133",
      "907c551f0b734fc097cb08c629995a69",
      "2a696af4e60849a5a0cd6c8db4201a26",
      "42d9fc80c21c4a928cf1fe9796417481",
      "5505985fdac24c5db487ca9689c845c9",
      "dbed619dafbc48b880ab4787e308f0bb",
      "52aa9bc2b8524ca9bec770613c1ca6f2",
      "faad2df429914762ad77a0ee373ab973",
      "35d1dc3ebdd244dda4e4e81cc295a22a",
      "27c26fbe64c94a06b3900384484fba44",
      "0f26a48cfe91401f891c31d392080bad",
      "3a3bc939262d4bdb9c6000a95f3d88d9",
      "f472871dca53441587e3924b5bb3ae47",
      "4d5e8db746f9432ca6108ebb40e76cfe",
      "fed21b06846f4694af48761b2e33cce2",
      "064bfa8b49e847408be883be1e608d1d",
      "876db35ffeeb4164b3300567ccf4b6aa",
      "41403916f9c64d41bccd15d82abe285e",
      "2bf36708abd64c28a2d42c78ed4bc9c4",
      "a9d40314a4b84d83a390e3a9ee06ac87",
      "87c9eec3a6c94b5b902360e2e2d2fc48",
      "a667a4dfb2064940b15d0bd5358dd74c",
      "a0885f99cf4441bc83a5bef998ac78b8",
      "6e0b985383be4c33a9e090425b1cc33b",
      "f894841559374a9e940a7c6838a1c63a",
      "450a343d09084cc28a7ddc7e5ce3b58f",
      "f23cd848ed5b4a04a7b9e74473507dbd",
      "8a94561fa77c45dd865b4d6dc348c57e",
      "cb6fdc1de732431d83f28ce81eb4f705",
      "17fb48be59e047b5967890c8f1f506ee",
      "fcda89ecf9f64b5ab9e894ab3d2c3094",
      "0747a22eb8374195ad2b38115abe3333",
      "d3e111da03304169a3b43d5537592111",
      "40bed847a68346369793ed0e6e8c44b7",
      "6412fd5e66e349cf87bcd8930b4ccf9a",
      "311180e70022469fbf5adf1222419dd2",
      "132f263a69dd4f47a99c9ade389da5e9",
      "9625882ce7384d189b1117d105754ed7",
      "9f8fd4e8a99b46238e0600562460126f",
      "e4d87253a97041c8a90507d62901365d",
      "3c99bcca1c644b2bbc7f2d15a960e7d7",
      "3df2b2da95df4c8dbb93c215c2e7eb78",
      "cb127d9b181f4257a3e6bf085a105495",
      "f3a75b2b33564027891510f5e085c3e0",
      "c9d07e71aa344a438f86139808ca7225",
      "1b197c92c342456f895f0fd5b1815e46",
      "8a4559200e834b329b5318c4f3b143a9",
      "0b5b32264dc044b58bb581ef126232e5",
      "4f9c36446eaf4f70844631cda580d858",
      "e1785ffefad541ad95a1f9db78a12468"
     ]
    },
    "id": "UKJMivtfIf_Q",
    "outputId": "8d00c4c3-9369-4b96-d03b-c5e5499178c2"
   },
   "outputs": [
    {
     "name": "stderr",
     "output_type": "stream",
     "text": [
      "Some weights of the model checkpoint at DeepPavlov/rubert-base-cased were not used when initializing BertModel: ['cls.predictions.transform.LayerNorm.bias', 'cls.predictions.transform.dense.bias', 'cls.predictions.transform.LayerNorm.weight', 'cls.seq_relationship.weight', 'cls.predictions.bias', 'cls.predictions.transform.dense.weight', 'cls.predictions.decoder.weight', 'cls.seq_relationship.bias', 'cls.predictions.decoder.bias']\n",
      "- This IS expected if you are initializing BertModel from the checkpoint of a model trained on another task or with another architecture (e.g. initializing a BertForSequenceClassification model from a BertForPreTraining model).\n",
      "- This IS NOT expected if you are initializing BertModel from the checkpoint of a model that you expect to be exactly identical (initializing a BertForSequenceClassification model from a BertForSequenceClassification model).\n"
     ]
    }
   ],
   "source": [
    "tokenizer = AutoTokenizer.from_pretrained('DeepPavlov/rubert-base-cased')\n",
    "model = AutoModel.from_pretrained('DeepPavlov/rubert-base-cased')"
   ]
  },
  {
   "cell_type": "code",
   "execution_count": 14,
   "metadata": {},
   "outputs": [],
   "source": [
    "train_df['tokens'] = train_df['context'].apply(tokenizer.tokenize)"
   ]
  },
  {
   "cell_type": "code",
   "execution_count": 15,
   "metadata": {},
   "outputs": [],
   "source": [
    "train_df['word_location'] = train_df.apply(lambda x: get_word_location(x['word_form'], x['tokens']), axis=1)"
   ]
  },
  {
   "cell_type": "code",
   "execution_count": 16,
   "metadata": {},
   "outputs": [
    {
     "data": {
      "text/plain": [
       "0"
      ]
     },
     "execution_count": 16,
     "metadata": {},
     "output_type": "execute_result"
    }
   ],
   "source": [
    "len(set(train_df[train_df['word_location'] == 'not found']['word']))"
   ]
  },
  {
   "cell_type": "code",
   "execution_count": 17,
   "metadata": {
    "id": "2Qdv21qQV_BO"
   },
   "outputs": [
    {
     "name": "stdout",
     "output_type": "stream",
     "text": [
      "CPU times: user 1min 31s, sys: 7.49 s, total: 1min 39s\n",
      "Wall time: 1min 37s\n"
     ]
    }
   ],
   "source": [
    "%%time\n",
    "train_df['embedding'] = train_df.apply(lambda x: get_embedding(x['tokens'], x['word_location']), axis=1)"
   ]
  },
  {
   "cell_type": "code",
   "execution_count": 18,
   "metadata": {},
   "outputs": [
    {
     "data": {
      "text/html": [
       "<div>\n",
       "<style scoped>\n",
       "    .dataframe tbody tr th:only-of-type {\n",
       "        vertical-align: middle;\n",
       "    }\n",
       "\n",
       "    .dataframe tbody tr th {\n",
       "        vertical-align: top;\n",
       "    }\n",
       "\n",
       "    .dataframe thead th {\n",
       "        text-align: right;\n",
       "    }\n",
       "</style>\n",
       "<table border=\"1\" class=\"dataframe\">\n",
       "  <thead>\n",
       "    <tr style=\"text-align: right;\">\n",
       "      <th></th>\n",
       "      <th>context_id</th>\n",
       "      <th>word</th>\n",
       "      <th>gold_sense_id</th>\n",
       "      <th>predict_sense_id</th>\n",
       "      <th>positions</th>\n",
       "      <th>context</th>\n",
       "      <th>word_form</th>\n",
       "      <th>tokens</th>\n",
       "      <th>word_location</th>\n",
       "      <th>embedding</th>\n",
       "    </tr>\n",
       "  </thead>\n",
       "  <tbody>\n",
       "    <tr>\n",
       "      <th>0</th>\n",
       "      <td>1</td>\n",
       "      <td>замок</td>\n",
       "      <td>1</td>\n",
       "      <td>NaN</td>\n",
       "      <td>[0, 5]</td>\n",
       "      <td>замок владимира мономаха в любече . многочисле...</td>\n",
       "      <td>замок</td>\n",
       "      <td>[замок, владимир, ##а, моном, ##аха, в, люб, #...</td>\n",
       "      <td>[0]</td>\n",
       "      <td>[0.42294908, -0.683447, 0.85798216, -0.7495152...</td>\n",
       "    </tr>\n",
       "    <tr>\n",
       "      <th>1</th>\n",
       "      <td>2</td>\n",
       "      <td>замок</td>\n",
       "      <td>1</td>\n",
       "      <td>NaN</td>\n",
       "      <td>[11, 16]</td>\n",
       "      <td>шильонский замок замок шильйон ( ) , известный...</td>\n",
       "      <td>замок</td>\n",
       "      <td>[ши, ##ль, ##онс, ##ки, ##и, замок, замок, ши,...</td>\n",
       "      <td>[5]</td>\n",
       "      <td>[-0.23945573, -0.5021833, 1.1147155, -0.563345...</td>\n",
       "    </tr>\n",
       "    <tr>\n",
       "      <th>2</th>\n",
       "      <td>3</td>\n",
       "      <td>замок</td>\n",
       "      <td>1</td>\n",
       "      <td>NaN</td>\n",
       "      <td>[299, 304]</td>\n",
       "      <td>проведения архитектурно - археологических рабо...</td>\n",
       "      <td>замок</td>\n",
       "      <td>[проведения, архитектурно, -, археологических,...</td>\n",
       "      <td>[54]</td>\n",
       "      <td>[0.1208969, -0.7678792, 0.12769553, 0.11809321...</td>\n",
       "    </tr>\n",
       "    <tr>\n",
       "      <th>3</th>\n",
       "      <td>4</td>\n",
       "      <td>замок</td>\n",
       "      <td>1</td>\n",
       "      <td>NaN</td>\n",
       "      <td>[111, 116]</td>\n",
       "      <td>топи с . , л . белокуров легенда о завещании м...</td>\n",
       "      <td>замок</td>\n",
       "      <td>[топ, ##и, с, ., ,, л, ., белок, ##уров, леген...</td>\n",
       "      <td>[36]</td>\n",
       "      <td>[-0.39998552, -0.55716443, 0.7601832, -0.24298...</td>\n",
       "    </tr>\n",
       "    <tr>\n",
       "      <th>4</th>\n",
       "      <td>5</td>\n",
       "      <td>замок</td>\n",
       "      <td>1</td>\n",
       "      <td>NaN</td>\n",
       "      <td>[134, 139]</td>\n",
       "      <td>великий князь литовский гедимин после успешной...</td>\n",
       "      <td>замок</td>\n",
       "      <td>[велики, ##и, князь, литов, ##ски, ##и, ге, ##...</td>\n",
       "      <td>[28]</td>\n",
       "      <td>[-0.065683216, -1.2504479, -0.14175451, -0.541...</td>\n",
       "    </tr>\n",
       "    <tr>\n",
       "      <th>...</th>\n",
       "      <td>...</td>\n",
       "      <td>...</td>\n",
       "      <td>...</td>\n",
       "      <td>...</td>\n",
       "      <td>...</td>\n",
       "      <td>...</td>\n",
       "      <td>...</td>\n",
       "      <td>...</td>\n",
       "      <td>...</td>\n",
       "      <td>...</td>\n",
       "    </tr>\n",
       "    <tr>\n",
       "      <th>434</th>\n",
       "      <td>435</td>\n",
       "      <td>бор</td>\n",
       "      <td>2</td>\n",
       "      <td>NaN</td>\n",
       "      <td>[10, 13]</td>\n",
       "      <td>ленточный бор ле́нточные бо́ры — сосновые трав...</td>\n",
       "      <td>бор</td>\n",
       "      <td>[ленточ, ##ны, ##и, бор, ленточ, ##ные, бор, #...</td>\n",
       "      <td>[3]</td>\n",
       "      <td>[-0.05079735, -0.36621428, -0.62873137, -0.705...</td>\n",
       "    </tr>\n",
       "    <tr>\n",
       "      <th>435</th>\n",
       "      <td>436</td>\n",
       "      <td>бор</td>\n",
       "      <td>2</td>\n",
       "      <td>NaN</td>\n",
       "      <td>[101, 104]</td>\n",
       "      <td>в окрестностях барнаула , составляет —  км . н...</td>\n",
       "      <td>бор</td>\n",
       "      <td>[в, окрестностях, бар, ##нау, ##ла, ,, составл...</td>\n",
       "      <td>[51]</td>\n",
       "      <td>[0.18823141, -0.0059549212, 0.30406272, -0.867...</td>\n",
       "    </tr>\n",
       "    <tr>\n",
       "      <th>436</th>\n",
       "      <td>437</td>\n",
       "      <td>бор</td>\n",
       "      <td>2</td>\n",
       "      <td>NaN</td>\n",
       "      <td>[17, 20]</td>\n",
       "      <td>также в сосновом бору открыта секция биатлона ...</td>\n",
       "      <td>бор</td>\n",
       "      <td>[также, в, сос, ##новом, бор, ##у, открыта, се...</td>\n",
       "      <td>[4]</td>\n",
       "      <td>[0.72732365, 0.36458915, 0.6134486, -0.8007269...</td>\n",
       "    </tr>\n",
       "    <tr>\n",
       "      <th>437</th>\n",
       "      <td>438</td>\n",
       "      <td>бор</td>\n",
       "      <td>2</td>\n",
       "      <td>NaN</td>\n",
       "      <td>[183, 186]</td>\n",
       "      <td>экспресс банк , мособлбанк , внешпромбанк , ба...</td>\n",
       "      <td>бор</td>\n",
       "      <td>[экспресс, банк, ,, мо, ##со, ##бл, ##банк, ,,...</td>\n",
       "      <td>[51]</td>\n",
       "      <td>[0.3698071, -0.5387132, -0.78578746, -0.876430...</td>\n",
       "    </tr>\n",
       "    <tr>\n",
       "      <th>438</th>\n",
       "      <td>439</td>\n",
       "      <td>бор</td>\n",
       "      <td>2</td>\n",
       "      <td>NaN</td>\n",
       "      <td>[11, 14]</td>\n",
       "      <td>каштакский бор каштакский бор — бор , находящи...</td>\n",
       "      <td>бор</td>\n",
       "      <td>[кашт, ##акс, ##ки, ##и, бор, кашт, ##акс, ##к...</td>\n",
       "      <td>[4]</td>\n",
       "      <td>[0.045874126, 0.25069094, -0.77317107, -1.0211...</td>\n",
       "    </tr>\n",
       "  </tbody>\n",
       "</table>\n",
       "<p>439 rows × 10 columns</p>\n",
       "</div>"
      ],
      "text/plain": [
       "     context_id   word  gold_sense_id  predict_sense_id   positions  \\\n",
       "0             1  замок              1               NaN      [0, 5]   \n",
       "1             2  замок              1               NaN    [11, 16]   \n",
       "2             3  замок              1               NaN  [299, 304]   \n",
       "3             4  замок              1               NaN  [111, 116]   \n",
       "4             5  замок              1               NaN  [134, 139]   \n",
       "..          ...    ...            ...               ...         ...   \n",
       "434         435    бор              2               NaN    [10, 13]   \n",
       "435         436    бор              2               NaN  [101, 104]   \n",
       "436         437    бор              2               NaN    [17, 20]   \n",
       "437         438    бор              2               NaN  [183, 186]   \n",
       "438         439    бор              2               NaN    [11, 14]   \n",
       "\n",
       "                                               context word_form  \\\n",
       "0    замок владимира мономаха в любече . многочисле...     замок   \n",
       "1    шильонский замок замок шильйон ( ) , известный...     замок   \n",
       "2    проведения архитектурно - археологических рабо...     замок   \n",
       "3    топи с . , л . белокуров легенда о завещании м...     замок   \n",
       "4    великий князь литовский гедимин после успешной...     замок   \n",
       "..                                                 ...       ...   \n",
       "434  ленточный бор ле́нточные бо́ры — сосновые трав...       бор   \n",
       "435  в окрестностях барнаула , составляет —  км . н...       бор   \n",
       "436  также в сосновом бору открыта секция биатлона ...       бор   \n",
       "437  экспресс банк , мособлбанк , внешпромбанк , ба...       бор   \n",
       "438  каштакский бор каштакский бор — бор , находящи...       бор   \n",
       "\n",
       "                                                tokens word_location  \\\n",
       "0    [замок, владимир, ##а, моном, ##аха, в, люб, #...           [0]   \n",
       "1    [ши, ##ль, ##онс, ##ки, ##и, замок, замок, ши,...           [5]   \n",
       "2    [проведения, архитектурно, -, археологических,...          [54]   \n",
       "3    [топ, ##и, с, ., ,, л, ., белок, ##уров, леген...          [36]   \n",
       "4    [велики, ##и, князь, литов, ##ски, ##и, ге, ##...          [28]   \n",
       "..                                                 ...           ...   \n",
       "434  [ленточ, ##ны, ##и, бор, ленточ, ##ные, бор, #...           [3]   \n",
       "435  [в, окрестностях, бар, ##нау, ##ла, ,, составл...          [51]   \n",
       "436  [также, в, сос, ##новом, бор, ##у, открыта, се...           [4]   \n",
       "437  [экспресс, банк, ,, мо, ##со, ##бл, ##банк, ,,...          [51]   \n",
       "438  [кашт, ##акс, ##ки, ##и, бор, кашт, ##акс, ##к...           [4]   \n",
       "\n",
       "                                             embedding  \n",
       "0    [0.42294908, -0.683447, 0.85798216, -0.7495152...  \n",
       "1    [-0.23945573, -0.5021833, 1.1147155, -0.563345...  \n",
       "2    [0.1208969, -0.7678792, 0.12769553, 0.11809321...  \n",
       "3    [-0.39998552, -0.55716443, 0.7601832, -0.24298...  \n",
       "4    [-0.065683216, -1.2504479, -0.14175451, -0.541...  \n",
       "..                                                 ...  \n",
       "434  [-0.05079735, -0.36621428, -0.62873137, -0.705...  \n",
       "435  [0.18823141, -0.0059549212, 0.30406272, -0.867...  \n",
       "436  [0.72732365, 0.36458915, 0.6134486, -0.8007269...  \n",
       "437  [0.3698071, -0.5387132, -0.78578746, -0.876430...  \n",
       "438  [0.045874126, 0.25069094, -0.77317107, -1.0211...  \n",
       "\n",
       "[439 rows x 10 columns]"
      ]
     },
     "execution_count": 18,
     "metadata": {},
     "output_type": "execute_result"
    }
   ],
   "source": [
    "train_df"
   ]
  },
  {
   "cell_type": "markdown",
   "metadata": {},
   "source": [
    "## K-means and Agglomerative clustering"
   ]
  },
  {
   "cell_type": "code",
   "execution_count": 19,
   "metadata": {},
   "outputs": [],
   "source": [
    "def make_plot(df, score):\n",
    "    title = df['word'].iloc[0] + f', {score}'\n",
    "    labels_true = df['gold_sense_id'].to_numpy()\n",
    "    pca = sklearn.decomposition.PCA(n_components=3)\n",
    "    d3 = pca.fit_transform(np.stack(df['embedding'].to_numpy()))\n",
    "    \n",
    "    fig = px.scatter_3d(d3, x=0, y=1, z=2, color=labels_true, title=title)\n",
    "    fig.show()"
   ]
  },
  {
   "cell_type": "code",
   "execution_count": 34,
   "metadata": {
    "scrolled": false
   },
   "outputs": [],
   "source": [
    "def clustering(train_df, clusterizator_class, kwargs=None):\n",
    "    words_info = {}\n",
    "    total = 0\n",
    "    ari_sum = 0\n",
    "    for word in set(train_df['word']):\n",
    "        df = train_df[train_df['word']==word]\n",
    "        n_clusters = len(set(df['gold_sense_id']))\n",
    "        n_contexts = df.shape[0]\n",
    "        labels_true = df['gold_sense_id'].to_numpy()\n",
    "        X = df['embedding'].to_numpy()\n",
    "        X = np.stack(X)\n",
    "        if kwargs is None:\n",
    "            clusterizator = clusterizator_class(n_clusters=n_clusters)\n",
    "        else:\n",
    "            clusterizator = clusterizator_class(n_clusters=n_clusters, **kwargs)\n",
    "        labels_pred = clusterizator.fit_predict(X)#+1\n",
    "        ari = adjusted_rand_score(labels_true, labels_pred)\n",
    "        words_info[word] = {'ari' : ari, 'count' : n_contexts}\n",
    "        ari_sum += ari*n_contexts\n",
    "        total += n_contexts\n",
    "\n",
    "        make_plot(df, ari)\n",
    "        \n",
    "    return words_info, total, ari_sum"
   ]
  },
  {
   "cell_type": "code",
   "execution_count": 35,
   "metadata": {},
   "outputs": [
    {
     "data": {
      "application/vnd.plotly.v1+json": {
       "config": {
        "plotlyServerURL": "https://plot.ly"
       },
       "data": [
        {
         "hovertemplate": "0=%{x}<br>1=%{y}<br>2=%{z}<br>color=%{marker.color}<extra></extra>",
         "legendgroup": "",
         "marker": {
          "color": [
           1,
           1,
           1,
           1,
           1,
           1,
           1,
           1,
           1,
           1,
           1,
           1,
           1,
           1,
           1,
           1,
           1,
           1,
           1,
           1,
           1,
           1,
           1,
           1,
           1,
           1,
           1,
           1,
           1,
           1,
           1,
           1,
           1,
           1,
           1,
           1,
           1,
           1,
           1,
           1,
           1,
           1,
           1,
           1,
           1,
           1,
           1,
           1,
           1,
           1,
           1,
           1,
           1,
           1,
           1,
           1,
           1,
           1,
           1,
           1,
           1,
           1,
           1,
           1,
           1,
           1,
           1,
           1,
           1,
           1,
           1,
           1,
           1,
           1,
           1,
           1,
           1,
           1,
           1,
           1,
           1,
           1,
           1,
           1,
           1,
           1,
           1,
           1,
           1,
           1,
           1,
           1,
           1,
           1,
           1,
           1,
           1,
           1,
           1,
           1,
           2,
           2,
           2,
           2,
           2,
           2,
           2,
           2,
           2,
           2,
           2,
           2,
           2,
           2,
           2,
           2,
           2,
           2,
           2,
           2,
           2,
           2,
           2,
           2,
           2,
           2,
           2,
           2,
           2,
           2,
           2,
           2,
           2,
           2,
           2,
           2,
           2,
           2
          ],
          "coloraxis": "coloraxis",
          "symbol": "circle"
         },
         "mode": "markers",
         "name": "",
         "scene": "scene",
         "showlegend": false,
         "type": "scatter3d",
         "x": [
          6.20278787612915,
          -1.9036238193511963,
          -0.9037898778915405,
          -1.4935520887374878,
          -2.068413734436035,
          -1.908520221710205,
          -2.0925538539886475,
          -3.208407402038574,
          -1.2395715713500977,
          14.277203559875488,
          7.811016082763672,
          13.09488296508789,
          -2.8393654823303223,
          -1.6300625801086426,
          -2.225491523742676,
          -1.546186923980713,
          -1.671350121498108,
          -0.0882793441414833,
          -3.204136371612549,
          -1.7417412996292114,
          -1.050697684288025,
          -2.027601957321167,
          -2.9373793601989746,
          -0.4876207411289215,
          -2.7666072845458984,
          1.1248774528503418,
          -0.34350842237472534,
          -0.2928903102874756,
          -2.841477870941162,
          -1.2411853075027466,
          -1.7098479270935059,
          -1.0321590900421143,
          -1.3787139654159546,
          -0.3301966190338135,
          -1.7971547842025757,
          -1.9591269493103027,
          -1.1692845821380615,
          -1.231339931488037,
          -1.5883601903915405,
          -2.2539985179901123,
          -1.8837591409683228,
          13.328069686889648,
          11.376733779907227,
          13.538037300109863,
          -2.8200199604034424,
          -1.9993621110916138,
          -2.5785186290740967,
          -0.41500991582870483,
          1.3062760829925537,
          -1.3451298475265503,
          -1.54669988155365,
          -0.8741719722747803,
          -0.2624412178993225,
          -0.7750833630561829,
          6.234756946563721,
          0.07708417624235153,
          -0.5883607864379883,
          -1.906440019607544,
          -1.2718666791915894,
          -0.8043708801269531,
          3.353085517883301,
          -1.3423445224761963,
          -1.2078903913497925,
          -2.2460739612579346,
          -1.0564405918121338,
          -1.3121873140335083,
          -0.5582386255264282,
          -1.9357032775878906,
          -1.2621394395828247,
          -0.27150917053222656,
          -1.7708791494369507,
          -1.9651130437850952,
          -2.2371859550476074,
          -1.9331865310668945,
          -1.1801376342773438,
          13.184539794921875,
          -2.129070997238159,
          -2.0061309337615967,
          13.108294486999512,
          13.66212272644043,
          -0.08533769100904465,
          -0.7089797854423523,
          -1.1824562549591064,
          11.85640811920166,
          -3.2481071949005127,
          12.633410453796387,
          -2.823669910430908,
          12.424811363220215,
          -0.6174734234809875,
          -1.8460962772369385,
          -0.07235036790370941,
          -2.6389143466949463,
          -0.5452784299850464,
          -0.21698112785816193,
          -1.187683343887329,
          -0.3268299400806427,
          -0.7098997235298157,
          12.920472145080566,
          -0.8749275803565979,
          0.2636120021343231,
          -1.3891308307647705,
          -2.386479377746582,
          -3.212432861328125,
          -1.4645204544067383,
          -2.3500514030456543,
          -2.523832082748413,
          -1.0733132362365723,
          -2.1241984367370605,
          -0.9550110101699829,
          -2.5583033561706543,
          -1.9745831489562988,
          -1.6693166494369507,
          -3.2651593685150146,
          0.43720364570617676,
          -2.077108144760132,
          -0.4707912802696228,
          -2.385714054107666,
          -3.86952543258667,
          -1.241955280303955,
          -2.9878830909729004,
          -3.4098060131073,
          -2.5864391326904297,
          -3.2677080631256104,
          10.594283103942871,
          -0.6250857710838318,
          -1.6167123317718506,
          -1.7290152311325073,
          -3.0077567100524902,
          0.24561893939971924,
          -2.1011369228363037,
          -2.396056652069092,
          -4.001832485198975,
          1.0779215097427368,
          -2.9594364166259766,
          -2.2289886474609375,
          -0.5608375668525696,
          -2.9856503009796143,
          -1.9030978679656982
         ],
         "y": [
          -1.3963574171066284,
          2.088109254837036,
          2.119291067123413,
          3.838759660720825,
          -2.7820892333984375,
          -2.5376596450805664,
          -1.8048975467681885,
          0.574622392654419,
          -1.685283899307251,
          1.089142084121704,
          -0.5193549990653992,
          0.769531786441803,
          0.4209521412849426,
          0.03704237565398216,
          1.6358894109725952,
          -3.392484188079834,
          -2.300819158554077,
          -1.1511999368667603,
          0.41839441657066345,
          3.3703508377075195,
          -2.192843198776245,
          -2.7357301712036133,
          -0.4942490756511688,
          -3.0529394149780273,
          -3.864382266998291,
          -1.9747766256332397,
          -3.4170854091644287,
          -0.4944664537906647,
          0.3084213137626648,
          -4.373851776123047,
          -3.4833412170410156,
          -0.8951072692871094,
          0.1876189261674881,
          -2.200277805328369,
          -3.738006353378296,
          -0.7894062995910645,
          -2.523080825805664,
          -2.107837200164795,
          1.9632700681686401,
          -4.2970685958862305,
          -3.846623182296753,
          0.5212477445602417,
          0.706697404384613,
          0.56880784034729,
          0.5089883208274841,
          0.7103708386421204,
          0.17106369137763977,
          -0.5722157955169678,
          -1.2052969932556152,
          -2.450706958770752,
          -3.072122097015381,
          -4.2394890785217285,
          -2.7118031978607178,
          -3.250857353210449,
          -1.8322840929031372,
          -1.1277663707733154,
          -3.2332892417907715,
          -3.515627384185791,
          3.2590172290802,
          -2.98563814163208,
          -1.5509268045425415,
          1.1760058403015137,
          -3.8699347972869873,
          2.15354585647583,
          -2.6931729316711426,
          -3.408670663833618,
          -2.2427217960357666,
          -2.463562488555908,
          -3.0950419902801514,
          -3.239544153213501,
          -5.0053582191467285,
          3.341852903366089,
          -1.4418343305587769,
          -3.5803868770599365,
          -1.7733935117721558,
          2.5022401809692383,
          -0.8218629956245422,
          -1.3669713735580444,
          2.4118762016296387,
          0.6961705684661865,
          -2.8249518871307373,
          -3.7709240913391113,
          -3.8954057693481445,
          1.4821287393569946,
          -3.7661213874816895,
          -0.5062276721000671,
          -2.4902288913726807,
          0.9502043724060059,
          -2.2484216690063477,
          0.017123671248555183,
          -2.6198089122772217,
          0.2109222263097763,
          -3.8720245361328125,
          -4.219351291656494,
          -0.6436596512794495,
          -2.726606845855713,
          -2.6704981327056885,
          0.8828423023223877,
          -1.6823078393936157,
          -3.3402180671691895,
          2.1490023136138916,
          1.9190932512283325,
          5.130683422088623,
          1.1722670793533325,
          2.783160448074341,
          0.3618471622467041,
          -0.03374721482396126,
          8.92908000946045,
          2.2827327251434326,
          -0.344656765460968,
          9.075443267822266,
          3.387612819671631,
          4.616372108459473,
          2.181318759918213,
          8.251482009887695,
          2.0551962852478027,
          4.7100300788879395,
          4.934864044189453,
          1.4265002012252808,
          7.2694315910339355,
          4.211078643798828,
          5.828010559082031,
          5.101104736328125,
          2.082907199859619,
          1.6235774755477905,
          3.4852728843688965,
          2.429831027984619,
          3.8729522228240967,
          0.12942637503147125,
          1.0370599031448364,
          3.0632386207580566,
          4.695858478546143,
          3.5238001346588135,
          2.248621940612793,
          5.585200786590576,
          2.1739931106567383,
          5.731204509735107,
          1.9050925970077515
         ],
         "z": [
          -0.15406274795532227,
          -5.821134567260742,
          -4.542078971862793,
          -3.066495180130005,
          -0.7762256860733032,
          -2.8513548374176025,
          0.7078210115432739,
          -2.6079487800598145,
          3.370670795440674,
          0.27238523960113525,
          0.5335767865180969,
          -1.1573599576950073,
          -4.670932292938232,
          -3.2927255630493164,
          -5.900289535522461,
          -2.4037442207336426,
          -0.7407693862915039,
          -1.7492759227752686,
          -4.4358296394348145,
          -1.227022409439087,
          1.5423226356506348,
          -0.898598849773407,
          -3.347764730453491,
          -0.12374235689640045,
          -1.1797317266464233,
          1.377147912979126,
          -0.8724437952041626,
          2.4208154678344727,
          -2.9135777950286865,
          -0.9318382143974304,
          -0.6927106380462646,
          3.8657214641571045,
          -1.5858725309371948,
          0.7445200681686401,
          -1.1836514472961426,
          2.330876588821411,
          -0.7908329367637634,
          2.118502140045166,
          -6.178013801574707,
          1.2384998798370361,
          1.0022072792053223,
          -0.5317717790603638,
          -1.7247679233551025,
          -0.18058550357818604,
          -1.0800334215164185,
          -3.4611785411834717,
          -3.262643575668335,
          -1.5115224123001099,
          -0.9081791639328003,
          2.891575813293457,
          -0.5184870362281799,
          -1.3021564483642578,
          0.2255643606185913,
          0.8729730844497681,
          0.5363950133323669,
          1.3539515733718872,
          0.46432462334632874,
          2.1506831645965576,
          -1.6321215629577637,
          1.7032008171081543,
          -0.816030740737915,
          -4.373577117919922,
          0.21344827115535736,
          -6.275510311126709,
          -0.6618680357933044,
          -0.07929777354001999,
          0.4815966486930847,
          -1.9426602125167847,
          1.505601406097412,
          0.9746158719062805,
          -0.05890937149524689,
          -1.7044217586517334,
          -1.4493536949157715,
          -0.6706179976463318,
          1.7252641916275024,
          0.3963426351547241,
          -3.9347593784332275,
          1.8246904611587524,
          0.5056671500205994,
          -0.8134893178939819,
          3.1740736961364746,
          0.42661064863204956,
          -0.2927350103855133,
          -0.7977541089057922,
          -0.526221513748169,
          -0.19263453781604767,
          -0.24139763414859772,
          -0.5603249669075012,
          0.5557276010513306,
          -2.2870967388153076,
          2.5526375770568848,
          -3.8621251583099365,
          -0.5286291241645813,
          -1.5681248903274536,
          1.396591305732727,
          -0.09536325186491013,
          2.941091775894165,
          0.19154345989227295,
          1.4486421346664429,
          -1.3645514249801636,
          4.182644844055176,
          1.0516914129257202,
          -0.6433153748512268,
          3.992206335067749,
          6.886811256408691,
          1.1486343145370483,
          1.638468861579895,
          -2.3225789070129395,
          2.596770763397217,
          2.234929084777832,
          -2.3676252365112305,
          6.598770618438721,
          -0.5988897085189819,
          5.040685176849365,
          -1.4822099208831787,
          4.739479064941406,
          -0.001766375033184886,
          1.3191725015640259,
          4.838200092315674,
          -0.5205405354499817,
          0.7611858248710632,
          0.94614177942276,
          2.0736308097839355,
          0.36709222197532654,
          -0.8927581906318665,
          0.8808615803718567,
          6.455818176269531,
          0.7912775278091431,
          1.4172999858856201,
          -0.07079873234033585,
          7.234941482543945,
          0.4367937743663788,
          -4.115933895111084,
          1.6095980405807495,
          1.7504937648773193,
          5.629434585571289,
          2.3644988536834717,
          -0.7020629048347473
         ]
        }
       ],
       "layout": {
        "coloraxis": {
         "colorbar": {
          "title": {
           "text": "color"
          }
         },
         "colorscale": [
          [
           0,
           "#0d0887"
          ],
          [
           0.1111111111111111,
           "#46039f"
          ],
          [
           0.2222222222222222,
           "#7201a8"
          ],
          [
           0.3333333333333333,
           "#9c179e"
          ],
          [
           0.4444444444444444,
           "#bd3786"
          ],
          [
           0.5555555555555556,
           "#d8576b"
          ],
          [
           0.6666666666666666,
           "#ed7953"
          ],
          [
           0.7777777777777778,
           "#fb9f3a"
          ],
          [
           0.8888888888888888,
           "#fdca26"
          ],
          [
           1,
           "#f0f921"
          ]
         ]
        },
        "legend": {
         "tracegroupgap": 0
        },
        "scene": {
         "domain": {
          "x": [
           0,
           1
          ],
          "y": [
           0,
           1
          ]
         },
         "xaxis": {
          "title": {
           "text": "0"
          }
         },
         "yaxis": {
          "title": {
           "text": "1"
          }
         },
         "zaxis": {
          "title": {
           "text": "2"
          }
         }
        },
        "template": {
         "data": {
          "bar": [
           {
            "error_x": {
             "color": "#2a3f5f"
            },
            "error_y": {
             "color": "#2a3f5f"
            },
            "marker": {
             "line": {
              "color": "#E5ECF6",
              "width": 0.5
             },
             "pattern": {
              "fillmode": "overlay",
              "size": 10,
              "solidity": 0.2
             }
            },
            "type": "bar"
           }
          ],
          "barpolar": [
           {
            "marker": {
             "line": {
              "color": "#E5ECF6",
              "width": 0.5
             },
             "pattern": {
              "fillmode": "overlay",
              "size": 10,
              "solidity": 0.2
             }
            },
            "type": "barpolar"
           }
          ],
          "carpet": [
           {
            "aaxis": {
             "endlinecolor": "#2a3f5f",
             "gridcolor": "white",
             "linecolor": "white",
             "minorgridcolor": "white",
             "startlinecolor": "#2a3f5f"
            },
            "baxis": {
             "endlinecolor": "#2a3f5f",
             "gridcolor": "white",
             "linecolor": "white",
             "minorgridcolor": "white",
             "startlinecolor": "#2a3f5f"
            },
            "type": "carpet"
           }
          ],
          "choropleth": [
           {
            "colorbar": {
             "outlinewidth": 0,
             "ticks": ""
            },
            "type": "choropleth"
           }
          ],
          "contour": [
           {
            "colorbar": {
             "outlinewidth": 0,
             "ticks": ""
            },
            "colorscale": [
             [
              0,
              "#0d0887"
             ],
             [
              0.1111111111111111,
              "#46039f"
             ],
             [
              0.2222222222222222,
              "#7201a8"
             ],
             [
              0.3333333333333333,
              "#9c179e"
             ],
             [
              0.4444444444444444,
              "#bd3786"
             ],
             [
              0.5555555555555556,
              "#d8576b"
             ],
             [
              0.6666666666666666,
              "#ed7953"
             ],
             [
              0.7777777777777778,
              "#fb9f3a"
             ],
             [
              0.8888888888888888,
              "#fdca26"
             ],
             [
              1,
              "#f0f921"
             ]
            ],
            "type": "contour"
           }
          ],
          "contourcarpet": [
           {
            "colorbar": {
             "outlinewidth": 0,
             "ticks": ""
            },
            "type": "contourcarpet"
           }
          ],
          "heatmap": [
           {
            "colorbar": {
             "outlinewidth": 0,
             "ticks": ""
            },
            "colorscale": [
             [
              0,
              "#0d0887"
             ],
             [
              0.1111111111111111,
              "#46039f"
             ],
             [
              0.2222222222222222,
              "#7201a8"
             ],
             [
              0.3333333333333333,
              "#9c179e"
             ],
             [
              0.4444444444444444,
              "#bd3786"
             ],
             [
              0.5555555555555556,
              "#d8576b"
             ],
             [
              0.6666666666666666,
              "#ed7953"
             ],
             [
              0.7777777777777778,
              "#fb9f3a"
             ],
             [
              0.8888888888888888,
              "#fdca26"
             ],
             [
              1,
              "#f0f921"
             ]
            ],
            "type": "heatmap"
           }
          ],
          "heatmapgl": [
           {
            "colorbar": {
             "outlinewidth": 0,
             "ticks": ""
            },
            "colorscale": [
             [
              0,
              "#0d0887"
             ],
             [
              0.1111111111111111,
              "#46039f"
             ],
             [
              0.2222222222222222,
              "#7201a8"
             ],
             [
              0.3333333333333333,
              "#9c179e"
             ],
             [
              0.4444444444444444,
              "#bd3786"
             ],
             [
              0.5555555555555556,
              "#d8576b"
             ],
             [
              0.6666666666666666,
              "#ed7953"
             ],
             [
              0.7777777777777778,
              "#fb9f3a"
             ],
             [
              0.8888888888888888,
              "#fdca26"
             ],
             [
              1,
              "#f0f921"
             ]
            ],
            "type": "heatmapgl"
           }
          ],
          "histogram": [
           {
            "marker": {
             "pattern": {
              "fillmode": "overlay",
              "size": 10,
              "solidity": 0.2
             }
            },
            "type": "histogram"
           }
          ],
          "histogram2d": [
           {
            "colorbar": {
             "outlinewidth": 0,
             "ticks": ""
            },
            "colorscale": [
             [
              0,
              "#0d0887"
             ],
             [
              0.1111111111111111,
              "#46039f"
             ],
             [
              0.2222222222222222,
              "#7201a8"
             ],
             [
              0.3333333333333333,
              "#9c179e"
             ],
             [
              0.4444444444444444,
              "#bd3786"
             ],
             [
              0.5555555555555556,
              "#d8576b"
             ],
             [
              0.6666666666666666,
              "#ed7953"
             ],
             [
              0.7777777777777778,
              "#fb9f3a"
             ],
             [
              0.8888888888888888,
              "#fdca26"
             ],
             [
              1,
              "#f0f921"
             ]
            ],
            "type": "histogram2d"
           }
          ],
          "histogram2dcontour": [
           {
            "colorbar": {
             "outlinewidth": 0,
             "ticks": ""
            },
            "colorscale": [
             [
              0,
              "#0d0887"
             ],
             [
              0.1111111111111111,
              "#46039f"
             ],
             [
              0.2222222222222222,
              "#7201a8"
             ],
             [
              0.3333333333333333,
              "#9c179e"
             ],
             [
              0.4444444444444444,
              "#bd3786"
             ],
             [
              0.5555555555555556,
              "#d8576b"
             ],
             [
              0.6666666666666666,
              "#ed7953"
             ],
             [
              0.7777777777777778,
              "#fb9f3a"
             ],
             [
              0.8888888888888888,
              "#fdca26"
             ],
             [
              1,
              "#f0f921"
             ]
            ],
            "type": "histogram2dcontour"
           }
          ],
          "mesh3d": [
           {
            "colorbar": {
             "outlinewidth": 0,
             "ticks": ""
            },
            "type": "mesh3d"
           }
          ],
          "parcoords": [
           {
            "line": {
             "colorbar": {
              "outlinewidth": 0,
              "ticks": ""
             }
            },
            "type": "parcoords"
           }
          ],
          "pie": [
           {
            "automargin": true,
            "type": "pie"
           }
          ],
          "scatter": [
           {
            "marker": {
             "colorbar": {
              "outlinewidth": 0,
              "ticks": ""
             }
            },
            "type": "scatter"
           }
          ],
          "scatter3d": [
           {
            "line": {
             "colorbar": {
              "outlinewidth": 0,
              "ticks": ""
             }
            },
            "marker": {
             "colorbar": {
              "outlinewidth": 0,
              "ticks": ""
             }
            },
            "type": "scatter3d"
           }
          ],
          "scattercarpet": [
           {
            "marker": {
             "colorbar": {
              "outlinewidth": 0,
              "ticks": ""
             }
            },
            "type": "scattercarpet"
           }
          ],
          "scattergeo": [
           {
            "marker": {
             "colorbar": {
              "outlinewidth": 0,
              "ticks": ""
             }
            },
            "type": "scattergeo"
           }
          ],
          "scattergl": [
           {
            "marker": {
             "colorbar": {
              "outlinewidth": 0,
              "ticks": ""
             }
            },
            "type": "scattergl"
           }
          ],
          "scattermapbox": [
           {
            "marker": {
             "colorbar": {
              "outlinewidth": 0,
              "ticks": ""
             }
            },
            "type": "scattermapbox"
           }
          ],
          "scatterpolar": [
           {
            "marker": {
             "colorbar": {
              "outlinewidth": 0,
              "ticks": ""
             }
            },
            "type": "scatterpolar"
           }
          ],
          "scatterpolargl": [
           {
            "marker": {
             "colorbar": {
              "outlinewidth": 0,
              "ticks": ""
             }
            },
            "type": "scatterpolargl"
           }
          ],
          "scatterternary": [
           {
            "marker": {
             "colorbar": {
              "outlinewidth": 0,
              "ticks": ""
             }
            },
            "type": "scatterternary"
           }
          ],
          "surface": [
           {
            "colorbar": {
             "outlinewidth": 0,
             "ticks": ""
            },
            "colorscale": [
             [
              0,
              "#0d0887"
             ],
             [
              0.1111111111111111,
              "#46039f"
             ],
             [
              0.2222222222222222,
              "#7201a8"
             ],
             [
              0.3333333333333333,
              "#9c179e"
             ],
             [
              0.4444444444444444,
              "#bd3786"
             ],
             [
              0.5555555555555556,
              "#d8576b"
             ],
             [
              0.6666666666666666,
              "#ed7953"
             ],
             [
              0.7777777777777778,
              "#fb9f3a"
             ],
             [
              0.8888888888888888,
              "#fdca26"
             ],
             [
              1,
              "#f0f921"
             ]
            ],
            "type": "surface"
           }
          ],
          "table": [
           {
            "cells": {
             "fill": {
              "color": "#EBF0F8"
             },
             "line": {
              "color": "white"
             }
            },
            "header": {
             "fill": {
              "color": "#C8D4E3"
             },
             "line": {
              "color": "white"
             }
            },
            "type": "table"
           }
          ]
         },
         "layout": {
          "annotationdefaults": {
           "arrowcolor": "#2a3f5f",
           "arrowhead": 0,
           "arrowwidth": 1
          },
          "autotypenumbers": "strict",
          "coloraxis": {
           "colorbar": {
            "outlinewidth": 0,
            "ticks": ""
           }
          },
          "colorscale": {
           "diverging": [
            [
             0,
             "#8e0152"
            ],
            [
             0.1,
             "#c51b7d"
            ],
            [
             0.2,
             "#de77ae"
            ],
            [
             0.3,
             "#f1b6da"
            ],
            [
             0.4,
             "#fde0ef"
            ],
            [
             0.5,
             "#f7f7f7"
            ],
            [
             0.6,
             "#e6f5d0"
            ],
            [
             0.7,
             "#b8e186"
            ],
            [
             0.8,
             "#7fbc41"
            ],
            [
             0.9,
             "#4d9221"
            ],
            [
             1,
             "#276419"
            ]
           ],
           "sequential": [
            [
             0,
             "#0d0887"
            ],
            [
             0.1111111111111111,
             "#46039f"
            ],
            [
             0.2222222222222222,
             "#7201a8"
            ],
            [
             0.3333333333333333,
             "#9c179e"
            ],
            [
             0.4444444444444444,
             "#bd3786"
            ],
            [
             0.5555555555555556,
             "#d8576b"
            ],
            [
             0.6666666666666666,
             "#ed7953"
            ],
            [
             0.7777777777777778,
             "#fb9f3a"
            ],
            [
             0.8888888888888888,
             "#fdca26"
            ],
            [
             1,
             "#f0f921"
            ]
           ],
           "sequentialminus": [
            [
             0,
             "#0d0887"
            ],
            [
             0.1111111111111111,
             "#46039f"
            ],
            [
             0.2222222222222222,
             "#7201a8"
            ],
            [
             0.3333333333333333,
             "#9c179e"
            ],
            [
             0.4444444444444444,
             "#bd3786"
            ],
            [
             0.5555555555555556,
             "#d8576b"
            ],
            [
             0.6666666666666666,
             "#ed7953"
            ],
            [
             0.7777777777777778,
             "#fb9f3a"
            ],
            [
             0.8888888888888888,
             "#fdca26"
            ],
            [
             1,
             "#f0f921"
            ]
           ]
          },
          "colorway": [
           "#636efa",
           "#EF553B",
           "#00cc96",
           "#ab63fa",
           "#FFA15A",
           "#19d3f3",
           "#FF6692",
           "#B6E880",
           "#FF97FF",
           "#FECB52"
          ],
          "font": {
           "color": "#2a3f5f"
          },
          "geo": {
           "bgcolor": "white",
           "lakecolor": "white",
           "landcolor": "#E5ECF6",
           "showlakes": true,
           "showland": true,
           "subunitcolor": "white"
          },
          "hoverlabel": {
           "align": "left"
          },
          "hovermode": "closest",
          "mapbox": {
           "style": "light"
          },
          "paper_bgcolor": "white",
          "plot_bgcolor": "#E5ECF6",
          "polar": {
           "angularaxis": {
            "gridcolor": "white",
            "linecolor": "white",
            "ticks": ""
           },
           "bgcolor": "#E5ECF6",
           "radialaxis": {
            "gridcolor": "white",
            "linecolor": "white",
            "ticks": ""
           }
          },
          "scene": {
           "xaxis": {
            "backgroundcolor": "#E5ECF6",
            "gridcolor": "white",
            "gridwidth": 2,
            "linecolor": "white",
            "showbackground": true,
            "ticks": "",
            "zerolinecolor": "white"
           },
           "yaxis": {
            "backgroundcolor": "#E5ECF6",
            "gridcolor": "white",
            "gridwidth": 2,
            "linecolor": "white",
            "showbackground": true,
            "ticks": "",
            "zerolinecolor": "white"
           },
           "zaxis": {
            "backgroundcolor": "#E5ECF6",
            "gridcolor": "white",
            "gridwidth": 2,
            "linecolor": "white",
            "showbackground": true,
            "ticks": "",
            "zerolinecolor": "white"
           }
          },
          "shapedefaults": {
           "line": {
            "color": "#2a3f5f"
           }
          },
          "ternary": {
           "aaxis": {
            "gridcolor": "white",
            "linecolor": "white",
            "ticks": ""
           },
           "baxis": {
            "gridcolor": "white",
            "linecolor": "white",
            "ticks": ""
           },
           "bgcolor": "#E5ECF6",
           "caxis": {
            "gridcolor": "white",
            "linecolor": "white",
            "ticks": ""
           }
          },
          "title": {
           "x": 0.05
          },
          "xaxis": {
           "automargin": true,
           "gridcolor": "white",
           "linecolor": "white",
           "ticks": "",
           "title": {
            "standoff": 15
           },
           "zerolinecolor": "white",
           "zerolinewidth": 2
          },
          "yaxis": {
           "automargin": true,
           "gridcolor": "white",
           "linecolor": "white",
           "ticks": "",
           "title": {
            "standoff": 15
           },
           "zerolinecolor": "white",
           "zerolinewidth": 2
          }
         }
        },
        "title": {
         "text": "замок, -0.06918226650023966"
        }
       }
      },
      "text/html": [
       "<div>                            <div id=\"553d8751-563c-4f53-8ecc-2c7ead60110e\" class=\"plotly-graph-div\" style=\"height:525px; width:100%;\"></div>            <script type=\"text/javascript\">                require([\"plotly\"], function(Plotly) {                    window.PLOTLYENV=window.PLOTLYENV || {};                                    if (document.getElementById(\"553d8751-563c-4f53-8ecc-2c7ead60110e\")) {                    Plotly.newPlot(                        \"553d8751-563c-4f53-8ecc-2c7ead60110e\",                        [{\"hovertemplate\":\"0=%{x}<br>1=%{y}<br>2=%{z}<br>color=%{marker.color}<extra></extra>\",\"legendgroup\":\"\",\"marker\":{\"color\":[1,1,1,1,1,1,1,1,1,1,1,1,1,1,1,1,1,1,1,1,1,1,1,1,1,1,1,1,1,1,1,1,1,1,1,1,1,1,1,1,1,1,1,1,1,1,1,1,1,1,1,1,1,1,1,1,1,1,1,1,1,1,1,1,1,1,1,1,1,1,1,1,1,1,1,1,1,1,1,1,1,1,1,1,1,1,1,1,1,1,1,1,1,1,1,1,1,1,1,1,2,2,2,2,2,2,2,2,2,2,2,2,2,2,2,2,2,2,2,2,2,2,2,2,2,2,2,2,2,2,2,2,2,2,2,2,2,2],\"coloraxis\":\"coloraxis\",\"symbol\":\"circle\"},\"mode\":\"markers\",\"name\":\"\",\"scene\":\"scene\",\"showlegend\":false,\"type\":\"scatter3d\",\"x\":[6.20278787612915,-1.9036238193511963,-0.9037898778915405,-1.4935520887374878,-2.068413734436035,-1.908520221710205,-2.0925538539886475,-3.208407402038574,-1.2395715713500977,14.277203559875488,7.811016082763672,13.09488296508789,-2.8393654823303223,-1.6300625801086426,-2.225491523742676,-1.546186923980713,-1.671350121498108,-0.0882793441414833,-3.204136371612549,-1.7417412996292114,-1.050697684288025,-2.027601957321167,-2.9373793601989746,-0.4876207411289215,-2.7666072845458984,1.1248774528503418,-0.34350842237472534,-0.2928903102874756,-2.841477870941162,-1.2411853075027466,-1.7098479270935059,-1.0321590900421143,-1.3787139654159546,-0.3301966190338135,-1.7971547842025757,-1.9591269493103027,-1.1692845821380615,-1.231339931488037,-1.5883601903915405,-2.2539985179901123,-1.8837591409683228,13.328069686889648,11.376733779907227,13.538037300109863,-2.8200199604034424,-1.9993621110916138,-2.5785186290740967,-0.41500991582870483,1.3062760829925537,-1.3451298475265503,-1.54669988155365,-0.8741719722747803,-0.2624412178993225,-0.7750833630561829,6.234756946563721,0.07708417624235153,-0.5883607864379883,-1.906440019607544,-1.2718666791915894,-0.8043708801269531,3.353085517883301,-1.3423445224761963,-1.2078903913497925,-2.2460739612579346,-1.0564405918121338,-1.3121873140335083,-0.5582386255264282,-1.9357032775878906,-1.2621394395828247,-0.27150917053222656,-1.7708791494369507,-1.9651130437850952,-2.2371859550476074,-1.9331865310668945,-1.1801376342773438,13.184539794921875,-2.129070997238159,-2.0061309337615967,13.108294486999512,13.66212272644043,-0.08533769100904465,-0.7089797854423523,-1.1824562549591064,11.85640811920166,-3.2481071949005127,12.633410453796387,-2.823669910430908,12.424811363220215,-0.6174734234809875,-1.8460962772369385,-0.07235036790370941,-2.6389143466949463,-0.5452784299850464,-0.21698112785816193,-1.187683343887329,-0.3268299400806427,-0.7098997235298157,12.920472145080566,-0.8749275803565979,0.2636120021343231,-1.3891308307647705,-2.386479377746582,-3.212432861328125,-1.4645204544067383,-2.3500514030456543,-2.523832082748413,-1.0733132362365723,-2.1241984367370605,-0.9550110101699829,-2.5583033561706543,-1.9745831489562988,-1.6693166494369507,-3.2651593685150146,0.43720364570617676,-2.077108144760132,-0.4707912802696228,-2.385714054107666,-3.86952543258667,-1.241955280303955,-2.9878830909729004,-3.4098060131073,-2.5864391326904297,-3.2677080631256104,10.594283103942871,-0.6250857710838318,-1.6167123317718506,-1.7290152311325073,-3.0077567100524902,0.24561893939971924,-2.1011369228363037,-2.396056652069092,-4.001832485198975,1.0779215097427368,-2.9594364166259766,-2.2289886474609375,-0.5608375668525696,-2.9856503009796143,-1.9030978679656982],\"y\":[-1.3963574171066284,2.088109254837036,2.119291067123413,3.838759660720825,-2.7820892333984375,-2.5376596450805664,-1.8048975467681885,0.574622392654419,-1.685283899307251,1.089142084121704,-0.5193549990653992,0.769531786441803,0.4209521412849426,0.03704237565398216,1.6358894109725952,-3.392484188079834,-2.300819158554077,-1.1511999368667603,0.41839441657066345,3.3703508377075195,-2.192843198776245,-2.7357301712036133,-0.4942490756511688,-3.0529394149780273,-3.864382266998291,-1.9747766256332397,-3.4170854091644287,-0.4944664537906647,0.3084213137626648,-4.373851776123047,-3.4833412170410156,-0.8951072692871094,0.1876189261674881,-2.200277805328369,-3.738006353378296,-0.7894062995910645,-2.523080825805664,-2.107837200164795,1.9632700681686401,-4.2970685958862305,-3.846623182296753,0.5212477445602417,0.706697404384613,0.56880784034729,0.5089883208274841,0.7103708386421204,0.17106369137763977,-0.5722157955169678,-1.2052969932556152,-2.450706958770752,-3.072122097015381,-4.2394890785217285,-2.7118031978607178,-3.250857353210449,-1.8322840929031372,-1.1277663707733154,-3.2332892417907715,-3.515627384185791,3.2590172290802,-2.98563814163208,-1.5509268045425415,1.1760058403015137,-3.8699347972869873,2.15354585647583,-2.6931729316711426,-3.408670663833618,-2.2427217960357666,-2.463562488555908,-3.0950419902801514,-3.239544153213501,-5.0053582191467285,3.341852903366089,-1.4418343305587769,-3.5803868770599365,-1.7733935117721558,2.5022401809692383,-0.8218629956245422,-1.3669713735580444,2.4118762016296387,0.6961705684661865,-2.8249518871307373,-3.7709240913391113,-3.8954057693481445,1.4821287393569946,-3.7661213874816895,-0.5062276721000671,-2.4902288913726807,0.9502043724060059,-2.2484216690063477,0.017123671248555183,-2.6198089122772217,0.2109222263097763,-3.8720245361328125,-4.219351291656494,-0.6436596512794495,-2.726606845855713,-2.6704981327056885,0.8828423023223877,-1.6823078393936157,-3.3402180671691895,2.1490023136138916,1.9190932512283325,5.130683422088623,1.1722670793533325,2.783160448074341,0.3618471622467041,-0.03374721482396126,8.92908000946045,2.2827327251434326,-0.344656765460968,9.075443267822266,3.387612819671631,4.616372108459473,2.181318759918213,8.251482009887695,2.0551962852478027,4.7100300788879395,4.934864044189453,1.4265002012252808,7.2694315910339355,4.211078643798828,5.828010559082031,5.101104736328125,2.082907199859619,1.6235774755477905,3.4852728843688965,2.429831027984619,3.8729522228240967,0.12942637503147125,1.0370599031448364,3.0632386207580566,4.695858478546143,3.5238001346588135,2.248621940612793,5.585200786590576,2.1739931106567383,5.731204509735107,1.9050925970077515],\"z\":[-0.15406274795532227,-5.821134567260742,-4.542078971862793,-3.066495180130005,-0.7762256860733032,-2.8513548374176025,0.7078210115432739,-2.6079487800598145,3.370670795440674,0.27238523960113525,0.5335767865180969,-1.1573599576950073,-4.670932292938232,-3.2927255630493164,-5.900289535522461,-2.4037442207336426,-0.7407693862915039,-1.7492759227752686,-4.4358296394348145,-1.227022409439087,1.5423226356506348,-0.898598849773407,-3.347764730453491,-0.12374235689640045,-1.1797317266464233,1.377147912979126,-0.8724437952041626,2.4208154678344727,-2.9135777950286865,-0.9318382143974304,-0.6927106380462646,3.8657214641571045,-1.5858725309371948,0.7445200681686401,-1.1836514472961426,2.330876588821411,-0.7908329367637634,2.118502140045166,-6.178013801574707,1.2384998798370361,1.0022072792053223,-0.5317717790603638,-1.7247679233551025,-0.18058550357818604,-1.0800334215164185,-3.4611785411834717,-3.262643575668335,-1.5115224123001099,-0.9081791639328003,2.891575813293457,-0.5184870362281799,-1.3021564483642578,0.2255643606185913,0.8729730844497681,0.5363950133323669,1.3539515733718872,0.46432462334632874,2.1506831645965576,-1.6321215629577637,1.7032008171081543,-0.816030740737915,-4.373577117919922,0.21344827115535736,-6.275510311126709,-0.6618680357933044,-0.07929777354001999,0.4815966486930847,-1.9426602125167847,1.505601406097412,0.9746158719062805,-0.05890937149524689,-1.7044217586517334,-1.4493536949157715,-0.6706179976463318,1.7252641916275024,0.3963426351547241,-3.9347593784332275,1.8246904611587524,0.5056671500205994,-0.8134893178939819,3.1740736961364746,0.42661064863204956,-0.2927350103855133,-0.7977541089057922,-0.526221513748169,-0.19263453781604767,-0.24139763414859772,-0.5603249669075012,0.5557276010513306,-2.2870967388153076,2.5526375770568848,-3.8621251583099365,-0.5286291241645813,-1.5681248903274536,1.396591305732727,-0.09536325186491013,2.941091775894165,0.19154345989227295,1.4486421346664429,-1.3645514249801636,4.182644844055176,1.0516914129257202,-0.6433153748512268,3.992206335067749,6.886811256408691,1.1486343145370483,1.638468861579895,-2.3225789070129395,2.596770763397217,2.234929084777832,-2.3676252365112305,6.598770618438721,-0.5988897085189819,5.040685176849365,-1.4822099208831787,4.739479064941406,-0.001766375033184886,1.3191725015640259,4.838200092315674,-0.5205405354499817,0.7611858248710632,0.94614177942276,2.0736308097839355,0.36709222197532654,-0.8927581906318665,0.8808615803718567,6.455818176269531,0.7912775278091431,1.4172999858856201,-0.07079873234033585,7.234941482543945,0.4367937743663788,-4.115933895111084,1.6095980405807495,1.7504937648773193,5.629434585571289,2.3644988536834717,-0.7020629048347473]}],                        {\"coloraxis\":{\"colorbar\":{\"title\":{\"text\":\"color\"}},\"colorscale\":[[0.0,\"#0d0887\"],[0.1111111111111111,\"#46039f\"],[0.2222222222222222,\"#7201a8\"],[0.3333333333333333,\"#9c179e\"],[0.4444444444444444,\"#bd3786\"],[0.5555555555555556,\"#d8576b\"],[0.6666666666666666,\"#ed7953\"],[0.7777777777777778,\"#fb9f3a\"],[0.8888888888888888,\"#fdca26\"],[1.0,\"#f0f921\"]]},\"legend\":{\"tracegroupgap\":0},\"scene\":{\"domain\":{\"x\":[0.0,1.0],\"y\":[0.0,1.0]},\"xaxis\":{\"title\":{\"text\":\"0\"}},\"yaxis\":{\"title\":{\"text\":\"1\"}},\"zaxis\":{\"title\":{\"text\":\"2\"}}},\"template\":{\"data\":{\"bar\":[{\"error_x\":{\"color\":\"#2a3f5f\"},\"error_y\":{\"color\":\"#2a3f5f\"},\"marker\":{\"line\":{\"color\":\"#E5ECF6\",\"width\":0.5},\"pattern\":{\"fillmode\":\"overlay\",\"size\":10,\"solidity\":0.2}},\"type\":\"bar\"}],\"barpolar\":[{\"marker\":{\"line\":{\"color\":\"#E5ECF6\",\"width\":0.5},\"pattern\":{\"fillmode\":\"overlay\",\"size\":10,\"solidity\":0.2}},\"type\":\"barpolar\"}],\"carpet\":[{\"aaxis\":{\"endlinecolor\":\"#2a3f5f\",\"gridcolor\":\"white\",\"linecolor\":\"white\",\"minorgridcolor\":\"white\",\"startlinecolor\":\"#2a3f5f\"},\"baxis\":{\"endlinecolor\":\"#2a3f5f\",\"gridcolor\":\"white\",\"linecolor\":\"white\",\"minorgridcolor\":\"white\",\"startlinecolor\":\"#2a3f5f\"},\"type\":\"carpet\"}],\"choropleth\":[{\"colorbar\":{\"outlinewidth\":0,\"ticks\":\"\"},\"type\":\"choropleth\"}],\"contour\":[{\"colorbar\":{\"outlinewidth\":0,\"ticks\":\"\"},\"colorscale\":[[0.0,\"#0d0887\"],[0.1111111111111111,\"#46039f\"],[0.2222222222222222,\"#7201a8\"],[0.3333333333333333,\"#9c179e\"],[0.4444444444444444,\"#bd3786\"],[0.5555555555555556,\"#d8576b\"],[0.6666666666666666,\"#ed7953\"],[0.7777777777777778,\"#fb9f3a\"],[0.8888888888888888,\"#fdca26\"],[1.0,\"#f0f921\"]],\"type\":\"contour\"}],\"contourcarpet\":[{\"colorbar\":{\"outlinewidth\":0,\"ticks\":\"\"},\"type\":\"contourcarpet\"}],\"heatmap\":[{\"colorbar\":{\"outlinewidth\":0,\"ticks\":\"\"},\"colorscale\":[[0.0,\"#0d0887\"],[0.1111111111111111,\"#46039f\"],[0.2222222222222222,\"#7201a8\"],[0.3333333333333333,\"#9c179e\"],[0.4444444444444444,\"#bd3786\"],[0.5555555555555556,\"#d8576b\"],[0.6666666666666666,\"#ed7953\"],[0.7777777777777778,\"#fb9f3a\"],[0.8888888888888888,\"#fdca26\"],[1.0,\"#f0f921\"]],\"type\":\"heatmap\"}],\"heatmapgl\":[{\"colorbar\":{\"outlinewidth\":0,\"ticks\":\"\"},\"colorscale\":[[0.0,\"#0d0887\"],[0.1111111111111111,\"#46039f\"],[0.2222222222222222,\"#7201a8\"],[0.3333333333333333,\"#9c179e\"],[0.4444444444444444,\"#bd3786\"],[0.5555555555555556,\"#d8576b\"],[0.6666666666666666,\"#ed7953\"],[0.7777777777777778,\"#fb9f3a\"],[0.8888888888888888,\"#fdca26\"],[1.0,\"#f0f921\"]],\"type\":\"heatmapgl\"}],\"histogram\":[{\"marker\":{\"pattern\":{\"fillmode\":\"overlay\",\"size\":10,\"solidity\":0.2}},\"type\":\"histogram\"}],\"histogram2d\":[{\"colorbar\":{\"outlinewidth\":0,\"ticks\":\"\"},\"colorscale\":[[0.0,\"#0d0887\"],[0.1111111111111111,\"#46039f\"],[0.2222222222222222,\"#7201a8\"],[0.3333333333333333,\"#9c179e\"],[0.4444444444444444,\"#bd3786\"],[0.5555555555555556,\"#d8576b\"],[0.6666666666666666,\"#ed7953\"],[0.7777777777777778,\"#fb9f3a\"],[0.8888888888888888,\"#fdca26\"],[1.0,\"#f0f921\"]],\"type\":\"histogram2d\"}],\"histogram2dcontour\":[{\"colorbar\":{\"outlinewidth\":0,\"ticks\":\"\"},\"colorscale\":[[0.0,\"#0d0887\"],[0.1111111111111111,\"#46039f\"],[0.2222222222222222,\"#7201a8\"],[0.3333333333333333,\"#9c179e\"],[0.4444444444444444,\"#bd3786\"],[0.5555555555555556,\"#d8576b\"],[0.6666666666666666,\"#ed7953\"],[0.7777777777777778,\"#fb9f3a\"],[0.8888888888888888,\"#fdca26\"],[1.0,\"#f0f921\"]],\"type\":\"histogram2dcontour\"}],\"mesh3d\":[{\"colorbar\":{\"outlinewidth\":0,\"ticks\":\"\"},\"type\":\"mesh3d\"}],\"parcoords\":[{\"line\":{\"colorbar\":{\"outlinewidth\":0,\"ticks\":\"\"}},\"type\":\"parcoords\"}],\"pie\":[{\"automargin\":true,\"type\":\"pie\"}],\"scatter\":[{\"marker\":{\"colorbar\":{\"outlinewidth\":0,\"ticks\":\"\"}},\"type\":\"scatter\"}],\"scatter3d\":[{\"line\":{\"colorbar\":{\"outlinewidth\":0,\"ticks\":\"\"}},\"marker\":{\"colorbar\":{\"outlinewidth\":0,\"ticks\":\"\"}},\"type\":\"scatter3d\"}],\"scattercarpet\":[{\"marker\":{\"colorbar\":{\"outlinewidth\":0,\"ticks\":\"\"}},\"type\":\"scattercarpet\"}],\"scattergeo\":[{\"marker\":{\"colorbar\":{\"outlinewidth\":0,\"ticks\":\"\"}},\"type\":\"scattergeo\"}],\"scattergl\":[{\"marker\":{\"colorbar\":{\"outlinewidth\":0,\"ticks\":\"\"}},\"type\":\"scattergl\"}],\"scattermapbox\":[{\"marker\":{\"colorbar\":{\"outlinewidth\":0,\"ticks\":\"\"}},\"type\":\"scattermapbox\"}],\"scatterpolar\":[{\"marker\":{\"colorbar\":{\"outlinewidth\":0,\"ticks\":\"\"}},\"type\":\"scatterpolar\"}],\"scatterpolargl\":[{\"marker\":{\"colorbar\":{\"outlinewidth\":0,\"ticks\":\"\"}},\"type\":\"scatterpolargl\"}],\"scatterternary\":[{\"marker\":{\"colorbar\":{\"outlinewidth\":0,\"ticks\":\"\"}},\"type\":\"scatterternary\"}],\"surface\":[{\"colorbar\":{\"outlinewidth\":0,\"ticks\":\"\"},\"colorscale\":[[0.0,\"#0d0887\"],[0.1111111111111111,\"#46039f\"],[0.2222222222222222,\"#7201a8\"],[0.3333333333333333,\"#9c179e\"],[0.4444444444444444,\"#bd3786\"],[0.5555555555555556,\"#d8576b\"],[0.6666666666666666,\"#ed7953\"],[0.7777777777777778,\"#fb9f3a\"],[0.8888888888888888,\"#fdca26\"],[1.0,\"#f0f921\"]],\"type\":\"surface\"}],\"table\":[{\"cells\":{\"fill\":{\"color\":\"#EBF0F8\"},\"line\":{\"color\":\"white\"}},\"header\":{\"fill\":{\"color\":\"#C8D4E3\"},\"line\":{\"color\":\"white\"}},\"type\":\"table\"}]},\"layout\":{\"annotationdefaults\":{\"arrowcolor\":\"#2a3f5f\",\"arrowhead\":0,\"arrowwidth\":1},\"autotypenumbers\":\"strict\",\"coloraxis\":{\"colorbar\":{\"outlinewidth\":0,\"ticks\":\"\"}},\"colorscale\":{\"diverging\":[[0,\"#8e0152\"],[0.1,\"#c51b7d\"],[0.2,\"#de77ae\"],[0.3,\"#f1b6da\"],[0.4,\"#fde0ef\"],[0.5,\"#f7f7f7\"],[0.6,\"#e6f5d0\"],[0.7,\"#b8e186\"],[0.8,\"#7fbc41\"],[0.9,\"#4d9221\"],[1,\"#276419\"]],\"sequential\":[[0.0,\"#0d0887\"],[0.1111111111111111,\"#46039f\"],[0.2222222222222222,\"#7201a8\"],[0.3333333333333333,\"#9c179e\"],[0.4444444444444444,\"#bd3786\"],[0.5555555555555556,\"#d8576b\"],[0.6666666666666666,\"#ed7953\"],[0.7777777777777778,\"#fb9f3a\"],[0.8888888888888888,\"#fdca26\"],[1.0,\"#f0f921\"]],\"sequentialminus\":[[0.0,\"#0d0887\"],[0.1111111111111111,\"#46039f\"],[0.2222222222222222,\"#7201a8\"],[0.3333333333333333,\"#9c179e\"],[0.4444444444444444,\"#bd3786\"],[0.5555555555555556,\"#d8576b\"],[0.6666666666666666,\"#ed7953\"],[0.7777777777777778,\"#fb9f3a\"],[0.8888888888888888,\"#fdca26\"],[1.0,\"#f0f921\"]]},\"colorway\":[\"#636efa\",\"#EF553B\",\"#00cc96\",\"#ab63fa\",\"#FFA15A\",\"#19d3f3\",\"#FF6692\",\"#B6E880\",\"#FF97FF\",\"#FECB52\"],\"font\":{\"color\":\"#2a3f5f\"},\"geo\":{\"bgcolor\":\"white\",\"lakecolor\":\"white\",\"landcolor\":\"#E5ECF6\",\"showlakes\":true,\"showland\":true,\"subunitcolor\":\"white\"},\"hoverlabel\":{\"align\":\"left\"},\"hovermode\":\"closest\",\"mapbox\":{\"style\":\"light\"},\"paper_bgcolor\":\"white\",\"plot_bgcolor\":\"#E5ECF6\",\"polar\":{\"angularaxis\":{\"gridcolor\":\"white\",\"linecolor\":\"white\",\"ticks\":\"\"},\"bgcolor\":\"#E5ECF6\",\"radialaxis\":{\"gridcolor\":\"white\",\"linecolor\":\"white\",\"ticks\":\"\"}},\"scene\":{\"xaxis\":{\"backgroundcolor\":\"#E5ECF6\",\"gridcolor\":\"white\",\"gridwidth\":2,\"linecolor\":\"white\",\"showbackground\":true,\"ticks\":\"\",\"zerolinecolor\":\"white\"},\"yaxis\":{\"backgroundcolor\":\"#E5ECF6\",\"gridcolor\":\"white\",\"gridwidth\":2,\"linecolor\":\"white\",\"showbackground\":true,\"ticks\":\"\",\"zerolinecolor\":\"white\"},\"zaxis\":{\"backgroundcolor\":\"#E5ECF6\",\"gridcolor\":\"white\",\"gridwidth\":2,\"linecolor\":\"white\",\"showbackground\":true,\"ticks\":\"\",\"zerolinecolor\":\"white\"}},\"shapedefaults\":{\"line\":{\"color\":\"#2a3f5f\"}},\"ternary\":{\"aaxis\":{\"gridcolor\":\"white\",\"linecolor\":\"white\",\"ticks\":\"\"},\"baxis\":{\"gridcolor\":\"white\",\"linecolor\":\"white\",\"ticks\":\"\"},\"bgcolor\":\"#E5ECF6\",\"caxis\":{\"gridcolor\":\"white\",\"linecolor\":\"white\",\"ticks\":\"\"}},\"title\":{\"x\":0.05},\"xaxis\":{\"automargin\":true,\"gridcolor\":\"white\",\"linecolor\":\"white\",\"ticks\":\"\",\"title\":{\"standoff\":15},\"zerolinecolor\":\"white\",\"zerolinewidth\":2},\"yaxis\":{\"automargin\":true,\"gridcolor\":\"white\",\"linecolor\":\"white\",\"ticks\":\"\",\"title\":{\"standoff\":15},\"zerolinecolor\":\"white\",\"zerolinewidth\":2}}},\"title\":{\"text\":\"\\u0437\\u0430\\u043c\\u043e\\u043a, -0.06918226650023966\"}},                        {\"responsive\": true}                    ).then(function(){\n",
       "                            \n",
       "var gd = document.getElementById('553d8751-563c-4f53-8ecc-2c7ead60110e');\n",
       "var x = new MutationObserver(function (mutations, observer) {{\n",
       "        var display = window.getComputedStyle(gd).display;\n",
       "        if (!display || display === 'none') {{\n",
       "            console.log([gd, 'removed!']);\n",
       "            Plotly.purge(gd);\n",
       "            observer.disconnect();\n",
       "        }}\n",
       "}});\n",
       "\n",
       "// Listen for the removal of the full notebook cells\n",
       "var notebookContainer = gd.closest('#notebook-container');\n",
       "if (notebookContainer) {{\n",
       "    x.observe(notebookContainer, {childList: true});\n",
       "}}\n",
       "\n",
       "// Listen for the clearing of the current output cell\n",
       "var outputEl = gd.closest('.output');\n",
       "if (outputEl) {{\n",
       "    x.observe(outputEl, {childList: true});\n",
       "}}\n",
       "\n",
       "                        })                };                });            </script>        </div>"
      ]
     },
     "metadata": {},
     "output_type": "display_data"
    },
    {
     "data": {
      "application/vnd.plotly.v1+json": {
       "config": {
        "plotlyServerURL": "https://plot.ly"
       },
       "data": [
        {
         "hovertemplate": "0=%{x}<br>1=%{y}<br>2=%{z}<br>color=%{marker.color}<extra></extra>",
         "legendgroup": "",
         "marker": {
          "color": [
           1,
           1,
           1,
           1,
           1,
           1,
           1,
           1,
           1,
           1,
           1,
           1,
           1,
           1,
           1,
           1,
           1,
           1,
           1,
           1,
           1,
           1,
           1,
           1,
           1,
           1,
           1,
           1,
           1,
           1,
           1,
           1,
           1,
           1,
           1,
           1,
           1,
           1,
           1,
           1,
           1,
           1,
           1,
           1,
           1,
           1,
           1,
           1,
           1,
           1,
           1,
           1,
           1,
           1,
           1,
           1,
           1,
           1,
           1,
           1,
           1,
           1,
           1,
           1,
           1,
           2,
           2,
           2,
           2,
           2,
           2,
           2,
           2,
           2,
           2,
           2,
           2,
           2,
           2,
           2,
           2,
           2,
           2,
           2,
           2,
           2,
           2,
           2,
           2,
           2,
           2,
           2,
           2,
           2,
           2,
           2,
           2,
           2,
           2,
           2,
           2,
           2,
           2,
           2,
           2,
           2,
           2,
           2,
           2,
           2
          ],
          "coloraxis": "coloraxis",
          "symbol": "circle"
         },
         "mode": "markers",
         "name": "",
         "scene": "scene",
         "showlegend": false,
         "type": "scatter3d",
         "x": [
          -4.2801055908203125,
          -1.5629116296768188,
          -5.643479824066162,
          -4.292253494262695,
          -3.803523540496826,
          -3.4683432579040527,
          -2.4230079650878906,
          -0.8918821811676025,
          -3.5412211418151855,
          -4.620608329772949,
          -4.158608436584473,
          -4.101649284362793,
          -4.472921371459961,
          -1.513644814491272,
          -3.5458335876464844,
          -2.880605697631836,
          10.522039413452148,
          -4.56535005569458,
          -3.9529826641082764,
          -3.345216989517212,
          -3.5032405853271484,
          -2.517153263092041,
          -2.7628378868103027,
          -4.959890365600586,
          -4.127791881561279,
          -4.431979179382324,
          -3.3934032917022705,
          -3.401571035385132,
          11.066170692443848,
          -2.127026081085205,
          -3.991870164871216,
          -2.8239269256591797,
          -3.9607298374176025,
          -4.608775615692139,
          -3.041292428970337,
          -3.8418028354644775,
          -3.7260499000549316,
          -4.018995761871338,
          -4.022533893585205,
          -3.133493185043335,
          -3.0777714252471924,
          -2.649322032928467,
          -2.502391815185547,
          8.639958381652832,
          -2.297995090484619,
          -4.332861423492432,
          -3.5428593158721924,
          -4.336400032043457,
          -2.7366461753845215,
          -3.7260870933532715,
          -1.1255784034729004,
          -4.158778667449951,
          -4.3164286613464355,
          -3.306535005569458,
          -4.23690938949585,
          -2.9806840419769287,
          -3.1380672454833984,
          -2.5728893280029297,
          -4.391583442687988,
          -2.491851806640625,
          0.6811931133270264,
          -1.1758743524551392,
          -1.2993813753128052,
          -4.27795934677124,
          5.668120861053467,
          12.821809768676758,
          10.55781078338623,
          13.140654563903809,
          12.549612998962402,
          9.622062683105469,
          -1.9415428638458252,
          12.779559135437012,
          12.633439064025879,
          12.133289337158203,
          -4.433125972747803,
          11.9055814743042,
          11.992510795593262,
          -1.57122802734375,
          -3.8493707180023193,
          -2.787487506866455,
          8.6065034866333,
          -1.698388695716858,
          12.657425880432129,
          -2.1971802711486816,
          -4.167981147766113,
          -1.3589898347854614,
          -2.1408751010894775,
          7.438920021057129,
          -2.4027798175811768,
          -0.9720526337623596,
          -2.5478315353393555,
          -1.0762649774551392,
          -1.731886863708496,
          -0.4721028804779053,
          10.957573890686035,
          -2.8664791584014893,
          -3.7933270931243896,
          -0.30994439125061035,
          12.437239646911621,
          12.237578392028809,
          -2.7652335166931152,
          -3.1397836208343506,
          11.331644058227539,
          11.568172454833984,
          12.335387229919434,
          -0.7097844481468201,
          -1.505784511566162,
          -1.0929721593856812,
          -0.2488897144794464,
          -0.3695954382419586
         ],
         "y": [
          3.8089091777801514,
          5.47221565246582,
          -0.6484151482582092,
          5.499268054962158,
          0.34661638736724854,
          0.4569355249404907,
          -3.2690622806549072,
          2.8292272090911865,
          2.1501898765563965,
          3.1145589351654053,
          0.47587984800338745,
          3.5752038955688477,
          0.599566638469696,
          5.48344087600708,
          -3.8891189098358154,
          0.10343661904335022,
          -0.6418089270591736,
          3.867161512374878,
          1.2347458600997925,
          -2.334831476211548,
          -1.3562549352645874,
          3.1378519535064697,
          -4.430647850036621,
          0.38435110449790955,
          1.339189887046814,
          5.59886360168457,
          3.407949447631836,
          0.04112772271037102,
          -0.5261672139167786,
          -5.337800979614258,
          1.1262487173080444,
          -3.645319700241089,
          0.986058235168457,
          3.224667549133301,
          -5.158145427703857,
          -4.6490888595581055,
          2.2201874256134033,
          -4.189720630645752,
          1.264089584350586,
          -1.5699412822723389,
          -5.090685844421387,
          -4.578929424285889,
          -1.3613901138305664,
          -0.769005298614502,
          -2.2086081504821777,
          -2.236297130584717,
          -5.255292892456055,
          5.283492088317871,
          -3.456122398376465,
          2.9471001625061035,
          3.3949649333953857,
          -0.3852043151855469,
          0.8026744723320007,
          -4.044541835784912,
          5.611584663391113,
          -2.6732819080352783,
          0.6983091235160828,
          2.030043601989746,
          3.185823917388916,
          -2.866133689880371,
          -2.2713420391082764,
          3.2600104808807373,
          -2.6845366954803467,
          5.5625691413879395,
          -1.6899124383926392,
          0.2241377979516983,
          1.7218809127807617,
          0.9287114143371582,
          -0.3589579164981842,
          1.7426552772521973,
          -2.1101315021514893,
          0.5933383703231812,
          0.5005515813827515,
          0.6689098477363586,
          2.652570962905884,
          0.5421255230903625,
          0.1867222636938095,
          -5.061215877532959,
          -0.7642242908477783,
          5.765584468841553,
          1.9385650157928467,
          -2.6301469802856445,
          0.3160446286201477,
          -3.8457510471343994,
          -0.8782700300216675,
          -0.7036242485046387,
          2.8477704524993896,
          -0.855433464050293,
          -2.397284746170044,
          -3.7657065391540527,
          -1.315181016921997,
          -4.358938694000244,
          -4.225893974304199,
          -5.009879112243652,
          1.050997018814087,
          5.588850021362305,
          0.9206910729408264,
          -3.2134742736816406,
          0.5609785914421082,
          0.23631373047828674,
          5.650847911834717,
          2.142781972885132,
          0.5041271448135376,
          0.5808480978012085,
          0.2626214921474457,
          2.8435418605804443,
          -5.442811489105225,
          -4.723325252532959,
          2.916774272918701,
          -3.5355799198150635
         ],
         "z": [
          -1.644508719444275,
          1.6259061098098755,
          -1.0510953664779663,
          -1.1290428638458252,
          -2.544755220413208,
          -1.9205820560455322,
          -2.291057825088501,
          0.3659854531288147,
          -2.8845696449279785,
          -0.7659671902656555,
          -2.9851326942443848,
          -1.1376049518585205,
          -2.5319199562072754,
          1.5435224771499634,
          -2.961815357208252,
          -1.5757449865341187,
          -2.2588613033294678,
          -0.2084389477968216,
          -0.24186797440052032,
          -1.39445161819458,
          -1.3060137033462524,
          0.3956848382949829,
          -1.5553885698318481,
          -0.4682740867137909,
          -2.611874580383301,
          -0.9485213160514832,
          -2.3123204708099365,
          -1.236119270324707,
          -2.1993825435638428,
          -2.9357874393463135,
          -2.3093972206115723,
          -2.100100517272949,
          0.12191702425479889,
          -2.686117649078369,
          -2.157412528991699,
          -2.9155709743499756,
          -0.16241025924682617,
          -1.9777088165283203,
          0.39112019538879395,
          -0.867730438709259,
          -3.378011703491211,
          -2.38106369972229,
          -1.7786072492599487,
          -2.228975772857666,
          -4.534255027770996,
          -2.029569149017334,
          -3.2027294635772705,
          -1.5388951301574707,
          -2.901043653488159,
          -1.1911622285842896,
          -0.27742281556129456,
          -3.4558966159820557,
          -2.6854605674743652,
          -0.7425292730331421,
          -1.0289361476898193,
          -0.3621490001678467,
          -2.162721872329712,
          -2.1361324787139893,
          -1.0454622507095337,
          -0.009612981230020523,
          -0.0646212175488472,
          -0.3315030038356781,
          -1.8756577968597412,
          -1.0765146017074585,
          -0.5273376107215881,
          0.8651706576347351,
          -0.9243246912956238,
          -1.2537051439285278,
          -0.5363863706588745,
          -1.0166915655136108,
          5.115030765533447,
          -1.076685905456543,
          -0.9480805993080139,
          -0.8018443584442139,
          0.6114541888237,
          0.14333520829677582,
          -0.6026108264923096,
          -0.5668470859527588,
          1.063712239265442,
          4.63551139831543,
          -0.9888618588447571,
          7.526280403137207,
          1.0016887187957764,
          5.215081691741943,
          2.135333776473999,
          4.309257984161377,
          4.616476535797119,
          0.6047253608703613,
          4.666534423828125,
          5.011396408081055,
          1.6846399307250977,
          2.6850271224975586,
          0.061749447137117386,
          8.263153076171875,
          -1.1238059997558594,
          4.375293731689453,
          1.0941554307937622,
          4.578771591186523,
          -1.562464952468872,
          1.002246379852295,
          4.465945243835449,
          5.214159965515137,
          0.5230459570884705,
          -1.3776730298995972,
          0.8805838227272034,
          4.997747898101807,
          6.6314215660095215,
          2.2336227893829346,
          7.20133113861084,
          8.145787239074707
         ]
        }
       ],
       "layout": {
        "coloraxis": {
         "colorbar": {
          "title": {
           "text": "color"
          }
         },
         "colorscale": [
          [
           0,
           "#0d0887"
          ],
          [
           0.1111111111111111,
           "#46039f"
          ],
          [
           0.2222222222222222,
           "#7201a8"
          ],
          [
           0.3333333333333333,
           "#9c179e"
          ],
          [
           0.4444444444444444,
           "#bd3786"
          ],
          [
           0.5555555555555556,
           "#d8576b"
          ],
          [
           0.6666666666666666,
           "#ed7953"
          ],
          [
           0.7777777777777778,
           "#fb9f3a"
          ],
          [
           0.8888888888888888,
           "#fdca26"
          ],
          [
           1,
           "#f0f921"
          ]
         ]
        },
        "legend": {
         "tracegroupgap": 0
        },
        "scene": {
         "domain": {
          "x": [
           0,
           1
          ],
          "y": [
           0,
           1
          ]
         },
         "xaxis": {
          "title": {
           "text": "0"
          }
         },
         "yaxis": {
          "title": {
           "text": "1"
          }
         },
         "zaxis": {
          "title": {
           "text": "2"
          }
         }
        },
        "template": {
         "data": {
          "bar": [
           {
            "error_x": {
             "color": "#2a3f5f"
            },
            "error_y": {
             "color": "#2a3f5f"
            },
            "marker": {
             "line": {
              "color": "#E5ECF6",
              "width": 0.5
             },
             "pattern": {
              "fillmode": "overlay",
              "size": 10,
              "solidity": 0.2
             }
            },
            "type": "bar"
           }
          ],
          "barpolar": [
           {
            "marker": {
             "line": {
              "color": "#E5ECF6",
              "width": 0.5
             },
             "pattern": {
              "fillmode": "overlay",
              "size": 10,
              "solidity": 0.2
             }
            },
            "type": "barpolar"
           }
          ],
          "carpet": [
           {
            "aaxis": {
             "endlinecolor": "#2a3f5f",
             "gridcolor": "white",
             "linecolor": "white",
             "minorgridcolor": "white",
             "startlinecolor": "#2a3f5f"
            },
            "baxis": {
             "endlinecolor": "#2a3f5f",
             "gridcolor": "white",
             "linecolor": "white",
             "minorgridcolor": "white",
             "startlinecolor": "#2a3f5f"
            },
            "type": "carpet"
           }
          ],
          "choropleth": [
           {
            "colorbar": {
             "outlinewidth": 0,
             "ticks": ""
            },
            "type": "choropleth"
           }
          ],
          "contour": [
           {
            "colorbar": {
             "outlinewidth": 0,
             "ticks": ""
            },
            "colorscale": [
             [
              0,
              "#0d0887"
             ],
             [
              0.1111111111111111,
              "#46039f"
             ],
             [
              0.2222222222222222,
              "#7201a8"
             ],
             [
              0.3333333333333333,
              "#9c179e"
             ],
             [
              0.4444444444444444,
              "#bd3786"
             ],
             [
              0.5555555555555556,
              "#d8576b"
             ],
             [
              0.6666666666666666,
              "#ed7953"
             ],
             [
              0.7777777777777778,
              "#fb9f3a"
             ],
             [
              0.8888888888888888,
              "#fdca26"
             ],
             [
              1,
              "#f0f921"
             ]
            ],
            "type": "contour"
           }
          ],
          "contourcarpet": [
           {
            "colorbar": {
             "outlinewidth": 0,
             "ticks": ""
            },
            "type": "contourcarpet"
           }
          ],
          "heatmap": [
           {
            "colorbar": {
             "outlinewidth": 0,
             "ticks": ""
            },
            "colorscale": [
             [
              0,
              "#0d0887"
             ],
             [
              0.1111111111111111,
              "#46039f"
             ],
             [
              0.2222222222222222,
              "#7201a8"
             ],
             [
              0.3333333333333333,
              "#9c179e"
             ],
             [
              0.4444444444444444,
              "#bd3786"
             ],
             [
              0.5555555555555556,
              "#d8576b"
             ],
             [
              0.6666666666666666,
              "#ed7953"
             ],
             [
              0.7777777777777778,
              "#fb9f3a"
             ],
             [
              0.8888888888888888,
              "#fdca26"
             ],
             [
              1,
              "#f0f921"
             ]
            ],
            "type": "heatmap"
           }
          ],
          "heatmapgl": [
           {
            "colorbar": {
             "outlinewidth": 0,
             "ticks": ""
            },
            "colorscale": [
             [
              0,
              "#0d0887"
             ],
             [
              0.1111111111111111,
              "#46039f"
             ],
             [
              0.2222222222222222,
              "#7201a8"
             ],
             [
              0.3333333333333333,
              "#9c179e"
             ],
             [
              0.4444444444444444,
              "#bd3786"
             ],
             [
              0.5555555555555556,
              "#d8576b"
             ],
             [
              0.6666666666666666,
              "#ed7953"
             ],
             [
              0.7777777777777778,
              "#fb9f3a"
             ],
             [
              0.8888888888888888,
              "#fdca26"
             ],
             [
              1,
              "#f0f921"
             ]
            ],
            "type": "heatmapgl"
           }
          ],
          "histogram": [
           {
            "marker": {
             "pattern": {
              "fillmode": "overlay",
              "size": 10,
              "solidity": 0.2
             }
            },
            "type": "histogram"
           }
          ],
          "histogram2d": [
           {
            "colorbar": {
             "outlinewidth": 0,
             "ticks": ""
            },
            "colorscale": [
             [
              0,
              "#0d0887"
             ],
             [
              0.1111111111111111,
              "#46039f"
             ],
             [
              0.2222222222222222,
              "#7201a8"
             ],
             [
              0.3333333333333333,
              "#9c179e"
             ],
             [
              0.4444444444444444,
              "#bd3786"
             ],
             [
              0.5555555555555556,
              "#d8576b"
             ],
             [
              0.6666666666666666,
              "#ed7953"
             ],
             [
              0.7777777777777778,
              "#fb9f3a"
             ],
             [
              0.8888888888888888,
              "#fdca26"
             ],
             [
              1,
              "#f0f921"
             ]
            ],
            "type": "histogram2d"
           }
          ],
          "histogram2dcontour": [
           {
            "colorbar": {
             "outlinewidth": 0,
             "ticks": ""
            },
            "colorscale": [
             [
              0,
              "#0d0887"
             ],
             [
              0.1111111111111111,
              "#46039f"
             ],
             [
              0.2222222222222222,
              "#7201a8"
             ],
             [
              0.3333333333333333,
              "#9c179e"
             ],
             [
              0.4444444444444444,
              "#bd3786"
             ],
             [
              0.5555555555555556,
              "#d8576b"
             ],
             [
              0.6666666666666666,
              "#ed7953"
             ],
             [
              0.7777777777777778,
              "#fb9f3a"
             ],
             [
              0.8888888888888888,
              "#fdca26"
             ],
             [
              1,
              "#f0f921"
             ]
            ],
            "type": "histogram2dcontour"
           }
          ],
          "mesh3d": [
           {
            "colorbar": {
             "outlinewidth": 0,
             "ticks": ""
            },
            "type": "mesh3d"
           }
          ],
          "parcoords": [
           {
            "line": {
             "colorbar": {
              "outlinewidth": 0,
              "ticks": ""
             }
            },
            "type": "parcoords"
           }
          ],
          "pie": [
           {
            "automargin": true,
            "type": "pie"
           }
          ],
          "scatter": [
           {
            "marker": {
             "colorbar": {
              "outlinewidth": 0,
              "ticks": ""
             }
            },
            "type": "scatter"
           }
          ],
          "scatter3d": [
           {
            "line": {
             "colorbar": {
              "outlinewidth": 0,
              "ticks": ""
             }
            },
            "marker": {
             "colorbar": {
              "outlinewidth": 0,
              "ticks": ""
             }
            },
            "type": "scatter3d"
           }
          ],
          "scattercarpet": [
           {
            "marker": {
             "colorbar": {
              "outlinewidth": 0,
              "ticks": ""
             }
            },
            "type": "scattercarpet"
           }
          ],
          "scattergeo": [
           {
            "marker": {
             "colorbar": {
              "outlinewidth": 0,
              "ticks": ""
             }
            },
            "type": "scattergeo"
           }
          ],
          "scattergl": [
           {
            "marker": {
             "colorbar": {
              "outlinewidth": 0,
              "ticks": ""
             }
            },
            "type": "scattergl"
           }
          ],
          "scattermapbox": [
           {
            "marker": {
             "colorbar": {
              "outlinewidth": 0,
              "ticks": ""
             }
            },
            "type": "scattermapbox"
           }
          ],
          "scatterpolar": [
           {
            "marker": {
             "colorbar": {
              "outlinewidth": 0,
              "ticks": ""
             }
            },
            "type": "scatterpolar"
           }
          ],
          "scatterpolargl": [
           {
            "marker": {
             "colorbar": {
              "outlinewidth": 0,
              "ticks": ""
             }
            },
            "type": "scatterpolargl"
           }
          ],
          "scatterternary": [
           {
            "marker": {
             "colorbar": {
              "outlinewidth": 0,
              "ticks": ""
             }
            },
            "type": "scatterternary"
           }
          ],
          "surface": [
           {
            "colorbar": {
             "outlinewidth": 0,
             "ticks": ""
            },
            "colorscale": [
             [
              0,
              "#0d0887"
             ],
             [
              0.1111111111111111,
              "#46039f"
             ],
             [
              0.2222222222222222,
              "#7201a8"
             ],
             [
              0.3333333333333333,
              "#9c179e"
             ],
             [
              0.4444444444444444,
              "#bd3786"
             ],
             [
              0.5555555555555556,
              "#d8576b"
             ],
             [
              0.6666666666666666,
              "#ed7953"
             ],
             [
              0.7777777777777778,
              "#fb9f3a"
             ],
             [
              0.8888888888888888,
              "#fdca26"
             ],
             [
              1,
              "#f0f921"
             ]
            ],
            "type": "surface"
           }
          ],
          "table": [
           {
            "cells": {
             "fill": {
              "color": "#EBF0F8"
             },
             "line": {
              "color": "white"
             }
            },
            "header": {
             "fill": {
              "color": "#C8D4E3"
             },
             "line": {
              "color": "white"
             }
            },
            "type": "table"
           }
          ]
         },
         "layout": {
          "annotationdefaults": {
           "arrowcolor": "#2a3f5f",
           "arrowhead": 0,
           "arrowwidth": 1
          },
          "autotypenumbers": "strict",
          "coloraxis": {
           "colorbar": {
            "outlinewidth": 0,
            "ticks": ""
           }
          },
          "colorscale": {
           "diverging": [
            [
             0,
             "#8e0152"
            ],
            [
             0.1,
             "#c51b7d"
            ],
            [
             0.2,
             "#de77ae"
            ],
            [
             0.3,
             "#f1b6da"
            ],
            [
             0.4,
             "#fde0ef"
            ],
            [
             0.5,
             "#f7f7f7"
            ],
            [
             0.6,
             "#e6f5d0"
            ],
            [
             0.7,
             "#b8e186"
            ],
            [
             0.8,
             "#7fbc41"
            ],
            [
             0.9,
             "#4d9221"
            ],
            [
             1,
             "#276419"
            ]
           ],
           "sequential": [
            [
             0,
             "#0d0887"
            ],
            [
             0.1111111111111111,
             "#46039f"
            ],
            [
             0.2222222222222222,
             "#7201a8"
            ],
            [
             0.3333333333333333,
             "#9c179e"
            ],
            [
             0.4444444444444444,
             "#bd3786"
            ],
            [
             0.5555555555555556,
             "#d8576b"
            ],
            [
             0.6666666666666666,
             "#ed7953"
            ],
            [
             0.7777777777777778,
             "#fb9f3a"
            ],
            [
             0.8888888888888888,
             "#fdca26"
            ],
            [
             1,
             "#f0f921"
            ]
           ],
           "sequentialminus": [
            [
             0,
             "#0d0887"
            ],
            [
             0.1111111111111111,
             "#46039f"
            ],
            [
             0.2222222222222222,
             "#7201a8"
            ],
            [
             0.3333333333333333,
             "#9c179e"
            ],
            [
             0.4444444444444444,
             "#bd3786"
            ],
            [
             0.5555555555555556,
             "#d8576b"
            ],
            [
             0.6666666666666666,
             "#ed7953"
            ],
            [
             0.7777777777777778,
             "#fb9f3a"
            ],
            [
             0.8888888888888888,
             "#fdca26"
            ],
            [
             1,
             "#f0f921"
            ]
           ]
          },
          "colorway": [
           "#636efa",
           "#EF553B",
           "#00cc96",
           "#ab63fa",
           "#FFA15A",
           "#19d3f3",
           "#FF6692",
           "#B6E880",
           "#FF97FF",
           "#FECB52"
          ],
          "font": {
           "color": "#2a3f5f"
          },
          "geo": {
           "bgcolor": "white",
           "lakecolor": "white",
           "landcolor": "#E5ECF6",
           "showlakes": true,
           "showland": true,
           "subunitcolor": "white"
          },
          "hoverlabel": {
           "align": "left"
          },
          "hovermode": "closest",
          "mapbox": {
           "style": "light"
          },
          "paper_bgcolor": "white",
          "plot_bgcolor": "#E5ECF6",
          "polar": {
           "angularaxis": {
            "gridcolor": "white",
            "linecolor": "white",
            "ticks": ""
           },
           "bgcolor": "#E5ECF6",
           "radialaxis": {
            "gridcolor": "white",
            "linecolor": "white",
            "ticks": ""
           }
          },
          "scene": {
           "xaxis": {
            "backgroundcolor": "#E5ECF6",
            "gridcolor": "white",
            "gridwidth": 2,
            "linecolor": "white",
            "showbackground": true,
            "ticks": "",
            "zerolinecolor": "white"
           },
           "yaxis": {
            "backgroundcolor": "#E5ECF6",
            "gridcolor": "white",
            "gridwidth": 2,
            "linecolor": "white",
            "showbackground": true,
            "ticks": "",
            "zerolinecolor": "white"
           },
           "zaxis": {
            "backgroundcolor": "#E5ECF6",
            "gridcolor": "white",
            "gridwidth": 2,
            "linecolor": "white",
            "showbackground": true,
            "ticks": "",
            "zerolinecolor": "white"
           }
          },
          "shapedefaults": {
           "line": {
            "color": "#2a3f5f"
           }
          },
          "ternary": {
           "aaxis": {
            "gridcolor": "white",
            "linecolor": "white",
            "ticks": ""
           },
           "baxis": {
            "gridcolor": "white",
            "linecolor": "white",
            "ticks": ""
           },
           "bgcolor": "#E5ECF6",
           "caxis": {
            "gridcolor": "white",
            "linecolor": "white",
            "ticks": ""
           }
          },
          "title": {
           "x": 0.05
          },
          "xaxis": {
           "automargin": true,
           "gridcolor": "white",
           "linecolor": "white",
           "ticks": "",
           "title": {
            "standoff": 15
           },
           "zerolinecolor": "white",
           "zerolinewidth": 2
          },
          "yaxis": {
           "automargin": true,
           "gridcolor": "white",
           "linecolor": "white",
           "ticks": "",
           "title": {
            "standoff": 15
           },
           "zerolinecolor": "white",
           "zerolinewidth": 2
          }
         }
        },
        "title": {
         "text": "лук, 0.19284262114092604"
        }
       }
      },
      "text/html": [
       "<div>                            <div id=\"1c9ba411-5442-4e44-af80-7326f95a90aa\" class=\"plotly-graph-div\" style=\"height:525px; width:100%;\"></div>            <script type=\"text/javascript\">                require([\"plotly\"], function(Plotly) {                    window.PLOTLYENV=window.PLOTLYENV || {};                                    if (document.getElementById(\"1c9ba411-5442-4e44-af80-7326f95a90aa\")) {                    Plotly.newPlot(                        \"1c9ba411-5442-4e44-af80-7326f95a90aa\",                        [{\"hovertemplate\":\"0=%{x}<br>1=%{y}<br>2=%{z}<br>color=%{marker.color}<extra></extra>\",\"legendgroup\":\"\",\"marker\":{\"color\":[1,1,1,1,1,1,1,1,1,1,1,1,1,1,1,1,1,1,1,1,1,1,1,1,1,1,1,1,1,1,1,1,1,1,1,1,1,1,1,1,1,1,1,1,1,1,1,1,1,1,1,1,1,1,1,1,1,1,1,1,1,1,1,1,1,2,2,2,2,2,2,2,2,2,2,2,2,2,2,2,2,2,2,2,2,2,2,2,2,2,2,2,2,2,2,2,2,2,2,2,2,2,2,2,2,2,2,2,2,2],\"coloraxis\":\"coloraxis\",\"symbol\":\"circle\"},\"mode\":\"markers\",\"name\":\"\",\"scene\":\"scene\",\"showlegend\":false,\"type\":\"scatter3d\",\"x\":[-4.2801055908203125,-1.5629116296768188,-5.643479824066162,-4.292253494262695,-3.803523540496826,-3.4683432579040527,-2.4230079650878906,-0.8918821811676025,-3.5412211418151855,-4.620608329772949,-4.158608436584473,-4.101649284362793,-4.472921371459961,-1.513644814491272,-3.5458335876464844,-2.880605697631836,10.522039413452148,-4.56535005569458,-3.9529826641082764,-3.345216989517212,-3.5032405853271484,-2.517153263092041,-2.7628378868103027,-4.959890365600586,-4.127791881561279,-4.431979179382324,-3.3934032917022705,-3.401571035385132,11.066170692443848,-2.127026081085205,-3.991870164871216,-2.8239269256591797,-3.9607298374176025,-4.608775615692139,-3.041292428970337,-3.8418028354644775,-3.7260499000549316,-4.018995761871338,-4.022533893585205,-3.133493185043335,-3.0777714252471924,-2.649322032928467,-2.502391815185547,8.639958381652832,-2.297995090484619,-4.332861423492432,-3.5428593158721924,-4.336400032043457,-2.7366461753845215,-3.7260870933532715,-1.1255784034729004,-4.158778667449951,-4.3164286613464355,-3.306535005569458,-4.23690938949585,-2.9806840419769287,-3.1380672454833984,-2.5728893280029297,-4.391583442687988,-2.491851806640625,0.6811931133270264,-1.1758743524551392,-1.2993813753128052,-4.27795934677124,5.668120861053467,12.821809768676758,10.55781078338623,13.140654563903809,12.549612998962402,9.622062683105469,-1.9415428638458252,12.779559135437012,12.633439064025879,12.133289337158203,-4.433125972747803,11.9055814743042,11.992510795593262,-1.57122802734375,-3.8493707180023193,-2.787487506866455,8.6065034866333,-1.698388695716858,12.657425880432129,-2.1971802711486816,-4.167981147766113,-1.3589898347854614,-2.1408751010894775,7.438920021057129,-2.4027798175811768,-0.9720526337623596,-2.5478315353393555,-1.0762649774551392,-1.731886863708496,-0.4721028804779053,10.957573890686035,-2.8664791584014893,-3.7933270931243896,-0.30994439125061035,12.437239646911621,12.237578392028809,-2.7652335166931152,-3.1397836208343506,11.331644058227539,11.568172454833984,12.335387229919434,-0.7097844481468201,-1.505784511566162,-1.0929721593856812,-0.2488897144794464,-0.3695954382419586],\"y\":[3.8089091777801514,5.47221565246582,-0.6484151482582092,5.499268054962158,0.34661638736724854,0.4569355249404907,-3.2690622806549072,2.8292272090911865,2.1501898765563965,3.1145589351654053,0.47587984800338745,3.5752038955688477,0.599566638469696,5.48344087600708,-3.8891189098358154,0.10343661904335022,-0.6418089270591736,3.867161512374878,1.2347458600997925,-2.334831476211548,-1.3562549352645874,3.1378519535064697,-4.430647850036621,0.38435110449790955,1.339189887046814,5.59886360168457,3.407949447631836,0.04112772271037102,-0.5261672139167786,-5.337800979614258,1.1262487173080444,-3.645319700241089,0.986058235168457,3.224667549133301,-5.158145427703857,-4.6490888595581055,2.2201874256134033,-4.189720630645752,1.264089584350586,-1.5699412822723389,-5.090685844421387,-4.578929424285889,-1.3613901138305664,-0.769005298614502,-2.2086081504821777,-2.236297130584717,-5.255292892456055,5.283492088317871,-3.456122398376465,2.9471001625061035,3.3949649333953857,-0.3852043151855469,0.8026744723320007,-4.044541835784912,5.611584663391113,-2.6732819080352783,0.6983091235160828,2.030043601989746,3.185823917388916,-2.866133689880371,-2.2713420391082764,3.2600104808807373,-2.6845366954803467,5.5625691413879395,-1.6899124383926392,0.2241377979516983,1.7218809127807617,0.9287114143371582,-0.3589579164981842,1.7426552772521973,-2.1101315021514893,0.5933383703231812,0.5005515813827515,0.6689098477363586,2.652570962905884,0.5421255230903625,0.1867222636938095,-5.061215877532959,-0.7642242908477783,5.765584468841553,1.9385650157928467,-2.6301469802856445,0.3160446286201477,-3.8457510471343994,-0.8782700300216675,-0.7036242485046387,2.8477704524993896,-0.855433464050293,-2.397284746170044,-3.7657065391540527,-1.315181016921997,-4.358938694000244,-4.225893974304199,-5.009879112243652,1.050997018814087,5.588850021362305,0.9206910729408264,-3.2134742736816406,0.5609785914421082,0.23631373047828674,5.650847911834717,2.142781972885132,0.5041271448135376,0.5808480978012085,0.2626214921474457,2.8435418605804443,-5.442811489105225,-4.723325252532959,2.916774272918701,-3.5355799198150635],\"z\":[-1.644508719444275,1.6259061098098755,-1.0510953664779663,-1.1290428638458252,-2.544755220413208,-1.9205820560455322,-2.291057825088501,0.3659854531288147,-2.8845696449279785,-0.7659671902656555,-2.9851326942443848,-1.1376049518585205,-2.5319199562072754,1.5435224771499634,-2.961815357208252,-1.5757449865341187,-2.2588613033294678,-0.2084389477968216,-0.24186797440052032,-1.39445161819458,-1.3060137033462524,0.3956848382949829,-1.5553885698318481,-0.4682740867137909,-2.611874580383301,-0.9485213160514832,-2.3123204708099365,-1.236119270324707,-2.1993825435638428,-2.9357874393463135,-2.3093972206115723,-2.100100517272949,0.12191702425479889,-2.686117649078369,-2.157412528991699,-2.9155709743499756,-0.16241025924682617,-1.9777088165283203,0.39112019538879395,-0.867730438709259,-3.378011703491211,-2.38106369972229,-1.7786072492599487,-2.228975772857666,-4.534255027770996,-2.029569149017334,-3.2027294635772705,-1.5388951301574707,-2.901043653488159,-1.1911622285842896,-0.27742281556129456,-3.4558966159820557,-2.6854605674743652,-0.7425292730331421,-1.0289361476898193,-0.3621490001678467,-2.162721872329712,-2.1361324787139893,-1.0454622507095337,-0.009612981230020523,-0.0646212175488472,-0.3315030038356781,-1.8756577968597412,-1.0765146017074585,-0.5273376107215881,0.8651706576347351,-0.9243246912956238,-1.2537051439285278,-0.5363863706588745,-1.0166915655136108,5.115030765533447,-1.076685905456543,-0.9480805993080139,-0.8018443584442139,0.6114541888237,0.14333520829677582,-0.6026108264923096,-0.5668470859527588,1.063712239265442,4.63551139831543,-0.9888618588447571,7.526280403137207,1.0016887187957764,5.215081691741943,2.135333776473999,4.309257984161377,4.616476535797119,0.6047253608703613,4.666534423828125,5.011396408081055,1.6846399307250977,2.6850271224975586,0.061749447137117386,8.263153076171875,-1.1238059997558594,4.375293731689453,1.0941554307937622,4.578771591186523,-1.562464952468872,1.002246379852295,4.465945243835449,5.214159965515137,0.5230459570884705,-1.3776730298995972,0.8805838227272034,4.997747898101807,6.6314215660095215,2.2336227893829346,7.20133113861084,8.145787239074707]}],                        {\"coloraxis\":{\"colorbar\":{\"title\":{\"text\":\"color\"}},\"colorscale\":[[0.0,\"#0d0887\"],[0.1111111111111111,\"#46039f\"],[0.2222222222222222,\"#7201a8\"],[0.3333333333333333,\"#9c179e\"],[0.4444444444444444,\"#bd3786\"],[0.5555555555555556,\"#d8576b\"],[0.6666666666666666,\"#ed7953\"],[0.7777777777777778,\"#fb9f3a\"],[0.8888888888888888,\"#fdca26\"],[1.0,\"#f0f921\"]]},\"legend\":{\"tracegroupgap\":0},\"scene\":{\"domain\":{\"x\":[0.0,1.0],\"y\":[0.0,1.0]},\"xaxis\":{\"title\":{\"text\":\"0\"}},\"yaxis\":{\"title\":{\"text\":\"1\"}},\"zaxis\":{\"title\":{\"text\":\"2\"}}},\"template\":{\"data\":{\"bar\":[{\"error_x\":{\"color\":\"#2a3f5f\"},\"error_y\":{\"color\":\"#2a3f5f\"},\"marker\":{\"line\":{\"color\":\"#E5ECF6\",\"width\":0.5},\"pattern\":{\"fillmode\":\"overlay\",\"size\":10,\"solidity\":0.2}},\"type\":\"bar\"}],\"barpolar\":[{\"marker\":{\"line\":{\"color\":\"#E5ECF6\",\"width\":0.5},\"pattern\":{\"fillmode\":\"overlay\",\"size\":10,\"solidity\":0.2}},\"type\":\"barpolar\"}],\"carpet\":[{\"aaxis\":{\"endlinecolor\":\"#2a3f5f\",\"gridcolor\":\"white\",\"linecolor\":\"white\",\"minorgridcolor\":\"white\",\"startlinecolor\":\"#2a3f5f\"},\"baxis\":{\"endlinecolor\":\"#2a3f5f\",\"gridcolor\":\"white\",\"linecolor\":\"white\",\"minorgridcolor\":\"white\",\"startlinecolor\":\"#2a3f5f\"},\"type\":\"carpet\"}],\"choropleth\":[{\"colorbar\":{\"outlinewidth\":0,\"ticks\":\"\"},\"type\":\"choropleth\"}],\"contour\":[{\"colorbar\":{\"outlinewidth\":0,\"ticks\":\"\"},\"colorscale\":[[0.0,\"#0d0887\"],[0.1111111111111111,\"#46039f\"],[0.2222222222222222,\"#7201a8\"],[0.3333333333333333,\"#9c179e\"],[0.4444444444444444,\"#bd3786\"],[0.5555555555555556,\"#d8576b\"],[0.6666666666666666,\"#ed7953\"],[0.7777777777777778,\"#fb9f3a\"],[0.8888888888888888,\"#fdca26\"],[1.0,\"#f0f921\"]],\"type\":\"contour\"}],\"contourcarpet\":[{\"colorbar\":{\"outlinewidth\":0,\"ticks\":\"\"},\"type\":\"contourcarpet\"}],\"heatmap\":[{\"colorbar\":{\"outlinewidth\":0,\"ticks\":\"\"},\"colorscale\":[[0.0,\"#0d0887\"],[0.1111111111111111,\"#46039f\"],[0.2222222222222222,\"#7201a8\"],[0.3333333333333333,\"#9c179e\"],[0.4444444444444444,\"#bd3786\"],[0.5555555555555556,\"#d8576b\"],[0.6666666666666666,\"#ed7953\"],[0.7777777777777778,\"#fb9f3a\"],[0.8888888888888888,\"#fdca26\"],[1.0,\"#f0f921\"]],\"type\":\"heatmap\"}],\"heatmapgl\":[{\"colorbar\":{\"outlinewidth\":0,\"ticks\":\"\"},\"colorscale\":[[0.0,\"#0d0887\"],[0.1111111111111111,\"#46039f\"],[0.2222222222222222,\"#7201a8\"],[0.3333333333333333,\"#9c179e\"],[0.4444444444444444,\"#bd3786\"],[0.5555555555555556,\"#d8576b\"],[0.6666666666666666,\"#ed7953\"],[0.7777777777777778,\"#fb9f3a\"],[0.8888888888888888,\"#fdca26\"],[1.0,\"#f0f921\"]],\"type\":\"heatmapgl\"}],\"histogram\":[{\"marker\":{\"pattern\":{\"fillmode\":\"overlay\",\"size\":10,\"solidity\":0.2}},\"type\":\"histogram\"}],\"histogram2d\":[{\"colorbar\":{\"outlinewidth\":0,\"ticks\":\"\"},\"colorscale\":[[0.0,\"#0d0887\"],[0.1111111111111111,\"#46039f\"],[0.2222222222222222,\"#7201a8\"],[0.3333333333333333,\"#9c179e\"],[0.4444444444444444,\"#bd3786\"],[0.5555555555555556,\"#d8576b\"],[0.6666666666666666,\"#ed7953\"],[0.7777777777777778,\"#fb9f3a\"],[0.8888888888888888,\"#fdca26\"],[1.0,\"#f0f921\"]],\"type\":\"histogram2d\"}],\"histogram2dcontour\":[{\"colorbar\":{\"outlinewidth\":0,\"ticks\":\"\"},\"colorscale\":[[0.0,\"#0d0887\"],[0.1111111111111111,\"#46039f\"],[0.2222222222222222,\"#7201a8\"],[0.3333333333333333,\"#9c179e\"],[0.4444444444444444,\"#bd3786\"],[0.5555555555555556,\"#d8576b\"],[0.6666666666666666,\"#ed7953\"],[0.7777777777777778,\"#fb9f3a\"],[0.8888888888888888,\"#fdca26\"],[1.0,\"#f0f921\"]],\"type\":\"histogram2dcontour\"}],\"mesh3d\":[{\"colorbar\":{\"outlinewidth\":0,\"ticks\":\"\"},\"type\":\"mesh3d\"}],\"parcoords\":[{\"line\":{\"colorbar\":{\"outlinewidth\":0,\"ticks\":\"\"}},\"type\":\"parcoords\"}],\"pie\":[{\"automargin\":true,\"type\":\"pie\"}],\"scatter\":[{\"marker\":{\"colorbar\":{\"outlinewidth\":0,\"ticks\":\"\"}},\"type\":\"scatter\"}],\"scatter3d\":[{\"line\":{\"colorbar\":{\"outlinewidth\":0,\"ticks\":\"\"}},\"marker\":{\"colorbar\":{\"outlinewidth\":0,\"ticks\":\"\"}},\"type\":\"scatter3d\"}],\"scattercarpet\":[{\"marker\":{\"colorbar\":{\"outlinewidth\":0,\"ticks\":\"\"}},\"type\":\"scattercarpet\"}],\"scattergeo\":[{\"marker\":{\"colorbar\":{\"outlinewidth\":0,\"ticks\":\"\"}},\"type\":\"scattergeo\"}],\"scattergl\":[{\"marker\":{\"colorbar\":{\"outlinewidth\":0,\"ticks\":\"\"}},\"type\":\"scattergl\"}],\"scattermapbox\":[{\"marker\":{\"colorbar\":{\"outlinewidth\":0,\"ticks\":\"\"}},\"type\":\"scattermapbox\"}],\"scatterpolar\":[{\"marker\":{\"colorbar\":{\"outlinewidth\":0,\"ticks\":\"\"}},\"type\":\"scatterpolar\"}],\"scatterpolargl\":[{\"marker\":{\"colorbar\":{\"outlinewidth\":0,\"ticks\":\"\"}},\"type\":\"scatterpolargl\"}],\"scatterternary\":[{\"marker\":{\"colorbar\":{\"outlinewidth\":0,\"ticks\":\"\"}},\"type\":\"scatterternary\"}],\"surface\":[{\"colorbar\":{\"outlinewidth\":0,\"ticks\":\"\"},\"colorscale\":[[0.0,\"#0d0887\"],[0.1111111111111111,\"#46039f\"],[0.2222222222222222,\"#7201a8\"],[0.3333333333333333,\"#9c179e\"],[0.4444444444444444,\"#bd3786\"],[0.5555555555555556,\"#d8576b\"],[0.6666666666666666,\"#ed7953\"],[0.7777777777777778,\"#fb9f3a\"],[0.8888888888888888,\"#fdca26\"],[1.0,\"#f0f921\"]],\"type\":\"surface\"}],\"table\":[{\"cells\":{\"fill\":{\"color\":\"#EBF0F8\"},\"line\":{\"color\":\"white\"}},\"header\":{\"fill\":{\"color\":\"#C8D4E3\"},\"line\":{\"color\":\"white\"}},\"type\":\"table\"}]},\"layout\":{\"annotationdefaults\":{\"arrowcolor\":\"#2a3f5f\",\"arrowhead\":0,\"arrowwidth\":1},\"autotypenumbers\":\"strict\",\"coloraxis\":{\"colorbar\":{\"outlinewidth\":0,\"ticks\":\"\"}},\"colorscale\":{\"diverging\":[[0,\"#8e0152\"],[0.1,\"#c51b7d\"],[0.2,\"#de77ae\"],[0.3,\"#f1b6da\"],[0.4,\"#fde0ef\"],[0.5,\"#f7f7f7\"],[0.6,\"#e6f5d0\"],[0.7,\"#b8e186\"],[0.8,\"#7fbc41\"],[0.9,\"#4d9221\"],[1,\"#276419\"]],\"sequential\":[[0.0,\"#0d0887\"],[0.1111111111111111,\"#46039f\"],[0.2222222222222222,\"#7201a8\"],[0.3333333333333333,\"#9c179e\"],[0.4444444444444444,\"#bd3786\"],[0.5555555555555556,\"#d8576b\"],[0.6666666666666666,\"#ed7953\"],[0.7777777777777778,\"#fb9f3a\"],[0.8888888888888888,\"#fdca26\"],[1.0,\"#f0f921\"]],\"sequentialminus\":[[0.0,\"#0d0887\"],[0.1111111111111111,\"#46039f\"],[0.2222222222222222,\"#7201a8\"],[0.3333333333333333,\"#9c179e\"],[0.4444444444444444,\"#bd3786\"],[0.5555555555555556,\"#d8576b\"],[0.6666666666666666,\"#ed7953\"],[0.7777777777777778,\"#fb9f3a\"],[0.8888888888888888,\"#fdca26\"],[1.0,\"#f0f921\"]]},\"colorway\":[\"#636efa\",\"#EF553B\",\"#00cc96\",\"#ab63fa\",\"#FFA15A\",\"#19d3f3\",\"#FF6692\",\"#B6E880\",\"#FF97FF\",\"#FECB52\"],\"font\":{\"color\":\"#2a3f5f\"},\"geo\":{\"bgcolor\":\"white\",\"lakecolor\":\"white\",\"landcolor\":\"#E5ECF6\",\"showlakes\":true,\"showland\":true,\"subunitcolor\":\"white\"},\"hoverlabel\":{\"align\":\"left\"},\"hovermode\":\"closest\",\"mapbox\":{\"style\":\"light\"},\"paper_bgcolor\":\"white\",\"plot_bgcolor\":\"#E5ECF6\",\"polar\":{\"angularaxis\":{\"gridcolor\":\"white\",\"linecolor\":\"white\",\"ticks\":\"\"},\"bgcolor\":\"#E5ECF6\",\"radialaxis\":{\"gridcolor\":\"white\",\"linecolor\":\"white\",\"ticks\":\"\"}},\"scene\":{\"xaxis\":{\"backgroundcolor\":\"#E5ECF6\",\"gridcolor\":\"white\",\"gridwidth\":2,\"linecolor\":\"white\",\"showbackground\":true,\"ticks\":\"\",\"zerolinecolor\":\"white\"},\"yaxis\":{\"backgroundcolor\":\"#E5ECF6\",\"gridcolor\":\"white\",\"gridwidth\":2,\"linecolor\":\"white\",\"showbackground\":true,\"ticks\":\"\",\"zerolinecolor\":\"white\"},\"zaxis\":{\"backgroundcolor\":\"#E5ECF6\",\"gridcolor\":\"white\",\"gridwidth\":2,\"linecolor\":\"white\",\"showbackground\":true,\"ticks\":\"\",\"zerolinecolor\":\"white\"}},\"shapedefaults\":{\"line\":{\"color\":\"#2a3f5f\"}},\"ternary\":{\"aaxis\":{\"gridcolor\":\"white\",\"linecolor\":\"white\",\"ticks\":\"\"},\"baxis\":{\"gridcolor\":\"white\",\"linecolor\":\"white\",\"ticks\":\"\"},\"bgcolor\":\"#E5ECF6\",\"caxis\":{\"gridcolor\":\"white\",\"linecolor\":\"white\",\"ticks\":\"\"}},\"title\":{\"x\":0.05},\"xaxis\":{\"automargin\":true,\"gridcolor\":\"white\",\"linecolor\":\"white\",\"ticks\":\"\",\"title\":{\"standoff\":15},\"zerolinecolor\":\"white\",\"zerolinewidth\":2},\"yaxis\":{\"automargin\":true,\"gridcolor\":\"white\",\"linecolor\":\"white\",\"ticks\":\"\",\"title\":{\"standoff\":15},\"zerolinecolor\":\"white\",\"zerolinewidth\":2}}},\"title\":{\"text\":\"\\u043b\\u0443\\u043a, 0.19284262114092604\"}},                        {\"responsive\": true}                    ).then(function(){\n",
       "                            \n",
       "var gd = document.getElementById('1c9ba411-5442-4e44-af80-7326f95a90aa');\n",
       "var x = new MutationObserver(function (mutations, observer) {{\n",
       "        var display = window.getComputedStyle(gd).display;\n",
       "        if (!display || display === 'none') {{\n",
       "            console.log([gd, 'removed!']);\n",
       "            Plotly.purge(gd);\n",
       "            observer.disconnect();\n",
       "        }}\n",
       "}});\n",
       "\n",
       "// Listen for the removal of the full notebook cells\n",
       "var notebookContainer = gd.closest('#notebook-container');\n",
       "if (notebookContainer) {{\n",
       "    x.observe(notebookContainer, {childList: true});\n",
       "}}\n",
       "\n",
       "// Listen for the clearing of the current output cell\n",
       "var outputEl = gd.closest('.output');\n",
       "if (outputEl) {{\n",
       "    x.observe(outputEl, {childList: true});\n",
       "}}\n",
       "\n",
       "                        })                };                });            </script>        </div>"
      ]
     },
     "metadata": {},
     "output_type": "display_data"
    },
    {
     "data": {
      "application/vnd.plotly.v1+json": {
       "config": {
        "plotlyServerURL": "https://plot.ly"
       },
       "data": [
        {
         "hovertemplate": "0=%{x}<br>1=%{y}<br>2=%{z}<br>color=%{marker.color}<extra></extra>",
         "legendgroup": "",
         "marker": {
          "color": [
           1,
           1,
           1,
           1,
           1,
           1,
           1,
           1,
           1,
           1,
           1,
           1,
           1,
           1,
           2,
           2,
           2,
           2,
           2,
           2,
           2,
           2,
           2,
           2,
           2,
           2,
           2,
           2,
           2,
           2,
           2,
           2,
           2,
           2,
           2,
           2,
           2,
           2,
           2,
           2,
           2,
           2,
           2,
           2,
           2,
           2,
           2,
           2,
           2,
           2,
           2,
           2,
           2,
           2,
           2,
           2
          ],
          "coloraxis": "coloraxis",
          "symbol": "circle"
         },
         "mode": "markers",
         "name": "",
         "scene": "scene",
         "showlegend": false,
         "type": "scatter3d",
         "x": [
          8.986119270324707,
          12.537346839904785,
          5.359005928039551,
          7.761591911315918,
          1.7539057731628418,
          5.711802959442139,
          9.8372802734375,
          7.335121154785156,
          11.257659912109375,
          9.67011833190918,
          10.79196834564209,
          5.789823532104492,
          4.108030796051025,
          9.358803749084473,
          9.799262046813965,
          -4.408860683441162,
          9.466225624084473,
          -4.951700210571289,
          -2.2659265995025635,
          -4.168772220611572,
          -5.492229461669922,
          -4.79054069519043,
          -4.067419528961182,
          -3.446909189224243,
          -2.4558017253875732,
          -1.2450981140136719,
          -2.6662683486938477,
          -4.418031215667725,
          -3.40686297416687,
          -2.5405702590942383,
          -2.4951162338256836,
          -3.705063581466675,
          -5.026195049285889,
          -4.167901039123535,
          -5.0528435707092285,
          -3.1629323959350586,
          -3.88581919670105,
          -4.360564231872559,
          -2.645603895187378,
          -2.8782150745391846,
          -4.0352935791015625,
          -1.3697118759155273,
          -5.032477378845215,
          -4.289090156555176,
          -3.759658098220825,
          -4.226916790008545,
          9.474889755249023,
          -4.244897365570068,
          -0.008975034579634666,
          -1.8985564708709717,
          -3.8027825355529785,
          -2.777693510055542,
          -5.1417975425720215,
          -2.792811870574951,
          -3.499720335006714,
          -4.413321018218994
         ],
         "y": [
          4.287863731384277,
          5.251715660095215,
          -5.095507621765137,
          -5.165338039398193,
          -2.625537872314453,
          -3.758195400238037,
          -6.306031703948975,
          -5.792317867279053,
          0.500561535358429,
          -6.260350704193115,
          -5.574425220489502,
          -5.620675086975098,
          -3.0895583629608154,
          -4.189697742462158,
          11.404004096984863,
          1.6658225059509277,
          12.326578140258789,
          0.33761081099510193,
          -1.6051703691482544,
          -0.027098342776298523,
          0.20376013219356537,
          1.3236753940582275,
          -0.1628240942955017,
          0.3313691318035126,
          -1.2614872455596924,
          -0.988134503364563,
          -0.18337732553482056,
          1.6436421871185303,
          -0.08922763168811798,
          -1.9491488933563232,
          1.1192747354507446,
          2.1954681873321533,
          0.33953407406806946,
          -0.6866459846496582,
          -0.03010714054107666,
          -0.4958663880825043,
          0.19001910090446472,
          1.1315611600875854,
          0.5431214570999146,
          1.0624055862426758,
          -0.9525144696235657,
          -1.6047884225845337,
          -0.7689327597618103,
          -0.013437342830002308,
          2.2386462688446045,
          -0.5860203504562378,
          11.36250114440918,
          0.9698625206947327,
          0.18391068279743195,
          1.5302842855453491,
          2.227647542953491,
          1.345603346824646,
          -0.5369942784309387,
          -2.0159804821014404,
          0.04410110041499138,
          1.6748521327972412
         ],
         "z": [
          0.5426601767539978,
          0.7060990929603577,
          1.1042656898498535,
          1.3041126728057861,
          3.155682325363159,
          -0.09186120331287384,
          0.7598239183425903,
          0.9541434645652771,
          0.11382239311933517,
          0.4281020164489746,
          0.7497990131378174,
          1.6912511587142944,
          0.36562395095825195,
          1.2379764318466187,
          -1.6924140453338623,
          7.420238971710205,
          -1.3951212167739868,
          3.123913526535034,
          -3.84104585647583,
          -2.9043362140655518,
          0.8776777982711792,
          5.0574140548706055,
          -1.3359341621398926,
          -0.5263852477073669,
          -4.822961807250977,
          -0.7765910625457764,
          -1.9821158647537231,
          7.336644649505615,
          -3.7909791469573975,
          -3.557774066925049,
          -1.4979376792907715,
          2.6972827911376953,
          2.554079055786133,
          -1.278411865234375,
          0.26709890365600586,
          -4.047079086303711,
          -2.6148078441619873,
          -1.7669093608856201,
          -0.9900761246681213,
          0.5818515419960022,
          -1.4727668762207031,
          -3.5528392791748047,
          -0.7652395963668823,
          -0.1558178812265396,
          2.6830544471740723,
          -0.9590266346931458,
          -1.6420625448226929,
          -1.6586683988571167,
          -3.2418134212493896,
          -0.598227858543396,
          2.4059975147247314,
          3.26387095451355,
          -0.7475860118865967,
          -4.97875452041626,
          -0.06508305668830872,
          7.3681321144104
         ]
        }
       ],
       "layout": {
        "coloraxis": {
         "colorbar": {
          "title": {
           "text": "color"
          }
         },
         "colorscale": [
          [
           0,
           "#0d0887"
          ],
          [
           0.1111111111111111,
           "#46039f"
          ],
          [
           0.2222222222222222,
           "#7201a8"
          ],
          [
           0.3333333333333333,
           "#9c179e"
          ],
          [
           0.4444444444444444,
           "#bd3786"
          ],
          [
           0.5555555555555556,
           "#d8576b"
          ],
          [
           0.6666666666666666,
           "#ed7953"
          ],
          [
           0.7777777777777778,
           "#fb9f3a"
          ],
          [
           0.8888888888888888,
           "#fdca26"
          ],
          [
           1,
           "#f0f921"
          ]
         ]
        },
        "legend": {
         "tracegroupgap": 0
        },
        "scene": {
         "domain": {
          "x": [
           0,
           1
          ],
          "y": [
           0,
           1
          ]
         },
         "xaxis": {
          "title": {
           "text": "0"
          }
         },
         "yaxis": {
          "title": {
           "text": "1"
          }
         },
         "zaxis": {
          "title": {
           "text": "2"
          }
         }
        },
        "template": {
         "data": {
          "bar": [
           {
            "error_x": {
             "color": "#2a3f5f"
            },
            "error_y": {
             "color": "#2a3f5f"
            },
            "marker": {
             "line": {
              "color": "#E5ECF6",
              "width": 0.5
             },
             "pattern": {
              "fillmode": "overlay",
              "size": 10,
              "solidity": 0.2
             }
            },
            "type": "bar"
           }
          ],
          "barpolar": [
           {
            "marker": {
             "line": {
              "color": "#E5ECF6",
              "width": 0.5
             },
             "pattern": {
              "fillmode": "overlay",
              "size": 10,
              "solidity": 0.2
             }
            },
            "type": "barpolar"
           }
          ],
          "carpet": [
           {
            "aaxis": {
             "endlinecolor": "#2a3f5f",
             "gridcolor": "white",
             "linecolor": "white",
             "minorgridcolor": "white",
             "startlinecolor": "#2a3f5f"
            },
            "baxis": {
             "endlinecolor": "#2a3f5f",
             "gridcolor": "white",
             "linecolor": "white",
             "minorgridcolor": "white",
             "startlinecolor": "#2a3f5f"
            },
            "type": "carpet"
           }
          ],
          "choropleth": [
           {
            "colorbar": {
             "outlinewidth": 0,
             "ticks": ""
            },
            "type": "choropleth"
           }
          ],
          "contour": [
           {
            "colorbar": {
             "outlinewidth": 0,
             "ticks": ""
            },
            "colorscale": [
             [
              0,
              "#0d0887"
             ],
             [
              0.1111111111111111,
              "#46039f"
             ],
             [
              0.2222222222222222,
              "#7201a8"
             ],
             [
              0.3333333333333333,
              "#9c179e"
             ],
             [
              0.4444444444444444,
              "#bd3786"
             ],
             [
              0.5555555555555556,
              "#d8576b"
             ],
             [
              0.6666666666666666,
              "#ed7953"
             ],
             [
              0.7777777777777778,
              "#fb9f3a"
             ],
             [
              0.8888888888888888,
              "#fdca26"
             ],
             [
              1,
              "#f0f921"
             ]
            ],
            "type": "contour"
           }
          ],
          "contourcarpet": [
           {
            "colorbar": {
             "outlinewidth": 0,
             "ticks": ""
            },
            "type": "contourcarpet"
           }
          ],
          "heatmap": [
           {
            "colorbar": {
             "outlinewidth": 0,
             "ticks": ""
            },
            "colorscale": [
             [
              0,
              "#0d0887"
             ],
             [
              0.1111111111111111,
              "#46039f"
             ],
             [
              0.2222222222222222,
              "#7201a8"
             ],
             [
              0.3333333333333333,
              "#9c179e"
             ],
             [
              0.4444444444444444,
              "#bd3786"
             ],
             [
              0.5555555555555556,
              "#d8576b"
             ],
             [
              0.6666666666666666,
              "#ed7953"
             ],
             [
              0.7777777777777778,
              "#fb9f3a"
             ],
             [
              0.8888888888888888,
              "#fdca26"
             ],
             [
              1,
              "#f0f921"
             ]
            ],
            "type": "heatmap"
           }
          ],
          "heatmapgl": [
           {
            "colorbar": {
             "outlinewidth": 0,
             "ticks": ""
            },
            "colorscale": [
             [
              0,
              "#0d0887"
             ],
             [
              0.1111111111111111,
              "#46039f"
             ],
             [
              0.2222222222222222,
              "#7201a8"
             ],
             [
              0.3333333333333333,
              "#9c179e"
             ],
             [
              0.4444444444444444,
              "#bd3786"
             ],
             [
              0.5555555555555556,
              "#d8576b"
             ],
             [
              0.6666666666666666,
              "#ed7953"
             ],
             [
              0.7777777777777778,
              "#fb9f3a"
             ],
             [
              0.8888888888888888,
              "#fdca26"
             ],
             [
              1,
              "#f0f921"
             ]
            ],
            "type": "heatmapgl"
           }
          ],
          "histogram": [
           {
            "marker": {
             "pattern": {
              "fillmode": "overlay",
              "size": 10,
              "solidity": 0.2
             }
            },
            "type": "histogram"
           }
          ],
          "histogram2d": [
           {
            "colorbar": {
             "outlinewidth": 0,
             "ticks": ""
            },
            "colorscale": [
             [
              0,
              "#0d0887"
             ],
             [
              0.1111111111111111,
              "#46039f"
             ],
             [
              0.2222222222222222,
              "#7201a8"
             ],
             [
              0.3333333333333333,
              "#9c179e"
             ],
             [
              0.4444444444444444,
              "#bd3786"
             ],
             [
              0.5555555555555556,
              "#d8576b"
             ],
             [
              0.6666666666666666,
              "#ed7953"
             ],
             [
              0.7777777777777778,
              "#fb9f3a"
             ],
             [
              0.8888888888888888,
              "#fdca26"
             ],
             [
              1,
              "#f0f921"
             ]
            ],
            "type": "histogram2d"
           }
          ],
          "histogram2dcontour": [
           {
            "colorbar": {
             "outlinewidth": 0,
             "ticks": ""
            },
            "colorscale": [
             [
              0,
              "#0d0887"
             ],
             [
              0.1111111111111111,
              "#46039f"
             ],
             [
              0.2222222222222222,
              "#7201a8"
             ],
             [
              0.3333333333333333,
              "#9c179e"
             ],
             [
              0.4444444444444444,
              "#bd3786"
             ],
             [
              0.5555555555555556,
              "#d8576b"
             ],
             [
              0.6666666666666666,
              "#ed7953"
             ],
             [
              0.7777777777777778,
              "#fb9f3a"
             ],
             [
              0.8888888888888888,
              "#fdca26"
             ],
             [
              1,
              "#f0f921"
             ]
            ],
            "type": "histogram2dcontour"
           }
          ],
          "mesh3d": [
           {
            "colorbar": {
             "outlinewidth": 0,
             "ticks": ""
            },
            "type": "mesh3d"
           }
          ],
          "parcoords": [
           {
            "line": {
             "colorbar": {
              "outlinewidth": 0,
              "ticks": ""
             }
            },
            "type": "parcoords"
           }
          ],
          "pie": [
           {
            "automargin": true,
            "type": "pie"
           }
          ],
          "scatter": [
           {
            "marker": {
             "colorbar": {
              "outlinewidth": 0,
              "ticks": ""
             }
            },
            "type": "scatter"
           }
          ],
          "scatter3d": [
           {
            "line": {
             "colorbar": {
              "outlinewidth": 0,
              "ticks": ""
             }
            },
            "marker": {
             "colorbar": {
              "outlinewidth": 0,
              "ticks": ""
             }
            },
            "type": "scatter3d"
           }
          ],
          "scattercarpet": [
           {
            "marker": {
             "colorbar": {
              "outlinewidth": 0,
              "ticks": ""
             }
            },
            "type": "scattercarpet"
           }
          ],
          "scattergeo": [
           {
            "marker": {
             "colorbar": {
              "outlinewidth": 0,
              "ticks": ""
             }
            },
            "type": "scattergeo"
           }
          ],
          "scattergl": [
           {
            "marker": {
             "colorbar": {
              "outlinewidth": 0,
              "ticks": ""
             }
            },
            "type": "scattergl"
           }
          ],
          "scattermapbox": [
           {
            "marker": {
             "colorbar": {
              "outlinewidth": 0,
              "ticks": ""
             }
            },
            "type": "scattermapbox"
           }
          ],
          "scatterpolar": [
           {
            "marker": {
             "colorbar": {
              "outlinewidth": 0,
              "ticks": ""
             }
            },
            "type": "scatterpolar"
           }
          ],
          "scatterpolargl": [
           {
            "marker": {
             "colorbar": {
              "outlinewidth": 0,
              "ticks": ""
             }
            },
            "type": "scatterpolargl"
           }
          ],
          "scatterternary": [
           {
            "marker": {
             "colorbar": {
              "outlinewidth": 0,
              "ticks": ""
             }
            },
            "type": "scatterternary"
           }
          ],
          "surface": [
           {
            "colorbar": {
             "outlinewidth": 0,
             "ticks": ""
            },
            "colorscale": [
             [
              0,
              "#0d0887"
             ],
             [
              0.1111111111111111,
              "#46039f"
             ],
             [
              0.2222222222222222,
              "#7201a8"
             ],
             [
              0.3333333333333333,
              "#9c179e"
             ],
             [
              0.4444444444444444,
              "#bd3786"
             ],
             [
              0.5555555555555556,
              "#d8576b"
             ],
             [
              0.6666666666666666,
              "#ed7953"
             ],
             [
              0.7777777777777778,
              "#fb9f3a"
             ],
             [
              0.8888888888888888,
              "#fdca26"
             ],
             [
              1,
              "#f0f921"
             ]
            ],
            "type": "surface"
           }
          ],
          "table": [
           {
            "cells": {
             "fill": {
              "color": "#EBF0F8"
             },
             "line": {
              "color": "white"
             }
            },
            "header": {
             "fill": {
              "color": "#C8D4E3"
             },
             "line": {
              "color": "white"
             }
            },
            "type": "table"
           }
          ]
         },
         "layout": {
          "annotationdefaults": {
           "arrowcolor": "#2a3f5f",
           "arrowhead": 0,
           "arrowwidth": 1
          },
          "autotypenumbers": "strict",
          "coloraxis": {
           "colorbar": {
            "outlinewidth": 0,
            "ticks": ""
           }
          },
          "colorscale": {
           "diverging": [
            [
             0,
             "#8e0152"
            ],
            [
             0.1,
             "#c51b7d"
            ],
            [
             0.2,
             "#de77ae"
            ],
            [
             0.3,
             "#f1b6da"
            ],
            [
             0.4,
             "#fde0ef"
            ],
            [
             0.5,
             "#f7f7f7"
            ],
            [
             0.6,
             "#e6f5d0"
            ],
            [
             0.7,
             "#b8e186"
            ],
            [
             0.8,
             "#7fbc41"
            ],
            [
             0.9,
             "#4d9221"
            ],
            [
             1,
             "#276419"
            ]
           ],
           "sequential": [
            [
             0,
             "#0d0887"
            ],
            [
             0.1111111111111111,
             "#46039f"
            ],
            [
             0.2222222222222222,
             "#7201a8"
            ],
            [
             0.3333333333333333,
             "#9c179e"
            ],
            [
             0.4444444444444444,
             "#bd3786"
            ],
            [
             0.5555555555555556,
             "#d8576b"
            ],
            [
             0.6666666666666666,
             "#ed7953"
            ],
            [
             0.7777777777777778,
             "#fb9f3a"
            ],
            [
             0.8888888888888888,
             "#fdca26"
            ],
            [
             1,
             "#f0f921"
            ]
           ],
           "sequentialminus": [
            [
             0,
             "#0d0887"
            ],
            [
             0.1111111111111111,
             "#46039f"
            ],
            [
             0.2222222222222222,
             "#7201a8"
            ],
            [
             0.3333333333333333,
             "#9c179e"
            ],
            [
             0.4444444444444444,
             "#bd3786"
            ],
            [
             0.5555555555555556,
             "#d8576b"
            ],
            [
             0.6666666666666666,
             "#ed7953"
            ],
            [
             0.7777777777777778,
             "#fb9f3a"
            ],
            [
             0.8888888888888888,
             "#fdca26"
            ],
            [
             1,
             "#f0f921"
            ]
           ]
          },
          "colorway": [
           "#636efa",
           "#EF553B",
           "#00cc96",
           "#ab63fa",
           "#FFA15A",
           "#19d3f3",
           "#FF6692",
           "#B6E880",
           "#FF97FF",
           "#FECB52"
          ],
          "font": {
           "color": "#2a3f5f"
          },
          "geo": {
           "bgcolor": "white",
           "lakecolor": "white",
           "landcolor": "#E5ECF6",
           "showlakes": true,
           "showland": true,
           "subunitcolor": "white"
          },
          "hoverlabel": {
           "align": "left"
          },
          "hovermode": "closest",
          "mapbox": {
           "style": "light"
          },
          "paper_bgcolor": "white",
          "plot_bgcolor": "#E5ECF6",
          "polar": {
           "angularaxis": {
            "gridcolor": "white",
            "linecolor": "white",
            "ticks": ""
           },
           "bgcolor": "#E5ECF6",
           "radialaxis": {
            "gridcolor": "white",
            "linecolor": "white",
            "ticks": ""
           }
          },
          "scene": {
           "xaxis": {
            "backgroundcolor": "#E5ECF6",
            "gridcolor": "white",
            "gridwidth": 2,
            "linecolor": "white",
            "showbackground": true,
            "ticks": "",
            "zerolinecolor": "white"
           },
           "yaxis": {
            "backgroundcolor": "#E5ECF6",
            "gridcolor": "white",
            "gridwidth": 2,
            "linecolor": "white",
            "showbackground": true,
            "ticks": "",
            "zerolinecolor": "white"
           },
           "zaxis": {
            "backgroundcolor": "#E5ECF6",
            "gridcolor": "white",
            "gridwidth": 2,
            "linecolor": "white",
            "showbackground": true,
            "ticks": "",
            "zerolinecolor": "white"
           }
          },
          "shapedefaults": {
           "line": {
            "color": "#2a3f5f"
           }
          },
          "ternary": {
           "aaxis": {
            "gridcolor": "white",
            "linecolor": "white",
            "ticks": ""
           },
           "baxis": {
            "gridcolor": "white",
            "linecolor": "white",
            "ticks": ""
           },
           "bgcolor": "#E5ECF6",
           "caxis": {
            "gridcolor": "white",
            "linecolor": "white",
            "ticks": ""
           }
          },
          "title": {
           "x": 0.05
          },
          "xaxis": {
           "automargin": true,
           "gridcolor": "white",
           "linecolor": "white",
           "ticks": "",
           "title": {
            "standoff": 15
           },
           "zerolinecolor": "white",
           "zerolinewidth": 2
          },
          "yaxis": {
           "automargin": true,
           "gridcolor": "white",
           "linecolor": "white",
           "ticks": "",
           "title": {
            "standoff": 15
           },
           "zerolinecolor": "white",
           "zerolinewidth": 2
          }
         }
        },
        "title": {
         "text": "бор, 0.7186424003935071"
        }
       }
      },
      "text/html": [
       "<div>                            <div id=\"e78a0989-c740-4c59-b17c-562f2c6fef76\" class=\"plotly-graph-div\" style=\"height:525px; width:100%;\"></div>            <script type=\"text/javascript\">                require([\"plotly\"], function(Plotly) {                    window.PLOTLYENV=window.PLOTLYENV || {};                                    if (document.getElementById(\"e78a0989-c740-4c59-b17c-562f2c6fef76\")) {                    Plotly.newPlot(                        \"e78a0989-c740-4c59-b17c-562f2c6fef76\",                        [{\"hovertemplate\":\"0=%{x}<br>1=%{y}<br>2=%{z}<br>color=%{marker.color}<extra></extra>\",\"legendgroup\":\"\",\"marker\":{\"color\":[1,1,1,1,1,1,1,1,1,1,1,1,1,1,2,2,2,2,2,2,2,2,2,2,2,2,2,2,2,2,2,2,2,2,2,2,2,2,2,2,2,2,2,2,2,2,2,2,2,2,2,2,2,2,2,2],\"coloraxis\":\"coloraxis\",\"symbol\":\"circle\"},\"mode\":\"markers\",\"name\":\"\",\"scene\":\"scene\",\"showlegend\":false,\"type\":\"scatter3d\",\"x\":[8.986119270324707,12.537346839904785,5.359005928039551,7.761591911315918,1.7539057731628418,5.711802959442139,9.8372802734375,7.335121154785156,11.257659912109375,9.67011833190918,10.79196834564209,5.789823532104492,4.108030796051025,9.358803749084473,9.799262046813965,-4.408860683441162,9.466225624084473,-4.951700210571289,-2.2659265995025635,-4.168772220611572,-5.492229461669922,-4.79054069519043,-4.067419528961182,-3.446909189224243,-2.4558017253875732,-1.2450981140136719,-2.6662683486938477,-4.418031215667725,-3.40686297416687,-2.5405702590942383,-2.4951162338256836,-3.705063581466675,-5.026195049285889,-4.167901039123535,-5.0528435707092285,-3.1629323959350586,-3.88581919670105,-4.360564231872559,-2.645603895187378,-2.8782150745391846,-4.0352935791015625,-1.3697118759155273,-5.032477378845215,-4.289090156555176,-3.759658098220825,-4.226916790008545,9.474889755249023,-4.244897365570068,-0.008975034579634666,-1.8985564708709717,-3.8027825355529785,-2.777693510055542,-5.1417975425720215,-2.792811870574951,-3.499720335006714,-4.413321018218994],\"y\":[4.287863731384277,5.251715660095215,-5.095507621765137,-5.165338039398193,-2.625537872314453,-3.758195400238037,-6.306031703948975,-5.792317867279053,0.500561535358429,-6.260350704193115,-5.574425220489502,-5.620675086975098,-3.0895583629608154,-4.189697742462158,11.404004096984863,1.6658225059509277,12.326578140258789,0.33761081099510193,-1.6051703691482544,-0.027098342776298523,0.20376013219356537,1.3236753940582275,-0.1628240942955017,0.3313691318035126,-1.2614872455596924,-0.988134503364563,-0.18337732553482056,1.6436421871185303,-0.08922763168811798,-1.9491488933563232,1.1192747354507446,2.1954681873321533,0.33953407406806946,-0.6866459846496582,-0.03010714054107666,-0.4958663880825043,0.19001910090446472,1.1315611600875854,0.5431214570999146,1.0624055862426758,-0.9525144696235657,-1.6047884225845337,-0.7689327597618103,-0.013437342830002308,2.2386462688446045,-0.5860203504562378,11.36250114440918,0.9698625206947327,0.18391068279743195,1.5302842855453491,2.227647542953491,1.345603346824646,-0.5369942784309387,-2.0159804821014404,0.04410110041499138,1.6748521327972412],\"z\":[0.5426601767539978,0.7060990929603577,1.1042656898498535,1.3041126728057861,3.155682325363159,-0.09186120331287384,0.7598239183425903,0.9541434645652771,0.11382239311933517,0.4281020164489746,0.7497990131378174,1.6912511587142944,0.36562395095825195,1.2379764318466187,-1.6924140453338623,7.420238971710205,-1.3951212167739868,3.123913526535034,-3.84104585647583,-2.9043362140655518,0.8776777982711792,5.0574140548706055,-1.3359341621398926,-0.5263852477073669,-4.822961807250977,-0.7765910625457764,-1.9821158647537231,7.336644649505615,-3.7909791469573975,-3.557774066925049,-1.4979376792907715,2.6972827911376953,2.554079055786133,-1.278411865234375,0.26709890365600586,-4.047079086303711,-2.6148078441619873,-1.7669093608856201,-0.9900761246681213,0.5818515419960022,-1.4727668762207031,-3.5528392791748047,-0.7652395963668823,-0.1558178812265396,2.6830544471740723,-0.9590266346931458,-1.6420625448226929,-1.6586683988571167,-3.2418134212493896,-0.598227858543396,2.4059975147247314,3.26387095451355,-0.7475860118865967,-4.97875452041626,-0.06508305668830872,7.3681321144104]}],                        {\"coloraxis\":{\"colorbar\":{\"title\":{\"text\":\"color\"}},\"colorscale\":[[0.0,\"#0d0887\"],[0.1111111111111111,\"#46039f\"],[0.2222222222222222,\"#7201a8\"],[0.3333333333333333,\"#9c179e\"],[0.4444444444444444,\"#bd3786\"],[0.5555555555555556,\"#d8576b\"],[0.6666666666666666,\"#ed7953\"],[0.7777777777777778,\"#fb9f3a\"],[0.8888888888888888,\"#fdca26\"],[1.0,\"#f0f921\"]]},\"legend\":{\"tracegroupgap\":0},\"scene\":{\"domain\":{\"x\":[0.0,1.0],\"y\":[0.0,1.0]},\"xaxis\":{\"title\":{\"text\":\"0\"}},\"yaxis\":{\"title\":{\"text\":\"1\"}},\"zaxis\":{\"title\":{\"text\":\"2\"}}},\"template\":{\"data\":{\"bar\":[{\"error_x\":{\"color\":\"#2a3f5f\"},\"error_y\":{\"color\":\"#2a3f5f\"},\"marker\":{\"line\":{\"color\":\"#E5ECF6\",\"width\":0.5},\"pattern\":{\"fillmode\":\"overlay\",\"size\":10,\"solidity\":0.2}},\"type\":\"bar\"}],\"barpolar\":[{\"marker\":{\"line\":{\"color\":\"#E5ECF6\",\"width\":0.5},\"pattern\":{\"fillmode\":\"overlay\",\"size\":10,\"solidity\":0.2}},\"type\":\"barpolar\"}],\"carpet\":[{\"aaxis\":{\"endlinecolor\":\"#2a3f5f\",\"gridcolor\":\"white\",\"linecolor\":\"white\",\"minorgridcolor\":\"white\",\"startlinecolor\":\"#2a3f5f\"},\"baxis\":{\"endlinecolor\":\"#2a3f5f\",\"gridcolor\":\"white\",\"linecolor\":\"white\",\"minorgridcolor\":\"white\",\"startlinecolor\":\"#2a3f5f\"},\"type\":\"carpet\"}],\"choropleth\":[{\"colorbar\":{\"outlinewidth\":0,\"ticks\":\"\"},\"type\":\"choropleth\"}],\"contour\":[{\"colorbar\":{\"outlinewidth\":0,\"ticks\":\"\"},\"colorscale\":[[0.0,\"#0d0887\"],[0.1111111111111111,\"#46039f\"],[0.2222222222222222,\"#7201a8\"],[0.3333333333333333,\"#9c179e\"],[0.4444444444444444,\"#bd3786\"],[0.5555555555555556,\"#d8576b\"],[0.6666666666666666,\"#ed7953\"],[0.7777777777777778,\"#fb9f3a\"],[0.8888888888888888,\"#fdca26\"],[1.0,\"#f0f921\"]],\"type\":\"contour\"}],\"contourcarpet\":[{\"colorbar\":{\"outlinewidth\":0,\"ticks\":\"\"},\"type\":\"contourcarpet\"}],\"heatmap\":[{\"colorbar\":{\"outlinewidth\":0,\"ticks\":\"\"},\"colorscale\":[[0.0,\"#0d0887\"],[0.1111111111111111,\"#46039f\"],[0.2222222222222222,\"#7201a8\"],[0.3333333333333333,\"#9c179e\"],[0.4444444444444444,\"#bd3786\"],[0.5555555555555556,\"#d8576b\"],[0.6666666666666666,\"#ed7953\"],[0.7777777777777778,\"#fb9f3a\"],[0.8888888888888888,\"#fdca26\"],[1.0,\"#f0f921\"]],\"type\":\"heatmap\"}],\"heatmapgl\":[{\"colorbar\":{\"outlinewidth\":0,\"ticks\":\"\"},\"colorscale\":[[0.0,\"#0d0887\"],[0.1111111111111111,\"#46039f\"],[0.2222222222222222,\"#7201a8\"],[0.3333333333333333,\"#9c179e\"],[0.4444444444444444,\"#bd3786\"],[0.5555555555555556,\"#d8576b\"],[0.6666666666666666,\"#ed7953\"],[0.7777777777777778,\"#fb9f3a\"],[0.8888888888888888,\"#fdca26\"],[1.0,\"#f0f921\"]],\"type\":\"heatmapgl\"}],\"histogram\":[{\"marker\":{\"pattern\":{\"fillmode\":\"overlay\",\"size\":10,\"solidity\":0.2}},\"type\":\"histogram\"}],\"histogram2d\":[{\"colorbar\":{\"outlinewidth\":0,\"ticks\":\"\"},\"colorscale\":[[0.0,\"#0d0887\"],[0.1111111111111111,\"#46039f\"],[0.2222222222222222,\"#7201a8\"],[0.3333333333333333,\"#9c179e\"],[0.4444444444444444,\"#bd3786\"],[0.5555555555555556,\"#d8576b\"],[0.6666666666666666,\"#ed7953\"],[0.7777777777777778,\"#fb9f3a\"],[0.8888888888888888,\"#fdca26\"],[1.0,\"#f0f921\"]],\"type\":\"histogram2d\"}],\"histogram2dcontour\":[{\"colorbar\":{\"outlinewidth\":0,\"ticks\":\"\"},\"colorscale\":[[0.0,\"#0d0887\"],[0.1111111111111111,\"#46039f\"],[0.2222222222222222,\"#7201a8\"],[0.3333333333333333,\"#9c179e\"],[0.4444444444444444,\"#bd3786\"],[0.5555555555555556,\"#d8576b\"],[0.6666666666666666,\"#ed7953\"],[0.7777777777777778,\"#fb9f3a\"],[0.8888888888888888,\"#fdca26\"],[1.0,\"#f0f921\"]],\"type\":\"histogram2dcontour\"}],\"mesh3d\":[{\"colorbar\":{\"outlinewidth\":0,\"ticks\":\"\"},\"type\":\"mesh3d\"}],\"parcoords\":[{\"line\":{\"colorbar\":{\"outlinewidth\":0,\"ticks\":\"\"}},\"type\":\"parcoords\"}],\"pie\":[{\"automargin\":true,\"type\":\"pie\"}],\"scatter\":[{\"marker\":{\"colorbar\":{\"outlinewidth\":0,\"ticks\":\"\"}},\"type\":\"scatter\"}],\"scatter3d\":[{\"line\":{\"colorbar\":{\"outlinewidth\":0,\"ticks\":\"\"}},\"marker\":{\"colorbar\":{\"outlinewidth\":0,\"ticks\":\"\"}},\"type\":\"scatter3d\"}],\"scattercarpet\":[{\"marker\":{\"colorbar\":{\"outlinewidth\":0,\"ticks\":\"\"}},\"type\":\"scattercarpet\"}],\"scattergeo\":[{\"marker\":{\"colorbar\":{\"outlinewidth\":0,\"ticks\":\"\"}},\"type\":\"scattergeo\"}],\"scattergl\":[{\"marker\":{\"colorbar\":{\"outlinewidth\":0,\"ticks\":\"\"}},\"type\":\"scattergl\"}],\"scattermapbox\":[{\"marker\":{\"colorbar\":{\"outlinewidth\":0,\"ticks\":\"\"}},\"type\":\"scattermapbox\"}],\"scatterpolar\":[{\"marker\":{\"colorbar\":{\"outlinewidth\":0,\"ticks\":\"\"}},\"type\":\"scatterpolar\"}],\"scatterpolargl\":[{\"marker\":{\"colorbar\":{\"outlinewidth\":0,\"ticks\":\"\"}},\"type\":\"scatterpolargl\"}],\"scatterternary\":[{\"marker\":{\"colorbar\":{\"outlinewidth\":0,\"ticks\":\"\"}},\"type\":\"scatterternary\"}],\"surface\":[{\"colorbar\":{\"outlinewidth\":0,\"ticks\":\"\"},\"colorscale\":[[0.0,\"#0d0887\"],[0.1111111111111111,\"#46039f\"],[0.2222222222222222,\"#7201a8\"],[0.3333333333333333,\"#9c179e\"],[0.4444444444444444,\"#bd3786\"],[0.5555555555555556,\"#d8576b\"],[0.6666666666666666,\"#ed7953\"],[0.7777777777777778,\"#fb9f3a\"],[0.8888888888888888,\"#fdca26\"],[1.0,\"#f0f921\"]],\"type\":\"surface\"}],\"table\":[{\"cells\":{\"fill\":{\"color\":\"#EBF0F8\"},\"line\":{\"color\":\"white\"}},\"header\":{\"fill\":{\"color\":\"#C8D4E3\"},\"line\":{\"color\":\"white\"}},\"type\":\"table\"}]},\"layout\":{\"annotationdefaults\":{\"arrowcolor\":\"#2a3f5f\",\"arrowhead\":0,\"arrowwidth\":1},\"autotypenumbers\":\"strict\",\"coloraxis\":{\"colorbar\":{\"outlinewidth\":0,\"ticks\":\"\"}},\"colorscale\":{\"diverging\":[[0,\"#8e0152\"],[0.1,\"#c51b7d\"],[0.2,\"#de77ae\"],[0.3,\"#f1b6da\"],[0.4,\"#fde0ef\"],[0.5,\"#f7f7f7\"],[0.6,\"#e6f5d0\"],[0.7,\"#b8e186\"],[0.8,\"#7fbc41\"],[0.9,\"#4d9221\"],[1,\"#276419\"]],\"sequential\":[[0.0,\"#0d0887\"],[0.1111111111111111,\"#46039f\"],[0.2222222222222222,\"#7201a8\"],[0.3333333333333333,\"#9c179e\"],[0.4444444444444444,\"#bd3786\"],[0.5555555555555556,\"#d8576b\"],[0.6666666666666666,\"#ed7953\"],[0.7777777777777778,\"#fb9f3a\"],[0.8888888888888888,\"#fdca26\"],[1.0,\"#f0f921\"]],\"sequentialminus\":[[0.0,\"#0d0887\"],[0.1111111111111111,\"#46039f\"],[0.2222222222222222,\"#7201a8\"],[0.3333333333333333,\"#9c179e\"],[0.4444444444444444,\"#bd3786\"],[0.5555555555555556,\"#d8576b\"],[0.6666666666666666,\"#ed7953\"],[0.7777777777777778,\"#fb9f3a\"],[0.8888888888888888,\"#fdca26\"],[1.0,\"#f0f921\"]]},\"colorway\":[\"#636efa\",\"#EF553B\",\"#00cc96\",\"#ab63fa\",\"#FFA15A\",\"#19d3f3\",\"#FF6692\",\"#B6E880\",\"#FF97FF\",\"#FECB52\"],\"font\":{\"color\":\"#2a3f5f\"},\"geo\":{\"bgcolor\":\"white\",\"lakecolor\":\"white\",\"landcolor\":\"#E5ECF6\",\"showlakes\":true,\"showland\":true,\"subunitcolor\":\"white\"},\"hoverlabel\":{\"align\":\"left\"},\"hovermode\":\"closest\",\"mapbox\":{\"style\":\"light\"},\"paper_bgcolor\":\"white\",\"plot_bgcolor\":\"#E5ECF6\",\"polar\":{\"angularaxis\":{\"gridcolor\":\"white\",\"linecolor\":\"white\",\"ticks\":\"\"},\"bgcolor\":\"#E5ECF6\",\"radialaxis\":{\"gridcolor\":\"white\",\"linecolor\":\"white\",\"ticks\":\"\"}},\"scene\":{\"xaxis\":{\"backgroundcolor\":\"#E5ECF6\",\"gridcolor\":\"white\",\"gridwidth\":2,\"linecolor\":\"white\",\"showbackground\":true,\"ticks\":\"\",\"zerolinecolor\":\"white\"},\"yaxis\":{\"backgroundcolor\":\"#E5ECF6\",\"gridcolor\":\"white\",\"gridwidth\":2,\"linecolor\":\"white\",\"showbackground\":true,\"ticks\":\"\",\"zerolinecolor\":\"white\"},\"zaxis\":{\"backgroundcolor\":\"#E5ECF6\",\"gridcolor\":\"white\",\"gridwidth\":2,\"linecolor\":\"white\",\"showbackground\":true,\"ticks\":\"\",\"zerolinecolor\":\"white\"}},\"shapedefaults\":{\"line\":{\"color\":\"#2a3f5f\"}},\"ternary\":{\"aaxis\":{\"gridcolor\":\"white\",\"linecolor\":\"white\",\"ticks\":\"\"},\"baxis\":{\"gridcolor\":\"white\",\"linecolor\":\"white\",\"ticks\":\"\"},\"bgcolor\":\"#E5ECF6\",\"caxis\":{\"gridcolor\":\"white\",\"linecolor\":\"white\",\"ticks\":\"\"}},\"title\":{\"x\":0.05},\"xaxis\":{\"automargin\":true,\"gridcolor\":\"white\",\"linecolor\":\"white\",\"ticks\":\"\",\"title\":{\"standoff\":15},\"zerolinecolor\":\"white\",\"zerolinewidth\":2},\"yaxis\":{\"automargin\":true,\"gridcolor\":\"white\",\"linecolor\":\"white\",\"ticks\":\"\",\"title\":{\"standoff\":15},\"zerolinecolor\":\"white\",\"zerolinewidth\":2}}},\"title\":{\"text\":\"\\u0431\\u043e\\u0440, 0.7186424003935071\"}},                        {\"responsive\": true}                    ).then(function(){\n",
       "                            \n",
       "var gd = document.getElementById('e78a0989-c740-4c59-b17c-562f2c6fef76');\n",
       "var x = new MutationObserver(function (mutations, observer) {{\n",
       "        var display = window.getComputedStyle(gd).display;\n",
       "        if (!display || display === 'none') {{\n",
       "            console.log([gd, 'removed!']);\n",
       "            Plotly.purge(gd);\n",
       "            observer.disconnect();\n",
       "        }}\n",
       "}});\n",
       "\n",
       "// Listen for the removal of the full notebook cells\n",
       "var notebookContainer = gd.closest('#notebook-container');\n",
       "if (notebookContainer) {{\n",
       "    x.observe(notebookContainer, {childList: true});\n",
       "}}\n",
       "\n",
       "// Listen for the clearing of the current output cell\n",
       "var outputEl = gd.closest('.output');\n",
       "if (outputEl) {{\n",
       "    x.observe(outputEl, {childList: true});\n",
       "}}\n",
       "\n",
       "                        })                };                });            </script>        </div>"
      ]
     },
     "metadata": {},
     "output_type": "display_data"
    },
    {
     "data": {
      "application/vnd.plotly.v1+json": {
       "config": {
        "plotlyServerURL": "https://plot.ly"
       },
       "data": [
        {
         "hovertemplate": "0=%{x}<br>1=%{y}<br>2=%{z}<br>color=%{marker.color}<extra></extra>",
         "legendgroup": "",
         "marker": {
          "color": [
           1,
           1,
           1,
           1,
           1,
           1,
           1,
           1,
           1,
           1,
           1,
           1,
           1,
           1,
           1,
           1,
           1,
           1,
           1,
           1,
           1,
           1,
           1,
           1,
           1,
           1,
           1,
           1,
           1,
           1,
           1,
           1,
           1,
           1,
           1,
           1,
           1,
           1,
           1,
           1,
           1,
           1,
           1,
           1,
           1,
           1,
           1,
           1,
           1,
           1,
           1,
           1,
           1,
           1,
           1,
           1,
           1,
           1,
           1,
           1,
           1,
           1,
           1,
           1,
           1,
           1,
           1,
           1,
           1,
           1,
           1,
           1,
           1,
           1,
           1,
           1,
           1,
           1,
           1,
           1,
           1,
           1,
           1,
           1,
           1,
           1,
           1,
           1,
           1,
           1,
           1,
           1,
           1,
           1,
           1,
           1,
           1,
           1,
           1,
           1,
           2,
           2,
           2,
           2,
           2,
           2,
           2,
           2,
           2,
           2,
           2,
           2,
           2,
           2,
           2,
           2,
           2,
           2,
           2,
           2,
           2,
           2,
           2,
           2,
           2,
           2,
           2,
           2,
           2,
           2,
           2,
           2,
           2,
           2,
           2
          ],
          "coloraxis": "coloraxis",
          "symbol": "circle"
         },
         "mode": "markers",
         "name": "",
         "scene": "scene",
         "showlegend": false,
         "type": "scatter3d",
         "x": [
          0.5390103459358215,
          3.380051374435425,
          -6.18899393081665,
          1.224872350692749,
          -4.475046157836914,
          1.181881308555603,
          -3.512002944946289,
          -3.1385226249694824,
          3.6831655502319336,
          2.563213348388672,
          -6.993963241577148,
          -3.1421358585357666,
          -6.955125331878662,
          2.1926469802856445,
          -0.9950729608535767,
          1.8827784061431885,
          1.4141241312026978,
          2.258610248565674,
          -6.85944128036499,
          -0.7221411466598511,
          -6.2406792640686035,
          -6.767616271972656,
          1.2057580947875977,
          -6.67609167098999,
          -4.918622970581055,
          0.9682047367095947,
          -5.202404499053955,
          -2.263970136642456,
          0.7634612917900085,
          2.457113742828369,
          -4.358321189880371,
          1.569665551185608,
          -6.019341468811035,
          1.0688488483428955,
          -5.516203880310059,
          0.7382444739341736,
          -2.2188165187835693,
          -3.3264238834381104,
          -6.303637981414795,
          -6.206084728240967,
          -5.250429630279541,
          -4.868002414703369,
          -5.043307781219482,
          1.1502186059951782,
          -5.381997585296631,
          -5.723752975463867,
          -6.318690299987793,
          3.0175652503967285,
          -6.654376983642578,
          -2.7580645084381104,
          -5.015388488769531,
          -5.096897602081299,
          1.0317779779434204,
          1.383997917175293,
          -4.138240814208984,
          -1.1134477853775024,
          -5.276176929473877,
          2.3570687770843506,
          -4.845998287200928,
          -2.1242480278015137,
          1.1187465190887451,
          -6.2157182693481445,
          -4.673060417175293,
          -4.502530097961426,
          -6.447967052459717,
          3.1635935306549072,
          2.3202271461486816,
          1.7335460186004639,
          -6.432466983795166,
          -3.501193046569824,
          2.828416109085083,
          -4.605048179626465,
          -4.404535293579102,
          0.5331253409385681,
          -0.5450748205184937,
          -3.1783998012542725,
          -1.0393608808517456,
          -0.3176782727241516,
          0.7317917346954346,
          1.704922080039978,
          -2.9305741786956787,
          0.9361592531204224,
          -3.431037664413452,
          -3.4473257064819336,
          -6.2705230712890625,
          -5.574443817138672,
          -4.9127302169799805,
          -6.6832451820373535,
          -4.657308101654053,
          2.2015879154205322,
          -6.1505045890808105,
          -2.469839572906494,
          -2.1674952507019043,
          -2.138324022293091,
          0.830516517162323,
          -0.8435057401657104,
          -4.5837578773498535,
          -4.5166192054748535,
          -4.84769344329834,
          -2.9237048625946045,
          5.701596736907959,
          6.8035969734191895,
          6.848348140716553,
          8.966798782348633,
          4.694602012634277,
          8.42324447631836,
          5.0700764656066895,
          8.354009628295898,
          6.754622459411621,
          7.885682106018066,
          6.492317199707031,
          4.504904747009277,
          9.887252807617188,
          8.060304641723633,
          6.990602493286133,
          8.90683364868164,
          5.611874580383301,
          8.196722984313965,
          6.5831298828125,
          4.973671913146973,
          8.722704887390137,
          7.977834701538086,
          5.121156692504883,
          5.587893009185791,
          7.828281879425049,
          8.123794555664062,
          5.673694133758545,
          8.350631713867188,
          4.046990394592285,
          5.49500846862793,
          8.68206787109375,
          4.274655818939209,
          4.417511940002441,
          6.410261154174805,
          6.463752269744873
         ],
         "y": [
          5.1762166023254395,
          6.328643798828125,
          -3.540342092514038,
          5.654325485229492,
          -0.4744637906551361,
          1.2320326566696167,
          2.501755475997925,
          1.2825431823730469,
          5.9379119873046875,
          6.134289264678955,
          -3.4789304733276367,
          3.051470994949341,
          -3.988387107849121,
          3.8744332790374756,
          1.9995383024215698,
          1.6387622356414795,
          5.112741947174072,
          5.72529411315918,
          -1.6992751359939575,
          6.1120710372924805,
          -3.587714433670044,
          -4.4529709815979,
          2.950308322906494,
          -3.103588104248047,
          -0.2856632173061371,
          5.171329498291016,
          -2.9157490730285645,
          -0.46315622329711914,
          5.490146636962891,
          2.5703279972076416,
          -0.4846544563770294,
          5.890867233276367,
          -4.741449356079102,
          7.2827606201171875,
          -2.4217071533203125,
          5.055670261383057,
          4.5283942222595215,
          3.2544288635253906,
          -3.5592899322509766,
          -3.6464719772338867,
          -2.0571985244750977,
          -4.392352104187012,
          -0.8497609496116638,
          3.3753273487091064,
          -2.44535756111145,
          -4.2431840896606445,
          -3.2353062629699707,
          6.198212623596191,
          -4.349882125854492,
          4.092776775360107,
          -0.6060752868652344,
          -0.6268993616104126,
          3.0497310161590576,
          7.058791160583496,
          -0.12693190574645996,
          6.111081600189209,
          -2.382352352142334,
          5.383029460906982,
          -0.3639046549797058,
          3.869030237197876,
          3.451113700866699,
          -3.7219724655151367,
          1.02435302734375,
          -0.5435338020324707,
          -1.7300336360931396,
          5.410408973693848,
          5.597470760345459,
          5.2452216148376465,
          -3.9948129653930664,
          0.25260868668556213,
          3.0635571479797363,
          0.4462699294090271,
          -1.4193915128707886,
          5.667625904083252,
          4.786801338195801,
          2.6101126670837402,
          2.23988676071167,
          3.0648648738861084,
          -1.7180328369140625,
          1.7538747787475586,
          3.0231733322143555,
          5.330705642700195,
          0.3563076853752136,
          0.13441993296146393,
          -4.645749092102051,
          -1.3932554721832275,
          -3.409803628921509,
          -3.3879330158233643,
          -2.0303642749786377,
          4.356864929199219,
          -3.917426347732544,
          4.675164699554443,
          3.816922903060913,
          4.597836971282959,
          1.9146201610565186,
          3.266197443008423,
          -0.1417706161737442,
          -2.6793689727783203,
          -2.9948859214782715,
          1.9972732067108154,
          -4.4623026847839355,
          -3.550852060317993,
          -3.2551143169403076,
          -1.8139207363128662,
          -6.421100616455078,
          -2.9472177028656006,
          -5.348113059997559,
          -3.070383071899414,
          -4.816695690155029,
          -1.0780184268951416,
          -3.967695951461792,
          -5.5513916015625,
          -2.0031681060791016,
          -3.3546502590179443,
          -4.992763996124268,
          -3.075589656829834,
          -2.6174657344818115,
          -2.4208664894104004,
          -3.477509021759033,
          -6.7405476570129395,
          -2.202272891998291,
          -2.27571439743042,
          -5.429464340209961,
          -2.816840648651123,
          -0.8962588906288147,
          -1.0869417190551758,
          -4.521435737609863,
          -2.364659309387207,
          -5.005920886993408,
          -2.6002933979034424,
          -2.4747133255004883,
          -1.2720623016357422,
          -1.4175187349319458,
          -1.7122399806976318,
          -3.8848416805267334
         ],
         "z": [
          -2.425581455230713,
          -2.9610798358917236,
          -4.584315299987793,
          -2.0822579860687256,
          -3.360882043838501,
          5.201271057128906,
          -0.9468199610710144,
          3.2305407524108887,
          -5.633737087249756,
          -2.722093343734741,
          -1.9149482250213623,
          0.8677164912223816,
          -2.147653341293335,
          2.647845506668091,
          -2.2085278034210205,
          5.350623607635498,
          -2.7079124450683594,
          -4.6921186447143555,
          -0.06238895282149315,
          4.3987932205200195,
          -4.534735202789307,
          -1.868050217628479,
          3.0539662837982178,
          -0.5006149411201477,
          0.646068274974823,
          2.494285821914673,
          3.1080102920532227,
          -1.4974122047424316,
          -3.271328926086426,
          0.7133073806762695,
          -3.553995370864868,
          3.7666120529174805,
          -0.011492096818983555,
          -2.243455171585083,
          2.65218186378479,
          2.471250534057617,
          3.110313892364502,
          3.8538267612457275,
          1.03341805934906,
          -4.09370756149292,
          3.0177600383758545,
          -2.9059927463531494,
          1.496458649635315,
          -4.342997074127197,
          3.6161608695983887,
          -4.078535556793213,
          1.1925406455993652,
          -5.588634490966797,
          -1.6303930282592773,
          4.171622276306152,
          -2.541259527206421,
          1.446191668510437,
          0.6455457806587219,
          -2.1231236457824707,
          2.3449082374572754,
          3.9035279750823975,
          3.831268072128296,
          -5.714421272277832,
          -2.659670829772949,
          2.999662399291992,
          -4.76721715927124,
          1.5565876960754395,
          0.24662815034389496,
          -3.360537052154541,
          -0.7748833894729614,
          -0.9307711124420166,
          -5.050358772277832,
          -3.8742895126342773,
          0.908787727355957,
          -0.6842550039291382,
          -4.487631797790527,
          -1.473287582397461,
          -2.1670141220092773,
          -2.77986478805542,
          2.621943235397339,
          2.515467643737793,
          2.9746506214141846,
          4.00832462310791,
          6.495854377746582,
          5.457013130187988,
          1.3632961511611938,
          -2.1463968753814697,
          -0.6261752247810364,
          -0.7757617235183716,
          -0.5505513548851013,
          3.1209187507629395,
          2.661614179611206,
          0.08316487818956375,
          0.7938722372055054,
          -4.660952091217041,
          -4.283098220825195,
          4.966991424560547,
          3.746626615524292,
          3.21583890914917,
          4.200007438659668,
          1.1571922302246094,
          -2.5205342769622803,
          -3.5746660232543945,
          3.242783784866333,
          2.9244959354400635,
          -2.082705497741699,
          -3.0895588397979736,
          -2.684635639190674,
          2.292147397994995,
          0.7412396669387817,
          -0.15354067087173462,
          0.9821580648422241,
          1.1973944902420044,
          -2.141899824142456,
          1.3837445974349976,
          -3.32170033454895,
          1.2929202318191528,
          1.4290080070495605,
          2.672606945037842,
          -1.9449032545089722,
          -0.005905753467231989,
          3.7464287281036377,
          3.627953052520752,
          -2.8179216384887695,
          0.5695962905883789,
          1.800674557685852,
          -0.7705177664756775,
          0.8830746412277222,
          -1.158738136291504,
          2.1081674098968506,
          1.6602603197097778,
          -2.252753973007202,
          -0.17142823338508606,
          -3.146942138671875,
          4.384103298187256,
          -0.0930996686220169,
          -0.2092452496290207,
          -0.20478080213069916,
          4.403079509735107,
          -3.353651762008667
         ]
        }
       ],
       "layout": {
        "coloraxis": {
         "colorbar": {
          "title": {
           "text": "color"
          }
         },
         "colorscale": [
          [
           0,
           "#0d0887"
          ],
          [
           0.1111111111111111,
           "#46039f"
          ],
          [
           0.2222222222222222,
           "#7201a8"
          ],
          [
           0.3333333333333333,
           "#9c179e"
          ],
          [
           0.4444444444444444,
           "#bd3786"
          ],
          [
           0.5555555555555556,
           "#d8576b"
          ],
          [
           0.6666666666666666,
           "#ed7953"
          ],
          [
           0.7777777777777778,
           "#fb9f3a"
          ],
          [
           0.8888888888888888,
           "#fdca26"
          ],
          [
           1,
           "#f0f921"
          ]
         ]
        },
        "legend": {
         "tracegroupgap": 0
        },
        "scene": {
         "domain": {
          "x": [
           0,
           1
          ],
          "y": [
           0,
           1
          ]
         },
         "xaxis": {
          "title": {
           "text": "0"
          }
         },
         "yaxis": {
          "title": {
           "text": "1"
          }
         },
         "zaxis": {
          "title": {
           "text": "2"
          }
         }
        },
        "template": {
         "data": {
          "bar": [
           {
            "error_x": {
             "color": "#2a3f5f"
            },
            "error_y": {
             "color": "#2a3f5f"
            },
            "marker": {
             "line": {
              "color": "#E5ECF6",
              "width": 0.5
             },
             "pattern": {
              "fillmode": "overlay",
              "size": 10,
              "solidity": 0.2
             }
            },
            "type": "bar"
           }
          ],
          "barpolar": [
           {
            "marker": {
             "line": {
              "color": "#E5ECF6",
              "width": 0.5
             },
             "pattern": {
              "fillmode": "overlay",
              "size": 10,
              "solidity": 0.2
             }
            },
            "type": "barpolar"
           }
          ],
          "carpet": [
           {
            "aaxis": {
             "endlinecolor": "#2a3f5f",
             "gridcolor": "white",
             "linecolor": "white",
             "minorgridcolor": "white",
             "startlinecolor": "#2a3f5f"
            },
            "baxis": {
             "endlinecolor": "#2a3f5f",
             "gridcolor": "white",
             "linecolor": "white",
             "minorgridcolor": "white",
             "startlinecolor": "#2a3f5f"
            },
            "type": "carpet"
           }
          ],
          "choropleth": [
           {
            "colorbar": {
             "outlinewidth": 0,
             "ticks": ""
            },
            "type": "choropleth"
           }
          ],
          "contour": [
           {
            "colorbar": {
             "outlinewidth": 0,
             "ticks": ""
            },
            "colorscale": [
             [
              0,
              "#0d0887"
             ],
             [
              0.1111111111111111,
              "#46039f"
             ],
             [
              0.2222222222222222,
              "#7201a8"
             ],
             [
              0.3333333333333333,
              "#9c179e"
             ],
             [
              0.4444444444444444,
              "#bd3786"
             ],
             [
              0.5555555555555556,
              "#d8576b"
             ],
             [
              0.6666666666666666,
              "#ed7953"
             ],
             [
              0.7777777777777778,
              "#fb9f3a"
             ],
             [
              0.8888888888888888,
              "#fdca26"
             ],
             [
              1,
              "#f0f921"
             ]
            ],
            "type": "contour"
           }
          ],
          "contourcarpet": [
           {
            "colorbar": {
             "outlinewidth": 0,
             "ticks": ""
            },
            "type": "contourcarpet"
           }
          ],
          "heatmap": [
           {
            "colorbar": {
             "outlinewidth": 0,
             "ticks": ""
            },
            "colorscale": [
             [
              0,
              "#0d0887"
             ],
             [
              0.1111111111111111,
              "#46039f"
             ],
             [
              0.2222222222222222,
              "#7201a8"
             ],
             [
              0.3333333333333333,
              "#9c179e"
             ],
             [
              0.4444444444444444,
              "#bd3786"
             ],
             [
              0.5555555555555556,
              "#d8576b"
             ],
             [
              0.6666666666666666,
              "#ed7953"
             ],
             [
              0.7777777777777778,
              "#fb9f3a"
             ],
             [
              0.8888888888888888,
              "#fdca26"
             ],
             [
              1,
              "#f0f921"
             ]
            ],
            "type": "heatmap"
           }
          ],
          "heatmapgl": [
           {
            "colorbar": {
             "outlinewidth": 0,
             "ticks": ""
            },
            "colorscale": [
             [
              0,
              "#0d0887"
             ],
             [
              0.1111111111111111,
              "#46039f"
             ],
             [
              0.2222222222222222,
              "#7201a8"
             ],
             [
              0.3333333333333333,
              "#9c179e"
             ],
             [
              0.4444444444444444,
              "#bd3786"
             ],
             [
              0.5555555555555556,
              "#d8576b"
             ],
             [
              0.6666666666666666,
              "#ed7953"
             ],
             [
              0.7777777777777778,
              "#fb9f3a"
             ],
             [
              0.8888888888888888,
              "#fdca26"
             ],
             [
              1,
              "#f0f921"
             ]
            ],
            "type": "heatmapgl"
           }
          ],
          "histogram": [
           {
            "marker": {
             "pattern": {
              "fillmode": "overlay",
              "size": 10,
              "solidity": 0.2
             }
            },
            "type": "histogram"
           }
          ],
          "histogram2d": [
           {
            "colorbar": {
             "outlinewidth": 0,
             "ticks": ""
            },
            "colorscale": [
             [
              0,
              "#0d0887"
             ],
             [
              0.1111111111111111,
              "#46039f"
             ],
             [
              0.2222222222222222,
              "#7201a8"
             ],
             [
              0.3333333333333333,
              "#9c179e"
             ],
             [
              0.4444444444444444,
              "#bd3786"
             ],
             [
              0.5555555555555556,
              "#d8576b"
             ],
             [
              0.6666666666666666,
              "#ed7953"
             ],
             [
              0.7777777777777778,
              "#fb9f3a"
             ],
             [
              0.8888888888888888,
              "#fdca26"
             ],
             [
              1,
              "#f0f921"
             ]
            ],
            "type": "histogram2d"
           }
          ],
          "histogram2dcontour": [
           {
            "colorbar": {
             "outlinewidth": 0,
             "ticks": ""
            },
            "colorscale": [
             [
              0,
              "#0d0887"
             ],
             [
              0.1111111111111111,
              "#46039f"
             ],
             [
              0.2222222222222222,
              "#7201a8"
             ],
             [
              0.3333333333333333,
              "#9c179e"
             ],
             [
              0.4444444444444444,
              "#bd3786"
             ],
             [
              0.5555555555555556,
              "#d8576b"
             ],
             [
              0.6666666666666666,
              "#ed7953"
             ],
             [
              0.7777777777777778,
              "#fb9f3a"
             ],
             [
              0.8888888888888888,
              "#fdca26"
             ],
             [
              1,
              "#f0f921"
             ]
            ],
            "type": "histogram2dcontour"
           }
          ],
          "mesh3d": [
           {
            "colorbar": {
             "outlinewidth": 0,
             "ticks": ""
            },
            "type": "mesh3d"
           }
          ],
          "parcoords": [
           {
            "line": {
             "colorbar": {
              "outlinewidth": 0,
              "ticks": ""
             }
            },
            "type": "parcoords"
           }
          ],
          "pie": [
           {
            "automargin": true,
            "type": "pie"
           }
          ],
          "scatter": [
           {
            "marker": {
             "colorbar": {
              "outlinewidth": 0,
              "ticks": ""
             }
            },
            "type": "scatter"
           }
          ],
          "scatter3d": [
           {
            "line": {
             "colorbar": {
              "outlinewidth": 0,
              "ticks": ""
             }
            },
            "marker": {
             "colorbar": {
              "outlinewidth": 0,
              "ticks": ""
             }
            },
            "type": "scatter3d"
           }
          ],
          "scattercarpet": [
           {
            "marker": {
             "colorbar": {
              "outlinewidth": 0,
              "ticks": ""
             }
            },
            "type": "scattercarpet"
           }
          ],
          "scattergeo": [
           {
            "marker": {
             "colorbar": {
              "outlinewidth": 0,
              "ticks": ""
             }
            },
            "type": "scattergeo"
           }
          ],
          "scattergl": [
           {
            "marker": {
             "colorbar": {
              "outlinewidth": 0,
              "ticks": ""
             }
            },
            "type": "scattergl"
           }
          ],
          "scattermapbox": [
           {
            "marker": {
             "colorbar": {
              "outlinewidth": 0,
              "ticks": ""
             }
            },
            "type": "scattermapbox"
           }
          ],
          "scatterpolar": [
           {
            "marker": {
             "colorbar": {
              "outlinewidth": 0,
              "ticks": ""
             }
            },
            "type": "scatterpolar"
           }
          ],
          "scatterpolargl": [
           {
            "marker": {
             "colorbar": {
              "outlinewidth": 0,
              "ticks": ""
             }
            },
            "type": "scatterpolargl"
           }
          ],
          "scatterternary": [
           {
            "marker": {
             "colorbar": {
              "outlinewidth": 0,
              "ticks": ""
             }
            },
            "type": "scatterternary"
           }
          ],
          "surface": [
           {
            "colorbar": {
             "outlinewidth": 0,
             "ticks": ""
            },
            "colorscale": [
             [
              0,
              "#0d0887"
             ],
             [
              0.1111111111111111,
              "#46039f"
             ],
             [
              0.2222222222222222,
              "#7201a8"
             ],
             [
              0.3333333333333333,
              "#9c179e"
             ],
             [
              0.4444444444444444,
              "#bd3786"
             ],
             [
              0.5555555555555556,
              "#d8576b"
             ],
             [
              0.6666666666666666,
              "#ed7953"
             ],
             [
              0.7777777777777778,
              "#fb9f3a"
             ],
             [
              0.8888888888888888,
              "#fdca26"
             ],
             [
              1,
              "#f0f921"
             ]
            ],
            "type": "surface"
           }
          ],
          "table": [
           {
            "cells": {
             "fill": {
              "color": "#EBF0F8"
             },
             "line": {
              "color": "white"
             }
            },
            "header": {
             "fill": {
              "color": "#C8D4E3"
             },
             "line": {
              "color": "white"
             }
            },
            "type": "table"
           }
          ]
         },
         "layout": {
          "annotationdefaults": {
           "arrowcolor": "#2a3f5f",
           "arrowhead": 0,
           "arrowwidth": 1
          },
          "autotypenumbers": "strict",
          "coloraxis": {
           "colorbar": {
            "outlinewidth": 0,
            "ticks": ""
           }
          },
          "colorscale": {
           "diverging": [
            [
             0,
             "#8e0152"
            ],
            [
             0.1,
             "#c51b7d"
            ],
            [
             0.2,
             "#de77ae"
            ],
            [
             0.3,
             "#f1b6da"
            ],
            [
             0.4,
             "#fde0ef"
            ],
            [
             0.5,
             "#f7f7f7"
            ],
            [
             0.6,
             "#e6f5d0"
            ],
            [
             0.7,
             "#b8e186"
            ],
            [
             0.8,
             "#7fbc41"
            ],
            [
             0.9,
             "#4d9221"
            ],
            [
             1,
             "#276419"
            ]
           ],
           "sequential": [
            [
             0,
             "#0d0887"
            ],
            [
             0.1111111111111111,
             "#46039f"
            ],
            [
             0.2222222222222222,
             "#7201a8"
            ],
            [
             0.3333333333333333,
             "#9c179e"
            ],
            [
             0.4444444444444444,
             "#bd3786"
            ],
            [
             0.5555555555555556,
             "#d8576b"
            ],
            [
             0.6666666666666666,
             "#ed7953"
            ],
            [
             0.7777777777777778,
             "#fb9f3a"
            ],
            [
             0.8888888888888888,
             "#fdca26"
            ],
            [
             1,
             "#f0f921"
            ]
           ],
           "sequentialminus": [
            [
             0,
             "#0d0887"
            ],
            [
             0.1111111111111111,
             "#46039f"
            ],
            [
             0.2222222222222222,
             "#7201a8"
            ],
            [
             0.3333333333333333,
             "#9c179e"
            ],
            [
             0.4444444444444444,
             "#bd3786"
            ],
            [
             0.5555555555555556,
             "#d8576b"
            ],
            [
             0.6666666666666666,
             "#ed7953"
            ],
            [
             0.7777777777777778,
             "#fb9f3a"
            ],
            [
             0.8888888888888888,
             "#fdca26"
            ],
            [
             1,
             "#f0f921"
            ]
           ]
          },
          "colorway": [
           "#636efa",
           "#EF553B",
           "#00cc96",
           "#ab63fa",
           "#FFA15A",
           "#19d3f3",
           "#FF6692",
           "#B6E880",
           "#FF97FF",
           "#FECB52"
          ],
          "font": {
           "color": "#2a3f5f"
          },
          "geo": {
           "bgcolor": "white",
           "lakecolor": "white",
           "landcolor": "#E5ECF6",
           "showlakes": true,
           "showland": true,
           "subunitcolor": "white"
          },
          "hoverlabel": {
           "align": "left"
          },
          "hovermode": "closest",
          "mapbox": {
           "style": "light"
          },
          "paper_bgcolor": "white",
          "plot_bgcolor": "#E5ECF6",
          "polar": {
           "angularaxis": {
            "gridcolor": "white",
            "linecolor": "white",
            "ticks": ""
           },
           "bgcolor": "#E5ECF6",
           "radialaxis": {
            "gridcolor": "white",
            "linecolor": "white",
            "ticks": ""
           }
          },
          "scene": {
           "xaxis": {
            "backgroundcolor": "#E5ECF6",
            "gridcolor": "white",
            "gridwidth": 2,
            "linecolor": "white",
            "showbackground": true,
            "ticks": "",
            "zerolinecolor": "white"
           },
           "yaxis": {
            "backgroundcolor": "#E5ECF6",
            "gridcolor": "white",
            "gridwidth": 2,
            "linecolor": "white",
            "showbackground": true,
            "ticks": "",
            "zerolinecolor": "white"
           },
           "zaxis": {
            "backgroundcolor": "#E5ECF6",
            "gridcolor": "white",
            "gridwidth": 2,
            "linecolor": "white",
            "showbackground": true,
            "ticks": "",
            "zerolinecolor": "white"
           }
          },
          "shapedefaults": {
           "line": {
            "color": "#2a3f5f"
           }
          },
          "ternary": {
           "aaxis": {
            "gridcolor": "white",
            "linecolor": "white",
            "ticks": ""
           },
           "baxis": {
            "gridcolor": "white",
            "linecolor": "white",
            "ticks": ""
           },
           "bgcolor": "#E5ECF6",
           "caxis": {
            "gridcolor": "white",
            "linecolor": "white",
            "ticks": ""
           }
          },
          "title": {
           "x": 0.05
          },
          "xaxis": {
           "automargin": true,
           "gridcolor": "white",
           "linecolor": "white",
           "ticks": "",
           "title": {
            "standoff": 15
           },
           "zerolinecolor": "white",
           "zerolinewidth": 2
          },
          "yaxis": {
           "automargin": true,
           "gridcolor": "white",
           "linecolor": "white",
           "ticks": "",
           "title": {
            "standoff": 15
           },
           "zerolinecolor": "white",
           "zerolinewidth": 2
          }
         }
        },
        "title": {
         "text": "суда, 1.0"
        }
       }
      },
      "text/html": [
       "<div>                            <div id=\"7236cf06-ed09-4cc3-bdd3-44c8dc7e3886\" class=\"plotly-graph-div\" style=\"height:525px; width:100%;\"></div>            <script type=\"text/javascript\">                require([\"plotly\"], function(Plotly) {                    window.PLOTLYENV=window.PLOTLYENV || {};                                    if (document.getElementById(\"7236cf06-ed09-4cc3-bdd3-44c8dc7e3886\")) {                    Plotly.newPlot(                        \"7236cf06-ed09-4cc3-bdd3-44c8dc7e3886\",                        [{\"hovertemplate\":\"0=%{x}<br>1=%{y}<br>2=%{z}<br>color=%{marker.color}<extra></extra>\",\"legendgroup\":\"\",\"marker\":{\"color\":[1,1,1,1,1,1,1,1,1,1,1,1,1,1,1,1,1,1,1,1,1,1,1,1,1,1,1,1,1,1,1,1,1,1,1,1,1,1,1,1,1,1,1,1,1,1,1,1,1,1,1,1,1,1,1,1,1,1,1,1,1,1,1,1,1,1,1,1,1,1,1,1,1,1,1,1,1,1,1,1,1,1,1,1,1,1,1,1,1,1,1,1,1,1,1,1,1,1,1,1,2,2,2,2,2,2,2,2,2,2,2,2,2,2,2,2,2,2,2,2,2,2,2,2,2,2,2,2,2,2,2,2,2,2,2],\"coloraxis\":\"coloraxis\",\"symbol\":\"circle\"},\"mode\":\"markers\",\"name\":\"\",\"scene\":\"scene\",\"showlegend\":false,\"type\":\"scatter3d\",\"x\":[0.5390103459358215,3.380051374435425,-6.18899393081665,1.224872350692749,-4.475046157836914,1.181881308555603,-3.512002944946289,-3.1385226249694824,3.6831655502319336,2.563213348388672,-6.993963241577148,-3.1421358585357666,-6.955125331878662,2.1926469802856445,-0.9950729608535767,1.8827784061431885,1.4141241312026978,2.258610248565674,-6.85944128036499,-0.7221411466598511,-6.2406792640686035,-6.767616271972656,1.2057580947875977,-6.67609167098999,-4.918622970581055,0.9682047367095947,-5.202404499053955,-2.263970136642456,0.7634612917900085,2.457113742828369,-4.358321189880371,1.569665551185608,-6.019341468811035,1.0688488483428955,-5.516203880310059,0.7382444739341736,-2.2188165187835693,-3.3264238834381104,-6.303637981414795,-6.206084728240967,-5.250429630279541,-4.868002414703369,-5.043307781219482,1.1502186059951782,-5.381997585296631,-5.723752975463867,-6.318690299987793,3.0175652503967285,-6.654376983642578,-2.7580645084381104,-5.015388488769531,-5.096897602081299,1.0317779779434204,1.383997917175293,-4.138240814208984,-1.1134477853775024,-5.276176929473877,2.3570687770843506,-4.845998287200928,-2.1242480278015137,1.1187465190887451,-6.2157182693481445,-4.673060417175293,-4.502530097961426,-6.447967052459717,3.1635935306549072,2.3202271461486816,1.7335460186004639,-6.432466983795166,-3.501193046569824,2.828416109085083,-4.605048179626465,-4.404535293579102,0.5331253409385681,-0.5450748205184937,-3.1783998012542725,-1.0393608808517456,-0.3176782727241516,0.7317917346954346,1.704922080039978,-2.9305741786956787,0.9361592531204224,-3.431037664413452,-3.4473257064819336,-6.2705230712890625,-5.574443817138672,-4.9127302169799805,-6.6832451820373535,-4.657308101654053,2.2015879154205322,-6.1505045890808105,-2.469839572906494,-2.1674952507019043,-2.138324022293091,0.830516517162323,-0.8435057401657104,-4.5837578773498535,-4.5166192054748535,-4.84769344329834,-2.9237048625946045,5.701596736907959,6.8035969734191895,6.848348140716553,8.966798782348633,4.694602012634277,8.42324447631836,5.0700764656066895,8.354009628295898,6.754622459411621,7.885682106018066,6.492317199707031,4.504904747009277,9.887252807617188,8.060304641723633,6.990602493286133,8.90683364868164,5.611874580383301,8.196722984313965,6.5831298828125,4.973671913146973,8.722704887390137,7.977834701538086,5.121156692504883,5.587893009185791,7.828281879425049,8.123794555664062,5.673694133758545,8.350631713867188,4.046990394592285,5.49500846862793,8.68206787109375,4.274655818939209,4.417511940002441,6.410261154174805,6.463752269744873],\"y\":[5.1762166023254395,6.328643798828125,-3.540342092514038,5.654325485229492,-0.4744637906551361,1.2320326566696167,2.501755475997925,1.2825431823730469,5.9379119873046875,6.134289264678955,-3.4789304733276367,3.051470994949341,-3.988387107849121,3.8744332790374756,1.9995383024215698,1.6387622356414795,5.112741947174072,5.72529411315918,-1.6992751359939575,6.1120710372924805,-3.587714433670044,-4.4529709815979,2.950308322906494,-3.103588104248047,-0.2856632173061371,5.171329498291016,-2.9157490730285645,-0.46315622329711914,5.490146636962891,2.5703279972076416,-0.4846544563770294,5.890867233276367,-4.741449356079102,7.2827606201171875,-2.4217071533203125,5.055670261383057,4.5283942222595215,3.2544288635253906,-3.5592899322509766,-3.6464719772338867,-2.0571985244750977,-4.392352104187012,-0.8497609496116638,3.3753273487091064,-2.44535756111145,-4.2431840896606445,-3.2353062629699707,6.198212623596191,-4.349882125854492,4.092776775360107,-0.6060752868652344,-0.6268993616104126,3.0497310161590576,7.058791160583496,-0.12693190574645996,6.111081600189209,-2.382352352142334,5.383029460906982,-0.3639046549797058,3.869030237197876,3.451113700866699,-3.7219724655151367,1.02435302734375,-0.5435338020324707,-1.7300336360931396,5.410408973693848,5.597470760345459,5.2452216148376465,-3.9948129653930664,0.25260868668556213,3.0635571479797363,0.4462699294090271,-1.4193915128707886,5.667625904083252,4.786801338195801,2.6101126670837402,2.23988676071167,3.0648648738861084,-1.7180328369140625,1.7538747787475586,3.0231733322143555,5.330705642700195,0.3563076853752136,0.13441993296146393,-4.645749092102051,-1.3932554721832275,-3.409803628921509,-3.3879330158233643,-2.0303642749786377,4.356864929199219,-3.917426347732544,4.675164699554443,3.816922903060913,4.597836971282959,1.9146201610565186,3.266197443008423,-0.1417706161737442,-2.6793689727783203,-2.9948859214782715,1.9972732067108154,-4.4623026847839355,-3.550852060317993,-3.2551143169403076,-1.8139207363128662,-6.421100616455078,-2.9472177028656006,-5.348113059997559,-3.070383071899414,-4.816695690155029,-1.0780184268951416,-3.967695951461792,-5.5513916015625,-2.0031681060791016,-3.3546502590179443,-4.992763996124268,-3.075589656829834,-2.6174657344818115,-2.4208664894104004,-3.477509021759033,-6.7405476570129395,-2.202272891998291,-2.27571439743042,-5.429464340209961,-2.816840648651123,-0.8962588906288147,-1.0869417190551758,-4.521435737609863,-2.364659309387207,-5.005920886993408,-2.6002933979034424,-2.4747133255004883,-1.2720623016357422,-1.4175187349319458,-1.7122399806976318,-3.8848416805267334],\"z\":[-2.425581455230713,-2.9610798358917236,-4.584315299987793,-2.0822579860687256,-3.360882043838501,5.201271057128906,-0.9468199610710144,3.2305407524108887,-5.633737087249756,-2.722093343734741,-1.9149482250213623,0.8677164912223816,-2.147653341293335,2.647845506668091,-2.2085278034210205,5.350623607635498,-2.7079124450683594,-4.6921186447143555,-0.06238895282149315,4.3987932205200195,-4.534735202789307,-1.868050217628479,3.0539662837982178,-0.5006149411201477,0.646068274974823,2.494285821914673,3.1080102920532227,-1.4974122047424316,-3.271328926086426,0.7133073806762695,-3.553995370864868,3.7666120529174805,-0.011492096818983555,-2.243455171585083,2.65218186378479,2.471250534057617,3.110313892364502,3.8538267612457275,1.03341805934906,-4.09370756149292,3.0177600383758545,-2.9059927463531494,1.496458649635315,-4.342997074127197,3.6161608695983887,-4.078535556793213,1.1925406455993652,-5.588634490966797,-1.6303930282592773,4.171622276306152,-2.541259527206421,1.446191668510437,0.6455457806587219,-2.1231236457824707,2.3449082374572754,3.9035279750823975,3.831268072128296,-5.714421272277832,-2.659670829772949,2.999662399291992,-4.76721715927124,1.5565876960754395,0.24662815034389496,-3.360537052154541,-0.7748833894729614,-0.9307711124420166,-5.050358772277832,-3.8742895126342773,0.908787727355957,-0.6842550039291382,-4.487631797790527,-1.473287582397461,-2.1670141220092773,-2.77986478805542,2.621943235397339,2.515467643737793,2.9746506214141846,4.00832462310791,6.495854377746582,5.457013130187988,1.3632961511611938,-2.1463968753814697,-0.6261752247810364,-0.7757617235183716,-0.5505513548851013,3.1209187507629395,2.661614179611206,0.08316487818956375,0.7938722372055054,-4.660952091217041,-4.283098220825195,4.966991424560547,3.746626615524292,3.21583890914917,4.200007438659668,1.1571922302246094,-2.5205342769622803,-3.5746660232543945,3.242783784866333,2.9244959354400635,-2.082705497741699,-3.0895588397979736,-2.684635639190674,2.292147397994995,0.7412396669387817,-0.15354067087173462,0.9821580648422241,1.1973944902420044,-2.141899824142456,1.3837445974349976,-3.32170033454895,1.2929202318191528,1.4290080070495605,2.672606945037842,-1.9449032545089722,-0.005905753467231989,3.7464287281036377,3.627953052520752,-2.8179216384887695,0.5695962905883789,1.800674557685852,-0.7705177664756775,0.8830746412277222,-1.158738136291504,2.1081674098968506,1.6602603197097778,-2.252753973007202,-0.17142823338508606,-3.146942138671875,4.384103298187256,-0.0930996686220169,-0.2092452496290207,-0.20478080213069916,4.403079509735107,-3.353651762008667]}],                        {\"coloraxis\":{\"colorbar\":{\"title\":{\"text\":\"color\"}},\"colorscale\":[[0.0,\"#0d0887\"],[0.1111111111111111,\"#46039f\"],[0.2222222222222222,\"#7201a8\"],[0.3333333333333333,\"#9c179e\"],[0.4444444444444444,\"#bd3786\"],[0.5555555555555556,\"#d8576b\"],[0.6666666666666666,\"#ed7953\"],[0.7777777777777778,\"#fb9f3a\"],[0.8888888888888888,\"#fdca26\"],[1.0,\"#f0f921\"]]},\"legend\":{\"tracegroupgap\":0},\"scene\":{\"domain\":{\"x\":[0.0,1.0],\"y\":[0.0,1.0]},\"xaxis\":{\"title\":{\"text\":\"0\"}},\"yaxis\":{\"title\":{\"text\":\"1\"}},\"zaxis\":{\"title\":{\"text\":\"2\"}}},\"template\":{\"data\":{\"bar\":[{\"error_x\":{\"color\":\"#2a3f5f\"},\"error_y\":{\"color\":\"#2a3f5f\"},\"marker\":{\"line\":{\"color\":\"#E5ECF6\",\"width\":0.5},\"pattern\":{\"fillmode\":\"overlay\",\"size\":10,\"solidity\":0.2}},\"type\":\"bar\"}],\"barpolar\":[{\"marker\":{\"line\":{\"color\":\"#E5ECF6\",\"width\":0.5},\"pattern\":{\"fillmode\":\"overlay\",\"size\":10,\"solidity\":0.2}},\"type\":\"barpolar\"}],\"carpet\":[{\"aaxis\":{\"endlinecolor\":\"#2a3f5f\",\"gridcolor\":\"white\",\"linecolor\":\"white\",\"minorgridcolor\":\"white\",\"startlinecolor\":\"#2a3f5f\"},\"baxis\":{\"endlinecolor\":\"#2a3f5f\",\"gridcolor\":\"white\",\"linecolor\":\"white\",\"minorgridcolor\":\"white\",\"startlinecolor\":\"#2a3f5f\"},\"type\":\"carpet\"}],\"choropleth\":[{\"colorbar\":{\"outlinewidth\":0,\"ticks\":\"\"},\"type\":\"choropleth\"}],\"contour\":[{\"colorbar\":{\"outlinewidth\":0,\"ticks\":\"\"},\"colorscale\":[[0.0,\"#0d0887\"],[0.1111111111111111,\"#46039f\"],[0.2222222222222222,\"#7201a8\"],[0.3333333333333333,\"#9c179e\"],[0.4444444444444444,\"#bd3786\"],[0.5555555555555556,\"#d8576b\"],[0.6666666666666666,\"#ed7953\"],[0.7777777777777778,\"#fb9f3a\"],[0.8888888888888888,\"#fdca26\"],[1.0,\"#f0f921\"]],\"type\":\"contour\"}],\"contourcarpet\":[{\"colorbar\":{\"outlinewidth\":0,\"ticks\":\"\"},\"type\":\"contourcarpet\"}],\"heatmap\":[{\"colorbar\":{\"outlinewidth\":0,\"ticks\":\"\"},\"colorscale\":[[0.0,\"#0d0887\"],[0.1111111111111111,\"#46039f\"],[0.2222222222222222,\"#7201a8\"],[0.3333333333333333,\"#9c179e\"],[0.4444444444444444,\"#bd3786\"],[0.5555555555555556,\"#d8576b\"],[0.6666666666666666,\"#ed7953\"],[0.7777777777777778,\"#fb9f3a\"],[0.8888888888888888,\"#fdca26\"],[1.0,\"#f0f921\"]],\"type\":\"heatmap\"}],\"heatmapgl\":[{\"colorbar\":{\"outlinewidth\":0,\"ticks\":\"\"},\"colorscale\":[[0.0,\"#0d0887\"],[0.1111111111111111,\"#46039f\"],[0.2222222222222222,\"#7201a8\"],[0.3333333333333333,\"#9c179e\"],[0.4444444444444444,\"#bd3786\"],[0.5555555555555556,\"#d8576b\"],[0.6666666666666666,\"#ed7953\"],[0.7777777777777778,\"#fb9f3a\"],[0.8888888888888888,\"#fdca26\"],[1.0,\"#f0f921\"]],\"type\":\"heatmapgl\"}],\"histogram\":[{\"marker\":{\"pattern\":{\"fillmode\":\"overlay\",\"size\":10,\"solidity\":0.2}},\"type\":\"histogram\"}],\"histogram2d\":[{\"colorbar\":{\"outlinewidth\":0,\"ticks\":\"\"},\"colorscale\":[[0.0,\"#0d0887\"],[0.1111111111111111,\"#46039f\"],[0.2222222222222222,\"#7201a8\"],[0.3333333333333333,\"#9c179e\"],[0.4444444444444444,\"#bd3786\"],[0.5555555555555556,\"#d8576b\"],[0.6666666666666666,\"#ed7953\"],[0.7777777777777778,\"#fb9f3a\"],[0.8888888888888888,\"#fdca26\"],[1.0,\"#f0f921\"]],\"type\":\"histogram2d\"}],\"histogram2dcontour\":[{\"colorbar\":{\"outlinewidth\":0,\"ticks\":\"\"},\"colorscale\":[[0.0,\"#0d0887\"],[0.1111111111111111,\"#46039f\"],[0.2222222222222222,\"#7201a8\"],[0.3333333333333333,\"#9c179e\"],[0.4444444444444444,\"#bd3786\"],[0.5555555555555556,\"#d8576b\"],[0.6666666666666666,\"#ed7953\"],[0.7777777777777778,\"#fb9f3a\"],[0.8888888888888888,\"#fdca26\"],[1.0,\"#f0f921\"]],\"type\":\"histogram2dcontour\"}],\"mesh3d\":[{\"colorbar\":{\"outlinewidth\":0,\"ticks\":\"\"},\"type\":\"mesh3d\"}],\"parcoords\":[{\"line\":{\"colorbar\":{\"outlinewidth\":0,\"ticks\":\"\"}},\"type\":\"parcoords\"}],\"pie\":[{\"automargin\":true,\"type\":\"pie\"}],\"scatter\":[{\"marker\":{\"colorbar\":{\"outlinewidth\":0,\"ticks\":\"\"}},\"type\":\"scatter\"}],\"scatter3d\":[{\"line\":{\"colorbar\":{\"outlinewidth\":0,\"ticks\":\"\"}},\"marker\":{\"colorbar\":{\"outlinewidth\":0,\"ticks\":\"\"}},\"type\":\"scatter3d\"}],\"scattercarpet\":[{\"marker\":{\"colorbar\":{\"outlinewidth\":0,\"ticks\":\"\"}},\"type\":\"scattercarpet\"}],\"scattergeo\":[{\"marker\":{\"colorbar\":{\"outlinewidth\":0,\"ticks\":\"\"}},\"type\":\"scattergeo\"}],\"scattergl\":[{\"marker\":{\"colorbar\":{\"outlinewidth\":0,\"ticks\":\"\"}},\"type\":\"scattergl\"}],\"scattermapbox\":[{\"marker\":{\"colorbar\":{\"outlinewidth\":0,\"ticks\":\"\"}},\"type\":\"scattermapbox\"}],\"scatterpolar\":[{\"marker\":{\"colorbar\":{\"outlinewidth\":0,\"ticks\":\"\"}},\"type\":\"scatterpolar\"}],\"scatterpolargl\":[{\"marker\":{\"colorbar\":{\"outlinewidth\":0,\"ticks\":\"\"}},\"type\":\"scatterpolargl\"}],\"scatterternary\":[{\"marker\":{\"colorbar\":{\"outlinewidth\":0,\"ticks\":\"\"}},\"type\":\"scatterternary\"}],\"surface\":[{\"colorbar\":{\"outlinewidth\":0,\"ticks\":\"\"},\"colorscale\":[[0.0,\"#0d0887\"],[0.1111111111111111,\"#46039f\"],[0.2222222222222222,\"#7201a8\"],[0.3333333333333333,\"#9c179e\"],[0.4444444444444444,\"#bd3786\"],[0.5555555555555556,\"#d8576b\"],[0.6666666666666666,\"#ed7953\"],[0.7777777777777778,\"#fb9f3a\"],[0.8888888888888888,\"#fdca26\"],[1.0,\"#f0f921\"]],\"type\":\"surface\"}],\"table\":[{\"cells\":{\"fill\":{\"color\":\"#EBF0F8\"},\"line\":{\"color\":\"white\"}},\"header\":{\"fill\":{\"color\":\"#C8D4E3\"},\"line\":{\"color\":\"white\"}},\"type\":\"table\"}]},\"layout\":{\"annotationdefaults\":{\"arrowcolor\":\"#2a3f5f\",\"arrowhead\":0,\"arrowwidth\":1},\"autotypenumbers\":\"strict\",\"coloraxis\":{\"colorbar\":{\"outlinewidth\":0,\"ticks\":\"\"}},\"colorscale\":{\"diverging\":[[0,\"#8e0152\"],[0.1,\"#c51b7d\"],[0.2,\"#de77ae\"],[0.3,\"#f1b6da\"],[0.4,\"#fde0ef\"],[0.5,\"#f7f7f7\"],[0.6,\"#e6f5d0\"],[0.7,\"#b8e186\"],[0.8,\"#7fbc41\"],[0.9,\"#4d9221\"],[1,\"#276419\"]],\"sequential\":[[0.0,\"#0d0887\"],[0.1111111111111111,\"#46039f\"],[0.2222222222222222,\"#7201a8\"],[0.3333333333333333,\"#9c179e\"],[0.4444444444444444,\"#bd3786\"],[0.5555555555555556,\"#d8576b\"],[0.6666666666666666,\"#ed7953\"],[0.7777777777777778,\"#fb9f3a\"],[0.8888888888888888,\"#fdca26\"],[1.0,\"#f0f921\"]],\"sequentialminus\":[[0.0,\"#0d0887\"],[0.1111111111111111,\"#46039f\"],[0.2222222222222222,\"#7201a8\"],[0.3333333333333333,\"#9c179e\"],[0.4444444444444444,\"#bd3786\"],[0.5555555555555556,\"#d8576b\"],[0.6666666666666666,\"#ed7953\"],[0.7777777777777778,\"#fb9f3a\"],[0.8888888888888888,\"#fdca26\"],[1.0,\"#f0f921\"]]},\"colorway\":[\"#636efa\",\"#EF553B\",\"#00cc96\",\"#ab63fa\",\"#FFA15A\",\"#19d3f3\",\"#FF6692\",\"#B6E880\",\"#FF97FF\",\"#FECB52\"],\"font\":{\"color\":\"#2a3f5f\"},\"geo\":{\"bgcolor\":\"white\",\"lakecolor\":\"white\",\"landcolor\":\"#E5ECF6\",\"showlakes\":true,\"showland\":true,\"subunitcolor\":\"white\"},\"hoverlabel\":{\"align\":\"left\"},\"hovermode\":\"closest\",\"mapbox\":{\"style\":\"light\"},\"paper_bgcolor\":\"white\",\"plot_bgcolor\":\"#E5ECF6\",\"polar\":{\"angularaxis\":{\"gridcolor\":\"white\",\"linecolor\":\"white\",\"ticks\":\"\"},\"bgcolor\":\"#E5ECF6\",\"radialaxis\":{\"gridcolor\":\"white\",\"linecolor\":\"white\",\"ticks\":\"\"}},\"scene\":{\"xaxis\":{\"backgroundcolor\":\"#E5ECF6\",\"gridcolor\":\"white\",\"gridwidth\":2,\"linecolor\":\"white\",\"showbackground\":true,\"ticks\":\"\",\"zerolinecolor\":\"white\"},\"yaxis\":{\"backgroundcolor\":\"#E5ECF6\",\"gridcolor\":\"white\",\"gridwidth\":2,\"linecolor\":\"white\",\"showbackground\":true,\"ticks\":\"\",\"zerolinecolor\":\"white\"},\"zaxis\":{\"backgroundcolor\":\"#E5ECF6\",\"gridcolor\":\"white\",\"gridwidth\":2,\"linecolor\":\"white\",\"showbackground\":true,\"ticks\":\"\",\"zerolinecolor\":\"white\"}},\"shapedefaults\":{\"line\":{\"color\":\"#2a3f5f\"}},\"ternary\":{\"aaxis\":{\"gridcolor\":\"white\",\"linecolor\":\"white\",\"ticks\":\"\"},\"baxis\":{\"gridcolor\":\"white\",\"linecolor\":\"white\",\"ticks\":\"\"},\"bgcolor\":\"#E5ECF6\",\"caxis\":{\"gridcolor\":\"white\",\"linecolor\":\"white\",\"ticks\":\"\"}},\"title\":{\"x\":0.05},\"xaxis\":{\"automargin\":true,\"gridcolor\":\"white\",\"linecolor\":\"white\",\"ticks\":\"\",\"title\":{\"standoff\":15},\"zerolinecolor\":\"white\",\"zerolinewidth\":2},\"yaxis\":{\"automargin\":true,\"gridcolor\":\"white\",\"linecolor\":\"white\",\"ticks\":\"\",\"title\":{\"standoff\":15},\"zerolinecolor\":\"white\",\"zerolinewidth\":2}}},\"title\":{\"text\":\"\\u0441\\u0443\\u0434\\u0430, 1.0\"}},                        {\"responsive\": true}                    ).then(function(){\n",
       "                            \n",
       "var gd = document.getElementById('7236cf06-ed09-4cc3-bdd3-44c8dc7e3886');\n",
       "var x = new MutationObserver(function (mutations, observer) {{\n",
       "        var display = window.getComputedStyle(gd).display;\n",
       "        if (!display || display === 'none') {{\n",
       "            console.log([gd, 'removed!']);\n",
       "            Plotly.purge(gd);\n",
       "            observer.disconnect();\n",
       "        }}\n",
       "}});\n",
       "\n",
       "// Listen for the removal of the full notebook cells\n",
       "var notebookContainer = gd.closest('#notebook-container');\n",
       "if (notebookContainer) {{\n",
       "    x.observe(notebookContainer, {childList: true});\n",
       "}}\n",
       "\n",
       "// Listen for the clearing of the current output cell\n",
       "var outputEl = gd.closest('.output');\n",
       "if (outputEl) {{\n",
       "    x.observe(outputEl, {childList: true});\n",
       "}}\n",
       "\n",
       "                        })                };                });            </script>        </div>"
      ]
     },
     "metadata": {},
     "output_type": "display_data"
    }
   ],
   "source": [
    "words_info, total, ari_sum = clustering(train_df, KMeans, kwargs={'init' : 'random', 'max_iter' : 1000})"
   ]
  },
  {
   "cell_type": "code",
   "execution_count": 36,
   "metadata": {},
   "outputs": [
    {
     "data": {
      "text/plain": [
       "{'замок': {'ari': -0.06918226650023966, 'count': 138},\n",
       " 'лук': {'ari': 0.19284262114092604, 'count': 110},\n",
       " 'бор': {'ari': 0.7186424003935071, 'count': 56},\n",
       " 'суда': {'ari': 1.0, 'count': 135}}"
      ]
     },
     "execution_count": 36,
     "metadata": {},
     "output_type": "execute_result"
    }
   ],
   "source": [
    "words_info"
   ]
  },
  {
   "cell_type": "code",
   "execution_count": 37,
   "metadata": {},
   "outputs": [
    {
     "data": {
      "text/plain": [
       "0.4257619817095791"
      ]
     },
     "execution_count": 37,
     "metadata": {},
     "output_type": "execute_result"
    }
   ],
   "source": [
    "ari_sum/total"
   ]
  },
  {
   "cell_type": "code",
   "execution_count": 38,
   "metadata": {
    "scrolled": false
   },
   "outputs": [
    {
     "data": {
      "application/vnd.plotly.v1+json": {
       "config": {
        "plotlyServerURL": "https://plot.ly"
       },
       "data": [
        {
         "hovertemplate": "0=%{x}<br>1=%{y}<br>2=%{z}<br>color=%{marker.color}<extra></extra>",
         "legendgroup": "",
         "marker": {
          "color": [
           1,
           1,
           1,
           1,
           1,
           1,
           1,
           1,
           1,
           1,
           1,
           1,
           1,
           1,
           1,
           1,
           1,
           1,
           1,
           1,
           1,
           1,
           1,
           1,
           1,
           1,
           1,
           1,
           1,
           1,
           1,
           1,
           1,
           1,
           1,
           1,
           1,
           1,
           1,
           1,
           1,
           1,
           1,
           1,
           1,
           1,
           1,
           1,
           1,
           1,
           1,
           1,
           1,
           1,
           1,
           1,
           1,
           1,
           1,
           1,
           1,
           1,
           1,
           1,
           1,
           1,
           1,
           1,
           1,
           1,
           1,
           1,
           1,
           1,
           1,
           1,
           1,
           1,
           1,
           1,
           1,
           1,
           1,
           1,
           1,
           1,
           1,
           1,
           1,
           1,
           1,
           1,
           1,
           1,
           1,
           1,
           1,
           1,
           1,
           1,
           2,
           2,
           2,
           2,
           2,
           2,
           2,
           2,
           2,
           2,
           2,
           2,
           2,
           2,
           2,
           2,
           2,
           2,
           2,
           2,
           2,
           2,
           2,
           2,
           2,
           2,
           2,
           2,
           2,
           2,
           2,
           2,
           2,
           2,
           2,
           2,
           2,
           2
          ],
          "coloraxis": "coloraxis",
          "symbol": "circle"
         },
         "mode": "markers",
         "name": "",
         "scene": "scene",
         "showlegend": false,
         "type": "scatter3d",
         "x": [
          6.202787399291992,
          -1.9036225080490112,
          -0.903789222240448,
          -1.4935511350631714,
          -2.0684125423431396,
          -1.9085198640823364,
          -2.0925533771514893,
          -3.208404779434204,
          -1.2395713329315186,
          14.277198791503906,
          7.811011791229248,
          13.094878196716309,
          -2.8393640518188477,
          -1.630061149597168,
          -2.225490093231201,
          -1.5461865663528442,
          -1.6713494062423706,
          -0.08827944099903107,
          -3.2041354179382324,
          -1.7417408227920532,
          -1.0506975650787354,
          -2.0276005268096924,
          -2.937378406524658,
          -0.4876211881637573,
          -2.766606330871582,
          1.124876856803894,
          -0.34350892901420593,
          -0.29288995265960693,
          -2.841475486755371,
          -1.241184949874878,
          -1.7098476886749268,
          -1.0321590900421143,
          -1.3787128925323486,
          -0.3301968276500702,
          -1.7971547842025757,
          -1.959126591682434,
          -1.1692843437194824,
          -1.2313392162322998,
          -1.588358998298645,
          -2.253997802734375,
          -1.8837591409683228,
          13.328064918518066,
          11.376728057861328,
          13.538026809692383,
          -2.8200180530548096,
          -1.9993611574172974,
          -2.578517198562622,
          -0.4150097072124481,
          1.3062752485275269,
          -1.3451296091079712,
          -1.5467000007629395,
          -0.8741718530654907,
          -0.26244139671325684,
          -0.7750834226608276,
          6.234752655029297,
          0.07708409428596497,
          -0.5883604884147644,
          -1.9064396619796753,
          -1.2718663215637207,
          -0.8043711185455322,
          3.3530828952789307,
          -1.3423432111740112,
          -1.2078901529312134,
          -2.24607253074646,
          -1.056440830230713,
          -1.3121873140335083,
          -0.5582385063171387,
          -1.9357020854949951,
          -1.2621392011642456,
          -0.27150970697402954,
          -1.7708789110183716,
          -1.9651120901107788,
          -2.237185001373291,
          -1.933186411857605,
          -1.180137276649475,
          13.184532165527344,
          -2.1290695667266846,
          -2.0061299800872803,
          13.10828971862793,
          13.662116050720215,
          -0.08533798903226852,
          -0.708980143070221,
          -1.1824556589126587,
          11.856402397155762,
          -3.2481062412261963,
          12.633404731750488,
          -2.823669672012329,
          12.424805641174316,
          -0.6174739599227905,
          -1.8460958003997803,
          -0.07235021889209747,
          -2.6389124393463135,
          -0.545278787612915,
          -0.21698202192783356,
          -1.187682867050171,
          -0.326829731464386,
          -0.7098992466926575,
          12.920465469360352,
          -0.8749270439147949,
          0.26361140608787537,
          -1.38913094997406,
          -2.3864786624908447,
          -3.212430477142334,
          -1.4645193815231323,
          -2.3500497341156006,
          -2.5238301753997803,
          -1.073312520980835,
          -2.1241953372955322,
          -0.9550104141235352,
          -2.558302402496338,
          -1.9745802879333496,
          -1.6693159341812134,
          -3.2651565074920654,
          0.43720462918281555,
          -2.0771052837371826,
          -0.47079095244407654,
          -2.385711669921875,
          -3.869523286819458,
          -1.2419538497924805,
          -2.987879991531372,
          -3.409803628921509,
          -2.586437940597534,
          -3.2677061557769775,
          10.594279289245605,
          -0.6250855326652527,
          -1.6167117357254028,
          -1.7290138006210327,
          -3.0077545642852783,
          0.2456187903881073,
          -2.101135730743408,
          -2.396055221557617,
          -4.001829624176025,
          1.0779204368591309,
          -2.9594345092773438,
          -2.2289865016937256,
          -0.5608372092247009,
          -2.985647678375244,
          -1.9030970335006714
         ],
         "y": [
          -1.3963122367858887,
          2.0881593227386475,
          2.1192920207977295,
          3.838672637939453,
          -2.7822179794311523,
          -2.537480354309082,
          -1.8048481941223145,
          0.5746883749961853,
          -1.685295581817627,
          1.0891544818878174,
          -0.519291877746582,
          0.7695633172988892,
          0.4210047423839569,
          0.037109460681676865,
          1.635943055152893,
          -3.3924334049224854,
          -2.300778388977051,
          -1.1511437892913818,
          0.418427437543869,
          3.3703789710998535,
          -2.192833423614502,
          -2.7358474731445312,
          -0.49425360560417175,
          -3.052889108657837,
          -3.8643252849578857,
          -1.9747787714004517,
          -3.4170565605163574,
          -0.4944346249103546,
          0.3085027039051056,
          -4.373822212219238,
          -3.4833948612213135,
          -0.8951257467269897,
          0.18746784329414368,
          -2.200291633605957,
          -3.7380104064941406,
          -0.7895014882087708,
          -2.5231361389160156,
          -2.107863664627075,
          1.9631805419921875,
          -4.297058582305908,
          -3.846628189086914,
          0.5212659239768982,
          0.7066394686698914,
          0.5687583088874817,
          0.5090546607971191,
          0.7104875445365906,
          0.17104920744895935,
          -0.5721673965454102,
          -1.2054160833358765,
          -2.450742244720459,
          -3.0721852779388428,
          -4.239500522613525,
          -2.7117724418640137,
          -3.2509100437164307,
          -1.8323289155960083,
          -1.1277145147323608,
          -3.233280897140503,
          -3.5156610012054443,
          3.2590386867523193,
          -2.9855995178222656,
          -1.5509734153747559,
          1.175982117652893,
          -3.8699209690093994,
          2.153599500656128,
          -2.693117618560791,
          -3.4087295532226562,
          -2.2426631450653076,
          -2.4635348320007324,
          -3.0951178073883057,
          -3.239515542984009,
          -5.005466461181641,
          3.341876268386841,
          -1.441848874092102,
          -3.5804338455200195,
          -1.7734898328781128,
          2.502249002456665,
          -0.8218351602554321,
          -1.3670666217803955,
          2.4118762016296387,
          0.6961733102798462,
          -2.824954032897949,
          -3.7709057331085205,
          -3.895512104034424,
          1.4821343421936035,
          -3.766071081161499,
          -0.506170392036438,
          -2.490161180496216,
          0.9502374529838562,
          -2.248389482498169,
          0.017104465514421463,
          -2.6197283267974854,
          0.21094563603401184,
          -3.8720662593841553,
          -4.219306945800781,
          -0.643670916557312,
          -2.7266123294830322,
          -2.6704254150390625,
          0.8828123211860657,
          -1.6824620962142944,
          -3.3401975631713867,
          2.149056911468506,
          1.9190661907196045,
          5.130668640136719,
          1.1722198724746704,
          2.7831599712371826,
          0.3619444668292999,
          -0.03372528403997421,
          8.929082870483398,
          2.282771348953247,
          -0.3446991741657257,
          9.075438499450684,
          3.3876140117645264,
          4.616354942321777,
          2.181333303451538,
          8.251501083374023,
          2.0551838874816895,
          4.710047245025635,
          4.934808731079102,
          1.4264464378356934,
          7.269501209259033,
          4.211049556732178,
          5.828123569488525,
          5.101189136505127,
          2.0829241275787354,
          1.6235164403915405,
          3.485308885574341,
          2.4298293590545654,
          3.8729403018951416,
          0.12944327294826508,
          1.0372484922409058,
          3.0632236003875732,
          4.695793628692627,
          3.52351975440979,
          2.2486324310302734,
          5.585170269012451,
          2.1739683151245117,
          5.731172561645508,
          1.9050275087356567
         ],
         "z": [
          -0.1540583372116089,
          -5.8215250968933105,
          -4.541635513305664,
          -3.0664122104644775,
          -0.7761015892028809,
          -2.85113263130188,
          0.7075105309486389,
          -2.6078734397888184,
          3.3708550930023193,
          0.27232304215431213,
          0.5336175560951233,
          -1.157259464263916,
          -4.670571327209473,
          -3.2929816246032715,
          -5.900761127471924,
          -2.4039223194122314,
          -0.7408294677734375,
          -1.7496193647384644,
          -4.435477256774902,
          -1.2273706197738647,
          1.542802333831787,
          -0.8985717296600342,
          -3.347712755203247,
          -0.12390823662281036,
          -1.179327130317688,
          1.3773207664489746,
          -0.8726874589920044,
          2.420642375946045,
          -2.9135217666625977,
          -0.9320998191833496,
          -0.6924445629119873,
          3.865917205810547,
          -1.5860435962677002,
          0.7448202967643738,
          -1.1835252046585083,
          2.3309781551361084,
          -0.7910309433937073,
          2.1185266971588135,
          -6.177850246429443,
          1.238581895828247,
          1.002026915550232,
          -0.531871497631073,
          -1.7247687578201294,
          -0.18050241470336914,
          -1.0804506540298462,
          -3.4611668586730957,
          -3.2622592449188232,
          -1.511763095855713,
          -0.9082322716712952,
          2.8916409015655518,
          -0.5186214447021484,
          -1.3025684356689453,
          0.2254030704498291,
          0.8728117346763611,
          0.5365637540817261,
          1.3538950681686401,
          0.46402180194854736,
          2.150963544845581,
          -1.6322424411773682,
          1.7030560970306396,
          -0.8158597350120544,
          -4.37366247177124,
          0.21345530450344086,
          -6.2758564949035645,
          -0.6612289547920227,
          -0.07919381558895111,
          0.4815671443939209,
          -1.9428893327713013,
          1.50533926486969,
          0.9747123122215271,
          -0.059105318039655685,
          -1.7046141624450684,
          -1.4498189687728882,
          -0.6704018115997314,
          1.7251546382904053,
          0.39663058519363403,
          -3.934983491897583,
          1.824803352355957,
          0.5059642195701599,
          -0.8135754466056824,
          3.173694610595703,
          0.42675623297691345,
          -0.2924824059009552,
          -0.7977915406227112,
          -0.5260104537010193,
          -0.1926877647638321,
          -0.24150195717811584,
          -0.5605127811431885,
          0.5557029247283936,
          -2.286980390548706,
          2.552354335784912,
          -3.8620431423187256,
          -0.5284900665283203,
          -1.5679211616516113,
          1.3971037864685059,
          -0.09573717415332794,
          2.9407858848571777,
          0.19150897860527039,
          1.4485986232757568,
          -1.364370584487915,
          4.182897090911865,
          1.0518038272857666,
          -0.6429956555366516,
          3.992328405380249,
          6.886690616607666,
          1.1489297151565552,
          1.6381937265396118,
          -2.322584390640259,
          2.5968987941741943,
          2.235124111175537,
          -2.3675920963287354,
          6.599113941192627,
          -0.5986148715019226,
          5.040159702301025,
          -1.4822475910186768,
          4.73937463760376,
          -0.0020634883549064398,
          1.3190078735351562,
          4.838078022003174,
          -0.5205775499343872,
          0.7611566781997681,
          0.9462955594062805,
          2.073652505874634,
          0.3669550120830536,
          -0.8925387859344482,
          0.880923867225647,
          6.456079959869385,
          0.7912216186523438,
          1.4172323942184448,
          -0.07040119916200638,
          7.234864711761475,
          0.43688103556632996,
          -4.115573883056641,
          1.6095937490463257,
          1.7504007816314697,
          5.629115104675293,
          2.3643486499786377,
          -0.7021223306655884
         ]
        }
       ],
       "layout": {
        "coloraxis": {
         "colorbar": {
          "title": {
           "text": "color"
          }
         },
         "colorscale": [
          [
           0,
           "#0d0887"
          ],
          [
           0.1111111111111111,
           "#46039f"
          ],
          [
           0.2222222222222222,
           "#7201a8"
          ],
          [
           0.3333333333333333,
           "#9c179e"
          ],
          [
           0.4444444444444444,
           "#bd3786"
          ],
          [
           0.5555555555555556,
           "#d8576b"
          ],
          [
           0.6666666666666666,
           "#ed7953"
          ],
          [
           0.7777777777777778,
           "#fb9f3a"
          ],
          [
           0.8888888888888888,
           "#fdca26"
          ],
          [
           1,
           "#f0f921"
          ]
         ]
        },
        "legend": {
         "tracegroupgap": 0
        },
        "scene": {
         "domain": {
          "x": [
           0,
           1
          ],
          "y": [
           0,
           1
          ]
         },
         "xaxis": {
          "title": {
           "text": "0"
          }
         },
         "yaxis": {
          "title": {
           "text": "1"
          }
         },
         "zaxis": {
          "title": {
           "text": "2"
          }
         }
        },
        "template": {
         "data": {
          "bar": [
           {
            "error_x": {
             "color": "#2a3f5f"
            },
            "error_y": {
             "color": "#2a3f5f"
            },
            "marker": {
             "line": {
              "color": "#E5ECF6",
              "width": 0.5
             },
             "pattern": {
              "fillmode": "overlay",
              "size": 10,
              "solidity": 0.2
             }
            },
            "type": "bar"
           }
          ],
          "barpolar": [
           {
            "marker": {
             "line": {
              "color": "#E5ECF6",
              "width": 0.5
             },
             "pattern": {
              "fillmode": "overlay",
              "size": 10,
              "solidity": 0.2
             }
            },
            "type": "barpolar"
           }
          ],
          "carpet": [
           {
            "aaxis": {
             "endlinecolor": "#2a3f5f",
             "gridcolor": "white",
             "linecolor": "white",
             "minorgridcolor": "white",
             "startlinecolor": "#2a3f5f"
            },
            "baxis": {
             "endlinecolor": "#2a3f5f",
             "gridcolor": "white",
             "linecolor": "white",
             "minorgridcolor": "white",
             "startlinecolor": "#2a3f5f"
            },
            "type": "carpet"
           }
          ],
          "choropleth": [
           {
            "colorbar": {
             "outlinewidth": 0,
             "ticks": ""
            },
            "type": "choropleth"
           }
          ],
          "contour": [
           {
            "colorbar": {
             "outlinewidth": 0,
             "ticks": ""
            },
            "colorscale": [
             [
              0,
              "#0d0887"
             ],
             [
              0.1111111111111111,
              "#46039f"
             ],
             [
              0.2222222222222222,
              "#7201a8"
             ],
             [
              0.3333333333333333,
              "#9c179e"
             ],
             [
              0.4444444444444444,
              "#bd3786"
             ],
             [
              0.5555555555555556,
              "#d8576b"
             ],
             [
              0.6666666666666666,
              "#ed7953"
             ],
             [
              0.7777777777777778,
              "#fb9f3a"
             ],
             [
              0.8888888888888888,
              "#fdca26"
             ],
             [
              1,
              "#f0f921"
             ]
            ],
            "type": "contour"
           }
          ],
          "contourcarpet": [
           {
            "colorbar": {
             "outlinewidth": 0,
             "ticks": ""
            },
            "type": "contourcarpet"
           }
          ],
          "heatmap": [
           {
            "colorbar": {
             "outlinewidth": 0,
             "ticks": ""
            },
            "colorscale": [
             [
              0,
              "#0d0887"
             ],
             [
              0.1111111111111111,
              "#46039f"
             ],
             [
              0.2222222222222222,
              "#7201a8"
             ],
             [
              0.3333333333333333,
              "#9c179e"
             ],
             [
              0.4444444444444444,
              "#bd3786"
             ],
             [
              0.5555555555555556,
              "#d8576b"
             ],
             [
              0.6666666666666666,
              "#ed7953"
             ],
             [
              0.7777777777777778,
              "#fb9f3a"
             ],
             [
              0.8888888888888888,
              "#fdca26"
             ],
             [
              1,
              "#f0f921"
             ]
            ],
            "type": "heatmap"
           }
          ],
          "heatmapgl": [
           {
            "colorbar": {
             "outlinewidth": 0,
             "ticks": ""
            },
            "colorscale": [
             [
              0,
              "#0d0887"
             ],
             [
              0.1111111111111111,
              "#46039f"
             ],
             [
              0.2222222222222222,
              "#7201a8"
             ],
             [
              0.3333333333333333,
              "#9c179e"
             ],
             [
              0.4444444444444444,
              "#bd3786"
             ],
             [
              0.5555555555555556,
              "#d8576b"
             ],
             [
              0.6666666666666666,
              "#ed7953"
             ],
             [
              0.7777777777777778,
              "#fb9f3a"
             ],
             [
              0.8888888888888888,
              "#fdca26"
             ],
             [
              1,
              "#f0f921"
             ]
            ],
            "type": "heatmapgl"
           }
          ],
          "histogram": [
           {
            "marker": {
             "pattern": {
              "fillmode": "overlay",
              "size": 10,
              "solidity": 0.2
             }
            },
            "type": "histogram"
           }
          ],
          "histogram2d": [
           {
            "colorbar": {
             "outlinewidth": 0,
             "ticks": ""
            },
            "colorscale": [
             [
              0,
              "#0d0887"
             ],
             [
              0.1111111111111111,
              "#46039f"
             ],
             [
              0.2222222222222222,
              "#7201a8"
             ],
             [
              0.3333333333333333,
              "#9c179e"
             ],
             [
              0.4444444444444444,
              "#bd3786"
             ],
             [
              0.5555555555555556,
              "#d8576b"
             ],
             [
              0.6666666666666666,
              "#ed7953"
             ],
             [
              0.7777777777777778,
              "#fb9f3a"
             ],
             [
              0.8888888888888888,
              "#fdca26"
             ],
             [
              1,
              "#f0f921"
             ]
            ],
            "type": "histogram2d"
           }
          ],
          "histogram2dcontour": [
           {
            "colorbar": {
             "outlinewidth": 0,
             "ticks": ""
            },
            "colorscale": [
             [
              0,
              "#0d0887"
             ],
             [
              0.1111111111111111,
              "#46039f"
             ],
             [
              0.2222222222222222,
              "#7201a8"
             ],
             [
              0.3333333333333333,
              "#9c179e"
             ],
             [
              0.4444444444444444,
              "#bd3786"
             ],
             [
              0.5555555555555556,
              "#d8576b"
             ],
             [
              0.6666666666666666,
              "#ed7953"
             ],
             [
              0.7777777777777778,
              "#fb9f3a"
             ],
             [
              0.8888888888888888,
              "#fdca26"
             ],
             [
              1,
              "#f0f921"
             ]
            ],
            "type": "histogram2dcontour"
           }
          ],
          "mesh3d": [
           {
            "colorbar": {
             "outlinewidth": 0,
             "ticks": ""
            },
            "type": "mesh3d"
           }
          ],
          "parcoords": [
           {
            "line": {
             "colorbar": {
              "outlinewidth": 0,
              "ticks": ""
             }
            },
            "type": "parcoords"
           }
          ],
          "pie": [
           {
            "automargin": true,
            "type": "pie"
           }
          ],
          "scatter": [
           {
            "marker": {
             "colorbar": {
              "outlinewidth": 0,
              "ticks": ""
             }
            },
            "type": "scatter"
           }
          ],
          "scatter3d": [
           {
            "line": {
             "colorbar": {
              "outlinewidth": 0,
              "ticks": ""
             }
            },
            "marker": {
             "colorbar": {
              "outlinewidth": 0,
              "ticks": ""
             }
            },
            "type": "scatter3d"
           }
          ],
          "scattercarpet": [
           {
            "marker": {
             "colorbar": {
              "outlinewidth": 0,
              "ticks": ""
             }
            },
            "type": "scattercarpet"
           }
          ],
          "scattergeo": [
           {
            "marker": {
             "colorbar": {
              "outlinewidth": 0,
              "ticks": ""
             }
            },
            "type": "scattergeo"
           }
          ],
          "scattergl": [
           {
            "marker": {
             "colorbar": {
              "outlinewidth": 0,
              "ticks": ""
             }
            },
            "type": "scattergl"
           }
          ],
          "scattermapbox": [
           {
            "marker": {
             "colorbar": {
              "outlinewidth": 0,
              "ticks": ""
             }
            },
            "type": "scattermapbox"
           }
          ],
          "scatterpolar": [
           {
            "marker": {
             "colorbar": {
              "outlinewidth": 0,
              "ticks": ""
             }
            },
            "type": "scatterpolar"
           }
          ],
          "scatterpolargl": [
           {
            "marker": {
             "colorbar": {
              "outlinewidth": 0,
              "ticks": ""
             }
            },
            "type": "scatterpolargl"
           }
          ],
          "scatterternary": [
           {
            "marker": {
             "colorbar": {
              "outlinewidth": 0,
              "ticks": ""
             }
            },
            "type": "scatterternary"
           }
          ],
          "surface": [
           {
            "colorbar": {
             "outlinewidth": 0,
             "ticks": ""
            },
            "colorscale": [
             [
              0,
              "#0d0887"
             ],
             [
              0.1111111111111111,
              "#46039f"
             ],
             [
              0.2222222222222222,
              "#7201a8"
             ],
             [
              0.3333333333333333,
              "#9c179e"
             ],
             [
              0.4444444444444444,
              "#bd3786"
             ],
             [
              0.5555555555555556,
              "#d8576b"
             ],
             [
              0.6666666666666666,
              "#ed7953"
             ],
             [
              0.7777777777777778,
              "#fb9f3a"
             ],
             [
              0.8888888888888888,
              "#fdca26"
             ],
             [
              1,
              "#f0f921"
             ]
            ],
            "type": "surface"
           }
          ],
          "table": [
           {
            "cells": {
             "fill": {
              "color": "#EBF0F8"
             },
             "line": {
              "color": "white"
             }
            },
            "header": {
             "fill": {
              "color": "#C8D4E3"
             },
             "line": {
              "color": "white"
             }
            },
            "type": "table"
           }
          ]
         },
         "layout": {
          "annotationdefaults": {
           "arrowcolor": "#2a3f5f",
           "arrowhead": 0,
           "arrowwidth": 1
          },
          "autotypenumbers": "strict",
          "coloraxis": {
           "colorbar": {
            "outlinewidth": 0,
            "ticks": ""
           }
          },
          "colorscale": {
           "diverging": [
            [
             0,
             "#8e0152"
            ],
            [
             0.1,
             "#c51b7d"
            ],
            [
             0.2,
             "#de77ae"
            ],
            [
             0.3,
             "#f1b6da"
            ],
            [
             0.4,
             "#fde0ef"
            ],
            [
             0.5,
             "#f7f7f7"
            ],
            [
             0.6,
             "#e6f5d0"
            ],
            [
             0.7,
             "#b8e186"
            ],
            [
             0.8,
             "#7fbc41"
            ],
            [
             0.9,
             "#4d9221"
            ],
            [
             1,
             "#276419"
            ]
           ],
           "sequential": [
            [
             0,
             "#0d0887"
            ],
            [
             0.1111111111111111,
             "#46039f"
            ],
            [
             0.2222222222222222,
             "#7201a8"
            ],
            [
             0.3333333333333333,
             "#9c179e"
            ],
            [
             0.4444444444444444,
             "#bd3786"
            ],
            [
             0.5555555555555556,
             "#d8576b"
            ],
            [
             0.6666666666666666,
             "#ed7953"
            ],
            [
             0.7777777777777778,
             "#fb9f3a"
            ],
            [
             0.8888888888888888,
             "#fdca26"
            ],
            [
             1,
             "#f0f921"
            ]
           ],
           "sequentialminus": [
            [
             0,
             "#0d0887"
            ],
            [
             0.1111111111111111,
             "#46039f"
            ],
            [
             0.2222222222222222,
             "#7201a8"
            ],
            [
             0.3333333333333333,
             "#9c179e"
            ],
            [
             0.4444444444444444,
             "#bd3786"
            ],
            [
             0.5555555555555556,
             "#d8576b"
            ],
            [
             0.6666666666666666,
             "#ed7953"
            ],
            [
             0.7777777777777778,
             "#fb9f3a"
            ],
            [
             0.8888888888888888,
             "#fdca26"
            ],
            [
             1,
             "#f0f921"
            ]
           ]
          },
          "colorway": [
           "#636efa",
           "#EF553B",
           "#00cc96",
           "#ab63fa",
           "#FFA15A",
           "#19d3f3",
           "#FF6692",
           "#B6E880",
           "#FF97FF",
           "#FECB52"
          ],
          "font": {
           "color": "#2a3f5f"
          },
          "geo": {
           "bgcolor": "white",
           "lakecolor": "white",
           "landcolor": "#E5ECF6",
           "showlakes": true,
           "showland": true,
           "subunitcolor": "white"
          },
          "hoverlabel": {
           "align": "left"
          },
          "hovermode": "closest",
          "mapbox": {
           "style": "light"
          },
          "paper_bgcolor": "white",
          "plot_bgcolor": "#E5ECF6",
          "polar": {
           "angularaxis": {
            "gridcolor": "white",
            "linecolor": "white",
            "ticks": ""
           },
           "bgcolor": "#E5ECF6",
           "radialaxis": {
            "gridcolor": "white",
            "linecolor": "white",
            "ticks": ""
           }
          },
          "scene": {
           "xaxis": {
            "backgroundcolor": "#E5ECF6",
            "gridcolor": "white",
            "gridwidth": 2,
            "linecolor": "white",
            "showbackground": true,
            "ticks": "",
            "zerolinecolor": "white"
           },
           "yaxis": {
            "backgroundcolor": "#E5ECF6",
            "gridcolor": "white",
            "gridwidth": 2,
            "linecolor": "white",
            "showbackground": true,
            "ticks": "",
            "zerolinecolor": "white"
           },
           "zaxis": {
            "backgroundcolor": "#E5ECF6",
            "gridcolor": "white",
            "gridwidth": 2,
            "linecolor": "white",
            "showbackground": true,
            "ticks": "",
            "zerolinecolor": "white"
           }
          },
          "shapedefaults": {
           "line": {
            "color": "#2a3f5f"
           }
          },
          "ternary": {
           "aaxis": {
            "gridcolor": "white",
            "linecolor": "white",
            "ticks": ""
           },
           "baxis": {
            "gridcolor": "white",
            "linecolor": "white",
            "ticks": ""
           },
           "bgcolor": "#E5ECF6",
           "caxis": {
            "gridcolor": "white",
            "linecolor": "white",
            "ticks": ""
           }
          },
          "title": {
           "x": 0.05
          },
          "xaxis": {
           "automargin": true,
           "gridcolor": "white",
           "linecolor": "white",
           "ticks": "",
           "title": {
            "standoff": 15
           },
           "zerolinecolor": "white",
           "zerolinewidth": 2
          },
          "yaxis": {
           "automargin": true,
           "gridcolor": "white",
           "linecolor": "white",
           "ticks": "",
           "title": {
            "standoff": 15
           },
           "zerolinecolor": "white",
           "zerolinewidth": 2
          }
         }
        },
        "title": {
         "text": "замок, -0.07179781270596061"
        }
       }
      },
      "text/html": [
       "<div>                            <div id=\"a5afb23f-26e6-415d-b386-e8a8c372107c\" class=\"plotly-graph-div\" style=\"height:525px; width:100%;\"></div>            <script type=\"text/javascript\">                require([\"plotly\"], function(Plotly) {                    window.PLOTLYENV=window.PLOTLYENV || {};                                    if (document.getElementById(\"a5afb23f-26e6-415d-b386-e8a8c372107c\")) {                    Plotly.newPlot(                        \"a5afb23f-26e6-415d-b386-e8a8c372107c\",                        [{\"hovertemplate\":\"0=%{x}<br>1=%{y}<br>2=%{z}<br>color=%{marker.color}<extra></extra>\",\"legendgroup\":\"\",\"marker\":{\"color\":[1,1,1,1,1,1,1,1,1,1,1,1,1,1,1,1,1,1,1,1,1,1,1,1,1,1,1,1,1,1,1,1,1,1,1,1,1,1,1,1,1,1,1,1,1,1,1,1,1,1,1,1,1,1,1,1,1,1,1,1,1,1,1,1,1,1,1,1,1,1,1,1,1,1,1,1,1,1,1,1,1,1,1,1,1,1,1,1,1,1,1,1,1,1,1,1,1,1,1,1,2,2,2,2,2,2,2,2,2,2,2,2,2,2,2,2,2,2,2,2,2,2,2,2,2,2,2,2,2,2,2,2,2,2,2,2,2,2],\"coloraxis\":\"coloraxis\",\"symbol\":\"circle\"},\"mode\":\"markers\",\"name\":\"\",\"scene\":\"scene\",\"showlegend\":false,\"type\":\"scatter3d\",\"x\":[6.202787399291992,-1.9036225080490112,-0.903789222240448,-1.4935511350631714,-2.0684125423431396,-1.9085198640823364,-2.0925533771514893,-3.208404779434204,-1.2395713329315186,14.277198791503906,7.811011791229248,13.094878196716309,-2.8393640518188477,-1.630061149597168,-2.225490093231201,-1.5461865663528442,-1.6713494062423706,-0.08827944099903107,-3.2041354179382324,-1.7417408227920532,-1.0506975650787354,-2.0276005268096924,-2.937378406524658,-0.4876211881637573,-2.766606330871582,1.124876856803894,-0.34350892901420593,-0.29288995265960693,-2.841475486755371,-1.241184949874878,-1.7098476886749268,-1.0321590900421143,-1.3787128925323486,-0.3301968276500702,-1.7971547842025757,-1.959126591682434,-1.1692843437194824,-1.2313392162322998,-1.588358998298645,-2.253997802734375,-1.8837591409683228,13.328064918518066,11.376728057861328,13.538026809692383,-2.8200180530548096,-1.9993611574172974,-2.578517198562622,-0.4150097072124481,1.3062752485275269,-1.3451296091079712,-1.5467000007629395,-0.8741718530654907,-0.26244139671325684,-0.7750834226608276,6.234752655029297,0.07708409428596497,-0.5883604884147644,-1.9064396619796753,-1.2718663215637207,-0.8043711185455322,3.3530828952789307,-1.3423432111740112,-1.2078901529312134,-2.24607253074646,-1.056440830230713,-1.3121873140335083,-0.5582385063171387,-1.9357020854949951,-1.2621392011642456,-0.27150970697402954,-1.7708789110183716,-1.9651120901107788,-2.237185001373291,-1.933186411857605,-1.180137276649475,13.184532165527344,-2.1290695667266846,-2.0061299800872803,13.10828971862793,13.662116050720215,-0.08533798903226852,-0.708980143070221,-1.1824556589126587,11.856402397155762,-3.2481062412261963,12.633404731750488,-2.823669672012329,12.424805641174316,-0.6174739599227905,-1.8460958003997803,-0.07235021889209747,-2.6389124393463135,-0.545278787612915,-0.21698202192783356,-1.187682867050171,-0.326829731464386,-0.7098992466926575,12.920465469360352,-0.8749270439147949,0.26361140608787537,-1.38913094997406,-2.3864786624908447,-3.212430477142334,-1.4645193815231323,-2.3500497341156006,-2.5238301753997803,-1.073312520980835,-2.1241953372955322,-0.9550104141235352,-2.558302402496338,-1.9745802879333496,-1.6693159341812134,-3.2651565074920654,0.43720462918281555,-2.0771052837371826,-0.47079095244407654,-2.385711669921875,-3.869523286819458,-1.2419538497924805,-2.987879991531372,-3.409803628921509,-2.586437940597534,-3.2677061557769775,10.594279289245605,-0.6250855326652527,-1.6167117357254028,-1.7290138006210327,-3.0077545642852783,0.2456187903881073,-2.101135730743408,-2.396055221557617,-4.001829624176025,1.0779204368591309,-2.9594345092773438,-2.2289865016937256,-0.5608372092247009,-2.985647678375244,-1.9030970335006714],\"y\":[-1.3963122367858887,2.0881593227386475,2.1192920207977295,3.838672637939453,-2.7822179794311523,-2.537480354309082,-1.8048481941223145,0.5746883749961853,-1.685295581817627,1.0891544818878174,-0.519291877746582,0.7695633172988892,0.4210047423839569,0.037109460681676865,1.635943055152893,-3.3924334049224854,-2.300778388977051,-1.1511437892913818,0.418427437543869,3.3703789710998535,-2.192833423614502,-2.7358474731445312,-0.49425360560417175,-3.052889108657837,-3.8643252849578857,-1.9747787714004517,-3.4170565605163574,-0.4944346249103546,0.3085027039051056,-4.373822212219238,-3.4833948612213135,-0.8951257467269897,0.18746784329414368,-2.200291633605957,-3.7380104064941406,-0.7895014882087708,-2.5231361389160156,-2.107863664627075,1.9631805419921875,-4.297058582305908,-3.846628189086914,0.5212659239768982,0.7066394686698914,0.5687583088874817,0.5090546607971191,0.7104875445365906,0.17104920744895935,-0.5721673965454102,-1.2054160833358765,-2.450742244720459,-3.0721852779388428,-4.239500522613525,-2.7117724418640137,-3.2509100437164307,-1.8323289155960083,-1.1277145147323608,-3.233280897140503,-3.5156610012054443,3.2590386867523193,-2.9855995178222656,-1.5509734153747559,1.175982117652893,-3.8699209690093994,2.153599500656128,-2.693117618560791,-3.4087295532226562,-2.2426631450653076,-2.4635348320007324,-3.0951178073883057,-3.239515542984009,-5.005466461181641,3.341876268386841,-1.441848874092102,-3.5804338455200195,-1.7734898328781128,2.502249002456665,-0.8218351602554321,-1.3670666217803955,2.4118762016296387,0.6961733102798462,-2.824954032897949,-3.7709057331085205,-3.895512104034424,1.4821343421936035,-3.766071081161499,-0.506170392036438,-2.490161180496216,0.9502374529838562,-2.248389482498169,0.017104465514421463,-2.6197283267974854,0.21094563603401184,-3.8720662593841553,-4.219306945800781,-0.643670916557312,-2.7266123294830322,-2.6704254150390625,0.8828123211860657,-1.6824620962142944,-3.3401975631713867,2.149056911468506,1.9190661907196045,5.130668640136719,1.1722198724746704,2.7831599712371826,0.3619444668292999,-0.03372528403997421,8.929082870483398,2.282771348953247,-0.3446991741657257,9.075438499450684,3.3876140117645264,4.616354942321777,2.181333303451538,8.251501083374023,2.0551838874816895,4.710047245025635,4.934808731079102,1.4264464378356934,7.269501209259033,4.211049556732178,5.828123569488525,5.101189136505127,2.0829241275787354,1.6235164403915405,3.485308885574341,2.4298293590545654,3.8729403018951416,0.12944327294826508,1.0372484922409058,3.0632236003875732,4.695793628692627,3.52351975440979,2.2486324310302734,5.585170269012451,2.1739683151245117,5.731172561645508,1.9050275087356567],\"z\":[-0.1540583372116089,-5.8215250968933105,-4.541635513305664,-3.0664122104644775,-0.7761015892028809,-2.85113263130188,0.7075105309486389,-2.6078734397888184,3.3708550930023193,0.27232304215431213,0.5336175560951233,-1.157259464263916,-4.670571327209473,-3.2929816246032715,-5.900761127471924,-2.4039223194122314,-0.7408294677734375,-1.7496193647384644,-4.435477256774902,-1.2273706197738647,1.542802333831787,-0.8985717296600342,-3.347712755203247,-0.12390823662281036,-1.179327130317688,1.3773207664489746,-0.8726874589920044,2.420642375946045,-2.9135217666625977,-0.9320998191833496,-0.6924445629119873,3.865917205810547,-1.5860435962677002,0.7448202967643738,-1.1835252046585083,2.3309781551361084,-0.7910309433937073,2.1185266971588135,-6.177850246429443,1.238581895828247,1.002026915550232,-0.531871497631073,-1.7247687578201294,-0.18050241470336914,-1.0804506540298462,-3.4611668586730957,-3.2622592449188232,-1.511763095855713,-0.9082322716712952,2.8916409015655518,-0.5186214447021484,-1.3025684356689453,0.2254030704498291,0.8728117346763611,0.5365637540817261,1.3538950681686401,0.46402180194854736,2.150963544845581,-1.6322424411773682,1.7030560970306396,-0.8158597350120544,-4.37366247177124,0.21345530450344086,-6.2758564949035645,-0.6612289547920227,-0.07919381558895111,0.4815671443939209,-1.9428893327713013,1.50533926486969,0.9747123122215271,-0.059105318039655685,-1.7046141624450684,-1.4498189687728882,-0.6704018115997314,1.7251546382904053,0.39663058519363403,-3.934983491897583,1.824803352355957,0.5059642195701599,-0.8135754466056824,3.173694610595703,0.42675623297691345,-0.2924824059009552,-0.7977915406227112,-0.5260104537010193,-0.1926877647638321,-0.24150195717811584,-0.5605127811431885,0.5557029247283936,-2.286980390548706,2.552354335784912,-3.8620431423187256,-0.5284900665283203,-1.5679211616516113,1.3971037864685059,-0.09573717415332794,2.9407858848571777,0.19150897860527039,1.4485986232757568,-1.364370584487915,4.182897090911865,1.0518038272857666,-0.6429956555366516,3.992328405380249,6.886690616607666,1.1489297151565552,1.6381937265396118,-2.322584390640259,2.5968987941741943,2.235124111175537,-2.3675920963287354,6.599113941192627,-0.5986148715019226,5.040159702301025,-1.4822475910186768,4.73937463760376,-0.0020634883549064398,1.3190078735351562,4.838078022003174,-0.5205775499343872,0.7611566781997681,0.9462955594062805,2.073652505874634,0.3669550120830536,-0.8925387859344482,0.880923867225647,6.456079959869385,0.7912216186523438,1.4172323942184448,-0.07040119916200638,7.234864711761475,0.43688103556632996,-4.115573883056641,1.6095937490463257,1.7504007816314697,5.629115104675293,2.3643486499786377,-0.7021223306655884]}],                        {\"coloraxis\":{\"colorbar\":{\"title\":{\"text\":\"color\"}},\"colorscale\":[[0.0,\"#0d0887\"],[0.1111111111111111,\"#46039f\"],[0.2222222222222222,\"#7201a8\"],[0.3333333333333333,\"#9c179e\"],[0.4444444444444444,\"#bd3786\"],[0.5555555555555556,\"#d8576b\"],[0.6666666666666666,\"#ed7953\"],[0.7777777777777778,\"#fb9f3a\"],[0.8888888888888888,\"#fdca26\"],[1.0,\"#f0f921\"]]},\"legend\":{\"tracegroupgap\":0},\"scene\":{\"domain\":{\"x\":[0.0,1.0],\"y\":[0.0,1.0]},\"xaxis\":{\"title\":{\"text\":\"0\"}},\"yaxis\":{\"title\":{\"text\":\"1\"}},\"zaxis\":{\"title\":{\"text\":\"2\"}}},\"template\":{\"data\":{\"bar\":[{\"error_x\":{\"color\":\"#2a3f5f\"},\"error_y\":{\"color\":\"#2a3f5f\"},\"marker\":{\"line\":{\"color\":\"#E5ECF6\",\"width\":0.5},\"pattern\":{\"fillmode\":\"overlay\",\"size\":10,\"solidity\":0.2}},\"type\":\"bar\"}],\"barpolar\":[{\"marker\":{\"line\":{\"color\":\"#E5ECF6\",\"width\":0.5},\"pattern\":{\"fillmode\":\"overlay\",\"size\":10,\"solidity\":0.2}},\"type\":\"barpolar\"}],\"carpet\":[{\"aaxis\":{\"endlinecolor\":\"#2a3f5f\",\"gridcolor\":\"white\",\"linecolor\":\"white\",\"minorgridcolor\":\"white\",\"startlinecolor\":\"#2a3f5f\"},\"baxis\":{\"endlinecolor\":\"#2a3f5f\",\"gridcolor\":\"white\",\"linecolor\":\"white\",\"minorgridcolor\":\"white\",\"startlinecolor\":\"#2a3f5f\"},\"type\":\"carpet\"}],\"choropleth\":[{\"colorbar\":{\"outlinewidth\":0,\"ticks\":\"\"},\"type\":\"choropleth\"}],\"contour\":[{\"colorbar\":{\"outlinewidth\":0,\"ticks\":\"\"},\"colorscale\":[[0.0,\"#0d0887\"],[0.1111111111111111,\"#46039f\"],[0.2222222222222222,\"#7201a8\"],[0.3333333333333333,\"#9c179e\"],[0.4444444444444444,\"#bd3786\"],[0.5555555555555556,\"#d8576b\"],[0.6666666666666666,\"#ed7953\"],[0.7777777777777778,\"#fb9f3a\"],[0.8888888888888888,\"#fdca26\"],[1.0,\"#f0f921\"]],\"type\":\"contour\"}],\"contourcarpet\":[{\"colorbar\":{\"outlinewidth\":0,\"ticks\":\"\"},\"type\":\"contourcarpet\"}],\"heatmap\":[{\"colorbar\":{\"outlinewidth\":0,\"ticks\":\"\"},\"colorscale\":[[0.0,\"#0d0887\"],[0.1111111111111111,\"#46039f\"],[0.2222222222222222,\"#7201a8\"],[0.3333333333333333,\"#9c179e\"],[0.4444444444444444,\"#bd3786\"],[0.5555555555555556,\"#d8576b\"],[0.6666666666666666,\"#ed7953\"],[0.7777777777777778,\"#fb9f3a\"],[0.8888888888888888,\"#fdca26\"],[1.0,\"#f0f921\"]],\"type\":\"heatmap\"}],\"heatmapgl\":[{\"colorbar\":{\"outlinewidth\":0,\"ticks\":\"\"},\"colorscale\":[[0.0,\"#0d0887\"],[0.1111111111111111,\"#46039f\"],[0.2222222222222222,\"#7201a8\"],[0.3333333333333333,\"#9c179e\"],[0.4444444444444444,\"#bd3786\"],[0.5555555555555556,\"#d8576b\"],[0.6666666666666666,\"#ed7953\"],[0.7777777777777778,\"#fb9f3a\"],[0.8888888888888888,\"#fdca26\"],[1.0,\"#f0f921\"]],\"type\":\"heatmapgl\"}],\"histogram\":[{\"marker\":{\"pattern\":{\"fillmode\":\"overlay\",\"size\":10,\"solidity\":0.2}},\"type\":\"histogram\"}],\"histogram2d\":[{\"colorbar\":{\"outlinewidth\":0,\"ticks\":\"\"},\"colorscale\":[[0.0,\"#0d0887\"],[0.1111111111111111,\"#46039f\"],[0.2222222222222222,\"#7201a8\"],[0.3333333333333333,\"#9c179e\"],[0.4444444444444444,\"#bd3786\"],[0.5555555555555556,\"#d8576b\"],[0.6666666666666666,\"#ed7953\"],[0.7777777777777778,\"#fb9f3a\"],[0.8888888888888888,\"#fdca26\"],[1.0,\"#f0f921\"]],\"type\":\"histogram2d\"}],\"histogram2dcontour\":[{\"colorbar\":{\"outlinewidth\":0,\"ticks\":\"\"},\"colorscale\":[[0.0,\"#0d0887\"],[0.1111111111111111,\"#46039f\"],[0.2222222222222222,\"#7201a8\"],[0.3333333333333333,\"#9c179e\"],[0.4444444444444444,\"#bd3786\"],[0.5555555555555556,\"#d8576b\"],[0.6666666666666666,\"#ed7953\"],[0.7777777777777778,\"#fb9f3a\"],[0.8888888888888888,\"#fdca26\"],[1.0,\"#f0f921\"]],\"type\":\"histogram2dcontour\"}],\"mesh3d\":[{\"colorbar\":{\"outlinewidth\":0,\"ticks\":\"\"},\"type\":\"mesh3d\"}],\"parcoords\":[{\"line\":{\"colorbar\":{\"outlinewidth\":0,\"ticks\":\"\"}},\"type\":\"parcoords\"}],\"pie\":[{\"automargin\":true,\"type\":\"pie\"}],\"scatter\":[{\"marker\":{\"colorbar\":{\"outlinewidth\":0,\"ticks\":\"\"}},\"type\":\"scatter\"}],\"scatter3d\":[{\"line\":{\"colorbar\":{\"outlinewidth\":0,\"ticks\":\"\"}},\"marker\":{\"colorbar\":{\"outlinewidth\":0,\"ticks\":\"\"}},\"type\":\"scatter3d\"}],\"scattercarpet\":[{\"marker\":{\"colorbar\":{\"outlinewidth\":0,\"ticks\":\"\"}},\"type\":\"scattercarpet\"}],\"scattergeo\":[{\"marker\":{\"colorbar\":{\"outlinewidth\":0,\"ticks\":\"\"}},\"type\":\"scattergeo\"}],\"scattergl\":[{\"marker\":{\"colorbar\":{\"outlinewidth\":0,\"ticks\":\"\"}},\"type\":\"scattergl\"}],\"scattermapbox\":[{\"marker\":{\"colorbar\":{\"outlinewidth\":0,\"ticks\":\"\"}},\"type\":\"scattermapbox\"}],\"scatterpolar\":[{\"marker\":{\"colorbar\":{\"outlinewidth\":0,\"ticks\":\"\"}},\"type\":\"scatterpolar\"}],\"scatterpolargl\":[{\"marker\":{\"colorbar\":{\"outlinewidth\":0,\"ticks\":\"\"}},\"type\":\"scatterpolargl\"}],\"scatterternary\":[{\"marker\":{\"colorbar\":{\"outlinewidth\":0,\"ticks\":\"\"}},\"type\":\"scatterternary\"}],\"surface\":[{\"colorbar\":{\"outlinewidth\":0,\"ticks\":\"\"},\"colorscale\":[[0.0,\"#0d0887\"],[0.1111111111111111,\"#46039f\"],[0.2222222222222222,\"#7201a8\"],[0.3333333333333333,\"#9c179e\"],[0.4444444444444444,\"#bd3786\"],[0.5555555555555556,\"#d8576b\"],[0.6666666666666666,\"#ed7953\"],[0.7777777777777778,\"#fb9f3a\"],[0.8888888888888888,\"#fdca26\"],[1.0,\"#f0f921\"]],\"type\":\"surface\"}],\"table\":[{\"cells\":{\"fill\":{\"color\":\"#EBF0F8\"},\"line\":{\"color\":\"white\"}},\"header\":{\"fill\":{\"color\":\"#C8D4E3\"},\"line\":{\"color\":\"white\"}},\"type\":\"table\"}]},\"layout\":{\"annotationdefaults\":{\"arrowcolor\":\"#2a3f5f\",\"arrowhead\":0,\"arrowwidth\":1},\"autotypenumbers\":\"strict\",\"coloraxis\":{\"colorbar\":{\"outlinewidth\":0,\"ticks\":\"\"}},\"colorscale\":{\"diverging\":[[0,\"#8e0152\"],[0.1,\"#c51b7d\"],[0.2,\"#de77ae\"],[0.3,\"#f1b6da\"],[0.4,\"#fde0ef\"],[0.5,\"#f7f7f7\"],[0.6,\"#e6f5d0\"],[0.7,\"#b8e186\"],[0.8,\"#7fbc41\"],[0.9,\"#4d9221\"],[1,\"#276419\"]],\"sequential\":[[0.0,\"#0d0887\"],[0.1111111111111111,\"#46039f\"],[0.2222222222222222,\"#7201a8\"],[0.3333333333333333,\"#9c179e\"],[0.4444444444444444,\"#bd3786\"],[0.5555555555555556,\"#d8576b\"],[0.6666666666666666,\"#ed7953\"],[0.7777777777777778,\"#fb9f3a\"],[0.8888888888888888,\"#fdca26\"],[1.0,\"#f0f921\"]],\"sequentialminus\":[[0.0,\"#0d0887\"],[0.1111111111111111,\"#46039f\"],[0.2222222222222222,\"#7201a8\"],[0.3333333333333333,\"#9c179e\"],[0.4444444444444444,\"#bd3786\"],[0.5555555555555556,\"#d8576b\"],[0.6666666666666666,\"#ed7953\"],[0.7777777777777778,\"#fb9f3a\"],[0.8888888888888888,\"#fdca26\"],[1.0,\"#f0f921\"]]},\"colorway\":[\"#636efa\",\"#EF553B\",\"#00cc96\",\"#ab63fa\",\"#FFA15A\",\"#19d3f3\",\"#FF6692\",\"#B6E880\",\"#FF97FF\",\"#FECB52\"],\"font\":{\"color\":\"#2a3f5f\"},\"geo\":{\"bgcolor\":\"white\",\"lakecolor\":\"white\",\"landcolor\":\"#E5ECF6\",\"showlakes\":true,\"showland\":true,\"subunitcolor\":\"white\"},\"hoverlabel\":{\"align\":\"left\"},\"hovermode\":\"closest\",\"mapbox\":{\"style\":\"light\"},\"paper_bgcolor\":\"white\",\"plot_bgcolor\":\"#E5ECF6\",\"polar\":{\"angularaxis\":{\"gridcolor\":\"white\",\"linecolor\":\"white\",\"ticks\":\"\"},\"bgcolor\":\"#E5ECF6\",\"radialaxis\":{\"gridcolor\":\"white\",\"linecolor\":\"white\",\"ticks\":\"\"}},\"scene\":{\"xaxis\":{\"backgroundcolor\":\"#E5ECF6\",\"gridcolor\":\"white\",\"gridwidth\":2,\"linecolor\":\"white\",\"showbackground\":true,\"ticks\":\"\",\"zerolinecolor\":\"white\"},\"yaxis\":{\"backgroundcolor\":\"#E5ECF6\",\"gridcolor\":\"white\",\"gridwidth\":2,\"linecolor\":\"white\",\"showbackground\":true,\"ticks\":\"\",\"zerolinecolor\":\"white\"},\"zaxis\":{\"backgroundcolor\":\"#E5ECF6\",\"gridcolor\":\"white\",\"gridwidth\":2,\"linecolor\":\"white\",\"showbackground\":true,\"ticks\":\"\",\"zerolinecolor\":\"white\"}},\"shapedefaults\":{\"line\":{\"color\":\"#2a3f5f\"}},\"ternary\":{\"aaxis\":{\"gridcolor\":\"white\",\"linecolor\":\"white\",\"ticks\":\"\"},\"baxis\":{\"gridcolor\":\"white\",\"linecolor\":\"white\",\"ticks\":\"\"},\"bgcolor\":\"#E5ECF6\",\"caxis\":{\"gridcolor\":\"white\",\"linecolor\":\"white\",\"ticks\":\"\"}},\"title\":{\"x\":0.05},\"xaxis\":{\"automargin\":true,\"gridcolor\":\"white\",\"linecolor\":\"white\",\"ticks\":\"\",\"title\":{\"standoff\":15},\"zerolinecolor\":\"white\",\"zerolinewidth\":2},\"yaxis\":{\"automargin\":true,\"gridcolor\":\"white\",\"linecolor\":\"white\",\"ticks\":\"\",\"title\":{\"standoff\":15},\"zerolinecolor\":\"white\",\"zerolinewidth\":2}}},\"title\":{\"text\":\"\\u0437\\u0430\\u043c\\u043e\\u043a, -0.07179781270596061\"}},                        {\"responsive\": true}                    ).then(function(){\n",
       "                            \n",
       "var gd = document.getElementById('a5afb23f-26e6-415d-b386-e8a8c372107c');\n",
       "var x = new MutationObserver(function (mutations, observer) {{\n",
       "        var display = window.getComputedStyle(gd).display;\n",
       "        if (!display || display === 'none') {{\n",
       "            console.log([gd, 'removed!']);\n",
       "            Plotly.purge(gd);\n",
       "            observer.disconnect();\n",
       "        }}\n",
       "}});\n",
       "\n",
       "// Listen for the removal of the full notebook cells\n",
       "var notebookContainer = gd.closest('#notebook-container');\n",
       "if (notebookContainer) {{\n",
       "    x.observe(notebookContainer, {childList: true});\n",
       "}}\n",
       "\n",
       "// Listen for the clearing of the current output cell\n",
       "var outputEl = gd.closest('.output');\n",
       "if (outputEl) {{\n",
       "    x.observe(outputEl, {childList: true});\n",
       "}}\n",
       "\n",
       "                        })                };                });            </script>        </div>"
      ]
     },
     "metadata": {},
     "output_type": "display_data"
    },
    {
     "data": {
      "application/vnd.plotly.v1+json": {
       "config": {
        "plotlyServerURL": "https://plot.ly"
       },
       "data": [
        {
         "hovertemplate": "0=%{x}<br>1=%{y}<br>2=%{z}<br>color=%{marker.color}<extra></extra>",
         "legendgroup": "",
         "marker": {
          "color": [
           1,
           1,
           1,
           1,
           1,
           1,
           1,
           1,
           1,
           1,
           1,
           1,
           1,
           1,
           1,
           1,
           1,
           1,
           1,
           1,
           1,
           1,
           1,
           1,
           1,
           1,
           1,
           1,
           1,
           1,
           1,
           1,
           1,
           1,
           1,
           1,
           1,
           1,
           1,
           1,
           1,
           1,
           1,
           1,
           1,
           1,
           1,
           1,
           1,
           1,
           1,
           1,
           1,
           1,
           1,
           1,
           1,
           1,
           1,
           1,
           1,
           1,
           1,
           1,
           1,
           2,
           2,
           2,
           2,
           2,
           2,
           2,
           2,
           2,
           2,
           2,
           2,
           2,
           2,
           2,
           2,
           2,
           2,
           2,
           2,
           2,
           2,
           2,
           2,
           2,
           2,
           2,
           2,
           2,
           2,
           2,
           2,
           2,
           2,
           2,
           2,
           2,
           2,
           2,
           2,
           2,
           2,
           2,
           2,
           2
          ],
          "coloraxis": "coloraxis",
          "symbol": "circle"
         },
         "mode": "markers",
         "name": "",
         "scene": "scene",
         "showlegend": false,
         "type": "scatter3d",
         "x": [
          -4.28010892868042,
          -1.562911033630371,
          -5.643475532531738,
          -4.292251110076904,
          -3.803520441055298,
          -3.4683406352996826,
          -2.423006057739258,
          -0.8918818831443787,
          -3.5412187576293945,
          -4.62060546875,
          -4.158604621887207,
          -4.101646423339844,
          -4.472917079925537,
          -1.5136443376541138,
          -3.5458297729492188,
          -2.880603313446045,
          10.522027969360352,
          -4.565348148345947,
          -3.9529800415039062,
          -3.345214605331421,
          -3.5032379627227783,
          -2.5171523094177246,
          -2.7628355026245117,
          -4.9598870277404785,
          -4.127788543701172,
          -4.431976795196533,
          -3.3934011459350586,
          -3.401568651199341,
          11.066160202026367,
          -2.1270241737365723,
          -3.9918668270111084,
          -2.8239240646362305,
          -3.9607272148132324,
          -4.6087727546691895,
          -3.0412888526916504,
          -3.841799020767212,
          -3.7260472774505615,
          -4.018991470336914,
          -4.022531509399414,
          -3.1334903240203857,
          -3.077768087387085,
          -2.6493191719055176,
          -2.502389907836914,
          8.639951705932617,
          -2.2979938983917236,
          -4.332857608795166,
          -3.5428547859191895,
          -4.336397171020508,
          -2.736643075942993,
          -3.7260854244232178,
          -1.1255767345428467,
          -4.158775329589844,
          -4.316425323486328,
          -3.3065319061279297,
          -4.2369065284729,
          -2.9806807041168213,
          -3.1380646228790283,
          -2.572887659072876,
          -4.391581058502197,
          -2.491849184036255,
          0.6811924576759338,
          -1.1758724451065063,
          -1.2993799448013306,
          -4.277956485748291,
          5.668116569519043,
          12.821799278259277,
          10.557801246643066,
          13.140645027160645,
          12.549602508544922,
          9.622056007385254,
          -1.9415407180786133,
          12.779547691345215,
          12.633429527282715,
          12.133280754089355,
          -4.4331231117248535,
          11.905571937561035,
          11.992502212524414,
          -1.571226716041565,
          -3.849367141723633,
          -2.7874855995178223,
          8.60649585723877,
          -1.6983866691589355,
          12.657413482666016,
          -2.1971774101257324,
          -4.167977333068848,
          -1.358988642692566,
          -2.140873670578003,
          7.438913822174072,
          -2.4027769565582275,
          -0.9720506072044373,
          -2.5478291511535645,
          -1.076263189315796,
          -1.731885313987732,
          -0.4721013605594635,
          10.95756721496582,
          -2.8664774894714355,
          -3.7933237552642822,
          -0.3099433481693268,
          12.43722915649414,
          12.237566947937012,
          -2.7652318477630615,
          -3.1397809982299805,
          11.331635475158691,
          11.56816291809082,
          12.335375785827637,
          -0.7097840905189514,
          -1.5057822465896606,
          -1.092970371246338,
          -0.24889007210731506,
          -0.3695939779281616
         ],
         "y": [
          3.808896064758301,
          5.472211837768555,
          -0.6484383940696716,
          5.499271869659424,
          0.3466208279132843,
          0.4569140374660492,
          -3.2690718173980713,
          2.8291819095611572,
          2.1501832008361816,
          3.114546060562134,
          0.47593286633491516,
          3.5752005577087402,
          0.5995931625366211,
          5.48343563079834,
          -3.889155149459839,
          0.10340464115142822,
          -0.6417760252952576,
          3.867159128189087,
          1.2347491979599,
          -2.3348007202148438,
          -1.3562917709350586,
          3.137850046157837,
          -4.430650234222412,
          0.38434135913848877,
          1.3392314910888672,
          5.598865032196045,
          3.407935380935669,
          0.041113995015621185,
          -0.5261523127555847,
          -5.337782382965088,
          1.1262305974960327,
          -3.645314931869507,
          0.9860714077949524,
          3.2246618270874023,
          -5.158168315887451,
          -4.649159908294678,
          2.220197916030884,
          -4.189785480499268,
          1.26410710811615,
          -1.5699272155761719,
          -5.090753078460693,
          -4.578920364379883,
          -1.3613568544387817,
          -0.7689970135688782,
          -2.2085378170013428,
          -2.2362639904022217,
          -5.255291938781738,
          5.283491134643555,
          -3.456130266189575,
          2.947096109390259,
          3.395037889480591,
          -0.38521137833595276,
          0.8027060031890869,
          -4.044506072998047,
          5.611586093902588,
          -2.673269271850586,
          0.6982963681221008,
          2.0300347805023193,
          3.1858110427856445,
          -2.8660857677459717,
          -2.271332025527954,
          3.260082483291626,
          -2.6845555305480957,
          5.562571048736572,
          -1.6898679733276367,
          0.22413544356822968,
          1.7219231128692627,
          0.9286706447601318,
          -0.3589845895767212,
          1.7427151203155518,
          -2.110136032104492,
          0.5933309197425842,
          0.5004681348800659,
          0.6688809394836426,
          2.652531147003174,
          0.5421278476715088,
          0.1866956353187561,
          -5.061208724975586,
          -0.7642306685447693,
          5.765617370605469,
          1.9386298656463623,
          -2.630169153213501,
          0.31604841351509094,
          -3.845780611038208,
          -0.8782779574394226,
          -0.7036468982696533,
          2.847759246826172,
          -0.8553922772407532,
          -2.3972790241241455,
          -3.765730381011963,
          -1.315161108970642,
          -4.358916282653809,
          -4.225906848907471,
          -5.009852409362793,
          1.0510163307189941,
          5.588883876800537,
          0.9206976294517517,
          -3.2134828567504883,
          0.5609560012817383,
          0.23631399869918823,
          5.650882720947266,
          2.1427488327026367,
          0.5041269063949585,
          0.5808380246162415,
          0.2626217305660248,
          2.84350323677063,
          -5.44281005859375,
          -4.72329044342041,
          2.9166812896728516,
          -3.5356175899505615
         ],
         "z": [
          -1.6445798873901367,
          1.6261663436889648,
          -1.0512340068817139,
          -1.1289167404174805,
          -2.544865846633911,
          -1.9206163883209229,
          -2.2910315990448,
          0.36614006757736206,
          -2.8847270011901855,
          -0.7660486698150635,
          -2.985236644744873,
          -1.137573003768921,
          -2.532134771347046,
          1.5437856912612915,
          -2.9621129035949707,
          -1.5758544206619263,
          -2.2588043212890625,
          -0.20847946405410767,
          -0.2417171746492386,
          -1.3943805694580078,
          -1.3061316013336182,
          0.3953590393066406,
          -1.55534827709198,
          -0.4682844579219818,
          -2.611696720123291,
          -0.9484074115753174,
          -2.312361240386963,
          -1.236097812652588,
          -2.1993703842163086,
          -2.9355509281158447,
          -2.3095085620880127,
          -2.100104331970215,
          0.12198804318904877,
          -2.686173439025879,
          -2.157494068145752,
          -2.9156599044799805,
          -0.1625526398420334,
          -1.9778766632080078,
          0.39119672775268555,
          -0.8675884008407593,
          -3.3780362606048584,
          -2.381042957305908,
          -1.778749942779541,
          -2.2289321422576904,
          -4.534203052520752,
          -2.02955961227417,
          -3.2028005123138428,
          -1.5388026237487793,
          -2.9010138511657715,
          -1.1914199590682983,
          -0.27729228138923645,
          -3.456024408340454,
          -2.6853246688842773,
          -0.7424619197845459,
          -1.0287970304489136,
          -0.36209964752197266,
          -2.1627535820007324,
          -2.1361703872680664,
          -1.045531988143921,
          -0.009427811950445175,
          -0.06453673541545868,
          -0.33137190341949463,
          -1.875817060470581,
          -1.076393485069275,
          -0.5271465182304382,
          0.8652529716491699,
          -0.9241911768913269,
          -1.2538856267929077,
          -0.5365461707115173,
          -1.0164885520935059,
          5.115114688873291,
          -1.0767923593521118,
          -0.9484561681747437,
          -0.8018909096717834,
          0.6113415360450745,
          0.1431456357240677,
          -0.602676272392273,
          -0.5668811798095703,
          1.063722848892212,
          4.63552188873291,
          -0.9886449575424194,
          7.526311874389648,
          1.001794695854187,
          5.215075492858887,
          2.1352427005767822,
          4.309281826019287,
          4.6165385246276855,
          0.6049189567565918,
          4.666687488555908,
          5.011392593383789,
          1.6848934888839722,
          2.6855432987213135,
          0.06164528802037239,
          8.263017654418945,
          -1.123643398284912,
          4.375319004058838,
          1.0941656827926636,
          4.578900337219238,
          -1.5625596046447754,
          1.002316951751709,
          4.465956687927246,
          5.213837146759033,
          0.5227797031402588,
          -1.377671480178833,
          0.8806555867195129,
          4.997655391693115,
          6.631137847900391,
          2.2341830730438232,
          7.201107978820801,
          8.145464897155762
         ]
        }
       ],
       "layout": {
        "coloraxis": {
         "colorbar": {
          "title": {
           "text": "color"
          }
         },
         "colorscale": [
          [
           0,
           "#0d0887"
          ],
          [
           0.1111111111111111,
           "#46039f"
          ],
          [
           0.2222222222222222,
           "#7201a8"
          ],
          [
           0.3333333333333333,
           "#9c179e"
          ],
          [
           0.4444444444444444,
           "#bd3786"
          ],
          [
           0.5555555555555556,
           "#d8576b"
          ],
          [
           0.6666666666666666,
           "#ed7953"
          ],
          [
           0.7777777777777778,
           "#fb9f3a"
          ],
          [
           0.8888888888888888,
           "#fdca26"
          ],
          [
           1,
           "#f0f921"
          ]
         ]
        },
        "legend": {
         "tracegroupgap": 0
        },
        "scene": {
         "domain": {
          "x": [
           0,
           1
          ],
          "y": [
           0,
           1
          ]
         },
         "xaxis": {
          "title": {
           "text": "0"
          }
         },
         "yaxis": {
          "title": {
           "text": "1"
          }
         },
         "zaxis": {
          "title": {
           "text": "2"
          }
         }
        },
        "template": {
         "data": {
          "bar": [
           {
            "error_x": {
             "color": "#2a3f5f"
            },
            "error_y": {
             "color": "#2a3f5f"
            },
            "marker": {
             "line": {
              "color": "#E5ECF6",
              "width": 0.5
             },
             "pattern": {
              "fillmode": "overlay",
              "size": 10,
              "solidity": 0.2
             }
            },
            "type": "bar"
           }
          ],
          "barpolar": [
           {
            "marker": {
             "line": {
              "color": "#E5ECF6",
              "width": 0.5
             },
             "pattern": {
              "fillmode": "overlay",
              "size": 10,
              "solidity": 0.2
             }
            },
            "type": "barpolar"
           }
          ],
          "carpet": [
           {
            "aaxis": {
             "endlinecolor": "#2a3f5f",
             "gridcolor": "white",
             "linecolor": "white",
             "minorgridcolor": "white",
             "startlinecolor": "#2a3f5f"
            },
            "baxis": {
             "endlinecolor": "#2a3f5f",
             "gridcolor": "white",
             "linecolor": "white",
             "minorgridcolor": "white",
             "startlinecolor": "#2a3f5f"
            },
            "type": "carpet"
           }
          ],
          "choropleth": [
           {
            "colorbar": {
             "outlinewidth": 0,
             "ticks": ""
            },
            "type": "choropleth"
           }
          ],
          "contour": [
           {
            "colorbar": {
             "outlinewidth": 0,
             "ticks": ""
            },
            "colorscale": [
             [
              0,
              "#0d0887"
             ],
             [
              0.1111111111111111,
              "#46039f"
             ],
             [
              0.2222222222222222,
              "#7201a8"
             ],
             [
              0.3333333333333333,
              "#9c179e"
             ],
             [
              0.4444444444444444,
              "#bd3786"
             ],
             [
              0.5555555555555556,
              "#d8576b"
             ],
             [
              0.6666666666666666,
              "#ed7953"
             ],
             [
              0.7777777777777778,
              "#fb9f3a"
             ],
             [
              0.8888888888888888,
              "#fdca26"
             ],
             [
              1,
              "#f0f921"
             ]
            ],
            "type": "contour"
           }
          ],
          "contourcarpet": [
           {
            "colorbar": {
             "outlinewidth": 0,
             "ticks": ""
            },
            "type": "contourcarpet"
           }
          ],
          "heatmap": [
           {
            "colorbar": {
             "outlinewidth": 0,
             "ticks": ""
            },
            "colorscale": [
             [
              0,
              "#0d0887"
             ],
             [
              0.1111111111111111,
              "#46039f"
             ],
             [
              0.2222222222222222,
              "#7201a8"
             ],
             [
              0.3333333333333333,
              "#9c179e"
             ],
             [
              0.4444444444444444,
              "#bd3786"
             ],
             [
              0.5555555555555556,
              "#d8576b"
             ],
             [
              0.6666666666666666,
              "#ed7953"
             ],
             [
              0.7777777777777778,
              "#fb9f3a"
             ],
             [
              0.8888888888888888,
              "#fdca26"
             ],
             [
              1,
              "#f0f921"
             ]
            ],
            "type": "heatmap"
           }
          ],
          "heatmapgl": [
           {
            "colorbar": {
             "outlinewidth": 0,
             "ticks": ""
            },
            "colorscale": [
             [
              0,
              "#0d0887"
             ],
             [
              0.1111111111111111,
              "#46039f"
             ],
             [
              0.2222222222222222,
              "#7201a8"
             ],
             [
              0.3333333333333333,
              "#9c179e"
             ],
             [
              0.4444444444444444,
              "#bd3786"
             ],
             [
              0.5555555555555556,
              "#d8576b"
             ],
             [
              0.6666666666666666,
              "#ed7953"
             ],
             [
              0.7777777777777778,
              "#fb9f3a"
             ],
             [
              0.8888888888888888,
              "#fdca26"
             ],
             [
              1,
              "#f0f921"
             ]
            ],
            "type": "heatmapgl"
           }
          ],
          "histogram": [
           {
            "marker": {
             "pattern": {
              "fillmode": "overlay",
              "size": 10,
              "solidity": 0.2
             }
            },
            "type": "histogram"
           }
          ],
          "histogram2d": [
           {
            "colorbar": {
             "outlinewidth": 0,
             "ticks": ""
            },
            "colorscale": [
             [
              0,
              "#0d0887"
             ],
             [
              0.1111111111111111,
              "#46039f"
             ],
             [
              0.2222222222222222,
              "#7201a8"
             ],
             [
              0.3333333333333333,
              "#9c179e"
             ],
             [
              0.4444444444444444,
              "#bd3786"
             ],
             [
              0.5555555555555556,
              "#d8576b"
             ],
             [
              0.6666666666666666,
              "#ed7953"
             ],
             [
              0.7777777777777778,
              "#fb9f3a"
             ],
             [
              0.8888888888888888,
              "#fdca26"
             ],
             [
              1,
              "#f0f921"
             ]
            ],
            "type": "histogram2d"
           }
          ],
          "histogram2dcontour": [
           {
            "colorbar": {
             "outlinewidth": 0,
             "ticks": ""
            },
            "colorscale": [
             [
              0,
              "#0d0887"
             ],
             [
              0.1111111111111111,
              "#46039f"
             ],
             [
              0.2222222222222222,
              "#7201a8"
             ],
             [
              0.3333333333333333,
              "#9c179e"
             ],
             [
              0.4444444444444444,
              "#bd3786"
             ],
             [
              0.5555555555555556,
              "#d8576b"
             ],
             [
              0.6666666666666666,
              "#ed7953"
             ],
             [
              0.7777777777777778,
              "#fb9f3a"
             ],
             [
              0.8888888888888888,
              "#fdca26"
             ],
             [
              1,
              "#f0f921"
             ]
            ],
            "type": "histogram2dcontour"
           }
          ],
          "mesh3d": [
           {
            "colorbar": {
             "outlinewidth": 0,
             "ticks": ""
            },
            "type": "mesh3d"
           }
          ],
          "parcoords": [
           {
            "line": {
             "colorbar": {
              "outlinewidth": 0,
              "ticks": ""
             }
            },
            "type": "parcoords"
           }
          ],
          "pie": [
           {
            "automargin": true,
            "type": "pie"
           }
          ],
          "scatter": [
           {
            "marker": {
             "colorbar": {
              "outlinewidth": 0,
              "ticks": ""
             }
            },
            "type": "scatter"
           }
          ],
          "scatter3d": [
           {
            "line": {
             "colorbar": {
              "outlinewidth": 0,
              "ticks": ""
             }
            },
            "marker": {
             "colorbar": {
              "outlinewidth": 0,
              "ticks": ""
             }
            },
            "type": "scatter3d"
           }
          ],
          "scattercarpet": [
           {
            "marker": {
             "colorbar": {
              "outlinewidth": 0,
              "ticks": ""
             }
            },
            "type": "scattercarpet"
           }
          ],
          "scattergeo": [
           {
            "marker": {
             "colorbar": {
              "outlinewidth": 0,
              "ticks": ""
             }
            },
            "type": "scattergeo"
           }
          ],
          "scattergl": [
           {
            "marker": {
             "colorbar": {
              "outlinewidth": 0,
              "ticks": ""
             }
            },
            "type": "scattergl"
           }
          ],
          "scattermapbox": [
           {
            "marker": {
             "colorbar": {
              "outlinewidth": 0,
              "ticks": ""
             }
            },
            "type": "scattermapbox"
           }
          ],
          "scatterpolar": [
           {
            "marker": {
             "colorbar": {
              "outlinewidth": 0,
              "ticks": ""
             }
            },
            "type": "scatterpolar"
           }
          ],
          "scatterpolargl": [
           {
            "marker": {
             "colorbar": {
              "outlinewidth": 0,
              "ticks": ""
             }
            },
            "type": "scatterpolargl"
           }
          ],
          "scatterternary": [
           {
            "marker": {
             "colorbar": {
              "outlinewidth": 0,
              "ticks": ""
             }
            },
            "type": "scatterternary"
           }
          ],
          "surface": [
           {
            "colorbar": {
             "outlinewidth": 0,
             "ticks": ""
            },
            "colorscale": [
             [
              0,
              "#0d0887"
             ],
             [
              0.1111111111111111,
              "#46039f"
             ],
             [
              0.2222222222222222,
              "#7201a8"
             ],
             [
              0.3333333333333333,
              "#9c179e"
             ],
             [
              0.4444444444444444,
              "#bd3786"
             ],
             [
              0.5555555555555556,
              "#d8576b"
             ],
             [
              0.6666666666666666,
              "#ed7953"
             ],
             [
              0.7777777777777778,
              "#fb9f3a"
             ],
             [
              0.8888888888888888,
              "#fdca26"
             ],
             [
              1,
              "#f0f921"
             ]
            ],
            "type": "surface"
           }
          ],
          "table": [
           {
            "cells": {
             "fill": {
              "color": "#EBF0F8"
             },
             "line": {
              "color": "white"
             }
            },
            "header": {
             "fill": {
              "color": "#C8D4E3"
             },
             "line": {
              "color": "white"
             }
            },
            "type": "table"
           }
          ]
         },
         "layout": {
          "annotationdefaults": {
           "arrowcolor": "#2a3f5f",
           "arrowhead": 0,
           "arrowwidth": 1
          },
          "autotypenumbers": "strict",
          "coloraxis": {
           "colorbar": {
            "outlinewidth": 0,
            "ticks": ""
           }
          },
          "colorscale": {
           "diverging": [
            [
             0,
             "#8e0152"
            ],
            [
             0.1,
             "#c51b7d"
            ],
            [
             0.2,
             "#de77ae"
            ],
            [
             0.3,
             "#f1b6da"
            ],
            [
             0.4,
             "#fde0ef"
            ],
            [
             0.5,
             "#f7f7f7"
            ],
            [
             0.6,
             "#e6f5d0"
            ],
            [
             0.7,
             "#b8e186"
            ],
            [
             0.8,
             "#7fbc41"
            ],
            [
             0.9,
             "#4d9221"
            ],
            [
             1,
             "#276419"
            ]
           ],
           "sequential": [
            [
             0,
             "#0d0887"
            ],
            [
             0.1111111111111111,
             "#46039f"
            ],
            [
             0.2222222222222222,
             "#7201a8"
            ],
            [
             0.3333333333333333,
             "#9c179e"
            ],
            [
             0.4444444444444444,
             "#bd3786"
            ],
            [
             0.5555555555555556,
             "#d8576b"
            ],
            [
             0.6666666666666666,
             "#ed7953"
            ],
            [
             0.7777777777777778,
             "#fb9f3a"
            ],
            [
             0.8888888888888888,
             "#fdca26"
            ],
            [
             1,
             "#f0f921"
            ]
           ],
           "sequentialminus": [
            [
             0,
             "#0d0887"
            ],
            [
             0.1111111111111111,
             "#46039f"
            ],
            [
             0.2222222222222222,
             "#7201a8"
            ],
            [
             0.3333333333333333,
             "#9c179e"
            ],
            [
             0.4444444444444444,
             "#bd3786"
            ],
            [
             0.5555555555555556,
             "#d8576b"
            ],
            [
             0.6666666666666666,
             "#ed7953"
            ],
            [
             0.7777777777777778,
             "#fb9f3a"
            ],
            [
             0.8888888888888888,
             "#fdca26"
            ],
            [
             1,
             "#f0f921"
            ]
           ]
          },
          "colorway": [
           "#636efa",
           "#EF553B",
           "#00cc96",
           "#ab63fa",
           "#FFA15A",
           "#19d3f3",
           "#FF6692",
           "#B6E880",
           "#FF97FF",
           "#FECB52"
          ],
          "font": {
           "color": "#2a3f5f"
          },
          "geo": {
           "bgcolor": "white",
           "lakecolor": "white",
           "landcolor": "#E5ECF6",
           "showlakes": true,
           "showland": true,
           "subunitcolor": "white"
          },
          "hoverlabel": {
           "align": "left"
          },
          "hovermode": "closest",
          "mapbox": {
           "style": "light"
          },
          "paper_bgcolor": "white",
          "plot_bgcolor": "#E5ECF6",
          "polar": {
           "angularaxis": {
            "gridcolor": "white",
            "linecolor": "white",
            "ticks": ""
           },
           "bgcolor": "#E5ECF6",
           "radialaxis": {
            "gridcolor": "white",
            "linecolor": "white",
            "ticks": ""
           }
          },
          "scene": {
           "xaxis": {
            "backgroundcolor": "#E5ECF6",
            "gridcolor": "white",
            "gridwidth": 2,
            "linecolor": "white",
            "showbackground": true,
            "ticks": "",
            "zerolinecolor": "white"
           },
           "yaxis": {
            "backgroundcolor": "#E5ECF6",
            "gridcolor": "white",
            "gridwidth": 2,
            "linecolor": "white",
            "showbackground": true,
            "ticks": "",
            "zerolinecolor": "white"
           },
           "zaxis": {
            "backgroundcolor": "#E5ECF6",
            "gridcolor": "white",
            "gridwidth": 2,
            "linecolor": "white",
            "showbackground": true,
            "ticks": "",
            "zerolinecolor": "white"
           }
          },
          "shapedefaults": {
           "line": {
            "color": "#2a3f5f"
           }
          },
          "ternary": {
           "aaxis": {
            "gridcolor": "white",
            "linecolor": "white",
            "ticks": ""
           },
           "baxis": {
            "gridcolor": "white",
            "linecolor": "white",
            "ticks": ""
           },
           "bgcolor": "#E5ECF6",
           "caxis": {
            "gridcolor": "white",
            "linecolor": "white",
            "ticks": ""
           }
          },
          "title": {
           "x": 0.05
          },
          "xaxis": {
           "automargin": true,
           "gridcolor": "white",
           "linecolor": "white",
           "ticks": "",
           "title": {
            "standoff": 15
           },
           "zerolinecolor": "white",
           "zerolinewidth": 2
          },
          "yaxis": {
           "automargin": true,
           "gridcolor": "white",
           "linecolor": "white",
           "ticks": "",
           "title": {
            "standoff": 15
           },
           "zerolinecolor": "white",
           "zerolinewidth": 2
          }
         }
        },
        "title": {
         "text": "лук, 0.19284262114092604"
        }
       }
      },
      "text/html": [
       "<div>                            <div id=\"722e1921-0a93-4539-8add-03829d5b9f65\" class=\"plotly-graph-div\" style=\"height:525px; width:100%;\"></div>            <script type=\"text/javascript\">                require([\"plotly\"], function(Plotly) {                    window.PLOTLYENV=window.PLOTLYENV || {};                                    if (document.getElementById(\"722e1921-0a93-4539-8add-03829d5b9f65\")) {                    Plotly.newPlot(                        \"722e1921-0a93-4539-8add-03829d5b9f65\",                        [{\"hovertemplate\":\"0=%{x}<br>1=%{y}<br>2=%{z}<br>color=%{marker.color}<extra></extra>\",\"legendgroup\":\"\",\"marker\":{\"color\":[1,1,1,1,1,1,1,1,1,1,1,1,1,1,1,1,1,1,1,1,1,1,1,1,1,1,1,1,1,1,1,1,1,1,1,1,1,1,1,1,1,1,1,1,1,1,1,1,1,1,1,1,1,1,1,1,1,1,1,1,1,1,1,1,1,2,2,2,2,2,2,2,2,2,2,2,2,2,2,2,2,2,2,2,2,2,2,2,2,2,2,2,2,2,2,2,2,2,2,2,2,2,2,2,2,2,2,2,2,2],\"coloraxis\":\"coloraxis\",\"symbol\":\"circle\"},\"mode\":\"markers\",\"name\":\"\",\"scene\":\"scene\",\"showlegend\":false,\"type\":\"scatter3d\",\"x\":[-4.28010892868042,-1.562911033630371,-5.643475532531738,-4.292251110076904,-3.803520441055298,-3.4683406352996826,-2.423006057739258,-0.8918818831443787,-3.5412187576293945,-4.62060546875,-4.158604621887207,-4.101646423339844,-4.472917079925537,-1.5136443376541138,-3.5458297729492188,-2.880603313446045,10.522027969360352,-4.565348148345947,-3.9529800415039062,-3.345214605331421,-3.5032379627227783,-2.5171523094177246,-2.7628355026245117,-4.9598870277404785,-4.127788543701172,-4.431976795196533,-3.3934011459350586,-3.401568651199341,11.066160202026367,-2.1270241737365723,-3.9918668270111084,-2.8239240646362305,-3.9607272148132324,-4.6087727546691895,-3.0412888526916504,-3.841799020767212,-3.7260472774505615,-4.018991470336914,-4.022531509399414,-3.1334903240203857,-3.077768087387085,-2.6493191719055176,-2.502389907836914,8.639951705932617,-2.2979938983917236,-4.332857608795166,-3.5428547859191895,-4.336397171020508,-2.736643075942993,-3.7260854244232178,-1.1255767345428467,-4.158775329589844,-4.316425323486328,-3.3065319061279297,-4.2369065284729,-2.9806807041168213,-3.1380646228790283,-2.572887659072876,-4.391581058502197,-2.491849184036255,0.6811924576759338,-1.1758724451065063,-1.2993799448013306,-4.277956485748291,5.668116569519043,12.821799278259277,10.557801246643066,13.140645027160645,12.549602508544922,9.622056007385254,-1.9415407180786133,12.779547691345215,12.633429527282715,12.133280754089355,-4.4331231117248535,11.905571937561035,11.992502212524414,-1.571226716041565,-3.849367141723633,-2.7874855995178223,8.60649585723877,-1.6983866691589355,12.657413482666016,-2.1971774101257324,-4.167977333068848,-1.358988642692566,-2.140873670578003,7.438913822174072,-2.4027769565582275,-0.9720506072044373,-2.5478291511535645,-1.076263189315796,-1.731885313987732,-0.4721013605594635,10.95756721496582,-2.8664774894714355,-3.7933237552642822,-0.3099433481693268,12.43722915649414,12.237566947937012,-2.7652318477630615,-3.1397809982299805,11.331635475158691,11.56816291809082,12.335375785827637,-0.7097840905189514,-1.5057822465896606,-1.092970371246338,-0.24889007210731506,-0.3695939779281616],\"y\":[3.808896064758301,5.472211837768555,-0.6484383940696716,5.499271869659424,0.3466208279132843,0.4569140374660492,-3.2690718173980713,2.8291819095611572,2.1501832008361816,3.114546060562134,0.47593286633491516,3.5752005577087402,0.5995931625366211,5.48343563079834,-3.889155149459839,0.10340464115142822,-0.6417760252952576,3.867159128189087,1.2347491979599,-2.3348007202148438,-1.3562917709350586,3.137850046157837,-4.430650234222412,0.38434135913848877,1.3392314910888672,5.598865032196045,3.407935380935669,0.041113995015621185,-0.5261523127555847,-5.337782382965088,1.1262305974960327,-3.645314931869507,0.9860714077949524,3.2246618270874023,-5.158168315887451,-4.649159908294678,2.220197916030884,-4.189785480499268,1.26410710811615,-1.5699272155761719,-5.090753078460693,-4.578920364379883,-1.3613568544387817,-0.7689970135688782,-2.2085378170013428,-2.2362639904022217,-5.255291938781738,5.283491134643555,-3.456130266189575,2.947096109390259,3.395037889480591,-0.38521137833595276,0.8027060031890869,-4.044506072998047,5.611586093902588,-2.673269271850586,0.6982963681221008,2.0300347805023193,3.1858110427856445,-2.8660857677459717,-2.271332025527954,3.260082483291626,-2.6845555305480957,5.562571048736572,-1.6898679733276367,0.22413544356822968,1.7219231128692627,0.9286706447601318,-0.3589845895767212,1.7427151203155518,-2.110136032104492,0.5933309197425842,0.5004681348800659,0.6688809394836426,2.652531147003174,0.5421278476715088,0.1866956353187561,-5.061208724975586,-0.7642306685447693,5.765617370605469,1.9386298656463623,-2.630169153213501,0.31604841351509094,-3.845780611038208,-0.8782779574394226,-0.7036468982696533,2.847759246826172,-0.8553922772407532,-2.3972790241241455,-3.765730381011963,-1.315161108970642,-4.358916282653809,-4.225906848907471,-5.009852409362793,1.0510163307189941,5.588883876800537,0.9206976294517517,-3.2134828567504883,0.5609560012817383,0.23631399869918823,5.650882720947266,2.1427488327026367,0.5041269063949585,0.5808380246162415,0.2626217305660248,2.84350323677063,-5.44281005859375,-4.72329044342041,2.9166812896728516,-3.5356175899505615],\"z\":[-1.6445798873901367,1.6261663436889648,-1.0512340068817139,-1.1289167404174805,-2.544865846633911,-1.9206163883209229,-2.2910315990448,0.36614006757736206,-2.8847270011901855,-0.7660486698150635,-2.985236644744873,-1.137573003768921,-2.532134771347046,1.5437856912612915,-2.9621129035949707,-1.5758544206619263,-2.2588043212890625,-0.20847946405410767,-0.2417171746492386,-1.3943805694580078,-1.3061316013336182,0.3953590393066406,-1.55534827709198,-0.4682844579219818,-2.611696720123291,-0.9484074115753174,-2.312361240386963,-1.236097812652588,-2.1993703842163086,-2.9355509281158447,-2.3095085620880127,-2.100104331970215,0.12198804318904877,-2.686173439025879,-2.157494068145752,-2.9156599044799805,-0.1625526398420334,-1.9778766632080078,0.39119672775268555,-0.8675884008407593,-3.3780362606048584,-2.381042957305908,-1.778749942779541,-2.2289321422576904,-4.534203052520752,-2.02955961227417,-3.2028005123138428,-1.5388026237487793,-2.9010138511657715,-1.1914199590682983,-0.27729228138923645,-3.456024408340454,-2.6853246688842773,-0.7424619197845459,-1.0287970304489136,-0.36209964752197266,-2.1627535820007324,-2.1361703872680664,-1.045531988143921,-0.009427811950445175,-0.06453673541545868,-0.33137190341949463,-1.875817060470581,-1.076393485069275,-0.5271465182304382,0.8652529716491699,-0.9241911768913269,-1.2538856267929077,-0.5365461707115173,-1.0164885520935059,5.115114688873291,-1.0767923593521118,-0.9484561681747437,-0.8018909096717834,0.6113415360450745,0.1431456357240677,-0.602676272392273,-0.5668811798095703,1.063722848892212,4.63552188873291,-0.9886449575424194,7.526311874389648,1.001794695854187,5.215075492858887,2.1352427005767822,4.309281826019287,4.6165385246276855,0.6049189567565918,4.666687488555908,5.011392593383789,1.6848934888839722,2.6855432987213135,0.06164528802037239,8.263017654418945,-1.123643398284912,4.375319004058838,1.0941656827926636,4.578900337219238,-1.5625596046447754,1.002316951751709,4.465956687927246,5.213837146759033,0.5227797031402588,-1.377671480178833,0.8806555867195129,4.997655391693115,6.631137847900391,2.2341830730438232,7.201107978820801,8.145464897155762]}],                        {\"coloraxis\":{\"colorbar\":{\"title\":{\"text\":\"color\"}},\"colorscale\":[[0.0,\"#0d0887\"],[0.1111111111111111,\"#46039f\"],[0.2222222222222222,\"#7201a8\"],[0.3333333333333333,\"#9c179e\"],[0.4444444444444444,\"#bd3786\"],[0.5555555555555556,\"#d8576b\"],[0.6666666666666666,\"#ed7953\"],[0.7777777777777778,\"#fb9f3a\"],[0.8888888888888888,\"#fdca26\"],[1.0,\"#f0f921\"]]},\"legend\":{\"tracegroupgap\":0},\"scene\":{\"domain\":{\"x\":[0.0,1.0],\"y\":[0.0,1.0]},\"xaxis\":{\"title\":{\"text\":\"0\"}},\"yaxis\":{\"title\":{\"text\":\"1\"}},\"zaxis\":{\"title\":{\"text\":\"2\"}}},\"template\":{\"data\":{\"bar\":[{\"error_x\":{\"color\":\"#2a3f5f\"},\"error_y\":{\"color\":\"#2a3f5f\"},\"marker\":{\"line\":{\"color\":\"#E5ECF6\",\"width\":0.5},\"pattern\":{\"fillmode\":\"overlay\",\"size\":10,\"solidity\":0.2}},\"type\":\"bar\"}],\"barpolar\":[{\"marker\":{\"line\":{\"color\":\"#E5ECF6\",\"width\":0.5},\"pattern\":{\"fillmode\":\"overlay\",\"size\":10,\"solidity\":0.2}},\"type\":\"barpolar\"}],\"carpet\":[{\"aaxis\":{\"endlinecolor\":\"#2a3f5f\",\"gridcolor\":\"white\",\"linecolor\":\"white\",\"minorgridcolor\":\"white\",\"startlinecolor\":\"#2a3f5f\"},\"baxis\":{\"endlinecolor\":\"#2a3f5f\",\"gridcolor\":\"white\",\"linecolor\":\"white\",\"minorgridcolor\":\"white\",\"startlinecolor\":\"#2a3f5f\"},\"type\":\"carpet\"}],\"choropleth\":[{\"colorbar\":{\"outlinewidth\":0,\"ticks\":\"\"},\"type\":\"choropleth\"}],\"contour\":[{\"colorbar\":{\"outlinewidth\":0,\"ticks\":\"\"},\"colorscale\":[[0.0,\"#0d0887\"],[0.1111111111111111,\"#46039f\"],[0.2222222222222222,\"#7201a8\"],[0.3333333333333333,\"#9c179e\"],[0.4444444444444444,\"#bd3786\"],[0.5555555555555556,\"#d8576b\"],[0.6666666666666666,\"#ed7953\"],[0.7777777777777778,\"#fb9f3a\"],[0.8888888888888888,\"#fdca26\"],[1.0,\"#f0f921\"]],\"type\":\"contour\"}],\"contourcarpet\":[{\"colorbar\":{\"outlinewidth\":0,\"ticks\":\"\"},\"type\":\"contourcarpet\"}],\"heatmap\":[{\"colorbar\":{\"outlinewidth\":0,\"ticks\":\"\"},\"colorscale\":[[0.0,\"#0d0887\"],[0.1111111111111111,\"#46039f\"],[0.2222222222222222,\"#7201a8\"],[0.3333333333333333,\"#9c179e\"],[0.4444444444444444,\"#bd3786\"],[0.5555555555555556,\"#d8576b\"],[0.6666666666666666,\"#ed7953\"],[0.7777777777777778,\"#fb9f3a\"],[0.8888888888888888,\"#fdca26\"],[1.0,\"#f0f921\"]],\"type\":\"heatmap\"}],\"heatmapgl\":[{\"colorbar\":{\"outlinewidth\":0,\"ticks\":\"\"},\"colorscale\":[[0.0,\"#0d0887\"],[0.1111111111111111,\"#46039f\"],[0.2222222222222222,\"#7201a8\"],[0.3333333333333333,\"#9c179e\"],[0.4444444444444444,\"#bd3786\"],[0.5555555555555556,\"#d8576b\"],[0.6666666666666666,\"#ed7953\"],[0.7777777777777778,\"#fb9f3a\"],[0.8888888888888888,\"#fdca26\"],[1.0,\"#f0f921\"]],\"type\":\"heatmapgl\"}],\"histogram\":[{\"marker\":{\"pattern\":{\"fillmode\":\"overlay\",\"size\":10,\"solidity\":0.2}},\"type\":\"histogram\"}],\"histogram2d\":[{\"colorbar\":{\"outlinewidth\":0,\"ticks\":\"\"},\"colorscale\":[[0.0,\"#0d0887\"],[0.1111111111111111,\"#46039f\"],[0.2222222222222222,\"#7201a8\"],[0.3333333333333333,\"#9c179e\"],[0.4444444444444444,\"#bd3786\"],[0.5555555555555556,\"#d8576b\"],[0.6666666666666666,\"#ed7953\"],[0.7777777777777778,\"#fb9f3a\"],[0.8888888888888888,\"#fdca26\"],[1.0,\"#f0f921\"]],\"type\":\"histogram2d\"}],\"histogram2dcontour\":[{\"colorbar\":{\"outlinewidth\":0,\"ticks\":\"\"},\"colorscale\":[[0.0,\"#0d0887\"],[0.1111111111111111,\"#46039f\"],[0.2222222222222222,\"#7201a8\"],[0.3333333333333333,\"#9c179e\"],[0.4444444444444444,\"#bd3786\"],[0.5555555555555556,\"#d8576b\"],[0.6666666666666666,\"#ed7953\"],[0.7777777777777778,\"#fb9f3a\"],[0.8888888888888888,\"#fdca26\"],[1.0,\"#f0f921\"]],\"type\":\"histogram2dcontour\"}],\"mesh3d\":[{\"colorbar\":{\"outlinewidth\":0,\"ticks\":\"\"},\"type\":\"mesh3d\"}],\"parcoords\":[{\"line\":{\"colorbar\":{\"outlinewidth\":0,\"ticks\":\"\"}},\"type\":\"parcoords\"}],\"pie\":[{\"automargin\":true,\"type\":\"pie\"}],\"scatter\":[{\"marker\":{\"colorbar\":{\"outlinewidth\":0,\"ticks\":\"\"}},\"type\":\"scatter\"}],\"scatter3d\":[{\"line\":{\"colorbar\":{\"outlinewidth\":0,\"ticks\":\"\"}},\"marker\":{\"colorbar\":{\"outlinewidth\":0,\"ticks\":\"\"}},\"type\":\"scatter3d\"}],\"scattercarpet\":[{\"marker\":{\"colorbar\":{\"outlinewidth\":0,\"ticks\":\"\"}},\"type\":\"scattercarpet\"}],\"scattergeo\":[{\"marker\":{\"colorbar\":{\"outlinewidth\":0,\"ticks\":\"\"}},\"type\":\"scattergeo\"}],\"scattergl\":[{\"marker\":{\"colorbar\":{\"outlinewidth\":0,\"ticks\":\"\"}},\"type\":\"scattergl\"}],\"scattermapbox\":[{\"marker\":{\"colorbar\":{\"outlinewidth\":0,\"ticks\":\"\"}},\"type\":\"scattermapbox\"}],\"scatterpolar\":[{\"marker\":{\"colorbar\":{\"outlinewidth\":0,\"ticks\":\"\"}},\"type\":\"scatterpolar\"}],\"scatterpolargl\":[{\"marker\":{\"colorbar\":{\"outlinewidth\":0,\"ticks\":\"\"}},\"type\":\"scatterpolargl\"}],\"scatterternary\":[{\"marker\":{\"colorbar\":{\"outlinewidth\":0,\"ticks\":\"\"}},\"type\":\"scatterternary\"}],\"surface\":[{\"colorbar\":{\"outlinewidth\":0,\"ticks\":\"\"},\"colorscale\":[[0.0,\"#0d0887\"],[0.1111111111111111,\"#46039f\"],[0.2222222222222222,\"#7201a8\"],[0.3333333333333333,\"#9c179e\"],[0.4444444444444444,\"#bd3786\"],[0.5555555555555556,\"#d8576b\"],[0.6666666666666666,\"#ed7953\"],[0.7777777777777778,\"#fb9f3a\"],[0.8888888888888888,\"#fdca26\"],[1.0,\"#f0f921\"]],\"type\":\"surface\"}],\"table\":[{\"cells\":{\"fill\":{\"color\":\"#EBF0F8\"},\"line\":{\"color\":\"white\"}},\"header\":{\"fill\":{\"color\":\"#C8D4E3\"},\"line\":{\"color\":\"white\"}},\"type\":\"table\"}]},\"layout\":{\"annotationdefaults\":{\"arrowcolor\":\"#2a3f5f\",\"arrowhead\":0,\"arrowwidth\":1},\"autotypenumbers\":\"strict\",\"coloraxis\":{\"colorbar\":{\"outlinewidth\":0,\"ticks\":\"\"}},\"colorscale\":{\"diverging\":[[0,\"#8e0152\"],[0.1,\"#c51b7d\"],[0.2,\"#de77ae\"],[0.3,\"#f1b6da\"],[0.4,\"#fde0ef\"],[0.5,\"#f7f7f7\"],[0.6,\"#e6f5d0\"],[0.7,\"#b8e186\"],[0.8,\"#7fbc41\"],[0.9,\"#4d9221\"],[1,\"#276419\"]],\"sequential\":[[0.0,\"#0d0887\"],[0.1111111111111111,\"#46039f\"],[0.2222222222222222,\"#7201a8\"],[0.3333333333333333,\"#9c179e\"],[0.4444444444444444,\"#bd3786\"],[0.5555555555555556,\"#d8576b\"],[0.6666666666666666,\"#ed7953\"],[0.7777777777777778,\"#fb9f3a\"],[0.8888888888888888,\"#fdca26\"],[1.0,\"#f0f921\"]],\"sequentialminus\":[[0.0,\"#0d0887\"],[0.1111111111111111,\"#46039f\"],[0.2222222222222222,\"#7201a8\"],[0.3333333333333333,\"#9c179e\"],[0.4444444444444444,\"#bd3786\"],[0.5555555555555556,\"#d8576b\"],[0.6666666666666666,\"#ed7953\"],[0.7777777777777778,\"#fb9f3a\"],[0.8888888888888888,\"#fdca26\"],[1.0,\"#f0f921\"]]},\"colorway\":[\"#636efa\",\"#EF553B\",\"#00cc96\",\"#ab63fa\",\"#FFA15A\",\"#19d3f3\",\"#FF6692\",\"#B6E880\",\"#FF97FF\",\"#FECB52\"],\"font\":{\"color\":\"#2a3f5f\"},\"geo\":{\"bgcolor\":\"white\",\"lakecolor\":\"white\",\"landcolor\":\"#E5ECF6\",\"showlakes\":true,\"showland\":true,\"subunitcolor\":\"white\"},\"hoverlabel\":{\"align\":\"left\"},\"hovermode\":\"closest\",\"mapbox\":{\"style\":\"light\"},\"paper_bgcolor\":\"white\",\"plot_bgcolor\":\"#E5ECF6\",\"polar\":{\"angularaxis\":{\"gridcolor\":\"white\",\"linecolor\":\"white\",\"ticks\":\"\"},\"bgcolor\":\"#E5ECF6\",\"radialaxis\":{\"gridcolor\":\"white\",\"linecolor\":\"white\",\"ticks\":\"\"}},\"scene\":{\"xaxis\":{\"backgroundcolor\":\"#E5ECF6\",\"gridcolor\":\"white\",\"gridwidth\":2,\"linecolor\":\"white\",\"showbackground\":true,\"ticks\":\"\",\"zerolinecolor\":\"white\"},\"yaxis\":{\"backgroundcolor\":\"#E5ECF6\",\"gridcolor\":\"white\",\"gridwidth\":2,\"linecolor\":\"white\",\"showbackground\":true,\"ticks\":\"\",\"zerolinecolor\":\"white\"},\"zaxis\":{\"backgroundcolor\":\"#E5ECF6\",\"gridcolor\":\"white\",\"gridwidth\":2,\"linecolor\":\"white\",\"showbackground\":true,\"ticks\":\"\",\"zerolinecolor\":\"white\"}},\"shapedefaults\":{\"line\":{\"color\":\"#2a3f5f\"}},\"ternary\":{\"aaxis\":{\"gridcolor\":\"white\",\"linecolor\":\"white\",\"ticks\":\"\"},\"baxis\":{\"gridcolor\":\"white\",\"linecolor\":\"white\",\"ticks\":\"\"},\"bgcolor\":\"#E5ECF6\",\"caxis\":{\"gridcolor\":\"white\",\"linecolor\":\"white\",\"ticks\":\"\"}},\"title\":{\"x\":0.05},\"xaxis\":{\"automargin\":true,\"gridcolor\":\"white\",\"linecolor\":\"white\",\"ticks\":\"\",\"title\":{\"standoff\":15},\"zerolinecolor\":\"white\",\"zerolinewidth\":2},\"yaxis\":{\"automargin\":true,\"gridcolor\":\"white\",\"linecolor\":\"white\",\"ticks\":\"\",\"title\":{\"standoff\":15},\"zerolinecolor\":\"white\",\"zerolinewidth\":2}}},\"title\":{\"text\":\"\\u043b\\u0443\\u043a, 0.19284262114092604\"}},                        {\"responsive\": true}                    ).then(function(){\n",
       "                            \n",
       "var gd = document.getElementById('722e1921-0a93-4539-8add-03829d5b9f65');\n",
       "var x = new MutationObserver(function (mutations, observer) {{\n",
       "        var display = window.getComputedStyle(gd).display;\n",
       "        if (!display || display === 'none') {{\n",
       "            console.log([gd, 'removed!']);\n",
       "            Plotly.purge(gd);\n",
       "            observer.disconnect();\n",
       "        }}\n",
       "}});\n",
       "\n",
       "// Listen for the removal of the full notebook cells\n",
       "var notebookContainer = gd.closest('#notebook-container');\n",
       "if (notebookContainer) {{\n",
       "    x.observe(notebookContainer, {childList: true});\n",
       "}}\n",
       "\n",
       "// Listen for the clearing of the current output cell\n",
       "var outputEl = gd.closest('.output');\n",
       "if (outputEl) {{\n",
       "    x.observe(outputEl, {childList: true});\n",
       "}}\n",
       "\n",
       "                        })                };                });            </script>        </div>"
      ]
     },
     "metadata": {},
     "output_type": "display_data"
    },
    {
     "data": {
      "application/vnd.plotly.v1+json": {
       "config": {
        "plotlyServerURL": "https://plot.ly"
       },
       "data": [
        {
         "hovertemplate": "0=%{x}<br>1=%{y}<br>2=%{z}<br>color=%{marker.color}<extra></extra>",
         "legendgroup": "",
         "marker": {
          "color": [
           1,
           1,
           1,
           1,
           1,
           1,
           1,
           1,
           1,
           1,
           1,
           1,
           1,
           1,
           2,
           2,
           2,
           2,
           2,
           2,
           2,
           2,
           2,
           2,
           2,
           2,
           2,
           2,
           2,
           2,
           2,
           2,
           2,
           2,
           2,
           2,
           2,
           2,
           2,
           2,
           2,
           2,
           2,
           2,
           2,
           2,
           2,
           2,
           2,
           2,
           2,
           2,
           2,
           2,
           2,
           2
          ],
          "coloraxis": "coloraxis",
          "symbol": "circle"
         },
         "mode": "markers",
         "name": "",
         "scene": "scene",
         "showlegend": false,
         "type": "scatter3d",
         "x": [
          8.98612117767334,
          12.537353515625,
          5.358998775482178,
          7.761584758758545,
          1.7539020776748657,
          5.711797714233398,
          9.837271690368652,
          7.335113048553467,
          11.257658958435059,
          9.670108795166016,
          10.791958808898926,
          5.789815902709961,
          4.108026504516602,
          9.358797073364258,
          9.799277305603027,
          -4.408857822418213,
          9.466240882873535,
          -4.951699733734131,
          -2.2659285068511963,
          -4.168772220611572,
          -5.492228984832764,
          -4.790538311004639,
          -4.067419528961182,
          -3.446909189224243,
          -2.4558029174804688,
          -1.245099425315857,
          -2.6662685871124268,
          -4.418028831481934,
          -3.406862497329712,
          -2.5405728816986084,
          -2.495114326477051,
          -3.7050602436065674,
          -5.026194095611572,
          -4.16790246963501,
          -5.052844047546387,
          -3.162933349609375,
          -3.88581919670105,
          -4.360563278198242,
          -2.6456031799316406,
          -2.878213882446289,
          -4.0352935791015625,
          -1.3697139024734497,
          -5.032477855682373,
          -4.289090633392334,
          -3.759654998779297,
          -4.2269182205200195,
          9.47490406036377,
          -4.244895935058594,
          -0.00897474866360426,
          -1.8985539674758911,
          -3.802778482437134,
          -2.777691602706909,
          -5.14179801940918,
          -2.792814254760742,
          -3.4997193813323975,
          -4.413318634033203
         ],
         "y": [
          4.287852764129639,
          5.251700401306152,
          -5.0955047607421875,
          -5.165340423583984,
          -2.6255457401275635,
          -3.7582058906555176,
          -6.306026935577393,
          -5.792320728302002,
          0.5005516409873962,
          -6.260337829589844,
          -5.574423789978027,
          -5.620680809020996,
          -3.0895631313323975,
          -4.189718246459961,
          11.403995513916016,
          1.6658315658569336,
          12.326574325561523,
          0.337613582611084,
          -1.605160117149353,
          -0.0270965788513422,
          0.2037627398967743,
          1.3236801624298096,
          -0.1628144234418869,
          0.3313681185245514,
          -1.2614859342575073,
          -0.9881495833396912,
          -0.18338045477867126,
          1.6436508893966675,
          -0.08922633528709412,
          -1.9491381645202637,
          1.1192809343338013,
          2.1954729557037354,
          0.3395361006259918,
          -0.6866645812988281,
          -0.03010423667728901,
          -0.49586427211761475,
          0.19001956284046173,
          1.1315637826919556,
          0.5431299805641174,
          1.062403678894043,
          -0.9525324702262878,
          -1.6047892570495605,
          -0.7689254283905029,
          -0.013430126942694187,
          2.238651752471924,
          -0.5860311985015869,
          11.362492561340332,
          0.9698655009269714,
          0.1839098483324051,
          1.5302855968475342,
          2.2276532649993896,
          1.345587968826294,
          -0.5369871854782104,
          -2.0159590244293213,
          0.04411166533827782,
          1.6748600006103516
         ],
         "z": [
          0.5431514382362366,
          0.7067655920982361,
          1.1041202545166016,
          1.304329514503479,
          3.1559672355651855,
          -0.09161447733640671,
          0.7592594027519226,
          0.9542758464813232,
          0.1141204833984375,
          0.4271954596042633,
          0.7493179440498352,
          1.6914595365524292,
          0.3660438656806946,
          1.2382932901382446,
          -1.6926568746566772,
          7.419986248016357,
          -1.395481824874878,
          3.124171257019043,
          -3.84120512008667,
          -2.9043221473693848,
          0.8777356743812561,
          5.057372093200684,
          -1.3362858295440674,
          -0.5262088775634766,
          -4.822983741760254,
          -0.7759659290313721,
          -1.9821760654449463,
          7.336392402648926,
          -3.7908825874328613,
          -3.5579259395599365,
          -1.4979000091552734,
          2.6972057819366455,
          2.5539157390594482,
          -1.2780234813690186,
          0.2672445774078369,
          -4.047048568725586,
          -2.614755153656006,
          -1.7668298482894897,
          -0.989993691444397,
          0.5817745923995972,
          -1.4723483324050903,
          -3.5527327060699463,
          -0.7653467059135437,
          -0.15612174570560455,
          2.682981014251709,
          -0.958702802658081,
          -1.6422840356826782,
          -1.6586236953735352,
          -3.2419779300689697,
          -0.5984037518501282,
          2.405928134918213,
          3.2641403675079346,
          -0.7475998401641846,
          -4.9792962074279785,
          -0.06534475088119507,
          7.367894172668457
         ]
        }
       ],
       "layout": {
        "coloraxis": {
         "colorbar": {
          "title": {
           "text": "color"
          }
         },
         "colorscale": [
          [
           0,
           "#0d0887"
          ],
          [
           0.1111111111111111,
           "#46039f"
          ],
          [
           0.2222222222222222,
           "#7201a8"
          ],
          [
           0.3333333333333333,
           "#9c179e"
          ],
          [
           0.4444444444444444,
           "#bd3786"
          ],
          [
           0.5555555555555556,
           "#d8576b"
          ],
          [
           0.6666666666666666,
           "#ed7953"
          ],
          [
           0.7777777777777778,
           "#fb9f3a"
          ],
          [
           0.8888888888888888,
           "#fdca26"
          ],
          [
           1,
           "#f0f921"
          ]
         ]
        },
        "legend": {
         "tracegroupgap": 0
        },
        "scene": {
         "domain": {
          "x": [
           0,
           1
          ],
          "y": [
           0,
           1
          ]
         },
         "xaxis": {
          "title": {
           "text": "0"
          }
         },
         "yaxis": {
          "title": {
           "text": "1"
          }
         },
         "zaxis": {
          "title": {
           "text": "2"
          }
         }
        },
        "template": {
         "data": {
          "bar": [
           {
            "error_x": {
             "color": "#2a3f5f"
            },
            "error_y": {
             "color": "#2a3f5f"
            },
            "marker": {
             "line": {
              "color": "#E5ECF6",
              "width": 0.5
             },
             "pattern": {
              "fillmode": "overlay",
              "size": 10,
              "solidity": 0.2
             }
            },
            "type": "bar"
           }
          ],
          "barpolar": [
           {
            "marker": {
             "line": {
              "color": "#E5ECF6",
              "width": 0.5
             },
             "pattern": {
              "fillmode": "overlay",
              "size": 10,
              "solidity": 0.2
             }
            },
            "type": "barpolar"
           }
          ],
          "carpet": [
           {
            "aaxis": {
             "endlinecolor": "#2a3f5f",
             "gridcolor": "white",
             "linecolor": "white",
             "minorgridcolor": "white",
             "startlinecolor": "#2a3f5f"
            },
            "baxis": {
             "endlinecolor": "#2a3f5f",
             "gridcolor": "white",
             "linecolor": "white",
             "minorgridcolor": "white",
             "startlinecolor": "#2a3f5f"
            },
            "type": "carpet"
           }
          ],
          "choropleth": [
           {
            "colorbar": {
             "outlinewidth": 0,
             "ticks": ""
            },
            "type": "choropleth"
           }
          ],
          "contour": [
           {
            "colorbar": {
             "outlinewidth": 0,
             "ticks": ""
            },
            "colorscale": [
             [
              0,
              "#0d0887"
             ],
             [
              0.1111111111111111,
              "#46039f"
             ],
             [
              0.2222222222222222,
              "#7201a8"
             ],
             [
              0.3333333333333333,
              "#9c179e"
             ],
             [
              0.4444444444444444,
              "#bd3786"
             ],
             [
              0.5555555555555556,
              "#d8576b"
             ],
             [
              0.6666666666666666,
              "#ed7953"
             ],
             [
              0.7777777777777778,
              "#fb9f3a"
             ],
             [
              0.8888888888888888,
              "#fdca26"
             ],
             [
              1,
              "#f0f921"
             ]
            ],
            "type": "contour"
           }
          ],
          "contourcarpet": [
           {
            "colorbar": {
             "outlinewidth": 0,
             "ticks": ""
            },
            "type": "contourcarpet"
           }
          ],
          "heatmap": [
           {
            "colorbar": {
             "outlinewidth": 0,
             "ticks": ""
            },
            "colorscale": [
             [
              0,
              "#0d0887"
             ],
             [
              0.1111111111111111,
              "#46039f"
             ],
             [
              0.2222222222222222,
              "#7201a8"
             ],
             [
              0.3333333333333333,
              "#9c179e"
             ],
             [
              0.4444444444444444,
              "#bd3786"
             ],
             [
              0.5555555555555556,
              "#d8576b"
             ],
             [
              0.6666666666666666,
              "#ed7953"
             ],
             [
              0.7777777777777778,
              "#fb9f3a"
             ],
             [
              0.8888888888888888,
              "#fdca26"
             ],
             [
              1,
              "#f0f921"
             ]
            ],
            "type": "heatmap"
           }
          ],
          "heatmapgl": [
           {
            "colorbar": {
             "outlinewidth": 0,
             "ticks": ""
            },
            "colorscale": [
             [
              0,
              "#0d0887"
             ],
             [
              0.1111111111111111,
              "#46039f"
             ],
             [
              0.2222222222222222,
              "#7201a8"
             ],
             [
              0.3333333333333333,
              "#9c179e"
             ],
             [
              0.4444444444444444,
              "#bd3786"
             ],
             [
              0.5555555555555556,
              "#d8576b"
             ],
             [
              0.6666666666666666,
              "#ed7953"
             ],
             [
              0.7777777777777778,
              "#fb9f3a"
             ],
             [
              0.8888888888888888,
              "#fdca26"
             ],
             [
              1,
              "#f0f921"
             ]
            ],
            "type": "heatmapgl"
           }
          ],
          "histogram": [
           {
            "marker": {
             "pattern": {
              "fillmode": "overlay",
              "size": 10,
              "solidity": 0.2
             }
            },
            "type": "histogram"
           }
          ],
          "histogram2d": [
           {
            "colorbar": {
             "outlinewidth": 0,
             "ticks": ""
            },
            "colorscale": [
             [
              0,
              "#0d0887"
             ],
             [
              0.1111111111111111,
              "#46039f"
             ],
             [
              0.2222222222222222,
              "#7201a8"
             ],
             [
              0.3333333333333333,
              "#9c179e"
             ],
             [
              0.4444444444444444,
              "#bd3786"
             ],
             [
              0.5555555555555556,
              "#d8576b"
             ],
             [
              0.6666666666666666,
              "#ed7953"
             ],
             [
              0.7777777777777778,
              "#fb9f3a"
             ],
             [
              0.8888888888888888,
              "#fdca26"
             ],
             [
              1,
              "#f0f921"
             ]
            ],
            "type": "histogram2d"
           }
          ],
          "histogram2dcontour": [
           {
            "colorbar": {
             "outlinewidth": 0,
             "ticks": ""
            },
            "colorscale": [
             [
              0,
              "#0d0887"
             ],
             [
              0.1111111111111111,
              "#46039f"
             ],
             [
              0.2222222222222222,
              "#7201a8"
             ],
             [
              0.3333333333333333,
              "#9c179e"
             ],
             [
              0.4444444444444444,
              "#bd3786"
             ],
             [
              0.5555555555555556,
              "#d8576b"
             ],
             [
              0.6666666666666666,
              "#ed7953"
             ],
             [
              0.7777777777777778,
              "#fb9f3a"
             ],
             [
              0.8888888888888888,
              "#fdca26"
             ],
             [
              1,
              "#f0f921"
             ]
            ],
            "type": "histogram2dcontour"
           }
          ],
          "mesh3d": [
           {
            "colorbar": {
             "outlinewidth": 0,
             "ticks": ""
            },
            "type": "mesh3d"
           }
          ],
          "parcoords": [
           {
            "line": {
             "colorbar": {
              "outlinewidth": 0,
              "ticks": ""
             }
            },
            "type": "parcoords"
           }
          ],
          "pie": [
           {
            "automargin": true,
            "type": "pie"
           }
          ],
          "scatter": [
           {
            "marker": {
             "colorbar": {
              "outlinewidth": 0,
              "ticks": ""
             }
            },
            "type": "scatter"
           }
          ],
          "scatter3d": [
           {
            "line": {
             "colorbar": {
              "outlinewidth": 0,
              "ticks": ""
             }
            },
            "marker": {
             "colorbar": {
              "outlinewidth": 0,
              "ticks": ""
             }
            },
            "type": "scatter3d"
           }
          ],
          "scattercarpet": [
           {
            "marker": {
             "colorbar": {
              "outlinewidth": 0,
              "ticks": ""
             }
            },
            "type": "scattercarpet"
           }
          ],
          "scattergeo": [
           {
            "marker": {
             "colorbar": {
              "outlinewidth": 0,
              "ticks": ""
             }
            },
            "type": "scattergeo"
           }
          ],
          "scattergl": [
           {
            "marker": {
             "colorbar": {
              "outlinewidth": 0,
              "ticks": ""
             }
            },
            "type": "scattergl"
           }
          ],
          "scattermapbox": [
           {
            "marker": {
             "colorbar": {
              "outlinewidth": 0,
              "ticks": ""
             }
            },
            "type": "scattermapbox"
           }
          ],
          "scatterpolar": [
           {
            "marker": {
             "colorbar": {
              "outlinewidth": 0,
              "ticks": ""
             }
            },
            "type": "scatterpolar"
           }
          ],
          "scatterpolargl": [
           {
            "marker": {
             "colorbar": {
              "outlinewidth": 0,
              "ticks": ""
             }
            },
            "type": "scatterpolargl"
           }
          ],
          "scatterternary": [
           {
            "marker": {
             "colorbar": {
              "outlinewidth": 0,
              "ticks": ""
             }
            },
            "type": "scatterternary"
           }
          ],
          "surface": [
           {
            "colorbar": {
             "outlinewidth": 0,
             "ticks": ""
            },
            "colorscale": [
             [
              0,
              "#0d0887"
             ],
             [
              0.1111111111111111,
              "#46039f"
             ],
             [
              0.2222222222222222,
              "#7201a8"
             ],
             [
              0.3333333333333333,
              "#9c179e"
             ],
             [
              0.4444444444444444,
              "#bd3786"
             ],
             [
              0.5555555555555556,
              "#d8576b"
             ],
             [
              0.6666666666666666,
              "#ed7953"
             ],
             [
              0.7777777777777778,
              "#fb9f3a"
             ],
             [
              0.8888888888888888,
              "#fdca26"
             ],
             [
              1,
              "#f0f921"
             ]
            ],
            "type": "surface"
           }
          ],
          "table": [
           {
            "cells": {
             "fill": {
              "color": "#EBF0F8"
             },
             "line": {
              "color": "white"
             }
            },
            "header": {
             "fill": {
              "color": "#C8D4E3"
             },
             "line": {
              "color": "white"
             }
            },
            "type": "table"
           }
          ]
         },
         "layout": {
          "annotationdefaults": {
           "arrowcolor": "#2a3f5f",
           "arrowhead": 0,
           "arrowwidth": 1
          },
          "autotypenumbers": "strict",
          "coloraxis": {
           "colorbar": {
            "outlinewidth": 0,
            "ticks": ""
           }
          },
          "colorscale": {
           "diverging": [
            [
             0,
             "#8e0152"
            ],
            [
             0.1,
             "#c51b7d"
            ],
            [
             0.2,
             "#de77ae"
            ],
            [
             0.3,
             "#f1b6da"
            ],
            [
             0.4,
             "#fde0ef"
            ],
            [
             0.5,
             "#f7f7f7"
            ],
            [
             0.6,
             "#e6f5d0"
            ],
            [
             0.7,
             "#b8e186"
            ],
            [
             0.8,
             "#7fbc41"
            ],
            [
             0.9,
             "#4d9221"
            ],
            [
             1,
             "#276419"
            ]
           ],
           "sequential": [
            [
             0,
             "#0d0887"
            ],
            [
             0.1111111111111111,
             "#46039f"
            ],
            [
             0.2222222222222222,
             "#7201a8"
            ],
            [
             0.3333333333333333,
             "#9c179e"
            ],
            [
             0.4444444444444444,
             "#bd3786"
            ],
            [
             0.5555555555555556,
             "#d8576b"
            ],
            [
             0.6666666666666666,
             "#ed7953"
            ],
            [
             0.7777777777777778,
             "#fb9f3a"
            ],
            [
             0.8888888888888888,
             "#fdca26"
            ],
            [
             1,
             "#f0f921"
            ]
           ],
           "sequentialminus": [
            [
             0,
             "#0d0887"
            ],
            [
             0.1111111111111111,
             "#46039f"
            ],
            [
             0.2222222222222222,
             "#7201a8"
            ],
            [
             0.3333333333333333,
             "#9c179e"
            ],
            [
             0.4444444444444444,
             "#bd3786"
            ],
            [
             0.5555555555555556,
             "#d8576b"
            ],
            [
             0.6666666666666666,
             "#ed7953"
            ],
            [
             0.7777777777777778,
             "#fb9f3a"
            ],
            [
             0.8888888888888888,
             "#fdca26"
            ],
            [
             1,
             "#f0f921"
            ]
           ]
          },
          "colorway": [
           "#636efa",
           "#EF553B",
           "#00cc96",
           "#ab63fa",
           "#FFA15A",
           "#19d3f3",
           "#FF6692",
           "#B6E880",
           "#FF97FF",
           "#FECB52"
          ],
          "font": {
           "color": "#2a3f5f"
          },
          "geo": {
           "bgcolor": "white",
           "lakecolor": "white",
           "landcolor": "#E5ECF6",
           "showlakes": true,
           "showland": true,
           "subunitcolor": "white"
          },
          "hoverlabel": {
           "align": "left"
          },
          "hovermode": "closest",
          "mapbox": {
           "style": "light"
          },
          "paper_bgcolor": "white",
          "plot_bgcolor": "#E5ECF6",
          "polar": {
           "angularaxis": {
            "gridcolor": "white",
            "linecolor": "white",
            "ticks": ""
           },
           "bgcolor": "#E5ECF6",
           "radialaxis": {
            "gridcolor": "white",
            "linecolor": "white",
            "ticks": ""
           }
          },
          "scene": {
           "xaxis": {
            "backgroundcolor": "#E5ECF6",
            "gridcolor": "white",
            "gridwidth": 2,
            "linecolor": "white",
            "showbackground": true,
            "ticks": "",
            "zerolinecolor": "white"
           },
           "yaxis": {
            "backgroundcolor": "#E5ECF6",
            "gridcolor": "white",
            "gridwidth": 2,
            "linecolor": "white",
            "showbackground": true,
            "ticks": "",
            "zerolinecolor": "white"
           },
           "zaxis": {
            "backgroundcolor": "#E5ECF6",
            "gridcolor": "white",
            "gridwidth": 2,
            "linecolor": "white",
            "showbackground": true,
            "ticks": "",
            "zerolinecolor": "white"
           }
          },
          "shapedefaults": {
           "line": {
            "color": "#2a3f5f"
           }
          },
          "ternary": {
           "aaxis": {
            "gridcolor": "white",
            "linecolor": "white",
            "ticks": ""
           },
           "baxis": {
            "gridcolor": "white",
            "linecolor": "white",
            "ticks": ""
           },
           "bgcolor": "#E5ECF6",
           "caxis": {
            "gridcolor": "white",
            "linecolor": "white",
            "ticks": ""
           }
          },
          "title": {
           "x": 0.05
          },
          "xaxis": {
           "automargin": true,
           "gridcolor": "white",
           "linecolor": "white",
           "ticks": "",
           "title": {
            "standoff": 15
           },
           "zerolinecolor": "white",
           "zerolinewidth": 2
          },
          "yaxis": {
           "automargin": true,
           "gridcolor": "white",
           "linecolor": "white",
           "ticks": "",
           "title": {
            "standoff": 15
           },
           "zerolinecolor": "white",
           "zerolinewidth": 2
          }
         }
        },
        "title": {
         "text": "бор, 0.7864938108840548"
        }
       }
      },
      "text/html": [
       "<div>                            <div id=\"ea01c457-2a94-427e-b8e5-bbcd1130f834\" class=\"plotly-graph-div\" style=\"height:525px; width:100%;\"></div>            <script type=\"text/javascript\">                require([\"plotly\"], function(Plotly) {                    window.PLOTLYENV=window.PLOTLYENV || {};                                    if (document.getElementById(\"ea01c457-2a94-427e-b8e5-bbcd1130f834\")) {                    Plotly.newPlot(                        \"ea01c457-2a94-427e-b8e5-bbcd1130f834\",                        [{\"hovertemplate\":\"0=%{x}<br>1=%{y}<br>2=%{z}<br>color=%{marker.color}<extra></extra>\",\"legendgroup\":\"\",\"marker\":{\"color\":[1,1,1,1,1,1,1,1,1,1,1,1,1,1,2,2,2,2,2,2,2,2,2,2,2,2,2,2,2,2,2,2,2,2,2,2,2,2,2,2,2,2,2,2,2,2,2,2,2,2,2,2,2,2,2,2],\"coloraxis\":\"coloraxis\",\"symbol\":\"circle\"},\"mode\":\"markers\",\"name\":\"\",\"scene\":\"scene\",\"showlegend\":false,\"type\":\"scatter3d\",\"x\":[8.98612117767334,12.537353515625,5.358998775482178,7.761584758758545,1.7539020776748657,5.711797714233398,9.837271690368652,7.335113048553467,11.257658958435059,9.670108795166016,10.791958808898926,5.789815902709961,4.108026504516602,9.358797073364258,9.799277305603027,-4.408857822418213,9.466240882873535,-4.951699733734131,-2.2659285068511963,-4.168772220611572,-5.492228984832764,-4.790538311004639,-4.067419528961182,-3.446909189224243,-2.4558029174804688,-1.245099425315857,-2.6662685871124268,-4.418028831481934,-3.406862497329712,-2.5405728816986084,-2.495114326477051,-3.7050602436065674,-5.026194095611572,-4.16790246963501,-5.052844047546387,-3.162933349609375,-3.88581919670105,-4.360563278198242,-2.6456031799316406,-2.878213882446289,-4.0352935791015625,-1.3697139024734497,-5.032477855682373,-4.289090633392334,-3.759654998779297,-4.2269182205200195,9.47490406036377,-4.244895935058594,-0.00897474866360426,-1.8985539674758911,-3.802778482437134,-2.777691602706909,-5.14179801940918,-2.792814254760742,-3.4997193813323975,-4.413318634033203],\"y\":[4.287852764129639,5.251700401306152,-5.0955047607421875,-5.165340423583984,-2.6255457401275635,-3.7582058906555176,-6.306026935577393,-5.792320728302002,0.5005516409873962,-6.260337829589844,-5.574423789978027,-5.620680809020996,-3.0895631313323975,-4.189718246459961,11.403995513916016,1.6658315658569336,12.326574325561523,0.337613582611084,-1.605160117149353,-0.0270965788513422,0.2037627398967743,1.3236801624298096,-0.1628144234418869,0.3313681185245514,-1.2614859342575073,-0.9881495833396912,-0.18338045477867126,1.6436508893966675,-0.08922633528709412,-1.9491381645202637,1.1192809343338013,2.1954729557037354,0.3395361006259918,-0.6866645812988281,-0.03010423667728901,-0.49586427211761475,0.19001956284046173,1.1315637826919556,0.5431299805641174,1.062403678894043,-0.9525324702262878,-1.6047892570495605,-0.7689254283905029,-0.013430126942694187,2.238651752471924,-0.5860311985015869,11.362492561340332,0.9698655009269714,0.1839098483324051,1.5302855968475342,2.2276532649993896,1.345587968826294,-0.5369871854782104,-2.0159590244293213,0.04411166533827782,1.6748600006103516],\"z\":[0.5431514382362366,0.7067655920982361,1.1041202545166016,1.304329514503479,3.1559672355651855,-0.09161447733640671,0.7592594027519226,0.9542758464813232,0.1141204833984375,0.4271954596042633,0.7493179440498352,1.6914595365524292,0.3660438656806946,1.2382932901382446,-1.6926568746566772,7.419986248016357,-1.395481824874878,3.124171257019043,-3.84120512008667,-2.9043221473693848,0.8777356743812561,5.057372093200684,-1.3362858295440674,-0.5262088775634766,-4.822983741760254,-0.7759659290313721,-1.9821760654449463,7.336392402648926,-3.7908825874328613,-3.5579259395599365,-1.4979000091552734,2.6972057819366455,2.5539157390594482,-1.2780234813690186,0.2672445774078369,-4.047048568725586,-2.614755153656006,-1.7668298482894897,-0.989993691444397,0.5817745923995972,-1.4723483324050903,-3.5527327060699463,-0.7653467059135437,-0.15612174570560455,2.682981014251709,-0.958702802658081,-1.6422840356826782,-1.6586236953735352,-3.2419779300689697,-0.5984037518501282,2.405928134918213,3.2641403675079346,-0.7475998401641846,-4.9792962074279785,-0.06534475088119507,7.367894172668457]}],                        {\"coloraxis\":{\"colorbar\":{\"title\":{\"text\":\"color\"}},\"colorscale\":[[0.0,\"#0d0887\"],[0.1111111111111111,\"#46039f\"],[0.2222222222222222,\"#7201a8\"],[0.3333333333333333,\"#9c179e\"],[0.4444444444444444,\"#bd3786\"],[0.5555555555555556,\"#d8576b\"],[0.6666666666666666,\"#ed7953\"],[0.7777777777777778,\"#fb9f3a\"],[0.8888888888888888,\"#fdca26\"],[1.0,\"#f0f921\"]]},\"legend\":{\"tracegroupgap\":0},\"scene\":{\"domain\":{\"x\":[0.0,1.0],\"y\":[0.0,1.0]},\"xaxis\":{\"title\":{\"text\":\"0\"}},\"yaxis\":{\"title\":{\"text\":\"1\"}},\"zaxis\":{\"title\":{\"text\":\"2\"}}},\"template\":{\"data\":{\"bar\":[{\"error_x\":{\"color\":\"#2a3f5f\"},\"error_y\":{\"color\":\"#2a3f5f\"},\"marker\":{\"line\":{\"color\":\"#E5ECF6\",\"width\":0.5},\"pattern\":{\"fillmode\":\"overlay\",\"size\":10,\"solidity\":0.2}},\"type\":\"bar\"}],\"barpolar\":[{\"marker\":{\"line\":{\"color\":\"#E5ECF6\",\"width\":0.5},\"pattern\":{\"fillmode\":\"overlay\",\"size\":10,\"solidity\":0.2}},\"type\":\"barpolar\"}],\"carpet\":[{\"aaxis\":{\"endlinecolor\":\"#2a3f5f\",\"gridcolor\":\"white\",\"linecolor\":\"white\",\"minorgridcolor\":\"white\",\"startlinecolor\":\"#2a3f5f\"},\"baxis\":{\"endlinecolor\":\"#2a3f5f\",\"gridcolor\":\"white\",\"linecolor\":\"white\",\"minorgridcolor\":\"white\",\"startlinecolor\":\"#2a3f5f\"},\"type\":\"carpet\"}],\"choropleth\":[{\"colorbar\":{\"outlinewidth\":0,\"ticks\":\"\"},\"type\":\"choropleth\"}],\"contour\":[{\"colorbar\":{\"outlinewidth\":0,\"ticks\":\"\"},\"colorscale\":[[0.0,\"#0d0887\"],[0.1111111111111111,\"#46039f\"],[0.2222222222222222,\"#7201a8\"],[0.3333333333333333,\"#9c179e\"],[0.4444444444444444,\"#bd3786\"],[0.5555555555555556,\"#d8576b\"],[0.6666666666666666,\"#ed7953\"],[0.7777777777777778,\"#fb9f3a\"],[0.8888888888888888,\"#fdca26\"],[1.0,\"#f0f921\"]],\"type\":\"contour\"}],\"contourcarpet\":[{\"colorbar\":{\"outlinewidth\":0,\"ticks\":\"\"},\"type\":\"contourcarpet\"}],\"heatmap\":[{\"colorbar\":{\"outlinewidth\":0,\"ticks\":\"\"},\"colorscale\":[[0.0,\"#0d0887\"],[0.1111111111111111,\"#46039f\"],[0.2222222222222222,\"#7201a8\"],[0.3333333333333333,\"#9c179e\"],[0.4444444444444444,\"#bd3786\"],[0.5555555555555556,\"#d8576b\"],[0.6666666666666666,\"#ed7953\"],[0.7777777777777778,\"#fb9f3a\"],[0.8888888888888888,\"#fdca26\"],[1.0,\"#f0f921\"]],\"type\":\"heatmap\"}],\"heatmapgl\":[{\"colorbar\":{\"outlinewidth\":0,\"ticks\":\"\"},\"colorscale\":[[0.0,\"#0d0887\"],[0.1111111111111111,\"#46039f\"],[0.2222222222222222,\"#7201a8\"],[0.3333333333333333,\"#9c179e\"],[0.4444444444444444,\"#bd3786\"],[0.5555555555555556,\"#d8576b\"],[0.6666666666666666,\"#ed7953\"],[0.7777777777777778,\"#fb9f3a\"],[0.8888888888888888,\"#fdca26\"],[1.0,\"#f0f921\"]],\"type\":\"heatmapgl\"}],\"histogram\":[{\"marker\":{\"pattern\":{\"fillmode\":\"overlay\",\"size\":10,\"solidity\":0.2}},\"type\":\"histogram\"}],\"histogram2d\":[{\"colorbar\":{\"outlinewidth\":0,\"ticks\":\"\"},\"colorscale\":[[0.0,\"#0d0887\"],[0.1111111111111111,\"#46039f\"],[0.2222222222222222,\"#7201a8\"],[0.3333333333333333,\"#9c179e\"],[0.4444444444444444,\"#bd3786\"],[0.5555555555555556,\"#d8576b\"],[0.6666666666666666,\"#ed7953\"],[0.7777777777777778,\"#fb9f3a\"],[0.8888888888888888,\"#fdca26\"],[1.0,\"#f0f921\"]],\"type\":\"histogram2d\"}],\"histogram2dcontour\":[{\"colorbar\":{\"outlinewidth\":0,\"ticks\":\"\"},\"colorscale\":[[0.0,\"#0d0887\"],[0.1111111111111111,\"#46039f\"],[0.2222222222222222,\"#7201a8\"],[0.3333333333333333,\"#9c179e\"],[0.4444444444444444,\"#bd3786\"],[0.5555555555555556,\"#d8576b\"],[0.6666666666666666,\"#ed7953\"],[0.7777777777777778,\"#fb9f3a\"],[0.8888888888888888,\"#fdca26\"],[1.0,\"#f0f921\"]],\"type\":\"histogram2dcontour\"}],\"mesh3d\":[{\"colorbar\":{\"outlinewidth\":0,\"ticks\":\"\"},\"type\":\"mesh3d\"}],\"parcoords\":[{\"line\":{\"colorbar\":{\"outlinewidth\":0,\"ticks\":\"\"}},\"type\":\"parcoords\"}],\"pie\":[{\"automargin\":true,\"type\":\"pie\"}],\"scatter\":[{\"marker\":{\"colorbar\":{\"outlinewidth\":0,\"ticks\":\"\"}},\"type\":\"scatter\"}],\"scatter3d\":[{\"line\":{\"colorbar\":{\"outlinewidth\":0,\"ticks\":\"\"}},\"marker\":{\"colorbar\":{\"outlinewidth\":0,\"ticks\":\"\"}},\"type\":\"scatter3d\"}],\"scattercarpet\":[{\"marker\":{\"colorbar\":{\"outlinewidth\":0,\"ticks\":\"\"}},\"type\":\"scattercarpet\"}],\"scattergeo\":[{\"marker\":{\"colorbar\":{\"outlinewidth\":0,\"ticks\":\"\"}},\"type\":\"scattergeo\"}],\"scattergl\":[{\"marker\":{\"colorbar\":{\"outlinewidth\":0,\"ticks\":\"\"}},\"type\":\"scattergl\"}],\"scattermapbox\":[{\"marker\":{\"colorbar\":{\"outlinewidth\":0,\"ticks\":\"\"}},\"type\":\"scattermapbox\"}],\"scatterpolar\":[{\"marker\":{\"colorbar\":{\"outlinewidth\":0,\"ticks\":\"\"}},\"type\":\"scatterpolar\"}],\"scatterpolargl\":[{\"marker\":{\"colorbar\":{\"outlinewidth\":0,\"ticks\":\"\"}},\"type\":\"scatterpolargl\"}],\"scatterternary\":[{\"marker\":{\"colorbar\":{\"outlinewidth\":0,\"ticks\":\"\"}},\"type\":\"scatterternary\"}],\"surface\":[{\"colorbar\":{\"outlinewidth\":0,\"ticks\":\"\"},\"colorscale\":[[0.0,\"#0d0887\"],[0.1111111111111111,\"#46039f\"],[0.2222222222222222,\"#7201a8\"],[0.3333333333333333,\"#9c179e\"],[0.4444444444444444,\"#bd3786\"],[0.5555555555555556,\"#d8576b\"],[0.6666666666666666,\"#ed7953\"],[0.7777777777777778,\"#fb9f3a\"],[0.8888888888888888,\"#fdca26\"],[1.0,\"#f0f921\"]],\"type\":\"surface\"}],\"table\":[{\"cells\":{\"fill\":{\"color\":\"#EBF0F8\"},\"line\":{\"color\":\"white\"}},\"header\":{\"fill\":{\"color\":\"#C8D4E3\"},\"line\":{\"color\":\"white\"}},\"type\":\"table\"}]},\"layout\":{\"annotationdefaults\":{\"arrowcolor\":\"#2a3f5f\",\"arrowhead\":0,\"arrowwidth\":1},\"autotypenumbers\":\"strict\",\"coloraxis\":{\"colorbar\":{\"outlinewidth\":0,\"ticks\":\"\"}},\"colorscale\":{\"diverging\":[[0,\"#8e0152\"],[0.1,\"#c51b7d\"],[0.2,\"#de77ae\"],[0.3,\"#f1b6da\"],[0.4,\"#fde0ef\"],[0.5,\"#f7f7f7\"],[0.6,\"#e6f5d0\"],[0.7,\"#b8e186\"],[0.8,\"#7fbc41\"],[0.9,\"#4d9221\"],[1,\"#276419\"]],\"sequential\":[[0.0,\"#0d0887\"],[0.1111111111111111,\"#46039f\"],[0.2222222222222222,\"#7201a8\"],[0.3333333333333333,\"#9c179e\"],[0.4444444444444444,\"#bd3786\"],[0.5555555555555556,\"#d8576b\"],[0.6666666666666666,\"#ed7953\"],[0.7777777777777778,\"#fb9f3a\"],[0.8888888888888888,\"#fdca26\"],[1.0,\"#f0f921\"]],\"sequentialminus\":[[0.0,\"#0d0887\"],[0.1111111111111111,\"#46039f\"],[0.2222222222222222,\"#7201a8\"],[0.3333333333333333,\"#9c179e\"],[0.4444444444444444,\"#bd3786\"],[0.5555555555555556,\"#d8576b\"],[0.6666666666666666,\"#ed7953\"],[0.7777777777777778,\"#fb9f3a\"],[0.8888888888888888,\"#fdca26\"],[1.0,\"#f0f921\"]]},\"colorway\":[\"#636efa\",\"#EF553B\",\"#00cc96\",\"#ab63fa\",\"#FFA15A\",\"#19d3f3\",\"#FF6692\",\"#B6E880\",\"#FF97FF\",\"#FECB52\"],\"font\":{\"color\":\"#2a3f5f\"},\"geo\":{\"bgcolor\":\"white\",\"lakecolor\":\"white\",\"landcolor\":\"#E5ECF6\",\"showlakes\":true,\"showland\":true,\"subunitcolor\":\"white\"},\"hoverlabel\":{\"align\":\"left\"},\"hovermode\":\"closest\",\"mapbox\":{\"style\":\"light\"},\"paper_bgcolor\":\"white\",\"plot_bgcolor\":\"#E5ECF6\",\"polar\":{\"angularaxis\":{\"gridcolor\":\"white\",\"linecolor\":\"white\",\"ticks\":\"\"},\"bgcolor\":\"#E5ECF6\",\"radialaxis\":{\"gridcolor\":\"white\",\"linecolor\":\"white\",\"ticks\":\"\"}},\"scene\":{\"xaxis\":{\"backgroundcolor\":\"#E5ECF6\",\"gridcolor\":\"white\",\"gridwidth\":2,\"linecolor\":\"white\",\"showbackground\":true,\"ticks\":\"\",\"zerolinecolor\":\"white\"},\"yaxis\":{\"backgroundcolor\":\"#E5ECF6\",\"gridcolor\":\"white\",\"gridwidth\":2,\"linecolor\":\"white\",\"showbackground\":true,\"ticks\":\"\",\"zerolinecolor\":\"white\"},\"zaxis\":{\"backgroundcolor\":\"#E5ECF6\",\"gridcolor\":\"white\",\"gridwidth\":2,\"linecolor\":\"white\",\"showbackground\":true,\"ticks\":\"\",\"zerolinecolor\":\"white\"}},\"shapedefaults\":{\"line\":{\"color\":\"#2a3f5f\"}},\"ternary\":{\"aaxis\":{\"gridcolor\":\"white\",\"linecolor\":\"white\",\"ticks\":\"\"},\"baxis\":{\"gridcolor\":\"white\",\"linecolor\":\"white\",\"ticks\":\"\"},\"bgcolor\":\"#E5ECF6\",\"caxis\":{\"gridcolor\":\"white\",\"linecolor\":\"white\",\"ticks\":\"\"}},\"title\":{\"x\":0.05},\"xaxis\":{\"automargin\":true,\"gridcolor\":\"white\",\"linecolor\":\"white\",\"ticks\":\"\",\"title\":{\"standoff\":15},\"zerolinecolor\":\"white\",\"zerolinewidth\":2},\"yaxis\":{\"automargin\":true,\"gridcolor\":\"white\",\"linecolor\":\"white\",\"ticks\":\"\",\"title\":{\"standoff\":15},\"zerolinecolor\":\"white\",\"zerolinewidth\":2}}},\"title\":{\"text\":\"\\u0431\\u043e\\u0440, 0.7864938108840548\"}},                        {\"responsive\": true}                    ).then(function(){\n",
       "                            \n",
       "var gd = document.getElementById('ea01c457-2a94-427e-b8e5-bbcd1130f834');\n",
       "var x = new MutationObserver(function (mutations, observer) {{\n",
       "        var display = window.getComputedStyle(gd).display;\n",
       "        if (!display || display === 'none') {{\n",
       "            console.log([gd, 'removed!']);\n",
       "            Plotly.purge(gd);\n",
       "            observer.disconnect();\n",
       "        }}\n",
       "}});\n",
       "\n",
       "// Listen for the removal of the full notebook cells\n",
       "var notebookContainer = gd.closest('#notebook-container');\n",
       "if (notebookContainer) {{\n",
       "    x.observe(notebookContainer, {childList: true});\n",
       "}}\n",
       "\n",
       "// Listen for the clearing of the current output cell\n",
       "var outputEl = gd.closest('.output');\n",
       "if (outputEl) {{\n",
       "    x.observe(outputEl, {childList: true});\n",
       "}}\n",
       "\n",
       "                        })                };                });            </script>        </div>"
      ]
     },
     "metadata": {},
     "output_type": "display_data"
    },
    {
     "data": {
      "application/vnd.plotly.v1+json": {
       "config": {
        "plotlyServerURL": "https://plot.ly"
       },
       "data": [
        {
         "hovertemplate": "0=%{x}<br>1=%{y}<br>2=%{z}<br>color=%{marker.color}<extra></extra>",
         "legendgroup": "",
         "marker": {
          "color": [
           1,
           1,
           1,
           1,
           1,
           1,
           1,
           1,
           1,
           1,
           1,
           1,
           1,
           1,
           1,
           1,
           1,
           1,
           1,
           1,
           1,
           1,
           1,
           1,
           1,
           1,
           1,
           1,
           1,
           1,
           1,
           1,
           1,
           1,
           1,
           1,
           1,
           1,
           1,
           1,
           1,
           1,
           1,
           1,
           1,
           1,
           1,
           1,
           1,
           1,
           1,
           1,
           1,
           1,
           1,
           1,
           1,
           1,
           1,
           1,
           1,
           1,
           1,
           1,
           1,
           1,
           1,
           1,
           1,
           1,
           1,
           1,
           1,
           1,
           1,
           1,
           1,
           1,
           1,
           1,
           1,
           1,
           1,
           1,
           1,
           1,
           1,
           1,
           1,
           1,
           1,
           1,
           1,
           1,
           1,
           1,
           1,
           1,
           1,
           1,
           2,
           2,
           2,
           2,
           2,
           2,
           2,
           2,
           2,
           2,
           2,
           2,
           2,
           2,
           2,
           2,
           2,
           2,
           2,
           2,
           2,
           2,
           2,
           2,
           2,
           2,
           2,
           2,
           2,
           2,
           2,
           2,
           2,
           2,
           2
          ],
          "coloraxis": "coloraxis",
          "symbol": "circle"
         },
         "mode": "markers",
         "name": "",
         "scene": "scene",
         "showlegend": false,
         "type": "scatter3d",
         "x": [
          0.5390003323554993,
          3.380053997039795,
          -6.1889967918396,
          1.2248742580413818,
          -4.475048065185547,
          1.1818819046020508,
          -3.5120043754577637,
          -3.138523817062378,
          3.6831676959991455,
          2.5632152557373047,
          -6.993966102600098,
          -3.142136573791504,
          -6.955129146575928,
          2.19264817237854,
          -0.995072603225708,
          1.8827791213989258,
          1.4141254425048828,
          2.2586123943328857,
          -6.8594441413879395,
          -0.7221403121948242,
          -6.240682601928711,
          -6.767618656158447,
          1.205758810043335,
          -6.676094055175781,
          -4.918623924255371,
          0.9682058691978455,
          -5.2024078369140625,
          -2.2639706134796143,
          0.7634626626968384,
          2.4571144580841064,
          -4.358323097229004,
          1.569667100906372,
          -6.019344806671143,
          1.0688505172729492,
          -5.516205787658691,
          0.7382450699806213,
          -2.2188172340393066,
          -3.3264248371124268,
          -6.3036417961120605,
          -6.206087112426758,
          -5.250431537628174,
          -4.868005275726318,
          -5.043309688568115,
          1.1502189636230469,
          -5.38200044631958,
          -5.723755359649658,
          -6.3186936378479,
          3.0175673961639404,
          -6.654379367828369,
          -2.7580649852752686,
          -5.015390872955322,
          -5.096900939941406,
          1.0317788124084473,
          1.3839997053146362,
          -4.138242721557617,
          -1.1134471893310547,
          -5.276180267333984,
          2.3570706844329834,
          -4.8460001945495605,
          -2.124248504638672,
          1.1187472343444824,
          -6.2157206535339355,
          -4.673061847686768,
          -4.502532005310059,
          -6.447970390319824,
          3.163595676422119,
          2.3202285766601562,
          1.733547329902649,
          -6.432468891143799,
          -3.501194477081299,
          2.8284177780151367,
          -4.605050563812256,
          -4.404536724090576,
          0.5331264138221741,
          -0.5450742840766907,
          -3.178400993347168,
          -1.0393608808517456,
          -0.31767791509628296,
          0.7317917943000793,
          1.704923152923584,
          -2.930574655532837,
          0.936160683631897,
          -3.4310388565063477,
          -3.4473273754119873,
          -6.270526885986328,
          -5.574445724487305,
          -4.9127326011657715,
          -6.683248043060303,
          -4.657310962677002,
          2.201589345932007,
          -6.150506973266602,
          -2.4698400497436523,
          -2.1674954891204834,
          -2.138324499130249,
          0.8305169343948364,
          -0.8435057997703552,
          -4.583759307861328,
          -4.516621112823486,
          -4.847695827484131,
          -2.9237060546875,
          5.701597213745117,
          6.803598880767822,
          6.848349571228027,
          8.966803550720215,
          4.694603443145752,
          8.423248291015625,
          5.070076942443848,
          8.354012489318848,
          6.754623889923096,
          7.885684013366699,
          6.492318630218506,
          4.504905700683594,
          9.887255668640137,
          8.060308456420898,
          6.990603446960449,
          8.90683650970459,
          5.611876964569092,
          8.196723937988281,
          6.583132266998291,
          4.973672866821289,
          8.722707748413086,
          7.977838516235352,
          5.121156692504883,
          5.587893486022949,
          7.82828426361084,
          8.123796463012695,
          5.673696041107178,
          8.350634574890137,
          4.046990871429443,
          5.495009899139404,
          8.6820707321167,
          4.274657249450684,
          4.417512893676758,
          6.410263538360596,
          6.463754177093506
         ],
         "y": [
          5.176207542419434,
          6.328632831573486,
          -3.540353775024414,
          5.654325485229492,
          -0.47446832060813904,
          1.2320382595062256,
          2.501756191253662,
          1.282554268836975,
          5.937914848327637,
          6.134291648864746,
          -3.478933334350586,
          3.051470994949341,
          -3.9883909225463867,
          3.8744354248046875,
          1.9995349645614624,
          1.638767123222351,
          5.112729549407959,
          5.7252912521362305,
          -1.6992695331573486,
          6.112071514129639,
          -3.5877230167388916,
          -4.452975273132324,
          2.9503161907196045,
          -3.1035938262939453,
          -0.28566670417785645,
          5.171331882476807,
          -2.915743112564087,
          -0.46316075325012207,
          5.490140914916992,
          2.5703341960906982,
          -0.48465827107429504,
          5.890869140625,
          -4.74144983291626,
          7.282747268676758,
          -2.4217042922973633,
          5.055671215057373,
          4.528400897979736,
          3.254438877105713,
          -3.5592899322509766,
          -3.646479845046997,
          -2.057194709777832,
          -4.3923563957214355,
          -0.8497602343559265,
          3.3753280639648438,
          -2.4453530311584473,
          -4.243190288543701,
          -3.2353062629699707,
          6.198215484619141,
          -4.349886417388916,
          4.092779636383057,
          -0.6060726642608643,
          -0.626896858215332,
          3.0497379302978516,
          7.058777809143066,
          -0.1269291341304779,
          6.111077308654785,
          -2.3823471069335938,
          5.383029937744141,
          -0.36390191316604614,
          3.8690388202667236,
          3.4511148929595947,
          -3.7219722270965576,
          1.0243488550186157,
          -0.5435383319854736,
          -1.730027675628662,
          5.410416126251221,
          5.597468376159668,
          5.245225429534912,
          -3.99481463432312,
          0.2526093125343323,
          3.063555955886841,
          0.446270227432251,
          -1.419392704963684,
          5.667619228363037,
          4.78680419921875,
          2.610118865966797,
          2.2398931980133057,
          3.0648694038391113,
          -1.7180120944976807,
          1.7538810968399048,
          3.023174285888672,
          5.330702304840088,
          0.35630813241004944,
          0.13442014157772064,
          -4.645749092102051,
          -1.3932534456253052,
          -3.409802198410034,
          -3.3879356384277344,
          -2.0303618907928467,
          4.356867790222168,
          -3.9174349308013916,
          4.675168991088867,
          3.816929340362549,
          4.597845077514648,
          1.9146244525909424,
          3.2662031650543213,
          -0.1417672336101532,
          -2.6793735027313232,
          -2.9948782920837402,
          1.997280240058899,
          -4.462300777435303,
          -3.550865888595581,
          -3.2551181316375732,
          -1.8139195442199707,
          -6.421102523803711,
          -2.9472203254699707,
          -5.348114013671875,
          -3.0703928470611572,
          -4.816709518432617,
          -1.0780097246170044,
          -3.96770977973938,
          -5.551391124725342,
          -2.003169536590576,
          -3.354647159576416,
          -4.992776393890381,
          -3.075591564178467,
          -2.6174638271331787,
          -2.420863389968872,
          -3.477509021759033,
          -6.740548133850098,
          -2.2022712230682373,
          -2.275724172592163,
          -5.429464817047119,
          -2.8168294429779053,
          -0.8962551355361938,
          -1.0869334936141968,
          -4.521435260772705,
          -2.3646633625030518,
          -5.005928993225098,
          -2.6002883911132812,
          -2.4747207164764404,
          -1.2720630168914795,
          -1.417518973350525,
          -1.712234616279602,
          -3.884854793548584
         ],
         "z": [
          -2.4257335662841797,
          -2.961048126220703,
          -4.584210395812988,
          -2.082143783569336,
          -3.360921621322632,
          5.201361656188965,
          -0.9467840194702148,
          3.230438232421875,
          -5.633697509765625,
          -2.722033739089966,
          -1.9148800373077393,
          0.8678803443908691,
          -2.1475777626037598,
          2.6479504108428955,
          -2.2084224224090576,
          5.3507208824157715,
          -2.7079548835754395,
          -4.692041397094727,
          -0.06258627772331238,
          4.398834228515625,
          -4.534629821777344,
          -1.8680148124694824,
          3.053898334503174,
          -0.5005782842636108,
          0.6461223363876343,
          2.4943296909332275,
          3.1080684661865234,
          -1.4972771406173706,
          -3.27144455909729,
          0.7132023572921753,
          -3.5540425777435303,
          3.766658067703247,
          -0.011579855345189571,
          -2.2434473037719727,
          2.652230739593506,
          2.4712936878204346,
          3.110311985015869,
          3.8536629676818848,
          1.0333253145217896,
          -4.093600749969482,
          3.01784086227417,
          -2.9059605598449707,
          1.4964936971664429,
          -4.343262672424316,
          3.6162126064300537,
          -4.0784525871276855,
          1.1924694776535034,
          -5.588596343994141,
          -1.6303529739379883,
          4.171532154083252,
          -2.5414276123046875,
          1.4460774660110474,
          0.6455811262130737,
          -2.1231157779693604,
          2.344876766204834,
          3.90358567237854,
          3.8313069343566895,
          -5.714359760284424,
          -2.6598660945892334,
          2.999648332595825,
          -4.767477512359619,
          1.556596279144287,
          0.24669745564460754,
          -3.3605775833129883,
          -0.7751070857048035,
          -0.9307500720024109,
          -5.05027437210083,
          -3.8743090629577637,
          0.9086909294128418,
          -0.6841928958892822,
          -4.487576961517334,
          -1.4732060432434082,
          -2.1669974327087402,
          -2.7799088954925537,
          2.6219654083251953,
          2.515334129333496,
          2.974658727645874,
          4.008307456970215,
          6.4957404136657715,
          5.457059860229492,
          1.3634530305862427,
          -2.1465179920196533,
          -0.6261087656021118,
          -0.7756974697113037,
          -0.55066978931427,
          3.1209752559661865,
          2.6617228984832764,
          0.08315196633338928,
          0.7939541339874268,
          -4.660969257354736,
          -4.282980918884277,
          4.966902732849121,
          3.746647834777832,
          3.2158451080322266,
          4.20008659362793,
          1.1571128368377686,
          -2.520719051361084,
          -3.5745556354522705,
          3.2428059577941895,
          2.9244797229766846,
          -2.0827536582946777,
          -3.089411973953247,
          -2.684582233428955,
          2.292152166366577,
          0.7412379384040833,
          -0.15352731943130493,
          0.9821353554725647,
          1.1973580121994019,
          -2.1419193744659424,
          1.3836610317230225,
          -3.3215837478637695,
          1.2929397821426392,
          1.4290525913238525,
          2.6725711822509766,
          -1.9449273347854614,
          -0.006000417284667492,
          3.74639630317688,
          3.627948045730591,
          -2.8178672790527344,
          0.5695840716362,
          1.800694465637207,
          -0.7704893946647644,
          0.8830534219741821,
          -1.158980131149292,
          2.1082019805908203,
          1.6602064371109009,
          -2.252805471420288,
          -0.17142347991466522,
          -3.14693284034729,
          4.384072780609131,
          -0.0930829718708992,
          -0.20924824476242065,
          -0.20478175580501556,
          4.4031171798706055,
          -3.3535373210906982
         ]
        }
       ],
       "layout": {
        "coloraxis": {
         "colorbar": {
          "title": {
           "text": "color"
          }
         },
         "colorscale": [
          [
           0,
           "#0d0887"
          ],
          [
           0.1111111111111111,
           "#46039f"
          ],
          [
           0.2222222222222222,
           "#7201a8"
          ],
          [
           0.3333333333333333,
           "#9c179e"
          ],
          [
           0.4444444444444444,
           "#bd3786"
          ],
          [
           0.5555555555555556,
           "#d8576b"
          ],
          [
           0.6666666666666666,
           "#ed7953"
          ],
          [
           0.7777777777777778,
           "#fb9f3a"
          ],
          [
           0.8888888888888888,
           "#fdca26"
          ],
          [
           1,
           "#f0f921"
          ]
         ]
        },
        "legend": {
         "tracegroupgap": 0
        },
        "scene": {
         "domain": {
          "x": [
           0,
           1
          ],
          "y": [
           0,
           1
          ]
         },
         "xaxis": {
          "title": {
           "text": "0"
          }
         },
         "yaxis": {
          "title": {
           "text": "1"
          }
         },
         "zaxis": {
          "title": {
           "text": "2"
          }
         }
        },
        "template": {
         "data": {
          "bar": [
           {
            "error_x": {
             "color": "#2a3f5f"
            },
            "error_y": {
             "color": "#2a3f5f"
            },
            "marker": {
             "line": {
              "color": "#E5ECF6",
              "width": 0.5
             },
             "pattern": {
              "fillmode": "overlay",
              "size": 10,
              "solidity": 0.2
             }
            },
            "type": "bar"
           }
          ],
          "barpolar": [
           {
            "marker": {
             "line": {
              "color": "#E5ECF6",
              "width": 0.5
             },
             "pattern": {
              "fillmode": "overlay",
              "size": 10,
              "solidity": 0.2
             }
            },
            "type": "barpolar"
           }
          ],
          "carpet": [
           {
            "aaxis": {
             "endlinecolor": "#2a3f5f",
             "gridcolor": "white",
             "linecolor": "white",
             "minorgridcolor": "white",
             "startlinecolor": "#2a3f5f"
            },
            "baxis": {
             "endlinecolor": "#2a3f5f",
             "gridcolor": "white",
             "linecolor": "white",
             "minorgridcolor": "white",
             "startlinecolor": "#2a3f5f"
            },
            "type": "carpet"
           }
          ],
          "choropleth": [
           {
            "colorbar": {
             "outlinewidth": 0,
             "ticks": ""
            },
            "type": "choropleth"
           }
          ],
          "contour": [
           {
            "colorbar": {
             "outlinewidth": 0,
             "ticks": ""
            },
            "colorscale": [
             [
              0,
              "#0d0887"
             ],
             [
              0.1111111111111111,
              "#46039f"
             ],
             [
              0.2222222222222222,
              "#7201a8"
             ],
             [
              0.3333333333333333,
              "#9c179e"
             ],
             [
              0.4444444444444444,
              "#bd3786"
             ],
             [
              0.5555555555555556,
              "#d8576b"
             ],
             [
              0.6666666666666666,
              "#ed7953"
             ],
             [
              0.7777777777777778,
              "#fb9f3a"
             ],
             [
              0.8888888888888888,
              "#fdca26"
             ],
             [
              1,
              "#f0f921"
             ]
            ],
            "type": "contour"
           }
          ],
          "contourcarpet": [
           {
            "colorbar": {
             "outlinewidth": 0,
             "ticks": ""
            },
            "type": "contourcarpet"
           }
          ],
          "heatmap": [
           {
            "colorbar": {
             "outlinewidth": 0,
             "ticks": ""
            },
            "colorscale": [
             [
              0,
              "#0d0887"
             ],
             [
              0.1111111111111111,
              "#46039f"
             ],
             [
              0.2222222222222222,
              "#7201a8"
             ],
             [
              0.3333333333333333,
              "#9c179e"
             ],
             [
              0.4444444444444444,
              "#bd3786"
             ],
             [
              0.5555555555555556,
              "#d8576b"
             ],
             [
              0.6666666666666666,
              "#ed7953"
             ],
             [
              0.7777777777777778,
              "#fb9f3a"
             ],
             [
              0.8888888888888888,
              "#fdca26"
             ],
             [
              1,
              "#f0f921"
             ]
            ],
            "type": "heatmap"
           }
          ],
          "heatmapgl": [
           {
            "colorbar": {
             "outlinewidth": 0,
             "ticks": ""
            },
            "colorscale": [
             [
              0,
              "#0d0887"
             ],
             [
              0.1111111111111111,
              "#46039f"
             ],
             [
              0.2222222222222222,
              "#7201a8"
             ],
             [
              0.3333333333333333,
              "#9c179e"
             ],
             [
              0.4444444444444444,
              "#bd3786"
             ],
             [
              0.5555555555555556,
              "#d8576b"
             ],
             [
              0.6666666666666666,
              "#ed7953"
             ],
             [
              0.7777777777777778,
              "#fb9f3a"
             ],
             [
              0.8888888888888888,
              "#fdca26"
             ],
             [
              1,
              "#f0f921"
             ]
            ],
            "type": "heatmapgl"
           }
          ],
          "histogram": [
           {
            "marker": {
             "pattern": {
              "fillmode": "overlay",
              "size": 10,
              "solidity": 0.2
             }
            },
            "type": "histogram"
           }
          ],
          "histogram2d": [
           {
            "colorbar": {
             "outlinewidth": 0,
             "ticks": ""
            },
            "colorscale": [
             [
              0,
              "#0d0887"
             ],
             [
              0.1111111111111111,
              "#46039f"
             ],
             [
              0.2222222222222222,
              "#7201a8"
             ],
             [
              0.3333333333333333,
              "#9c179e"
             ],
             [
              0.4444444444444444,
              "#bd3786"
             ],
             [
              0.5555555555555556,
              "#d8576b"
             ],
             [
              0.6666666666666666,
              "#ed7953"
             ],
             [
              0.7777777777777778,
              "#fb9f3a"
             ],
             [
              0.8888888888888888,
              "#fdca26"
             ],
             [
              1,
              "#f0f921"
             ]
            ],
            "type": "histogram2d"
           }
          ],
          "histogram2dcontour": [
           {
            "colorbar": {
             "outlinewidth": 0,
             "ticks": ""
            },
            "colorscale": [
             [
              0,
              "#0d0887"
             ],
             [
              0.1111111111111111,
              "#46039f"
             ],
             [
              0.2222222222222222,
              "#7201a8"
             ],
             [
              0.3333333333333333,
              "#9c179e"
             ],
             [
              0.4444444444444444,
              "#bd3786"
             ],
             [
              0.5555555555555556,
              "#d8576b"
             ],
             [
              0.6666666666666666,
              "#ed7953"
             ],
             [
              0.7777777777777778,
              "#fb9f3a"
             ],
             [
              0.8888888888888888,
              "#fdca26"
             ],
             [
              1,
              "#f0f921"
             ]
            ],
            "type": "histogram2dcontour"
           }
          ],
          "mesh3d": [
           {
            "colorbar": {
             "outlinewidth": 0,
             "ticks": ""
            },
            "type": "mesh3d"
           }
          ],
          "parcoords": [
           {
            "line": {
             "colorbar": {
              "outlinewidth": 0,
              "ticks": ""
             }
            },
            "type": "parcoords"
           }
          ],
          "pie": [
           {
            "automargin": true,
            "type": "pie"
           }
          ],
          "scatter": [
           {
            "marker": {
             "colorbar": {
              "outlinewidth": 0,
              "ticks": ""
             }
            },
            "type": "scatter"
           }
          ],
          "scatter3d": [
           {
            "line": {
             "colorbar": {
              "outlinewidth": 0,
              "ticks": ""
             }
            },
            "marker": {
             "colorbar": {
              "outlinewidth": 0,
              "ticks": ""
             }
            },
            "type": "scatter3d"
           }
          ],
          "scattercarpet": [
           {
            "marker": {
             "colorbar": {
              "outlinewidth": 0,
              "ticks": ""
             }
            },
            "type": "scattercarpet"
           }
          ],
          "scattergeo": [
           {
            "marker": {
             "colorbar": {
              "outlinewidth": 0,
              "ticks": ""
             }
            },
            "type": "scattergeo"
           }
          ],
          "scattergl": [
           {
            "marker": {
             "colorbar": {
              "outlinewidth": 0,
              "ticks": ""
             }
            },
            "type": "scattergl"
           }
          ],
          "scattermapbox": [
           {
            "marker": {
             "colorbar": {
              "outlinewidth": 0,
              "ticks": ""
             }
            },
            "type": "scattermapbox"
           }
          ],
          "scatterpolar": [
           {
            "marker": {
             "colorbar": {
              "outlinewidth": 0,
              "ticks": ""
             }
            },
            "type": "scatterpolar"
           }
          ],
          "scatterpolargl": [
           {
            "marker": {
             "colorbar": {
              "outlinewidth": 0,
              "ticks": ""
             }
            },
            "type": "scatterpolargl"
           }
          ],
          "scatterternary": [
           {
            "marker": {
             "colorbar": {
              "outlinewidth": 0,
              "ticks": ""
             }
            },
            "type": "scatterternary"
           }
          ],
          "surface": [
           {
            "colorbar": {
             "outlinewidth": 0,
             "ticks": ""
            },
            "colorscale": [
             [
              0,
              "#0d0887"
             ],
             [
              0.1111111111111111,
              "#46039f"
             ],
             [
              0.2222222222222222,
              "#7201a8"
             ],
             [
              0.3333333333333333,
              "#9c179e"
             ],
             [
              0.4444444444444444,
              "#bd3786"
             ],
             [
              0.5555555555555556,
              "#d8576b"
             ],
             [
              0.6666666666666666,
              "#ed7953"
             ],
             [
              0.7777777777777778,
              "#fb9f3a"
             ],
             [
              0.8888888888888888,
              "#fdca26"
             ],
             [
              1,
              "#f0f921"
             ]
            ],
            "type": "surface"
           }
          ],
          "table": [
           {
            "cells": {
             "fill": {
              "color": "#EBF0F8"
             },
             "line": {
              "color": "white"
             }
            },
            "header": {
             "fill": {
              "color": "#C8D4E3"
             },
             "line": {
              "color": "white"
             }
            },
            "type": "table"
           }
          ]
         },
         "layout": {
          "annotationdefaults": {
           "arrowcolor": "#2a3f5f",
           "arrowhead": 0,
           "arrowwidth": 1
          },
          "autotypenumbers": "strict",
          "coloraxis": {
           "colorbar": {
            "outlinewidth": 0,
            "ticks": ""
           }
          },
          "colorscale": {
           "diverging": [
            [
             0,
             "#8e0152"
            ],
            [
             0.1,
             "#c51b7d"
            ],
            [
             0.2,
             "#de77ae"
            ],
            [
             0.3,
             "#f1b6da"
            ],
            [
             0.4,
             "#fde0ef"
            ],
            [
             0.5,
             "#f7f7f7"
            ],
            [
             0.6,
             "#e6f5d0"
            ],
            [
             0.7,
             "#b8e186"
            ],
            [
             0.8,
             "#7fbc41"
            ],
            [
             0.9,
             "#4d9221"
            ],
            [
             1,
             "#276419"
            ]
           ],
           "sequential": [
            [
             0,
             "#0d0887"
            ],
            [
             0.1111111111111111,
             "#46039f"
            ],
            [
             0.2222222222222222,
             "#7201a8"
            ],
            [
             0.3333333333333333,
             "#9c179e"
            ],
            [
             0.4444444444444444,
             "#bd3786"
            ],
            [
             0.5555555555555556,
             "#d8576b"
            ],
            [
             0.6666666666666666,
             "#ed7953"
            ],
            [
             0.7777777777777778,
             "#fb9f3a"
            ],
            [
             0.8888888888888888,
             "#fdca26"
            ],
            [
             1,
             "#f0f921"
            ]
           ],
           "sequentialminus": [
            [
             0,
             "#0d0887"
            ],
            [
             0.1111111111111111,
             "#46039f"
            ],
            [
             0.2222222222222222,
             "#7201a8"
            ],
            [
             0.3333333333333333,
             "#9c179e"
            ],
            [
             0.4444444444444444,
             "#bd3786"
            ],
            [
             0.5555555555555556,
             "#d8576b"
            ],
            [
             0.6666666666666666,
             "#ed7953"
            ],
            [
             0.7777777777777778,
             "#fb9f3a"
            ],
            [
             0.8888888888888888,
             "#fdca26"
            ],
            [
             1,
             "#f0f921"
            ]
           ]
          },
          "colorway": [
           "#636efa",
           "#EF553B",
           "#00cc96",
           "#ab63fa",
           "#FFA15A",
           "#19d3f3",
           "#FF6692",
           "#B6E880",
           "#FF97FF",
           "#FECB52"
          ],
          "font": {
           "color": "#2a3f5f"
          },
          "geo": {
           "bgcolor": "white",
           "lakecolor": "white",
           "landcolor": "#E5ECF6",
           "showlakes": true,
           "showland": true,
           "subunitcolor": "white"
          },
          "hoverlabel": {
           "align": "left"
          },
          "hovermode": "closest",
          "mapbox": {
           "style": "light"
          },
          "paper_bgcolor": "white",
          "plot_bgcolor": "#E5ECF6",
          "polar": {
           "angularaxis": {
            "gridcolor": "white",
            "linecolor": "white",
            "ticks": ""
           },
           "bgcolor": "#E5ECF6",
           "radialaxis": {
            "gridcolor": "white",
            "linecolor": "white",
            "ticks": ""
           }
          },
          "scene": {
           "xaxis": {
            "backgroundcolor": "#E5ECF6",
            "gridcolor": "white",
            "gridwidth": 2,
            "linecolor": "white",
            "showbackground": true,
            "ticks": "",
            "zerolinecolor": "white"
           },
           "yaxis": {
            "backgroundcolor": "#E5ECF6",
            "gridcolor": "white",
            "gridwidth": 2,
            "linecolor": "white",
            "showbackground": true,
            "ticks": "",
            "zerolinecolor": "white"
           },
           "zaxis": {
            "backgroundcolor": "#E5ECF6",
            "gridcolor": "white",
            "gridwidth": 2,
            "linecolor": "white",
            "showbackground": true,
            "ticks": "",
            "zerolinecolor": "white"
           }
          },
          "shapedefaults": {
           "line": {
            "color": "#2a3f5f"
           }
          },
          "ternary": {
           "aaxis": {
            "gridcolor": "white",
            "linecolor": "white",
            "ticks": ""
           },
           "baxis": {
            "gridcolor": "white",
            "linecolor": "white",
            "ticks": ""
           },
           "bgcolor": "#E5ECF6",
           "caxis": {
            "gridcolor": "white",
            "linecolor": "white",
            "ticks": ""
           }
          },
          "title": {
           "x": 0.05
          },
          "xaxis": {
           "automargin": true,
           "gridcolor": "white",
           "linecolor": "white",
           "ticks": "",
           "title": {
            "standoff": 15
           },
           "zerolinecolor": "white",
           "zerolinewidth": 2
          },
          "yaxis": {
           "automargin": true,
           "gridcolor": "white",
           "linecolor": "white",
           "ticks": "",
           "title": {
            "standoff": 15
           },
           "zerolinecolor": "white",
           "zerolinewidth": 2
          }
         }
        },
        "title": {
         "text": "суда, 0.9375737040349529"
        }
       }
      },
      "text/html": [
       "<div>                            <div id=\"45f0127c-3763-4778-9568-318de621bb14\" class=\"plotly-graph-div\" style=\"height:525px; width:100%;\"></div>            <script type=\"text/javascript\">                require([\"plotly\"], function(Plotly) {                    window.PLOTLYENV=window.PLOTLYENV || {};                                    if (document.getElementById(\"45f0127c-3763-4778-9568-318de621bb14\")) {                    Plotly.newPlot(                        \"45f0127c-3763-4778-9568-318de621bb14\",                        [{\"hovertemplate\":\"0=%{x}<br>1=%{y}<br>2=%{z}<br>color=%{marker.color}<extra></extra>\",\"legendgroup\":\"\",\"marker\":{\"color\":[1,1,1,1,1,1,1,1,1,1,1,1,1,1,1,1,1,1,1,1,1,1,1,1,1,1,1,1,1,1,1,1,1,1,1,1,1,1,1,1,1,1,1,1,1,1,1,1,1,1,1,1,1,1,1,1,1,1,1,1,1,1,1,1,1,1,1,1,1,1,1,1,1,1,1,1,1,1,1,1,1,1,1,1,1,1,1,1,1,1,1,1,1,1,1,1,1,1,1,1,2,2,2,2,2,2,2,2,2,2,2,2,2,2,2,2,2,2,2,2,2,2,2,2,2,2,2,2,2,2,2,2,2,2,2],\"coloraxis\":\"coloraxis\",\"symbol\":\"circle\"},\"mode\":\"markers\",\"name\":\"\",\"scene\":\"scene\",\"showlegend\":false,\"type\":\"scatter3d\",\"x\":[0.5390003323554993,3.380053997039795,-6.1889967918396,1.2248742580413818,-4.475048065185547,1.1818819046020508,-3.5120043754577637,-3.138523817062378,3.6831676959991455,2.5632152557373047,-6.993966102600098,-3.142136573791504,-6.955129146575928,2.19264817237854,-0.995072603225708,1.8827791213989258,1.4141254425048828,2.2586123943328857,-6.8594441413879395,-0.7221403121948242,-6.240682601928711,-6.767618656158447,1.205758810043335,-6.676094055175781,-4.918623924255371,0.9682058691978455,-5.2024078369140625,-2.2639706134796143,0.7634626626968384,2.4571144580841064,-4.358323097229004,1.569667100906372,-6.019344806671143,1.0688505172729492,-5.516205787658691,0.7382450699806213,-2.2188172340393066,-3.3264248371124268,-6.3036417961120605,-6.206087112426758,-5.250431537628174,-4.868005275726318,-5.043309688568115,1.1502189636230469,-5.38200044631958,-5.723755359649658,-6.3186936378479,3.0175673961639404,-6.654379367828369,-2.7580649852752686,-5.015390872955322,-5.096900939941406,1.0317788124084473,1.3839997053146362,-4.138242721557617,-1.1134471893310547,-5.276180267333984,2.3570706844329834,-4.8460001945495605,-2.124248504638672,1.1187472343444824,-6.2157206535339355,-4.673061847686768,-4.502532005310059,-6.447970390319824,3.163595676422119,2.3202285766601562,1.733547329902649,-6.432468891143799,-3.501194477081299,2.8284177780151367,-4.605050563812256,-4.404536724090576,0.5331264138221741,-0.5450742840766907,-3.178400993347168,-1.0393608808517456,-0.31767791509628296,0.7317917943000793,1.704923152923584,-2.930574655532837,0.936160683631897,-3.4310388565063477,-3.4473273754119873,-6.270526885986328,-5.574445724487305,-4.9127326011657715,-6.683248043060303,-4.657310962677002,2.201589345932007,-6.150506973266602,-2.4698400497436523,-2.1674954891204834,-2.138324499130249,0.8305169343948364,-0.8435057997703552,-4.583759307861328,-4.516621112823486,-4.847695827484131,-2.9237060546875,5.701597213745117,6.803598880767822,6.848349571228027,8.966803550720215,4.694603443145752,8.423248291015625,5.070076942443848,8.354012489318848,6.754623889923096,7.885684013366699,6.492318630218506,4.504905700683594,9.887255668640137,8.060308456420898,6.990603446960449,8.90683650970459,5.611876964569092,8.196723937988281,6.583132266998291,4.973672866821289,8.722707748413086,7.977838516235352,5.121156692504883,5.587893486022949,7.82828426361084,8.123796463012695,5.673696041107178,8.350634574890137,4.046990871429443,5.495009899139404,8.6820707321167,4.274657249450684,4.417512893676758,6.410263538360596,6.463754177093506],\"y\":[5.176207542419434,6.328632831573486,-3.540353775024414,5.654325485229492,-0.47446832060813904,1.2320382595062256,2.501756191253662,1.282554268836975,5.937914848327637,6.134291648864746,-3.478933334350586,3.051470994949341,-3.9883909225463867,3.8744354248046875,1.9995349645614624,1.638767123222351,5.112729549407959,5.7252912521362305,-1.6992695331573486,6.112071514129639,-3.5877230167388916,-4.452975273132324,2.9503161907196045,-3.1035938262939453,-0.28566670417785645,5.171331882476807,-2.915743112564087,-0.46316075325012207,5.490140914916992,2.5703341960906982,-0.48465827107429504,5.890869140625,-4.74144983291626,7.282747268676758,-2.4217042922973633,5.055671215057373,4.528400897979736,3.254438877105713,-3.5592899322509766,-3.646479845046997,-2.057194709777832,-4.3923563957214355,-0.8497602343559265,3.3753280639648438,-2.4453530311584473,-4.243190288543701,-3.2353062629699707,6.198215484619141,-4.349886417388916,4.092779636383057,-0.6060726642608643,-0.626896858215332,3.0497379302978516,7.058777809143066,-0.1269291341304779,6.111077308654785,-2.3823471069335938,5.383029937744141,-0.36390191316604614,3.8690388202667236,3.4511148929595947,-3.7219722270965576,1.0243488550186157,-0.5435383319854736,-1.730027675628662,5.410416126251221,5.597468376159668,5.245225429534912,-3.99481463432312,0.2526093125343323,3.063555955886841,0.446270227432251,-1.419392704963684,5.667619228363037,4.78680419921875,2.610118865966797,2.2398931980133057,3.0648694038391113,-1.7180120944976807,1.7538810968399048,3.023174285888672,5.330702304840088,0.35630813241004944,0.13442014157772064,-4.645749092102051,-1.3932534456253052,-3.409802198410034,-3.3879356384277344,-2.0303618907928467,4.356867790222168,-3.9174349308013916,4.675168991088867,3.816929340362549,4.597845077514648,1.9146244525909424,3.2662031650543213,-0.1417672336101532,-2.6793735027313232,-2.9948782920837402,1.997280240058899,-4.462300777435303,-3.550865888595581,-3.2551181316375732,-1.8139195442199707,-6.421102523803711,-2.9472203254699707,-5.348114013671875,-3.0703928470611572,-4.816709518432617,-1.0780097246170044,-3.96770977973938,-5.551391124725342,-2.003169536590576,-3.354647159576416,-4.992776393890381,-3.075591564178467,-2.6174638271331787,-2.420863389968872,-3.477509021759033,-6.740548133850098,-2.2022712230682373,-2.275724172592163,-5.429464817047119,-2.8168294429779053,-0.8962551355361938,-1.0869334936141968,-4.521435260772705,-2.3646633625030518,-5.005928993225098,-2.6002883911132812,-2.4747207164764404,-1.2720630168914795,-1.417518973350525,-1.712234616279602,-3.884854793548584],\"z\":[-2.4257335662841797,-2.961048126220703,-4.584210395812988,-2.082143783569336,-3.360921621322632,5.201361656188965,-0.9467840194702148,3.230438232421875,-5.633697509765625,-2.722033739089966,-1.9148800373077393,0.8678803443908691,-2.1475777626037598,2.6479504108428955,-2.2084224224090576,5.3507208824157715,-2.7079548835754395,-4.692041397094727,-0.06258627772331238,4.398834228515625,-4.534629821777344,-1.8680148124694824,3.053898334503174,-0.5005782842636108,0.6461223363876343,2.4943296909332275,3.1080684661865234,-1.4972771406173706,-3.27144455909729,0.7132023572921753,-3.5540425777435303,3.766658067703247,-0.011579855345189571,-2.2434473037719727,2.652230739593506,2.4712936878204346,3.110311985015869,3.8536629676818848,1.0333253145217896,-4.093600749969482,3.01784086227417,-2.9059605598449707,1.4964936971664429,-4.343262672424316,3.6162126064300537,-4.0784525871276855,1.1924694776535034,-5.588596343994141,-1.6303529739379883,4.171532154083252,-2.5414276123046875,1.4460774660110474,0.6455811262130737,-2.1231157779693604,2.344876766204834,3.90358567237854,3.8313069343566895,-5.714359760284424,-2.6598660945892334,2.999648332595825,-4.767477512359619,1.556596279144287,0.24669745564460754,-3.3605775833129883,-0.7751070857048035,-0.9307500720024109,-5.05027437210083,-3.8743090629577637,0.9086909294128418,-0.6841928958892822,-4.487576961517334,-1.4732060432434082,-2.1669974327087402,-2.7799088954925537,2.6219654083251953,2.515334129333496,2.974658727645874,4.008307456970215,6.4957404136657715,5.457059860229492,1.3634530305862427,-2.1465179920196533,-0.6261087656021118,-0.7756974697113037,-0.55066978931427,3.1209752559661865,2.6617228984832764,0.08315196633338928,0.7939541339874268,-4.660969257354736,-4.282980918884277,4.966902732849121,3.746647834777832,3.2158451080322266,4.20008659362793,1.1571128368377686,-2.520719051361084,-3.5745556354522705,3.2428059577941895,2.9244797229766846,-2.0827536582946777,-3.089411973953247,-2.684582233428955,2.292152166366577,0.7412379384040833,-0.15352731943130493,0.9821353554725647,1.1973580121994019,-2.1419193744659424,1.3836610317230225,-3.3215837478637695,1.2929397821426392,1.4290525913238525,2.6725711822509766,-1.9449273347854614,-0.006000417284667492,3.74639630317688,3.627948045730591,-2.8178672790527344,0.5695840716362,1.800694465637207,-0.7704893946647644,0.8830534219741821,-1.158980131149292,2.1082019805908203,1.6602064371109009,-2.252805471420288,-0.17142347991466522,-3.14693284034729,4.384072780609131,-0.0930829718708992,-0.20924824476242065,-0.20478175580501556,4.4031171798706055,-3.3535373210906982]}],                        {\"coloraxis\":{\"colorbar\":{\"title\":{\"text\":\"color\"}},\"colorscale\":[[0.0,\"#0d0887\"],[0.1111111111111111,\"#46039f\"],[0.2222222222222222,\"#7201a8\"],[0.3333333333333333,\"#9c179e\"],[0.4444444444444444,\"#bd3786\"],[0.5555555555555556,\"#d8576b\"],[0.6666666666666666,\"#ed7953\"],[0.7777777777777778,\"#fb9f3a\"],[0.8888888888888888,\"#fdca26\"],[1.0,\"#f0f921\"]]},\"legend\":{\"tracegroupgap\":0},\"scene\":{\"domain\":{\"x\":[0.0,1.0],\"y\":[0.0,1.0]},\"xaxis\":{\"title\":{\"text\":\"0\"}},\"yaxis\":{\"title\":{\"text\":\"1\"}},\"zaxis\":{\"title\":{\"text\":\"2\"}}},\"template\":{\"data\":{\"bar\":[{\"error_x\":{\"color\":\"#2a3f5f\"},\"error_y\":{\"color\":\"#2a3f5f\"},\"marker\":{\"line\":{\"color\":\"#E5ECF6\",\"width\":0.5},\"pattern\":{\"fillmode\":\"overlay\",\"size\":10,\"solidity\":0.2}},\"type\":\"bar\"}],\"barpolar\":[{\"marker\":{\"line\":{\"color\":\"#E5ECF6\",\"width\":0.5},\"pattern\":{\"fillmode\":\"overlay\",\"size\":10,\"solidity\":0.2}},\"type\":\"barpolar\"}],\"carpet\":[{\"aaxis\":{\"endlinecolor\":\"#2a3f5f\",\"gridcolor\":\"white\",\"linecolor\":\"white\",\"minorgridcolor\":\"white\",\"startlinecolor\":\"#2a3f5f\"},\"baxis\":{\"endlinecolor\":\"#2a3f5f\",\"gridcolor\":\"white\",\"linecolor\":\"white\",\"minorgridcolor\":\"white\",\"startlinecolor\":\"#2a3f5f\"},\"type\":\"carpet\"}],\"choropleth\":[{\"colorbar\":{\"outlinewidth\":0,\"ticks\":\"\"},\"type\":\"choropleth\"}],\"contour\":[{\"colorbar\":{\"outlinewidth\":0,\"ticks\":\"\"},\"colorscale\":[[0.0,\"#0d0887\"],[0.1111111111111111,\"#46039f\"],[0.2222222222222222,\"#7201a8\"],[0.3333333333333333,\"#9c179e\"],[0.4444444444444444,\"#bd3786\"],[0.5555555555555556,\"#d8576b\"],[0.6666666666666666,\"#ed7953\"],[0.7777777777777778,\"#fb9f3a\"],[0.8888888888888888,\"#fdca26\"],[1.0,\"#f0f921\"]],\"type\":\"contour\"}],\"contourcarpet\":[{\"colorbar\":{\"outlinewidth\":0,\"ticks\":\"\"},\"type\":\"contourcarpet\"}],\"heatmap\":[{\"colorbar\":{\"outlinewidth\":0,\"ticks\":\"\"},\"colorscale\":[[0.0,\"#0d0887\"],[0.1111111111111111,\"#46039f\"],[0.2222222222222222,\"#7201a8\"],[0.3333333333333333,\"#9c179e\"],[0.4444444444444444,\"#bd3786\"],[0.5555555555555556,\"#d8576b\"],[0.6666666666666666,\"#ed7953\"],[0.7777777777777778,\"#fb9f3a\"],[0.8888888888888888,\"#fdca26\"],[1.0,\"#f0f921\"]],\"type\":\"heatmap\"}],\"heatmapgl\":[{\"colorbar\":{\"outlinewidth\":0,\"ticks\":\"\"},\"colorscale\":[[0.0,\"#0d0887\"],[0.1111111111111111,\"#46039f\"],[0.2222222222222222,\"#7201a8\"],[0.3333333333333333,\"#9c179e\"],[0.4444444444444444,\"#bd3786\"],[0.5555555555555556,\"#d8576b\"],[0.6666666666666666,\"#ed7953\"],[0.7777777777777778,\"#fb9f3a\"],[0.8888888888888888,\"#fdca26\"],[1.0,\"#f0f921\"]],\"type\":\"heatmapgl\"}],\"histogram\":[{\"marker\":{\"pattern\":{\"fillmode\":\"overlay\",\"size\":10,\"solidity\":0.2}},\"type\":\"histogram\"}],\"histogram2d\":[{\"colorbar\":{\"outlinewidth\":0,\"ticks\":\"\"},\"colorscale\":[[0.0,\"#0d0887\"],[0.1111111111111111,\"#46039f\"],[0.2222222222222222,\"#7201a8\"],[0.3333333333333333,\"#9c179e\"],[0.4444444444444444,\"#bd3786\"],[0.5555555555555556,\"#d8576b\"],[0.6666666666666666,\"#ed7953\"],[0.7777777777777778,\"#fb9f3a\"],[0.8888888888888888,\"#fdca26\"],[1.0,\"#f0f921\"]],\"type\":\"histogram2d\"}],\"histogram2dcontour\":[{\"colorbar\":{\"outlinewidth\":0,\"ticks\":\"\"},\"colorscale\":[[0.0,\"#0d0887\"],[0.1111111111111111,\"#46039f\"],[0.2222222222222222,\"#7201a8\"],[0.3333333333333333,\"#9c179e\"],[0.4444444444444444,\"#bd3786\"],[0.5555555555555556,\"#d8576b\"],[0.6666666666666666,\"#ed7953\"],[0.7777777777777778,\"#fb9f3a\"],[0.8888888888888888,\"#fdca26\"],[1.0,\"#f0f921\"]],\"type\":\"histogram2dcontour\"}],\"mesh3d\":[{\"colorbar\":{\"outlinewidth\":0,\"ticks\":\"\"},\"type\":\"mesh3d\"}],\"parcoords\":[{\"line\":{\"colorbar\":{\"outlinewidth\":0,\"ticks\":\"\"}},\"type\":\"parcoords\"}],\"pie\":[{\"automargin\":true,\"type\":\"pie\"}],\"scatter\":[{\"marker\":{\"colorbar\":{\"outlinewidth\":0,\"ticks\":\"\"}},\"type\":\"scatter\"}],\"scatter3d\":[{\"line\":{\"colorbar\":{\"outlinewidth\":0,\"ticks\":\"\"}},\"marker\":{\"colorbar\":{\"outlinewidth\":0,\"ticks\":\"\"}},\"type\":\"scatter3d\"}],\"scattercarpet\":[{\"marker\":{\"colorbar\":{\"outlinewidth\":0,\"ticks\":\"\"}},\"type\":\"scattercarpet\"}],\"scattergeo\":[{\"marker\":{\"colorbar\":{\"outlinewidth\":0,\"ticks\":\"\"}},\"type\":\"scattergeo\"}],\"scattergl\":[{\"marker\":{\"colorbar\":{\"outlinewidth\":0,\"ticks\":\"\"}},\"type\":\"scattergl\"}],\"scattermapbox\":[{\"marker\":{\"colorbar\":{\"outlinewidth\":0,\"ticks\":\"\"}},\"type\":\"scattermapbox\"}],\"scatterpolar\":[{\"marker\":{\"colorbar\":{\"outlinewidth\":0,\"ticks\":\"\"}},\"type\":\"scatterpolar\"}],\"scatterpolargl\":[{\"marker\":{\"colorbar\":{\"outlinewidth\":0,\"ticks\":\"\"}},\"type\":\"scatterpolargl\"}],\"scatterternary\":[{\"marker\":{\"colorbar\":{\"outlinewidth\":0,\"ticks\":\"\"}},\"type\":\"scatterternary\"}],\"surface\":[{\"colorbar\":{\"outlinewidth\":0,\"ticks\":\"\"},\"colorscale\":[[0.0,\"#0d0887\"],[0.1111111111111111,\"#46039f\"],[0.2222222222222222,\"#7201a8\"],[0.3333333333333333,\"#9c179e\"],[0.4444444444444444,\"#bd3786\"],[0.5555555555555556,\"#d8576b\"],[0.6666666666666666,\"#ed7953\"],[0.7777777777777778,\"#fb9f3a\"],[0.8888888888888888,\"#fdca26\"],[1.0,\"#f0f921\"]],\"type\":\"surface\"}],\"table\":[{\"cells\":{\"fill\":{\"color\":\"#EBF0F8\"},\"line\":{\"color\":\"white\"}},\"header\":{\"fill\":{\"color\":\"#C8D4E3\"},\"line\":{\"color\":\"white\"}},\"type\":\"table\"}]},\"layout\":{\"annotationdefaults\":{\"arrowcolor\":\"#2a3f5f\",\"arrowhead\":0,\"arrowwidth\":1},\"autotypenumbers\":\"strict\",\"coloraxis\":{\"colorbar\":{\"outlinewidth\":0,\"ticks\":\"\"}},\"colorscale\":{\"diverging\":[[0,\"#8e0152\"],[0.1,\"#c51b7d\"],[0.2,\"#de77ae\"],[0.3,\"#f1b6da\"],[0.4,\"#fde0ef\"],[0.5,\"#f7f7f7\"],[0.6,\"#e6f5d0\"],[0.7,\"#b8e186\"],[0.8,\"#7fbc41\"],[0.9,\"#4d9221\"],[1,\"#276419\"]],\"sequential\":[[0.0,\"#0d0887\"],[0.1111111111111111,\"#46039f\"],[0.2222222222222222,\"#7201a8\"],[0.3333333333333333,\"#9c179e\"],[0.4444444444444444,\"#bd3786\"],[0.5555555555555556,\"#d8576b\"],[0.6666666666666666,\"#ed7953\"],[0.7777777777777778,\"#fb9f3a\"],[0.8888888888888888,\"#fdca26\"],[1.0,\"#f0f921\"]],\"sequentialminus\":[[0.0,\"#0d0887\"],[0.1111111111111111,\"#46039f\"],[0.2222222222222222,\"#7201a8\"],[0.3333333333333333,\"#9c179e\"],[0.4444444444444444,\"#bd3786\"],[0.5555555555555556,\"#d8576b\"],[0.6666666666666666,\"#ed7953\"],[0.7777777777777778,\"#fb9f3a\"],[0.8888888888888888,\"#fdca26\"],[1.0,\"#f0f921\"]]},\"colorway\":[\"#636efa\",\"#EF553B\",\"#00cc96\",\"#ab63fa\",\"#FFA15A\",\"#19d3f3\",\"#FF6692\",\"#B6E880\",\"#FF97FF\",\"#FECB52\"],\"font\":{\"color\":\"#2a3f5f\"},\"geo\":{\"bgcolor\":\"white\",\"lakecolor\":\"white\",\"landcolor\":\"#E5ECF6\",\"showlakes\":true,\"showland\":true,\"subunitcolor\":\"white\"},\"hoverlabel\":{\"align\":\"left\"},\"hovermode\":\"closest\",\"mapbox\":{\"style\":\"light\"},\"paper_bgcolor\":\"white\",\"plot_bgcolor\":\"#E5ECF6\",\"polar\":{\"angularaxis\":{\"gridcolor\":\"white\",\"linecolor\":\"white\",\"ticks\":\"\"},\"bgcolor\":\"#E5ECF6\",\"radialaxis\":{\"gridcolor\":\"white\",\"linecolor\":\"white\",\"ticks\":\"\"}},\"scene\":{\"xaxis\":{\"backgroundcolor\":\"#E5ECF6\",\"gridcolor\":\"white\",\"gridwidth\":2,\"linecolor\":\"white\",\"showbackground\":true,\"ticks\":\"\",\"zerolinecolor\":\"white\"},\"yaxis\":{\"backgroundcolor\":\"#E5ECF6\",\"gridcolor\":\"white\",\"gridwidth\":2,\"linecolor\":\"white\",\"showbackground\":true,\"ticks\":\"\",\"zerolinecolor\":\"white\"},\"zaxis\":{\"backgroundcolor\":\"#E5ECF6\",\"gridcolor\":\"white\",\"gridwidth\":2,\"linecolor\":\"white\",\"showbackground\":true,\"ticks\":\"\",\"zerolinecolor\":\"white\"}},\"shapedefaults\":{\"line\":{\"color\":\"#2a3f5f\"}},\"ternary\":{\"aaxis\":{\"gridcolor\":\"white\",\"linecolor\":\"white\",\"ticks\":\"\"},\"baxis\":{\"gridcolor\":\"white\",\"linecolor\":\"white\",\"ticks\":\"\"},\"bgcolor\":\"#E5ECF6\",\"caxis\":{\"gridcolor\":\"white\",\"linecolor\":\"white\",\"ticks\":\"\"}},\"title\":{\"x\":0.05},\"xaxis\":{\"automargin\":true,\"gridcolor\":\"white\",\"linecolor\":\"white\",\"ticks\":\"\",\"title\":{\"standoff\":15},\"zerolinecolor\":\"white\",\"zerolinewidth\":2},\"yaxis\":{\"automargin\":true,\"gridcolor\":\"white\",\"linecolor\":\"white\",\"ticks\":\"\",\"title\":{\"standoff\":15},\"zerolinecolor\":\"white\",\"zerolinewidth\":2}}},\"title\":{\"text\":\"\\u0441\\u0443\\u0434\\u0430, 0.9375737040349529\"}},                        {\"responsive\": true}                    ).then(function(){\n",
       "                            \n",
       "var gd = document.getElementById('45f0127c-3763-4778-9568-318de621bb14');\n",
       "var x = new MutationObserver(function (mutations, observer) {{\n",
       "        var display = window.getComputedStyle(gd).display;\n",
       "        if (!display || display === 'none') {{\n",
       "            console.log([gd, 'removed!']);\n",
       "            Plotly.purge(gd);\n",
       "            observer.disconnect();\n",
       "        }}\n",
       "}});\n",
       "\n",
       "// Listen for the removal of the full notebook cells\n",
       "var notebookContainer = gd.closest('#notebook-container');\n",
       "if (notebookContainer) {{\n",
       "    x.observe(notebookContainer, {childList: true});\n",
       "}}\n",
       "\n",
       "// Listen for the clearing of the current output cell\n",
       "var outputEl = gd.closest('.output');\n",
       "if (outputEl) {{\n",
       "    x.observe(outputEl, {childList: true});\n",
       "}}\n",
       "\n",
       "                        })                };                });            </script>        </div>"
      ]
     },
     "metadata": {},
     "output_type": "display_data"
    }
   ],
   "source": [
    "words_info_ac, total_ac, ari_sum_ac = clustering(train_df, AgglomerativeClustering)"
   ]
  },
  {
   "cell_type": "code",
   "execution_count": 40,
   "metadata": {},
   "outputs": [
    {
     "data": {
      "text/plain": [
       "{'замок': {'ari': -0.07179781270596061, 'count': 138},\n",
       " 'лук': {'ari': 0.19284262114092604, 'count': 110},\n",
       " 'бор': {'ari': 0.7864938108840548, 'count': 56},\n",
       " 'суда': {'ari': 0.9375737040349529, 'count': 135}}"
      ]
     },
     "execution_count": 40,
     "metadata": {},
     "output_type": "execute_result"
    }
   ],
   "source": [
    "words_info_ac"
   ]
  },
  {
   "cell_type": "code",
   "execution_count": 41,
   "metadata": {},
   "outputs": [
    {
     "data": {
      "text/plain": [
       "0.41439793536743735"
      ]
     },
     "execution_count": 41,
     "metadata": {},
     "output_type": "execute_result"
    }
   ],
   "source": [
    "ari_sum_ac/total_ac"
   ]
  },
  {
   "cell_type": "markdown",
   "metadata": {},
   "source": [
    "## Черновик"
   ]
  },
  {
   "cell_type": "code",
   "execution_count": null,
   "metadata": {},
   "outputs": [],
   "source": [
    "ids = {'суда': 0,\n",
    " 'лук': 1,\n",
    " 'замок': 2,\n",
    " 'бор': 3}\n",
    "\n",
    "train_df['word_id'] = train_df['word'].apply(lambda x: ids[x])"
   ]
  },
  {
   "cell_type": "code",
   "execution_count": null,
   "metadata": {},
   "outputs": [],
   "source": [
    "labels_pred"
   ]
  },
  {
   "cell_type": "code",
   "execution_count": null,
   "metadata": {},
   "outputs": [],
   "source": [
    "labels_true"
   ]
  },
  {
   "cell_type": "code",
   "execution_count": null,
   "metadata": {},
   "outputs": [],
   "source": [
    "# df = train_df[train_df['word']=='лук']\n",
    "df = train_df\n",
    "n_clusters = 4\n",
    "n_contexts = df.shape[0]\n",
    "labels_true = df['word_id'].to_numpy()\n",
    "X = df['embedding'].to_numpy()\n",
    "X = np.stack(X)\n",
    "kmeans = KMeans(n_clusters=n_clusters, init='random', max_iter=1000)\n",
    "labels_pred = kmeans.fit_predict(X)#+1\n",
    "ari = adjusted_rand_score(labels_true, labels_pred)\n",
    "print(ari)"
   ]
  },
  {
   "cell_type": "code",
   "execution_count": null,
   "metadata": {},
   "outputs": [],
   "source": [
    "labels_pred"
   ]
  },
  {
   "cell_type": "code",
   "execution_count": null,
   "metadata": {},
   "outputs": [],
   "source": [
    "labels_true"
   ]
  },
  {
   "cell_type": "code",
   "execution_count": null,
   "metadata": {},
   "outputs": [],
   "source": [
    "df['embedding']"
   ]
  },
  {
   "cell_type": "code",
   "execution_count": null,
   "metadata": {},
   "outputs": [],
   "source": [
    "pca = sklearn.decomposition.PCA(n_components=3)"
   ]
  },
  {
   "cell_type": "code",
   "execution_count": null,
   "metadata": {},
   "outputs": [],
   "source": [
    "d3 = pca.fit_transform(np.stack(df['embedding'].to_numpy()))"
   ]
  },
  {
   "cell_type": "code",
   "execution_count": null,
   "metadata": {},
   "outputs": [],
   "source": [
    "d3 = pd.DataFrame(d3)"
   ]
  },
  {
   "cell_type": "code",
   "execution_count": null,
   "metadata": {},
   "outputs": [],
   "source": [
    "d3"
   ]
  },
  {
   "cell_type": "code",
   "execution_count": null,
   "metadata": {},
   "outputs": [],
   "source": [
    "px.scatter_3d(d3, x=0, y=1, z=2, color=labels_true)"
   ]
  },
  {
   "cell_type": "code",
   "execution_count": null,
   "metadata": {},
   "outputs": [],
   "source": [
    "def get_word_location(target, tokens):\n",
    "    current = ''\n",
    "    current_indices = []\n",
    "    for i, token in enumerate(tokens):\n",
    "        if token[:2] == '##':\n",
    "            current += token[2:]\n",
    "            current_indices.append(i)\n",
    "        else:\n",
    "            current = token\n",
    "            current_indices = [i]\n",
    "        if i < len(tokens)-1:\n",
    "            next_ = tokens[i+1]\n",
    "            if next_[:2] != '##':\n",
    "                if current == target:\n",
    "                    return current_indices\n",
    "        else:\n",
    "            if current == target:\n",
    "                return current_indices\n",
    "    print(target, tokens)\n",
    "    return 'not found'"
   ]
  }
 ],
 "metadata": {
  "accelerator": "GPU",
  "colab": {
   "collapsed_sections": [],
   "name": "russe_bert.ipynb",
   "provenance": []
  },
  "kernelspec": {
   "display_name": "Python 3",
   "language": "python",
   "name": "python3"
  },
  "language_info": {
   "codemirror_mode": {
    "name": "ipython",
    "version": 3
   },
   "file_extension": ".py",
   "mimetype": "text/x-python",
   "name": "python",
   "nbconvert_exporter": "python",
   "pygments_lexer": "ipython3",
   "version": "3.8.8"
  },
  "widgets": {
   "application/vnd.jupyter.widget-state+json": {
    "064bfa8b49e847408be883be1e608d1d": {
     "model_module": "@jupyter-widgets/controls",
     "model_module_version": "1.5.0",
     "model_name": "DescriptionStyleModel",
     "state": {
      "_model_module": "@jupyter-widgets/controls",
      "_model_module_version": "1.5.0",
      "_model_name": "DescriptionStyleModel",
      "_view_count": null,
      "_view_module": "@jupyter-widgets/base",
      "_view_module_version": "1.2.0",
      "_view_name": "StyleView",
      "description_width": ""
     }
    },
    "0747a22eb8374195ad2b38115abe3333": {
     "model_module": "@jupyter-widgets/controls",
     "model_module_version": "1.5.0",
     "model_name": "FloatProgressModel",
     "state": {
      "_dom_classes": [],
      "_model_module": "@jupyter-widgets/controls",
      "_model_module_version": "1.5.0",
      "_model_name": "FloatProgressModel",
      "_view_count": null,
      "_view_module": "@jupyter-widgets/controls",
      "_view_module_version": "1.5.0",
      "_view_name": "ProgressView",
      "bar_style": "success",
      "description": "",
      "description_tooltip": null,
      "layout": "IPY_MODEL_132f263a69dd4f47a99c9ade389da5e9",
      "max": 112,
      "min": 0,
      "orientation": "horizontal",
      "style": "IPY_MODEL_311180e70022469fbf5adf1222419dd2",
      "value": 112
     }
    },
    "0b5b32264dc044b58bb581ef126232e5": {
     "model_module": "@jupyter-widgets/base",
     "model_module_version": "1.2.0",
     "model_name": "LayoutModel",
     "state": {
      "_model_module": "@jupyter-widgets/base",
      "_model_module_version": "1.2.0",
      "_model_name": "LayoutModel",
      "_view_count": null,
      "_view_module": "@jupyter-widgets/base",
      "_view_module_version": "1.2.0",
      "_view_name": "LayoutView",
      "align_content": null,
      "align_items": null,
      "align_self": null,
      "border": null,
      "bottom": null,
      "display": null,
      "flex": null,
      "flex_flow": null,
      "grid_area": null,
      "grid_auto_columns": null,
      "grid_auto_flow": null,
      "grid_auto_rows": null,
      "grid_column": null,
      "grid_gap": null,
      "grid_row": null,
      "grid_template_areas": null,
      "grid_template_columns": null,
      "grid_template_rows": null,
      "height": null,
      "justify_content": null,
      "justify_items": null,
      "left": null,
      "margin": null,
      "max_height": null,
      "max_width": null,
      "min_height": null,
      "min_width": null,
      "object_fit": null,
      "object_position": null,
      "order": null,
      "overflow": null,
      "overflow_x": null,
      "overflow_y": null,
      "padding": null,
      "right": null,
      "top": null,
      "visibility": null,
      "width": null
     }
    },
    "0f26a48cfe91401f891c31d392080bad": {
     "model_module": "@jupyter-widgets/controls",
     "model_module_version": "1.5.0",
     "model_name": "HTMLModel",
     "state": {
      "_dom_classes": [],
      "_model_module": "@jupyter-widgets/controls",
      "_model_module_version": "1.5.0",
      "_model_name": "HTMLModel",
      "_view_count": null,
      "_view_module": "@jupyter-widgets/controls",
      "_view_module_version": "1.5.0",
      "_view_name": "HTMLView",
      "description": "",
      "description_tooltip": null,
      "layout": "IPY_MODEL_876db35ffeeb4164b3300567ccf4b6aa",
      "placeholder": "​",
      "style": "IPY_MODEL_064bfa8b49e847408be883be1e608d1d",
      "value": " 235k/235k [00:00&lt;00:00, 1.28MB/s]"
     }
    },
    "109fb8e9cf0e4754a33a85ecd363cd80": {
     "model_module": "@jupyter-widgets/controls",
     "model_module_version": "1.5.0",
     "model_name": "DescriptionStyleModel",
     "state": {
      "_model_module": "@jupyter-widgets/controls",
      "_model_module_version": "1.5.0",
      "_model_name": "DescriptionStyleModel",
      "_view_count": null,
      "_view_module": "@jupyter-widgets/base",
      "_view_module_version": "1.2.0",
      "_view_name": "StyleView",
      "description_width": ""
     }
    },
    "113ed7db36be48a6a99543041181e2b6": {
     "model_module": "@jupyter-widgets/base",
     "model_module_version": "1.2.0",
     "model_name": "LayoutModel",
     "state": {
      "_model_module": "@jupyter-widgets/base",
      "_model_module_version": "1.2.0",
      "_model_name": "LayoutModel",
      "_view_count": null,
      "_view_module": "@jupyter-widgets/base",
      "_view_module_version": "1.2.0",
      "_view_name": "LayoutView",
      "align_content": null,
      "align_items": null,
      "align_self": null,
      "border": null,
      "bottom": null,
      "display": null,
      "flex": null,
      "flex_flow": null,
      "grid_area": null,
      "grid_auto_columns": null,
      "grid_auto_flow": null,
      "grid_auto_rows": null,
      "grid_column": null,
      "grid_gap": null,
      "grid_row": null,
      "grid_template_areas": null,
      "grid_template_columns": null,
      "grid_template_rows": null,
      "height": null,
      "justify_content": null,
      "justify_items": null,
      "left": null,
      "margin": null,
      "max_height": null,
      "max_width": null,
      "min_height": null,
      "min_width": null,
      "object_fit": null,
      "object_position": null,
      "order": null,
      "overflow": null,
      "overflow_x": null,
      "overflow_y": null,
      "padding": null,
      "right": null,
      "top": null,
      "visibility": null,
      "width": null
     }
    },
    "132f263a69dd4f47a99c9ade389da5e9": {
     "model_module": "@jupyter-widgets/base",
     "model_module_version": "1.2.0",
     "model_name": "LayoutModel",
     "state": {
      "_model_module": "@jupyter-widgets/base",
      "_model_module_version": "1.2.0",
      "_model_name": "LayoutModel",
      "_view_count": null,
      "_view_module": "@jupyter-widgets/base",
      "_view_module_version": "1.2.0",
      "_view_name": "LayoutView",
      "align_content": null,
      "align_items": null,
      "align_self": null,
      "border": null,
      "bottom": null,
      "display": null,
      "flex": null,
      "flex_flow": null,
      "grid_area": null,
      "grid_auto_columns": null,
      "grid_auto_flow": null,
      "grid_auto_rows": null,
      "grid_column": null,
      "grid_gap": null,
      "grid_row": null,
      "grid_template_areas": null,
      "grid_template_columns": null,
      "grid_template_rows": null,
      "height": null,
      "justify_content": null,
      "justify_items": null,
      "left": null,
      "margin": null,
      "max_height": null,
      "max_width": null,
      "min_height": null,
      "min_width": null,
      "object_fit": null,
      "object_position": null,
      "order": null,
      "overflow": null,
      "overflow_x": null,
      "overflow_y": null,
      "padding": null,
      "right": null,
      "top": null,
      "visibility": null,
      "width": null
     }
    },
    "17fb48be59e047b5967890c8f1f506ee": {
     "model_module": "@jupyter-widgets/base",
     "model_module_version": "1.2.0",
     "model_name": "LayoutModel",
     "state": {
      "_model_module": "@jupyter-widgets/base",
      "_model_module_version": "1.2.0",
      "_model_name": "LayoutModel",
      "_view_count": null,
      "_view_module": "@jupyter-widgets/base",
      "_view_module_version": "1.2.0",
      "_view_name": "LayoutView",
      "align_content": null,
      "align_items": null,
      "align_self": null,
      "border": null,
      "bottom": null,
      "display": null,
      "flex": null,
      "flex_flow": null,
      "grid_area": null,
      "grid_auto_columns": null,
      "grid_auto_flow": null,
      "grid_auto_rows": null,
      "grid_column": null,
      "grid_gap": null,
      "grid_row": null,
      "grid_template_areas": null,
      "grid_template_columns": null,
      "grid_template_rows": null,
      "height": null,
      "justify_content": null,
      "justify_items": null,
      "left": null,
      "margin": null,
      "max_height": null,
      "max_width": null,
      "min_height": null,
      "min_width": null,
      "object_fit": null,
      "object_position": null,
      "order": null,
      "overflow": null,
      "overflow_x": null,
      "overflow_y": null,
      "padding": null,
      "right": null,
      "top": null,
      "visibility": null,
      "width": null
     }
    },
    "1b197c92c342456f895f0fd5b1815e46": {
     "model_module": "@jupyter-widgets/base",
     "model_module_version": "1.2.0",
     "model_name": "LayoutModel",
     "state": {
      "_model_module": "@jupyter-widgets/base",
      "_model_module_version": "1.2.0",
      "_model_name": "LayoutModel",
      "_view_count": null,
      "_view_module": "@jupyter-widgets/base",
      "_view_module_version": "1.2.0",
      "_view_name": "LayoutView",
      "align_content": null,
      "align_items": null,
      "align_self": null,
      "border": null,
      "bottom": null,
      "display": null,
      "flex": null,
      "flex_flow": null,
      "grid_area": null,
      "grid_auto_columns": null,
      "grid_auto_flow": null,
      "grid_auto_rows": null,
      "grid_column": null,
      "grid_gap": null,
      "grid_row": null,
      "grid_template_areas": null,
      "grid_template_columns": null,
      "grid_template_rows": null,
      "height": null,
      "justify_content": null,
      "justify_items": null,
      "left": null,
      "margin": null,
      "max_height": null,
      "max_width": null,
      "min_height": null,
      "min_width": null,
      "object_fit": null,
      "object_position": null,
      "order": null,
      "overflow": null,
      "overflow_x": null,
      "overflow_y": null,
      "padding": null,
      "right": null,
      "top": null,
      "visibility": null,
      "width": null
     }
    },
    "1b8f32913e0f42d5a19b55493ee9cf95": {
     "model_module": "@jupyter-widgets/controls",
     "model_module_version": "1.5.0",
     "model_name": "HTMLModel",
     "state": {
      "_dom_classes": [],
      "_model_module": "@jupyter-widgets/controls",
      "_model_module_version": "1.5.0",
      "_model_name": "HTMLModel",
      "_view_count": null,
      "_view_module": "@jupyter-widgets/controls",
      "_view_module_version": "1.5.0",
      "_view_name": "HTMLView",
      "description": "",
      "description_tooltip": null,
      "layout": "IPY_MODEL_dbed619dafbc48b880ab4787e308f0bb",
      "placeholder": "​",
      "style": "IPY_MODEL_5505985fdac24c5db487ca9689c845c9",
      "value": " 632/632 [00:00&lt;00:00, 9.92kB/s]"
     }
    },
    "27c26fbe64c94a06b3900384484fba44": {
     "model_module": "@jupyter-widgets/controls",
     "model_module_version": "1.5.0",
     "model_name": "FloatProgressModel",
     "state": {
      "_dom_classes": [],
      "_model_module": "@jupyter-widgets/controls",
      "_model_module_version": "1.5.0",
      "_model_name": "FloatProgressModel",
      "_view_count": null,
      "_view_module": "@jupyter-widgets/controls",
      "_view_module_version": "1.5.0",
      "_view_name": "ProgressView",
      "bar_style": "success",
      "description": "",
      "description_tooltip": null,
      "layout": "IPY_MODEL_fed21b06846f4694af48761b2e33cce2",
      "max": 241082,
      "min": 0,
      "orientation": "horizontal",
      "style": "IPY_MODEL_4d5e8db746f9432ca6108ebb40e76cfe",
      "value": 241082
     }
    },
    "2a696af4e60849a5a0cd6c8db4201a26": {
     "model_module": "@jupyter-widgets/controls",
     "model_module_version": "1.5.0",
     "model_name": "ProgressStyleModel",
     "state": {
      "_model_module": "@jupyter-widgets/controls",
      "_model_module_version": "1.5.0",
      "_model_name": "ProgressStyleModel",
      "_view_count": null,
      "_view_module": "@jupyter-widgets/base",
      "_view_module_version": "1.2.0",
      "_view_name": "StyleView",
      "bar_color": null,
      "description_width": ""
     }
    },
    "2bf36708abd64c28a2d42c78ed4bc9c4": {
     "model_module": "@jupyter-widgets/base",
     "model_module_version": "1.2.0",
     "model_name": "LayoutModel",
     "state": {
      "_model_module": "@jupyter-widgets/base",
      "_model_module_version": "1.2.0",
      "_model_name": "LayoutModel",
      "_view_count": null,
      "_view_module": "@jupyter-widgets/base",
      "_view_module_version": "1.2.0",
      "_view_name": "LayoutView",
      "align_content": null,
      "align_items": null,
      "align_self": null,
      "border": null,
      "bottom": null,
      "display": null,
      "flex": null,
      "flex_flow": null,
      "grid_area": null,
      "grid_auto_columns": null,
      "grid_auto_flow": null,
      "grid_auto_rows": null,
      "grid_column": null,
      "grid_gap": null,
      "grid_row": null,
      "grid_template_areas": null,
      "grid_template_columns": null,
      "grid_template_rows": null,
      "height": null,
      "justify_content": null,
      "justify_items": null,
      "left": null,
      "margin": null,
      "max_height": null,
      "max_width": null,
      "min_height": null,
      "min_width": null,
      "object_fit": null,
      "object_position": null,
      "order": null,
      "overflow": null,
      "overflow_x": null,
      "overflow_y": null,
      "padding": null,
      "right": null,
      "top": null,
      "visibility": null,
      "width": null
     }
    },
    "311180e70022469fbf5adf1222419dd2": {
     "model_module": "@jupyter-widgets/controls",
     "model_module_version": "1.5.0",
     "model_name": "ProgressStyleModel",
     "state": {
      "_model_module": "@jupyter-widgets/controls",
      "_model_module_version": "1.5.0",
      "_model_name": "ProgressStyleModel",
      "_view_count": null,
      "_view_module": "@jupyter-widgets/base",
      "_view_module_version": "1.2.0",
      "_view_name": "StyleView",
      "bar_color": null,
      "description_width": ""
     }
    },
    "35d1dc3ebdd244dda4e4e81cc295a22a": {
     "model_module": "@jupyter-widgets/controls",
     "model_module_version": "1.5.0",
     "model_name": "HTMLModel",
     "state": {
      "_dom_classes": [],
      "_model_module": "@jupyter-widgets/controls",
      "_model_module_version": "1.5.0",
      "_model_name": "HTMLModel",
      "_view_count": null,
      "_view_module": "@jupyter-widgets/controls",
      "_view_module_version": "1.5.0",
      "_view_name": "HTMLView",
      "description": "",
      "description_tooltip": null,
      "layout": "IPY_MODEL_f472871dca53441587e3924b5bb3ae47",
      "placeholder": "​",
      "style": "IPY_MODEL_3a3bc939262d4bdb9c6000a95f3d88d9",
      "value": "Downloading: 100%"
     }
    },
    "3a3bc939262d4bdb9c6000a95f3d88d9": {
     "model_module": "@jupyter-widgets/controls",
     "model_module_version": "1.5.0",
     "model_name": "DescriptionStyleModel",
     "state": {
      "_model_module": "@jupyter-widgets/controls",
      "_model_module_version": "1.5.0",
      "_model_name": "DescriptionStyleModel",
      "_view_count": null,
      "_view_module": "@jupyter-widgets/base",
      "_view_module_version": "1.2.0",
      "_view_name": "StyleView",
      "description_width": ""
     }
    },
    "3b7b4a8c298b49a780d69700c0391a4d": {
     "model_module": "@jupyter-widgets/base",
     "model_module_version": "1.2.0",
     "model_name": "LayoutModel",
     "state": {
      "_model_module": "@jupyter-widgets/base",
      "_model_module_version": "1.2.0",
      "_model_name": "LayoutModel",
      "_view_count": null,
      "_view_module": "@jupyter-widgets/base",
      "_view_module_version": "1.2.0",
      "_view_name": "LayoutView",
      "align_content": null,
      "align_items": null,
      "align_self": null,
      "border": null,
      "bottom": null,
      "display": null,
      "flex": null,
      "flex_flow": null,
      "grid_area": null,
      "grid_auto_columns": null,
      "grid_auto_flow": null,
      "grid_auto_rows": null,
      "grid_column": null,
      "grid_gap": null,
      "grid_row": null,
      "grid_template_areas": null,
      "grid_template_columns": null,
      "grid_template_rows": null,
      "height": null,
      "justify_content": null,
      "justify_items": null,
      "left": null,
      "margin": null,
      "max_height": null,
      "max_width": null,
      "min_height": null,
      "min_width": null,
      "object_fit": null,
      "object_position": null,
      "order": null,
      "overflow": null,
      "overflow_x": null,
      "overflow_y": null,
      "padding": null,
      "right": null,
      "top": null,
      "visibility": null,
      "width": null
     }
    },
    "3c99bcca1c644b2bbc7f2d15a960e7d7": {
     "model_module": "@jupyter-widgets/base",
     "model_module_version": "1.2.0",
     "model_name": "LayoutModel",
     "state": {
      "_model_module": "@jupyter-widgets/base",
      "_model_module_version": "1.2.0",
      "_model_name": "LayoutModel",
      "_view_count": null,
      "_view_module": "@jupyter-widgets/base",
      "_view_module_version": "1.2.0",
      "_view_name": "LayoutView",
      "align_content": null,
      "align_items": null,
      "align_self": null,
      "border": null,
      "bottom": null,
      "display": null,
      "flex": null,
      "flex_flow": null,
      "grid_area": null,
      "grid_auto_columns": null,
      "grid_auto_flow": null,
      "grid_auto_rows": null,
      "grid_column": null,
      "grid_gap": null,
      "grid_row": null,
      "grid_template_areas": null,
      "grid_template_columns": null,
      "grid_template_rows": null,
      "height": null,
      "justify_content": null,
      "justify_items": null,
      "left": null,
      "margin": null,
      "max_height": null,
      "max_width": null,
      "min_height": null,
      "min_width": null,
      "object_fit": null,
      "object_position": null,
      "order": null,
      "overflow": null,
      "overflow_x": null,
      "overflow_y": null,
      "padding": null,
      "right": null,
      "top": null,
      "visibility": null,
      "width": null
     }
    },
    "3df2b2da95df4c8dbb93c215c2e7eb78": {
     "model_module": "@jupyter-widgets/controls",
     "model_module_version": "1.5.0",
     "model_name": "HTMLModel",
     "state": {
      "_dom_classes": [],
      "_model_module": "@jupyter-widgets/controls",
      "_model_module_version": "1.5.0",
      "_model_name": "HTMLModel",
      "_view_count": null,
      "_view_module": "@jupyter-widgets/controls",
      "_view_module_version": "1.5.0",
      "_view_name": "HTMLView",
      "description": "",
      "description_tooltip": null,
      "layout": "IPY_MODEL_1b197c92c342456f895f0fd5b1815e46",
      "placeholder": "​",
      "style": "IPY_MODEL_c9d07e71aa344a438f86139808ca7225",
      "value": "Downloading: 100%"
     }
    },
    "40bed847a68346369793ed0e6e8c44b7": {
     "model_module": "@jupyter-widgets/controls",
     "model_module_version": "1.5.0",
     "model_name": "DescriptionStyleModel",
     "state": {
      "_model_module": "@jupyter-widgets/controls",
      "_model_module_version": "1.5.0",
      "_model_name": "DescriptionStyleModel",
      "_view_count": null,
      "_view_module": "@jupyter-widgets/base",
      "_view_module_version": "1.2.0",
      "_view_name": "StyleView",
      "description_width": ""
     }
    },
    "41403916f9c64d41bccd15d82abe285e": {
     "model_module": "@jupyter-widgets/controls",
     "model_module_version": "1.5.0",
     "model_name": "HBoxModel",
     "state": {
      "_dom_classes": [],
      "_model_module": "@jupyter-widgets/controls",
      "_model_module_version": "1.5.0",
      "_model_name": "HBoxModel",
      "_view_count": null,
      "_view_module": "@jupyter-widgets/controls",
      "_view_module_version": "1.5.0",
      "_view_name": "HBoxView",
      "box_style": "",
      "children": [
       "IPY_MODEL_a9d40314a4b84d83a390e3a9ee06ac87",
       "IPY_MODEL_87c9eec3a6c94b5b902360e2e2d2fc48",
       "IPY_MODEL_a667a4dfb2064940b15d0bd5358dd74c"
      ],
      "layout": "IPY_MODEL_2bf36708abd64c28a2d42c78ed4bc9c4"
     }
    },
    "42d9fc80c21c4a928cf1fe9796417481": {
     "model_module": "@jupyter-widgets/base",
     "model_module_version": "1.2.0",
     "model_name": "LayoutModel",
     "state": {
      "_model_module": "@jupyter-widgets/base",
      "_model_module_version": "1.2.0",
      "_model_name": "LayoutModel",
      "_view_count": null,
      "_view_module": "@jupyter-widgets/base",
      "_view_module_version": "1.2.0",
      "_view_name": "LayoutView",
      "align_content": null,
      "align_items": null,
      "align_self": null,
      "border": null,
      "bottom": null,
      "display": null,
      "flex": null,
      "flex_flow": null,
      "grid_area": null,
      "grid_auto_columns": null,
      "grid_auto_flow": null,
      "grid_auto_rows": null,
      "grid_column": null,
      "grid_gap": null,
      "grid_row": null,
      "grid_template_areas": null,
      "grid_template_columns": null,
      "grid_template_rows": null,
      "height": null,
      "justify_content": null,
      "justify_items": null,
      "left": null,
      "margin": null,
      "max_height": null,
      "max_width": null,
      "min_height": null,
      "min_width": null,
      "object_fit": null,
      "object_position": null,
      "order": null,
      "overflow": null,
      "overflow_x": null,
      "overflow_y": null,
      "padding": null,
      "right": null,
      "top": null,
      "visibility": null,
      "width": null
     }
    },
    "43522302d19e4ca285d4d541a1b197d4": {
     "model_module": "@jupyter-widgets/base",
     "model_module_version": "1.2.0",
     "model_name": "LayoutModel",
     "state": {
      "_model_module": "@jupyter-widgets/base",
      "_model_module_version": "1.2.0",
      "_model_name": "LayoutModel",
      "_view_count": null,
      "_view_module": "@jupyter-widgets/base",
      "_view_module_version": "1.2.0",
      "_view_name": "LayoutView",
      "align_content": null,
      "align_items": null,
      "align_self": null,
      "border": null,
      "bottom": null,
      "display": null,
      "flex": null,
      "flex_flow": null,
      "grid_area": null,
      "grid_auto_columns": null,
      "grid_auto_flow": null,
      "grid_auto_rows": null,
      "grid_column": null,
      "grid_gap": null,
      "grid_row": null,
      "grid_template_areas": null,
      "grid_template_columns": null,
      "grid_template_rows": null,
      "height": null,
      "justify_content": null,
      "justify_items": null,
      "left": null,
      "margin": null,
      "max_height": null,
      "max_width": null,
      "min_height": null,
      "min_width": null,
      "object_fit": null,
      "object_position": null,
      "order": null,
      "overflow": null,
      "overflow_x": null,
      "overflow_y": null,
      "padding": null,
      "right": null,
      "top": null,
      "visibility": null,
      "width": null
     }
    },
    "450a343d09084cc28a7ddc7e5ce3b58f": {
     "model_module": "@jupyter-widgets/base",
     "model_module_version": "1.2.0",
     "model_name": "LayoutModel",
     "state": {
      "_model_module": "@jupyter-widgets/base",
      "_model_module_version": "1.2.0",
      "_model_name": "LayoutModel",
      "_view_count": null,
      "_view_module": "@jupyter-widgets/base",
      "_view_module_version": "1.2.0",
      "_view_name": "LayoutView",
      "align_content": null,
      "align_items": null,
      "align_self": null,
      "border": null,
      "bottom": null,
      "display": null,
      "flex": null,
      "flex_flow": null,
      "grid_area": null,
      "grid_auto_columns": null,
      "grid_auto_flow": null,
      "grid_auto_rows": null,
      "grid_column": null,
      "grid_gap": null,
      "grid_row": null,
      "grid_template_areas": null,
      "grid_template_columns": null,
      "grid_template_rows": null,
      "height": null,
      "justify_content": null,
      "justify_items": null,
      "left": null,
      "margin": null,
      "max_height": null,
      "max_width": null,
      "min_height": null,
      "min_width": null,
      "object_fit": null,
      "object_position": null,
      "order": null,
      "overflow": null,
      "overflow_x": null,
      "overflow_y": null,
      "padding": null,
      "right": null,
      "top": null,
      "visibility": null,
      "width": null
     }
    },
    "4d5e8db746f9432ca6108ebb40e76cfe": {
     "model_module": "@jupyter-widgets/controls",
     "model_module_version": "1.5.0",
     "model_name": "ProgressStyleModel",
     "state": {
      "_model_module": "@jupyter-widgets/controls",
      "_model_module_version": "1.5.0",
      "_model_name": "ProgressStyleModel",
      "_view_count": null,
      "_view_module": "@jupyter-widgets/base",
      "_view_module_version": "1.2.0",
      "_view_name": "StyleView",
      "bar_color": null,
      "description_width": ""
     }
    },
    "4f9c36446eaf4f70844631cda580d858": {
     "model_module": "@jupyter-widgets/controls",
     "model_module_version": "1.5.0",
     "model_name": "DescriptionStyleModel",
     "state": {
      "_model_module": "@jupyter-widgets/controls",
      "_model_module_version": "1.5.0",
      "_model_name": "DescriptionStyleModel",
      "_view_count": null,
      "_view_module": "@jupyter-widgets/base",
      "_view_module_version": "1.2.0",
      "_view_name": "StyleView",
      "description_width": ""
     }
    },
    "52aa9bc2b8524ca9bec770613c1ca6f2": {
     "model_module": "@jupyter-widgets/controls",
     "model_module_version": "1.5.0",
     "model_name": "HBoxModel",
     "state": {
      "_dom_classes": [],
      "_model_module": "@jupyter-widgets/controls",
      "_model_module_version": "1.5.0",
      "_model_name": "HBoxModel",
      "_view_count": null,
      "_view_module": "@jupyter-widgets/controls",
      "_view_module_version": "1.5.0",
      "_view_name": "HBoxView",
      "box_style": "",
      "children": [
       "IPY_MODEL_35d1dc3ebdd244dda4e4e81cc295a22a",
       "IPY_MODEL_27c26fbe64c94a06b3900384484fba44",
       "IPY_MODEL_0f26a48cfe91401f891c31d392080bad"
      ],
      "layout": "IPY_MODEL_faad2df429914762ad77a0ee373ab973"
     }
    },
    "5505985fdac24c5db487ca9689c845c9": {
     "model_module": "@jupyter-widgets/controls",
     "model_module_version": "1.5.0",
     "model_name": "DescriptionStyleModel",
     "state": {
      "_model_module": "@jupyter-widgets/controls",
      "_model_module_version": "1.5.0",
      "_model_name": "DescriptionStyleModel",
      "_view_count": null,
      "_view_module": "@jupyter-widgets/base",
      "_view_module_version": "1.2.0",
      "_view_name": "StyleView",
      "description_width": ""
     }
    },
    "6412fd5e66e349cf87bcd8930b4ccf9a": {
     "model_module": "@jupyter-widgets/base",
     "model_module_version": "1.2.0",
     "model_name": "LayoutModel",
     "state": {
      "_model_module": "@jupyter-widgets/base",
      "_model_module_version": "1.2.0",
      "_model_name": "LayoutModel",
      "_view_count": null,
      "_view_module": "@jupyter-widgets/base",
      "_view_module_version": "1.2.0",
      "_view_name": "LayoutView",
      "align_content": null,
      "align_items": null,
      "align_self": null,
      "border": null,
      "bottom": null,
      "display": null,
      "flex": null,
      "flex_flow": null,
      "grid_area": null,
      "grid_auto_columns": null,
      "grid_auto_flow": null,
      "grid_auto_rows": null,
      "grid_column": null,
      "grid_gap": null,
      "grid_row": null,
      "grid_template_areas": null,
      "grid_template_columns": null,
      "grid_template_rows": null,
      "height": null,
      "justify_content": null,
      "justify_items": null,
      "left": null,
      "margin": null,
      "max_height": null,
      "max_width": null,
      "min_height": null,
      "min_width": null,
      "object_fit": null,
      "object_position": null,
      "order": null,
      "overflow": null,
      "overflow_x": null,
      "overflow_y": null,
      "padding": null,
      "right": null,
      "top": null,
      "visibility": null,
      "width": null
     }
    },
    "6e0b985383be4c33a9e090425b1cc33b": {
     "model_module": "@jupyter-widgets/base",
     "model_module_version": "1.2.0",
     "model_name": "LayoutModel",
     "state": {
      "_model_module": "@jupyter-widgets/base",
      "_model_module_version": "1.2.0",
      "_model_name": "LayoutModel",
      "_view_count": null,
      "_view_module": "@jupyter-widgets/base",
      "_view_module_version": "1.2.0",
      "_view_name": "LayoutView",
      "align_content": null,
      "align_items": null,
      "align_self": null,
      "border": null,
      "bottom": null,
      "display": null,
      "flex": null,
      "flex_flow": null,
      "grid_area": null,
      "grid_auto_columns": null,
      "grid_auto_flow": null,
      "grid_auto_rows": null,
      "grid_column": null,
      "grid_gap": null,
      "grid_row": null,
      "grid_template_areas": null,
      "grid_template_columns": null,
      "grid_template_rows": null,
      "height": null,
      "justify_content": null,
      "justify_items": null,
      "left": null,
      "margin": null,
      "max_height": null,
      "max_width": null,
      "min_height": null,
      "min_width": null,
      "object_fit": null,
      "object_position": null,
      "order": null,
      "overflow": null,
      "overflow_x": null,
      "overflow_y": null,
      "padding": null,
      "right": null,
      "top": null,
      "visibility": null,
      "width": null
     }
    },
    "75aa1e69aa104d48bd73669d801ba133": {
     "model_module": "@jupyter-widgets/controls",
     "model_module_version": "1.5.0",
     "model_name": "DescriptionStyleModel",
     "state": {
      "_model_module": "@jupyter-widgets/controls",
      "_model_module_version": "1.5.0",
      "_model_name": "DescriptionStyleModel",
      "_view_count": null,
      "_view_module": "@jupyter-widgets/base",
      "_view_module_version": "1.2.0",
      "_view_name": "StyleView",
      "description_width": ""
     }
    },
    "866e3aa45bdb48668900a645bc0beaad": {
     "model_module": "@jupyter-widgets/base",
     "model_module_version": "1.2.0",
     "model_name": "LayoutModel",
     "state": {
      "_model_module": "@jupyter-widgets/base",
      "_model_module_version": "1.2.0",
      "_model_name": "LayoutModel",
      "_view_count": null,
      "_view_module": "@jupyter-widgets/base",
      "_view_module_version": "1.2.0",
      "_view_name": "LayoutView",
      "align_content": null,
      "align_items": null,
      "align_self": null,
      "border": null,
      "bottom": null,
      "display": null,
      "flex": null,
      "flex_flow": null,
      "grid_area": null,
      "grid_auto_columns": null,
      "grid_auto_flow": null,
      "grid_auto_rows": null,
      "grid_column": null,
      "grid_gap": null,
      "grid_row": null,
      "grid_template_areas": null,
      "grid_template_columns": null,
      "grid_template_rows": null,
      "height": null,
      "justify_content": null,
      "justify_items": null,
      "left": null,
      "margin": null,
      "max_height": null,
      "max_width": null,
      "min_height": null,
      "min_width": null,
      "object_fit": null,
      "object_position": null,
      "order": null,
      "overflow": null,
      "overflow_x": null,
      "overflow_y": null,
      "padding": null,
      "right": null,
      "top": null,
      "visibility": null,
      "width": null
     }
    },
    "876db35ffeeb4164b3300567ccf4b6aa": {
     "model_module": "@jupyter-widgets/base",
     "model_module_version": "1.2.0",
     "model_name": "LayoutModel",
     "state": {
      "_model_module": "@jupyter-widgets/base",
      "_model_module_version": "1.2.0",
      "_model_name": "LayoutModel",
      "_view_count": null,
      "_view_module": "@jupyter-widgets/base",
      "_view_module_version": "1.2.0",
      "_view_name": "LayoutView",
      "align_content": null,
      "align_items": null,
      "align_self": null,
      "border": null,
      "bottom": null,
      "display": null,
      "flex": null,
      "flex_flow": null,
      "grid_area": null,
      "grid_auto_columns": null,
      "grid_auto_flow": null,
      "grid_auto_rows": null,
      "grid_column": null,
      "grid_gap": null,
      "grid_row": null,
      "grid_template_areas": null,
      "grid_template_columns": null,
      "grid_template_rows": null,
      "height": null,
      "justify_content": null,
      "justify_items": null,
      "left": null,
      "margin": null,
      "max_height": null,
      "max_width": null,
      "min_height": null,
      "min_width": null,
      "object_fit": null,
      "object_position": null,
      "order": null,
      "overflow": null,
      "overflow_x": null,
      "overflow_y": null,
      "padding": null,
      "right": null,
      "top": null,
      "visibility": null,
      "width": null
     }
    },
    "87c9eec3a6c94b5b902360e2e2d2fc48": {
     "model_module": "@jupyter-widgets/controls",
     "model_module_version": "1.5.0",
     "model_name": "FloatProgressModel",
     "state": {
      "_dom_classes": [],
      "_model_module": "@jupyter-widgets/controls",
      "_model_module_version": "1.5.0",
      "_model_name": "FloatProgressModel",
      "_view_count": null,
      "_view_module": "@jupyter-widgets/controls",
      "_view_module_version": "1.5.0",
      "_view_name": "ProgressView",
      "bar_style": "success",
      "description": "",
      "description_tooltip": null,
      "layout": "IPY_MODEL_450a343d09084cc28a7ddc7e5ce3b58f",
      "max": 468145,
      "min": 0,
      "orientation": "horizontal",
      "style": "IPY_MODEL_f894841559374a9e940a7c6838a1c63a",
      "value": 468145
     }
    },
    "8a4559200e834b329b5318c4f3b143a9": {
     "model_module": "@jupyter-widgets/controls",
     "model_module_version": "1.5.0",
     "model_name": "ProgressStyleModel",
     "state": {
      "_model_module": "@jupyter-widgets/controls",
      "_model_module_version": "1.5.0",
      "_model_name": "ProgressStyleModel",
      "_view_count": null,
      "_view_module": "@jupyter-widgets/base",
      "_view_module_version": "1.2.0",
      "_view_name": "StyleView",
      "bar_color": null,
      "description_width": ""
     }
    },
    "8a94561fa77c45dd865b4d6dc348c57e": {
     "model_module": "@jupyter-widgets/base",
     "model_module_version": "1.2.0",
     "model_name": "LayoutModel",
     "state": {
      "_model_module": "@jupyter-widgets/base",
      "_model_module_version": "1.2.0",
      "_model_name": "LayoutModel",
      "_view_count": null,
      "_view_module": "@jupyter-widgets/base",
      "_view_module_version": "1.2.0",
      "_view_name": "LayoutView",
      "align_content": null,
      "align_items": null,
      "align_self": null,
      "border": null,
      "bottom": null,
      "display": null,
      "flex": null,
      "flex_flow": null,
      "grid_area": null,
      "grid_auto_columns": null,
      "grid_auto_flow": null,
      "grid_auto_rows": null,
      "grid_column": null,
      "grid_gap": null,
      "grid_row": null,
      "grid_template_areas": null,
      "grid_template_columns": null,
      "grid_template_rows": null,
      "height": null,
      "justify_content": null,
      "justify_items": null,
      "left": null,
      "margin": null,
      "max_height": null,
      "max_width": null,
      "min_height": null,
      "min_width": null,
      "object_fit": null,
      "object_position": null,
      "order": null,
      "overflow": null,
      "overflow_x": null,
      "overflow_y": null,
      "padding": null,
      "right": null,
      "top": null,
      "visibility": null,
      "width": null
     }
    },
    "907c551f0b734fc097cb08c629995a69": {
     "model_module": "@jupyter-widgets/base",
     "model_module_version": "1.2.0",
     "model_name": "LayoutModel",
     "state": {
      "_model_module": "@jupyter-widgets/base",
      "_model_module_version": "1.2.0",
      "_model_name": "LayoutModel",
      "_view_count": null,
      "_view_module": "@jupyter-widgets/base",
      "_view_module_version": "1.2.0",
      "_view_name": "LayoutView",
      "align_content": null,
      "align_items": null,
      "align_self": null,
      "border": null,
      "bottom": null,
      "display": null,
      "flex": null,
      "flex_flow": null,
      "grid_area": null,
      "grid_auto_columns": null,
      "grid_auto_flow": null,
      "grid_auto_rows": null,
      "grid_column": null,
      "grid_gap": null,
      "grid_row": null,
      "grid_template_areas": null,
      "grid_template_columns": null,
      "grid_template_rows": null,
      "height": null,
      "justify_content": null,
      "justify_items": null,
      "left": null,
      "margin": null,
      "max_height": null,
      "max_width": null,
      "min_height": null,
      "min_width": null,
      "object_fit": null,
      "object_position": null,
      "order": null,
      "overflow": null,
      "overflow_x": null,
      "overflow_y": null,
      "padding": null,
      "right": null,
      "top": null,
      "visibility": null,
      "width": null
     }
    },
    "95ed6ef5b10e4cf2919ec1c4d2cbe6e7": {
     "model_module": "@jupyter-widgets/controls",
     "model_module_version": "1.5.0",
     "model_name": "HBoxModel",
     "state": {
      "_dom_classes": [],
      "_model_module": "@jupyter-widgets/controls",
      "_model_module_version": "1.5.0",
      "_model_name": "HBoxModel",
      "_view_count": null,
      "_view_module": "@jupyter-widgets/controls",
      "_view_module_version": "1.5.0",
      "_view_name": "HBoxView",
      "box_style": "",
      "children": [
       "IPY_MODEL_ebc015b59c174d2f9c1ab926383447e7",
       "IPY_MODEL_d665af7f64214a43984004137261e18f",
       "IPY_MODEL_dd06a01eedc34b33a40d0b9d8e128d32"
      ],
      "layout": "IPY_MODEL_43522302d19e4ca285d4d541a1b197d4"
     }
    },
    "9625882ce7384d189b1117d105754ed7": {
     "model_module": "@jupyter-widgets/controls",
     "model_module_version": "1.5.0",
     "model_name": "DescriptionStyleModel",
     "state": {
      "_model_module": "@jupyter-widgets/controls",
      "_model_module_version": "1.5.0",
      "_model_name": "DescriptionStyleModel",
      "_view_count": null,
      "_view_module": "@jupyter-widgets/base",
      "_view_module_version": "1.2.0",
      "_view_name": "StyleView",
      "description_width": ""
     }
    },
    "98e6ffaabb3c4a7fa482c33641393bb0": {
     "model_module": "@jupyter-widgets/controls",
     "model_module_version": "1.5.0",
     "model_name": "ProgressStyleModel",
     "state": {
      "_model_module": "@jupyter-widgets/controls",
      "_model_module_version": "1.5.0",
      "_model_name": "ProgressStyleModel",
      "_view_count": null,
      "_view_module": "@jupyter-widgets/base",
      "_view_module_version": "1.2.0",
      "_view_name": "StyleView",
      "bar_color": null,
      "description_width": ""
     }
    },
    "9f8fd4e8a99b46238e0600562460126f": {
     "model_module": "@jupyter-widgets/base",
     "model_module_version": "1.2.0",
     "model_name": "LayoutModel",
     "state": {
      "_model_module": "@jupyter-widgets/base",
      "_model_module_version": "1.2.0",
      "_model_name": "LayoutModel",
      "_view_count": null,
      "_view_module": "@jupyter-widgets/base",
      "_view_module_version": "1.2.0",
      "_view_name": "LayoutView",
      "align_content": null,
      "align_items": null,
      "align_self": null,
      "border": null,
      "bottom": null,
      "display": null,
      "flex": null,
      "flex_flow": null,
      "grid_area": null,
      "grid_auto_columns": null,
      "grid_auto_flow": null,
      "grid_auto_rows": null,
      "grid_column": null,
      "grid_gap": null,
      "grid_row": null,
      "grid_template_areas": null,
      "grid_template_columns": null,
      "grid_template_rows": null,
      "height": null,
      "justify_content": null,
      "justify_items": null,
      "left": null,
      "margin": null,
      "max_height": null,
      "max_width": null,
      "min_height": null,
      "min_width": null,
      "object_fit": null,
      "object_position": null,
      "order": null,
      "overflow": null,
      "overflow_x": null,
      "overflow_y": null,
      "padding": null,
      "right": null,
      "top": null,
      "visibility": null,
      "width": null
     }
    },
    "a0885f99cf4441bc83a5bef998ac78b8": {
     "model_module": "@jupyter-widgets/controls",
     "model_module_version": "1.5.0",
     "model_name": "DescriptionStyleModel",
     "state": {
      "_model_module": "@jupyter-widgets/controls",
      "_model_module_version": "1.5.0",
      "_model_name": "DescriptionStyleModel",
      "_view_count": null,
      "_view_module": "@jupyter-widgets/base",
      "_view_module_version": "1.2.0",
      "_view_name": "StyleView",
      "description_width": ""
     }
    },
    "a4aa544945424c88afa593fe1441e7d9": {
     "model_module": "@jupyter-widgets/controls",
     "model_module_version": "1.5.0",
     "model_name": "DescriptionStyleModel",
     "state": {
      "_model_module": "@jupyter-widgets/controls",
      "_model_module_version": "1.5.0",
      "_model_name": "DescriptionStyleModel",
      "_view_count": null,
      "_view_module": "@jupyter-widgets/base",
      "_view_module_version": "1.2.0",
      "_view_name": "StyleView",
      "description_width": ""
     }
    },
    "a667a4dfb2064940b15d0bd5358dd74c": {
     "model_module": "@jupyter-widgets/controls",
     "model_module_version": "1.5.0",
     "model_name": "HTMLModel",
     "state": {
      "_dom_classes": [],
      "_model_module": "@jupyter-widgets/controls",
      "_model_module_version": "1.5.0",
      "_model_name": "HTMLModel",
      "_view_count": null,
      "_view_module": "@jupyter-widgets/controls",
      "_view_module_version": "1.5.0",
      "_view_name": "HTMLView",
      "description": "",
      "description_tooltip": null,
      "layout": "IPY_MODEL_8a94561fa77c45dd865b4d6dc348c57e",
      "placeholder": "​",
      "style": "IPY_MODEL_f23cd848ed5b4a04a7b9e74473507dbd",
      "value": " 457k/457k [00:00&lt;00:00, 1.17MB/s]"
     }
    },
    "a9d40314a4b84d83a390e3a9ee06ac87": {
     "model_module": "@jupyter-widgets/controls",
     "model_module_version": "1.5.0",
     "model_name": "HTMLModel",
     "state": {
      "_dom_classes": [],
      "_model_module": "@jupyter-widgets/controls",
      "_model_module_version": "1.5.0",
      "_model_name": "HTMLModel",
      "_view_count": null,
      "_view_module": "@jupyter-widgets/controls",
      "_view_module_version": "1.5.0",
      "_view_name": "HTMLView",
      "description": "",
      "description_tooltip": null,
      "layout": "IPY_MODEL_6e0b985383be4c33a9e090425b1cc33b",
      "placeholder": "​",
      "style": "IPY_MODEL_a0885f99cf4441bc83a5bef998ac78b8",
      "value": "Downloading: 100%"
     }
    },
    "b03055741b4041a78909d517b42f3248": {
     "model_module": "@jupyter-widgets/controls",
     "model_module_version": "1.5.0",
     "model_name": "HBoxModel",
     "state": {
      "_dom_classes": [],
      "_model_module": "@jupyter-widgets/controls",
      "_model_module_version": "1.5.0",
      "_model_name": "HBoxModel",
      "_view_count": null,
      "_view_module": "@jupyter-widgets/controls",
      "_view_module_version": "1.5.0",
      "_view_name": "HBoxView",
      "box_style": "",
      "children": [
       "IPY_MODEL_b5cf35368fdc41c081be6bc8f7fd5c20",
       "IPY_MODEL_ec9efe984e2e43afbeb4e12e1f20e4d4",
       "IPY_MODEL_1b8f32913e0f42d5a19b55493ee9cf95"
      ],
      "layout": "IPY_MODEL_113ed7db36be48a6a99543041181e2b6"
     }
    },
    "b5cf35368fdc41c081be6bc8f7fd5c20": {
     "model_module": "@jupyter-widgets/controls",
     "model_module_version": "1.5.0",
     "model_name": "HTMLModel",
     "state": {
      "_dom_classes": [],
      "_model_module": "@jupyter-widgets/controls",
      "_model_module_version": "1.5.0",
      "_model_name": "HTMLModel",
      "_view_count": null,
      "_view_module": "@jupyter-widgets/controls",
      "_view_module_version": "1.5.0",
      "_view_name": "HTMLView",
      "description": "",
      "description_tooltip": null,
      "layout": "IPY_MODEL_907c551f0b734fc097cb08c629995a69",
      "placeholder": "​",
      "style": "IPY_MODEL_75aa1e69aa104d48bd73669d801ba133",
      "value": "Downloading: 100%"
     }
    },
    "c9d07e71aa344a438f86139808ca7225": {
     "model_module": "@jupyter-widgets/controls",
     "model_module_version": "1.5.0",
     "model_name": "DescriptionStyleModel",
     "state": {
      "_model_module": "@jupyter-widgets/controls",
      "_model_module_version": "1.5.0",
      "_model_name": "DescriptionStyleModel",
      "_view_count": null,
      "_view_module": "@jupyter-widgets/base",
      "_view_module_version": "1.2.0",
      "_view_name": "StyleView",
      "description_width": ""
     }
    },
    "cb127d9b181f4257a3e6bf085a105495": {
     "model_module": "@jupyter-widgets/controls",
     "model_module_version": "1.5.0",
     "model_name": "FloatProgressModel",
     "state": {
      "_dom_classes": [],
      "_model_module": "@jupyter-widgets/controls",
      "_model_module_version": "1.5.0",
      "_model_name": "FloatProgressModel",
      "_view_count": null,
      "_view_module": "@jupyter-widgets/controls",
      "_view_module_version": "1.5.0",
      "_view_name": "ProgressView",
      "bar_style": "success",
      "description": "",
      "description_tooltip": null,
      "layout": "IPY_MODEL_0b5b32264dc044b58bb581ef126232e5",
      "max": 47679974,
      "min": 0,
      "orientation": "horizontal",
      "style": "IPY_MODEL_8a4559200e834b329b5318c4f3b143a9",
      "value": 47679974
     }
    },
    "cb6fdc1de732431d83f28ce81eb4f705": {
     "model_module": "@jupyter-widgets/controls",
     "model_module_version": "1.5.0",
     "model_name": "HBoxModel",
     "state": {
      "_dom_classes": [],
      "_model_module": "@jupyter-widgets/controls",
      "_model_module_version": "1.5.0",
      "_model_name": "HBoxModel",
      "_view_count": null,
      "_view_module": "@jupyter-widgets/controls",
      "_view_module_version": "1.5.0",
      "_view_name": "HBoxView",
      "box_style": "",
      "children": [
       "IPY_MODEL_fcda89ecf9f64b5ab9e894ab3d2c3094",
       "IPY_MODEL_0747a22eb8374195ad2b38115abe3333",
       "IPY_MODEL_d3e111da03304169a3b43d5537592111"
      ],
      "layout": "IPY_MODEL_17fb48be59e047b5967890c8f1f506ee"
     }
    },
    "d3e111da03304169a3b43d5537592111": {
     "model_module": "@jupyter-widgets/controls",
     "model_module_version": "1.5.0",
     "model_name": "HTMLModel",
     "state": {
      "_dom_classes": [],
      "_model_module": "@jupyter-widgets/controls",
      "_model_module_version": "1.5.0",
      "_model_name": "HTMLModel",
      "_view_count": null,
      "_view_module": "@jupyter-widgets/controls",
      "_view_module_version": "1.5.0",
      "_view_name": "HTMLView",
      "description": "",
      "description_tooltip": null,
      "layout": "IPY_MODEL_9f8fd4e8a99b46238e0600562460126f",
      "placeholder": "​",
      "style": "IPY_MODEL_9625882ce7384d189b1117d105754ed7",
      "value": " 112/112 [00:00&lt;00:00, 2.22kB/s]"
     }
    },
    "d665af7f64214a43984004137261e18f": {
     "model_module": "@jupyter-widgets/controls",
     "model_module_version": "1.5.0",
     "model_name": "FloatProgressModel",
     "state": {
      "_dom_classes": [],
      "_model_module": "@jupyter-widgets/controls",
      "_model_module_version": "1.5.0",
      "_model_name": "FloatProgressModel",
      "_view_count": null,
      "_view_module": "@jupyter-widgets/controls",
      "_view_module_version": "1.5.0",
      "_view_name": "ProgressView",
      "bar_style": "success",
      "description": "",
      "description_tooltip": null,
      "layout": "IPY_MODEL_3b7b4a8c298b49a780d69700c0391a4d",
      "max": 341,
      "min": 0,
      "orientation": "horizontal",
      "style": "IPY_MODEL_98e6ffaabb3c4a7fa482c33641393bb0",
      "value": 341
     }
    },
    "db94605b587244a8a00e426b446034ae": {
     "model_module": "@jupyter-widgets/base",
     "model_module_version": "1.2.0",
     "model_name": "LayoutModel",
     "state": {
      "_model_module": "@jupyter-widgets/base",
      "_model_module_version": "1.2.0",
      "_model_name": "LayoutModel",
      "_view_count": null,
      "_view_module": "@jupyter-widgets/base",
      "_view_module_version": "1.2.0",
      "_view_name": "LayoutView",
      "align_content": null,
      "align_items": null,
      "align_self": null,
      "border": null,
      "bottom": null,
      "display": null,
      "flex": null,
      "flex_flow": null,
      "grid_area": null,
      "grid_auto_columns": null,
      "grid_auto_flow": null,
      "grid_auto_rows": null,
      "grid_column": null,
      "grid_gap": null,
      "grid_row": null,
      "grid_template_areas": null,
      "grid_template_columns": null,
      "grid_template_rows": null,
      "height": null,
      "justify_content": null,
      "justify_items": null,
      "left": null,
      "margin": null,
      "max_height": null,
      "max_width": null,
      "min_height": null,
      "min_width": null,
      "object_fit": null,
      "object_position": null,
      "order": null,
      "overflow": null,
      "overflow_x": null,
      "overflow_y": null,
      "padding": null,
      "right": null,
      "top": null,
      "visibility": null,
      "width": null
     }
    },
    "dbed619dafbc48b880ab4787e308f0bb": {
     "model_module": "@jupyter-widgets/base",
     "model_module_version": "1.2.0",
     "model_name": "LayoutModel",
     "state": {
      "_model_module": "@jupyter-widgets/base",
      "_model_module_version": "1.2.0",
      "_model_name": "LayoutModel",
      "_view_count": null,
      "_view_module": "@jupyter-widgets/base",
      "_view_module_version": "1.2.0",
      "_view_name": "LayoutView",
      "align_content": null,
      "align_items": null,
      "align_self": null,
      "border": null,
      "bottom": null,
      "display": null,
      "flex": null,
      "flex_flow": null,
      "grid_area": null,
      "grid_auto_columns": null,
      "grid_auto_flow": null,
      "grid_auto_rows": null,
      "grid_column": null,
      "grid_gap": null,
      "grid_row": null,
      "grid_template_areas": null,
      "grid_template_columns": null,
      "grid_template_rows": null,
      "height": null,
      "justify_content": null,
      "justify_items": null,
      "left": null,
      "margin": null,
      "max_height": null,
      "max_width": null,
      "min_height": null,
      "min_width": null,
      "object_fit": null,
      "object_position": null,
      "order": null,
      "overflow": null,
      "overflow_x": null,
      "overflow_y": null,
      "padding": null,
      "right": null,
      "top": null,
      "visibility": null,
      "width": null
     }
    },
    "dd06a01eedc34b33a40d0b9d8e128d32": {
     "model_module": "@jupyter-widgets/controls",
     "model_module_version": "1.5.0",
     "model_name": "HTMLModel",
     "state": {
      "_dom_classes": [],
      "_model_module": "@jupyter-widgets/controls",
      "_model_module_version": "1.5.0",
      "_model_name": "HTMLModel",
      "_view_count": null,
      "_view_module": "@jupyter-widgets/controls",
      "_view_module_version": "1.5.0",
      "_view_name": "HTMLView",
      "description": "",
      "description_tooltip": null,
      "layout": "IPY_MODEL_866e3aa45bdb48668900a645bc0beaad",
      "placeholder": "​",
      "style": "IPY_MODEL_a4aa544945424c88afa593fe1441e7d9",
      "value": " 341/341 [00:00&lt;00:00, 8.16kB/s]"
     }
    },
    "e1785ffefad541ad95a1f9db78a12468": {
     "model_module": "@jupyter-widgets/base",
     "model_module_version": "1.2.0",
     "model_name": "LayoutModel",
     "state": {
      "_model_module": "@jupyter-widgets/base",
      "_model_module_version": "1.2.0",
      "_model_name": "LayoutModel",
      "_view_count": null,
      "_view_module": "@jupyter-widgets/base",
      "_view_module_version": "1.2.0",
      "_view_name": "LayoutView",
      "align_content": null,
      "align_items": null,
      "align_self": null,
      "border": null,
      "bottom": null,
      "display": null,
      "flex": null,
      "flex_flow": null,
      "grid_area": null,
      "grid_auto_columns": null,
      "grid_auto_flow": null,
      "grid_auto_rows": null,
      "grid_column": null,
      "grid_gap": null,
      "grid_row": null,
      "grid_template_areas": null,
      "grid_template_columns": null,
      "grid_template_rows": null,
      "height": null,
      "justify_content": null,
      "justify_items": null,
      "left": null,
      "margin": null,
      "max_height": null,
      "max_width": null,
      "min_height": null,
      "min_width": null,
      "object_fit": null,
      "object_position": null,
      "order": null,
      "overflow": null,
      "overflow_x": null,
      "overflow_y": null,
      "padding": null,
      "right": null,
      "top": null,
      "visibility": null,
      "width": null
     }
    },
    "e4d87253a97041c8a90507d62901365d": {
     "model_module": "@jupyter-widgets/controls",
     "model_module_version": "1.5.0",
     "model_name": "HBoxModel",
     "state": {
      "_dom_classes": [],
      "_model_module": "@jupyter-widgets/controls",
      "_model_module_version": "1.5.0",
      "_model_name": "HBoxModel",
      "_view_count": null,
      "_view_module": "@jupyter-widgets/controls",
      "_view_module_version": "1.5.0",
      "_view_name": "HBoxView",
      "box_style": "",
      "children": [
       "IPY_MODEL_3df2b2da95df4c8dbb93c215c2e7eb78",
       "IPY_MODEL_cb127d9b181f4257a3e6bf085a105495",
       "IPY_MODEL_f3a75b2b33564027891510f5e085c3e0"
      ],
      "layout": "IPY_MODEL_3c99bcca1c644b2bbc7f2d15a960e7d7"
     }
    },
    "ebc015b59c174d2f9c1ab926383447e7": {
     "model_module": "@jupyter-widgets/controls",
     "model_module_version": "1.5.0",
     "model_name": "HTMLModel",
     "state": {
      "_dom_classes": [],
      "_model_module": "@jupyter-widgets/controls",
      "_model_module_version": "1.5.0",
      "_model_name": "HTMLModel",
      "_view_count": null,
      "_view_module": "@jupyter-widgets/controls",
      "_view_module_version": "1.5.0",
      "_view_name": "HTMLView",
      "description": "",
      "description_tooltip": null,
      "layout": "IPY_MODEL_db94605b587244a8a00e426b446034ae",
      "placeholder": "​",
      "style": "IPY_MODEL_109fb8e9cf0e4754a33a85ecd363cd80",
      "value": "Downloading: 100%"
     }
    },
    "ec9efe984e2e43afbeb4e12e1f20e4d4": {
     "model_module": "@jupyter-widgets/controls",
     "model_module_version": "1.5.0",
     "model_name": "FloatProgressModel",
     "state": {
      "_dom_classes": [],
      "_model_module": "@jupyter-widgets/controls",
      "_model_module_version": "1.5.0",
      "_model_name": "FloatProgressModel",
      "_view_count": null,
      "_view_module": "@jupyter-widgets/controls",
      "_view_module_version": "1.5.0",
      "_view_name": "ProgressView",
      "bar_style": "success",
      "description": "",
      "description_tooltip": null,
      "layout": "IPY_MODEL_42d9fc80c21c4a928cf1fe9796417481",
      "max": 632,
      "min": 0,
      "orientation": "horizontal",
      "style": "IPY_MODEL_2a696af4e60849a5a0cd6c8db4201a26",
      "value": 632
     }
    },
    "f23cd848ed5b4a04a7b9e74473507dbd": {
     "model_module": "@jupyter-widgets/controls",
     "model_module_version": "1.5.0",
     "model_name": "DescriptionStyleModel",
     "state": {
      "_model_module": "@jupyter-widgets/controls",
      "_model_module_version": "1.5.0",
      "_model_name": "DescriptionStyleModel",
      "_view_count": null,
      "_view_module": "@jupyter-widgets/base",
      "_view_module_version": "1.2.0",
      "_view_name": "StyleView",
      "description_width": ""
     }
    },
    "f3a75b2b33564027891510f5e085c3e0": {
     "model_module": "@jupyter-widgets/controls",
     "model_module_version": "1.5.0",
     "model_name": "HTMLModel",
     "state": {
      "_dom_classes": [],
      "_model_module": "@jupyter-widgets/controls",
      "_model_module_version": "1.5.0",
      "_model_name": "HTMLModel",
      "_view_count": null,
      "_view_module": "@jupyter-widgets/controls",
      "_view_module_version": "1.5.0",
      "_view_name": "HTMLView",
      "description": "",
      "description_tooltip": null,
      "layout": "IPY_MODEL_e1785ffefad541ad95a1f9db78a12468",
      "placeholder": "​",
      "style": "IPY_MODEL_4f9c36446eaf4f70844631cda580d858",
      "value": " 45.5M/45.5M [00:01&lt;00:00, 31.8MB/s]"
     }
    },
    "f472871dca53441587e3924b5bb3ae47": {
     "model_module": "@jupyter-widgets/base",
     "model_module_version": "1.2.0",
     "model_name": "LayoutModel",
     "state": {
      "_model_module": "@jupyter-widgets/base",
      "_model_module_version": "1.2.0",
      "_model_name": "LayoutModel",
      "_view_count": null,
      "_view_module": "@jupyter-widgets/base",
      "_view_module_version": "1.2.0",
      "_view_name": "LayoutView",
      "align_content": null,
      "align_items": null,
      "align_self": null,
      "border": null,
      "bottom": null,
      "display": null,
      "flex": null,
      "flex_flow": null,
      "grid_area": null,
      "grid_auto_columns": null,
      "grid_auto_flow": null,
      "grid_auto_rows": null,
      "grid_column": null,
      "grid_gap": null,
      "grid_row": null,
      "grid_template_areas": null,
      "grid_template_columns": null,
      "grid_template_rows": null,
      "height": null,
      "justify_content": null,
      "justify_items": null,
      "left": null,
      "margin": null,
      "max_height": null,
      "max_width": null,
      "min_height": null,
      "min_width": null,
      "object_fit": null,
      "object_position": null,
      "order": null,
      "overflow": null,
      "overflow_x": null,
      "overflow_y": null,
      "padding": null,
      "right": null,
      "top": null,
      "visibility": null,
      "width": null
     }
    },
    "f894841559374a9e940a7c6838a1c63a": {
     "model_module": "@jupyter-widgets/controls",
     "model_module_version": "1.5.0",
     "model_name": "ProgressStyleModel",
     "state": {
      "_model_module": "@jupyter-widgets/controls",
      "_model_module_version": "1.5.0",
      "_model_name": "ProgressStyleModel",
      "_view_count": null,
      "_view_module": "@jupyter-widgets/base",
      "_view_module_version": "1.2.0",
      "_view_name": "StyleView",
      "bar_color": null,
      "description_width": ""
     }
    },
    "faad2df429914762ad77a0ee373ab973": {
     "model_module": "@jupyter-widgets/base",
     "model_module_version": "1.2.0",
     "model_name": "LayoutModel",
     "state": {
      "_model_module": "@jupyter-widgets/base",
      "_model_module_version": "1.2.0",
      "_model_name": "LayoutModel",
      "_view_count": null,
      "_view_module": "@jupyter-widgets/base",
      "_view_module_version": "1.2.0",
      "_view_name": "LayoutView",
      "align_content": null,
      "align_items": null,
      "align_self": null,
      "border": null,
      "bottom": null,
      "display": null,
      "flex": null,
      "flex_flow": null,
      "grid_area": null,
      "grid_auto_columns": null,
      "grid_auto_flow": null,
      "grid_auto_rows": null,
      "grid_column": null,
      "grid_gap": null,
      "grid_row": null,
      "grid_template_areas": null,
      "grid_template_columns": null,
      "grid_template_rows": null,
      "height": null,
      "justify_content": null,
      "justify_items": null,
      "left": null,
      "margin": null,
      "max_height": null,
      "max_width": null,
      "min_height": null,
      "min_width": null,
      "object_fit": null,
      "object_position": null,
      "order": null,
      "overflow": null,
      "overflow_x": null,
      "overflow_y": null,
      "padding": null,
      "right": null,
      "top": null,
      "visibility": null,
      "width": null
     }
    },
    "fcda89ecf9f64b5ab9e894ab3d2c3094": {
     "model_module": "@jupyter-widgets/controls",
     "model_module_version": "1.5.0",
     "model_name": "HTMLModel",
     "state": {
      "_dom_classes": [],
      "_model_module": "@jupyter-widgets/controls",
      "_model_module_version": "1.5.0",
      "_model_name": "HTMLModel",
      "_view_count": null,
      "_view_module": "@jupyter-widgets/controls",
      "_view_module_version": "1.5.0",
      "_view_name": "HTMLView",
      "description": "",
      "description_tooltip": null,
      "layout": "IPY_MODEL_6412fd5e66e349cf87bcd8930b4ccf9a",
      "placeholder": "​",
      "style": "IPY_MODEL_40bed847a68346369793ed0e6e8c44b7",
      "value": "Downloading: 100%"
     }
    },
    "fed21b06846f4694af48761b2e33cce2": {
     "model_module": "@jupyter-widgets/base",
     "model_module_version": "1.2.0",
     "model_name": "LayoutModel",
     "state": {
      "_model_module": "@jupyter-widgets/base",
      "_model_module_version": "1.2.0",
      "_model_name": "LayoutModel",
      "_view_count": null,
      "_view_module": "@jupyter-widgets/base",
      "_view_module_version": "1.2.0",
      "_view_name": "LayoutView",
      "align_content": null,
      "align_items": null,
      "align_self": null,
      "border": null,
      "bottom": null,
      "display": null,
      "flex": null,
      "flex_flow": null,
      "grid_area": null,
      "grid_auto_columns": null,
      "grid_auto_flow": null,
      "grid_auto_rows": null,
      "grid_column": null,
      "grid_gap": null,
      "grid_row": null,
      "grid_template_areas": null,
      "grid_template_columns": null,
      "grid_template_rows": null,
      "height": null,
      "justify_content": null,
      "justify_items": null,
      "left": null,
      "margin": null,
      "max_height": null,
      "max_width": null,
      "min_height": null,
      "min_width": null,
      "object_fit": null,
      "object_position": null,
      "order": null,
      "overflow": null,
      "overflow_x": null,
      "overflow_y": null,
      "padding": null,
      "right": null,
      "top": null,
      "visibility": null,
      "width": null
     }
    }
   }
  }
 },
 "nbformat": 4,
 "nbformat_minor": 1
}
