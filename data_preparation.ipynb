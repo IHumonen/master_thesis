{
 "cells": [
  {
   "cell_type": "markdown",
   "id": "173c6b7b",
   "metadata": {},
   "source": [
    "## Imports"
   ]
  },
  {
   "cell_type": "code",
   "execution_count": 1,
   "id": "03fcd8cd",
   "metadata": {},
   "outputs": [],
   "source": [
    "import torch\n",
    "\n",
    "import networkx as nx\n",
    "\n",
    "from sklearn.model_selection import train_test_split"
   ]
  },
  {
   "cell_type": "code",
   "execution_count": 2,
   "id": "e1f3343c",
   "metadata": {},
   "outputs": [],
   "source": [
    "from utils.corpus_utils import Corpus, CorpusMaker"
   ]
  },
  {
   "cell_type": "markdown",
   "id": "13a2e07a",
   "metadata": {},
   "source": [
    "## Data opening"
   ]
  },
  {
   "cell_type": "code",
   "execution_count": 3,
   "id": "9e22251e",
   "metadata": {},
   "outputs": [],
   "source": [
    "filepath = 'data/Bunin-Temnye_allei.txt'"
   ]
  },
  {
   "cell_type": "code",
   "execution_count": 4,
   "id": "20774448",
   "metadata": {},
   "outputs": [],
   "source": [
    "with open(filepath, 'r', encoding='cp1251') as f:\n",
    "    corpus_raw = f.read().lower()"
   ]
  },
  {
   "cell_type": "code",
   "execution_count": 5,
   "id": "268b7a9c",
   "metadata": {},
   "outputs": [],
   "source": [
    "test_corpus_raw = corpus_raw.split('\\n')[57: 56+100]"
   ]
  },
  {
   "cell_type": "markdown",
   "id": "ac921fb7",
   "metadata": {},
   "source": [
    "## Texts to graph"
   ]
  },
  {
   "cell_type": "code",
   "execution_count": 6,
   "id": "58d28472",
   "metadata": {},
   "outputs": [],
   "source": [
    "corpus_maker = CorpusMaker()"
   ]
  },
  {
   "cell_type": "code",
   "execution_count": null,
   "id": "a7f43864",
   "metadata": {},
   "outputs": [],
   "source": [
    "%%time\n",
    "train_graph = corpus_maker.create_graph('lenta')"
   ]
  },
  {
   "cell_type": "code",
   "execution_count": null,
   "id": "9fb87317",
   "metadata": {},
   "outputs": [],
   "source": [
    "test_graph = corpus_maker.create_graph(test_corpus_raw, dicts=(train_graph.idx2token, train_graph.token2idx))"
   ]
  },
  {
   "cell_type": "markdown",
   "id": "f2745704",
   "metadata": {},
   "source": [
    "## Saving"
   ]
  },
  {
   "cell_type": "code",
   "execution_count": null,
   "id": "51f99392",
   "metadata": {},
   "outputs": [],
   "source": [
    "torch.save(train_graph, 'data/train.pickle')\n",
    "torch.save(test_graph, 'data/test.pickle')"
   ]
  },
  {
   "cell_type": "code",
   "execution_count": null,
   "id": "64f37480",
   "metadata": {},
   "outputs": [],
   "source": [
    "## Vizualization"
   ]
  },
  {
   "cell_type": "code",
   "execution_count": null,
   "id": "be638359",
   "metadata": {},
   "outputs": [],
   "source": [
    "# G = nx.Graph(train_graph['edge_index'].tolist())"
   ]
  },
  {
   "cell_type": "code",
   "execution_count": null,
   "id": "b7d943d2",
   "metadata": {},
   "outputs": [],
   "source": [
    "# nx.write_gexf(G, \"test.gexf\")"
   ]
  },
  {
   "cell_type": "code",
   "execution_count": null,
   "id": "1c19148a",
   "metadata": {},
   "outputs": [],
   "source": [
    "# nx.draw_networkx(G)"
   ]
  }
 ],
 "metadata": {
  "kernelspec": {
   "display_name": "wsi",
   "language": "python",
   "name": "wsi"
  },
  "language_info": {
   "codemirror_mode": {
    "name": "ipython",
    "version": 3
   },
   "file_extension": ".py",
   "mimetype": "text/x-python",
   "name": "python",
   "nbconvert_exporter": "python",
   "pygments_lexer": "ipython3",
   "version": "3.9.7"
  }
 },
 "nbformat": 4,
 "nbformat_minor": 5
}
