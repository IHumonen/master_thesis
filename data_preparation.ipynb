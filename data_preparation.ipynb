{
 "cells": [
  {
   "cell_type": "markdown",
   "id": "b7d04810",
   "metadata": {},
   "source": [
    "## Imports"
   ]
  },
  {
   "cell_type": "code",
   "execution_count": 1,
   "id": "03fcd8cd",
   "metadata": {},
   "outputs": [],
   "source": [
    "import torch\n",
    "\n",
    "import networkx as nx\n",
    "\n",
    "from sklearn.model_selection import train_test_split"
   ]
  },
  {
   "cell_type": "code",
   "execution_count": 2,
   "id": "a4b61d2b",
   "metadata": {},
   "outputs": [],
   "source": [
    "from utils.corpus_utils import Corpus, CorpusMaker"
   ]
  },
  {
   "cell_type": "markdown",
   "id": "f125a179",
   "metadata": {},
   "source": [
    "## Data opening"
   ]
  },
  {
   "cell_type": "code",
   "execution_count": 3,
   "id": "6f342cf6",
   "metadata": {},
   "outputs": [],
   "source": [
    "filepath = 'data/Bunin-Temnye_allei.txt'"
   ]
  },
  {
   "cell_type": "code",
   "execution_count": 4,
   "id": "f40d183a",
   "metadata": {},
   "outputs": [],
   "source": [
    "with open(filepath, 'r', encoding='cp1251') as f:\n",
    "    corpus_raw = f.read().lower()"
   ]
  },
  {
   "cell_type": "code",
   "execution_count": 5,
   "id": "268b7a9c",
   "metadata": {},
   "outputs": [],
   "source": [
    "corpus_raw = corpus_raw.split('\\n')[57:57+20]"
   ]
  },
  {
   "cell_type": "code",
   "execution_count": 6,
   "id": "4c79b167",
   "metadata": {},
   "outputs": [],
   "source": [
    "train_corpus_raw, test_corpus_raw = train_test_split(corpus_raw, test_size=0.1)"
   ]
  },
  {
   "cell_type": "code",
   "execution_count": 7,
   "id": "d0d8d067",
   "metadata": {},
   "outputs": [
    {
     "data": {
      "text/plain": [
       "'—\\xa0баба — ума палата. и все, говорят, богатеет. деньги в рост даёт.'"
      ]
     },
     "execution_count": 7,
     "metadata": {},
     "output_type": "execute_result"
    }
   ],
   "source": [
    "test_corpus_raw[0]"
   ]
  },
  {
   "cell_type": "code",
   "execution_count": 8,
   "id": "350c4db8",
   "metadata": {},
   "outputs": [],
   "source": [
    "import pandas as pd\n",
    "\n",
    "df = pd.read_csv('../russe-wsi-kit/data/main/wiki-wiki/train.csv', delimiter='\\t')\n",
    "train_corpus_raw = train_corpus_raw + list(df['context'])"
   ]
  },
  {
   "cell_type": "markdown",
   "id": "eac5f921",
   "metadata": {},
   "source": [
    "## Texts to graph"
   ]
  },
  {
   "cell_type": "code",
   "execution_count": 9,
   "id": "854e5219",
   "metadata": {},
   "outputs": [],
   "source": [
    "corpuser = CorpusMaker()"
   ]
  },
  {
   "cell_type": "code",
   "execution_count": 10,
   "id": "a7f43864",
   "metadata": {},
   "outputs": [],
   "source": [
    "train_graph = corpuser.create_graph(train_corpus_raw)"
   ]
  },
  {
   "cell_type": "code",
   "execution_count": 11,
   "id": "f1a8d28b",
   "metadata": {},
   "outputs": [],
   "source": [
    "test_graph = corpuser.create_graph(test_corpus_raw)#, dicts=(train_graph.idx2token, train_graph.token2idx))"
   ]
  },
  {
   "cell_type": "markdown",
   "id": "37cda42b",
   "metadata": {},
   "source": [
    "## Saving"
   ]
  },
  {
   "cell_type": "code",
   "execution_count": 12,
   "id": "51f99392",
   "metadata": {},
   "outputs": [],
   "source": [
    "torch.save(train_graph, 'data/train.pickle')\n",
    "torch.save(test_graph, 'data/test.pickle')"
   ]
  },
  {
   "cell_type": "code",
   "execution_count": 14,
   "id": "faf35d25",
   "metadata": {},
   "outputs": [],
   "source": [
    "## Vizualization"
   ]
  },
  {
   "cell_type": "code",
   "execution_count": 15,
   "id": "be638359",
   "metadata": {},
   "outputs": [],
   "source": [
    "# G = nx.Graph(train_graph['edge_index'].tolist())"
   ]
  },
  {
   "cell_type": "code",
   "execution_count": 16,
   "id": "b7d943d2",
   "metadata": {},
   "outputs": [],
   "source": [
    "# nx.write_gexf(G, \"test.gexf\")"
   ]
  },
  {
   "cell_type": "code",
   "execution_count": 17,
   "id": "1c19148a",
   "metadata": {},
   "outputs": [],
   "source": [
    "# nx.draw_networkx(G)"
   ]
  }
 ],
 "metadata": {
  "kernelspec": {
   "display_name": "wsi",
   "language": "python",
   "name": "wsi"
  },
  "language_info": {
   "codemirror_mode": {
    "name": "ipython",
    "version": 3
   },
   "file_extension": ".py",
   "mimetype": "text/x-python",
   "name": "python",
   "nbconvert_exporter": "python",
   "pygments_lexer": "ipython3",
   "version": "3.9.7"
  }
 },
 "nbformat": 4,
 "nbformat_minor": 5
}
