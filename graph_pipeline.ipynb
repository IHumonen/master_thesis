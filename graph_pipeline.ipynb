{
 "cells": [
  {
   "cell_type": "markdown",
   "id": "5c009e61",
   "metadata": {},
   "source": [
    "## Imports"
   ]
  },
  {
   "cell_type": "code",
   "execution_count": null,
   "id": "e98c62fe",
   "metadata": {},
   "outputs": [],
   "source": [
    "import torch\n",
    "import wandb\n",
    "\n",
    "import torch.nn as nn\n",
    "\n",
    "from datetime import datetime\n",
    "\n",
    "from torch import optim"
   ]
  },
  {
   "cell_type": "code",
   "execution_count": null,
   "id": "7f6dabd3",
   "metadata": {},
   "outputs": [],
   "source": [
    "from utils.model_utils import train, evaluate\n",
    "from utils.corpus_utils import Corpus\n",
    "from models.SAGE import CustomSAGE"
   ]
  },
  {
   "cell_type": "markdown",
   "id": "7354ff55",
   "metadata": {},
   "source": [
    "## Data loading"
   ]
  },
  {
   "cell_type": "code",
   "execution_count": null,
   "id": "3528a44a",
   "metadata": {},
   "outputs": [],
   "source": [
    "train_data_path = 'data/train_oldtorch.pickle'\n",
    "test_data_path = 'data/test_oldtorch.pickle'"
   ]
  },
  {
   "cell_type": "code",
   "execution_count": null,
   "id": "74b4dcc3",
   "metadata": {},
   "outputs": [],
   "source": [
    "train_data = torch.load(train_data_path)\n",
    "test_data = torch.load(test_data_path)"
   ]
  },
  {
   "cell_type": "code",
   "execution_count": null,
   "id": "980545bf",
   "metadata": {},
   "outputs": [],
   "source": [
    "train_graph = train_data.graph\n",
    "test_graph = test_data.graph"
   ]
  },
  {
   "cell_type": "code",
   "execution_count": null,
   "id": "333a01a5",
   "metadata": {},
   "outputs": [],
   "source": [
    "token2idx = train_data.token2idx\n",
    "idx2token = train_data.idx2token"
   ]
  },
  {
   "cell_type": "code",
   "execution_count": null,
   "id": "f9d56253",
   "metadata": {},
   "outputs": [],
   "source": [
    "vocab_size = max(idx2token.keys())+1"
   ]
  },
  {
   "cell_type": "markdown",
   "id": "912a8607",
   "metadata": {},
   "source": [
    "## Config"
   ]
  },
  {
   "cell_type": "code",
   "execution_count": null,
   "id": "c8693d63",
   "metadata": {},
   "outputs": [],
   "source": [
    "device = torch.device(\"cuda\" if torch.cuda.is_available() else \"cpu\")"
   ]
  },
  {
   "cell_type": "code",
   "execution_count": null,
   "id": "340d9511-d375-4b97-aecd-041707534713",
   "metadata": {},
   "outputs": [],
   "source": [
    "device"
   ]
  },
  {
   "cell_type": "code",
   "execution_count": null,
   "id": "edc53245",
   "metadata": {},
   "outputs": [],
   "source": [
    "epochs = 100\n",
    "\n",
    "hidden_dim = 64\n",
    "num_conv_layers = 3\n",
    "\n",
    "lr=0.001"
   ]
  },
  {
   "cell_type": "code",
   "execution_count": null,
   "id": "17905aaa",
   "metadata": {},
   "outputs": [],
   "source": [
    "hparams = {\n",
    "    'hidden_dim' : hidden_dim,\n",
    "    'num_conv_layers' : num_conv_layers\n",
    "            }"
   ]
  },
  {
   "cell_type": "code",
   "execution_count": null,
   "id": "8a51852a",
   "metadata": {},
   "outputs": [],
   "source": [
    "timestamp = str(datetime.now().strftime(\"%Y-%m-%d-%H-%M-%S\"))\n",
    "\n",
    "print(timestamp)"
   ]
  },
  {
   "cell_type": "code",
   "execution_count": null,
   "id": "76f06de8",
   "metadata": {},
   "outputs": [],
   "source": [
    "config = {\n",
    "    \"train_dataset_file_path\": train_data_path,\n",
    "    \"val_dataset_file_path\": test_data_path,\n",
    "    \"epochs\": epochs,\n",
    "    \"lr\": lr,\n",
    "    'timestamp' : timestamp\n",
    "}\n",
    "for hparam in hparams:\n",
    "    config[hparam] = hparams[hparam]"
   ]
  },
  {
   "cell_type": "code",
   "execution_count": null,
   "id": "eda76791",
   "metadata": {},
   "outputs": [],
   "source": [
    "wandb.init(project=\"master_thesis\", entity=\"kesha_humonen\", config=config)"
   ]
  },
  {
   "cell_type": "markdown",
   "id": "a93611cf",
   "metadata": {},
   "source": [
    "## Model"
   ]
  },
  {
   "cell_type": "code",
   "execution_count": null,
   "id": "27479bff",
   "metadata": {},
   "outputs": [],
   "source": [
    "model = CustomSAGE(vocab_size, hidden_dim=hidden_dim, num_conv_layers=num_conv_layers)\n",
    "# if multigpu_available():\n",
    "#     model = DataParallel(model)\n",
    "\n",
    "optimizer = optim.AdamW(model.parameters(), lr=lr)\n",
    "criterion = torch.nn.CrossEntropyLoss()\n",
    "\n",
    "model = model.to(device)\n",
    "criterion = criterion.to(device)"
   ]
  },
  {
   "cell_type": "markdown",
   "id": "77e238e2",
   "metadata": {},
   "source": [
    "## Training loop"
   ]
  },
  {
   "cell_type": "code",
   "execution_count": null,
   "id": "b1439430",
   "metadata": {},
   "outputs": [],
   "source": [
    "loss = []\n",
    "loss_eval = []\n",
    "\n",
    "# print(f'Start training model {str(model)}')\n",
    "for epoch in range(epochs):\n",
    "    train_graph = torch.load(train_data_path).graph\n",
    "    test_graph = torch.load(train_data_path).graph #test_data.graph\n",
    "    loss.append(train(model, train_graph, idx2token, optimizer, criterion, epoch, device))\n",
    "    loss_eval.append(evaluate(model, test_graph, idx2token, criterion, epoch, device, timestamp, save_checkpoints=True))\n",
    "    wandb.log({'train_bce': loss[-1], 'val_bce' : loss_eval[-1]})"
   ]
  },
  {
   "cell_type": "code",
   "execution_count": null,
   "id": "0952e35a",
   "metadata": {},
   "outputs": [],
   "source": [
    "wandb.finish()"
   ]
  },
  {
   "cell_type": "markdown",
   "id": "e80fddb8",
   "metadata": {},
   "source": [
    "## Learning curves (also see [wandb](https://wandb.ai/kesha_humonen/master_thesis))"
   ]
  },
  {
   "cell_type": "code",
   "execution_count": null,
   "id": "8477c8b9",
   "metadata": {},
   "outputs": [],
   "source": [
    "import plotly.graph_objects as go"
   ]
  },
  {
   "cell_type": "code",
   "execution_count": null,
   "id": "8926d70d",
   "metadata": {},
   "outputs": [],
   "source": [
    "fig = go.Figure()\n",
    "fig.add_trace(go.Scatter(y=loss, name='train'))\n",
    "fig.add_trace(go.Scatter(y=loss_eval, name='val'))\n",
    "fig.update_layout(title='ChataboxModel',\n",
    "                   xaxis_title='epoch',\n",
    "                   yaxis_title=str(criterion)[:-3])\n",
    "fig.show()"
   ]
  },
  {
   "cell_type": "code",
   "execution_count": null,
   "id": "0b6bf42b",
   "metadata": {},
   "outputs": [],
   "source": [
    "from matplotlib import pyplot as plt"
   ]
  },
  {
   "cell_type": "code",
   "execution_count": null,
   "id": "da49e70b",
   "metadata": {},
   "outputs": [],
   "source": [
    "plt.plot(loss, color='red', label='train')\n",
    "plt.plot(loss_eval, color='blue', label='eval')\n",
    "plt.legend()\n",
    "plt.xlabel('epoch')\n",
    "plt.ylabel(str(criterion)[:-3])\n",
    "plt.title('ChataboxModel')\n",
    "plt.show()"
   ]
  }
 ],
 "metadata": {
  "kernelspec": {
   "display_name": "intermet",
   "language": "python",
   "name": "intermet"
  },
  "language_info": {
   "codemirror_mode": {
    "name": "ipython",
    "version": 3
   },
   "file_extension": ".py",
   "mimetype": "text/x-python",
   "name": "python",
   "nbconvert_exporter": "python",
   "pygments_lexer": "ipython3",
   "version": "3.8.12"
  }
 },
 "nbformat": 4,
 "nbformat_minor": 5
}
