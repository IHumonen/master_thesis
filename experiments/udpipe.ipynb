{
 "cells": [
  {
   "cell_type": "code",
   "execution_count": 1,
   "metadata": {},
   "outputs": [],
   "source": [
    "import os\n",
    "import sys\n",
    "\n",
    "import spacy_udpipe\n",
    "\n",
    "import numpy as np\n",
    "import pandas as pd"
   ]
  },
  {
   "cell_type": "code",
   "execution_count": 2,
   "metadata": {},
   "outputs": [],
   "source": [
    "sys.path.append(os.path.expanduser('../utils'))"
   ]
  },
  {
   "cell_type": "code",
   "execution_count": 6,
   "metadata": {},
   "outputs": [],
   "source": [
    "from df_utils import df_preparation, get_word_location\n",
    "from visualization_utils import make_plot\n",
    "from clustering_utils import clustering"
   ]
  },
  {
   "cell_type": "code",
   "execution_count": 2,
   "metadata": {},
   "outputs": [],
   "source": [
    "task = 'bts-rnc' #'active-dict' 'bts-rnc' 'wiki-wiki'"
   ]
  },
  {
   "cell_type": "code",
   "execution_count": 3,
   "metadata": {},
   "outputs": [],
   "source": [
    "train_df = pd.read_csv(f'../russe-wsi-kit/data/main/{task}/train.csv', delimiter='\\t')"
   ]
  },
  {
   "cell_type": "code",
   "execution_count": 4,
   "metadata": {},
   "outputs": [],
   "source": [
    "train_df = df_preparation(train_df, task)"
   ]
  },
  {
   "cell_type": "code",
   "execution_count": 5,
   "metadata": {},
   "outputs": [
    {
     "name": "stdout",
     "output_type": "stream",
     "text": [
      "Already downloaded a model for the 'ru' language\n"
     ]
    }
   ],
   "source": [
    "spacy_udpipe.download(\"ru\")"
   ]
  },
  {
   "cell_type": "code",
   "execution_count": 6,
   "metadata": {},
   "outputs": [],
   "source": [
    "nlp = spacy_udpipe.load(\"ru\")"
   ]
  },
  {
   "cell_type": "code",
   "execution_count": 7,
   "metadata": {},
   "outputs": [],
   "source": [
    "def get_dep(word, text):\n",
    "    doc = nlp(text)\n",
    "    for token in doc:\n",
    "        if token.lemma_ == word or token.lemma_ == 'суд':\n",
    "            return token.dep_\n",
    "    return None"
   ]
  },
  {
   "cell_type": "code",
   "execution_count": 8,
   "metadata": {},
   "outputs": [
    {
     "name": "stdout",
     "output_type": "stream",
     "text": [
      "CPU times: user 44.7 s, sys: 253 ms, total: 44.9 s\n",
      "Wall time: 45.4 s\n"
     ]
    }
   ],
   "source": [
    "%%time\n",
    "train_df['dep'] = train_df.apply(lambda x: get_dep(x['word'], x['context']), axis=1)"
   ]
  },
  {
   "cell_type": "code",
   "execution_count": 9,
   "metadata": {},
   "outputs": [
    {
     "data": {
      "text/html": [
       "<div>\n",
       "<style scoped>\n",
       "    .dataframe tbody tr th:only-of-type {\n",
       "        vertical-align: middle;\n",
       "    }\n",
       "\n",
       "    .dataframe tbody tr th {\n",
       "        vertical-align: top;\n",
       "    }\n",
       "\n",
       "    .dataframe thead th {\n",
       "        text-align: right;\n",
       "    }\n",
       "</style>\n",
       "<table border=\"1\" class=\"dataframe\">\n",
       "  <thead>\n",
       "    <tr style=\"text-align: right;\">\n",
       "      <th></th>\n",
       "      <th>context_id</th>\n",
       "      <th>word</th>\n",
       "      <th>gold_sense_id</th>\n",
       "      <th>predict_sense_id</th>\n",
       "      <th>positions</th>\n",
       "      <th>context</th>\n",
       "      <th>word_form</th>\n",
       "      <th>dep</th>\n",
       "    </tr>\n",
       "  </thead>\n",
       "  <tbody>\n",
       "    <tr>\n",
       "      <th>320</th>\n",
       "      <td>321</td>\n",
       "      <td>горн</td>\n",
       "      <td>1</td>\n",
       "      <td>NaN</td>\n",
       "      <td>[85, 88]</td>\n",
       "      <td>то правда, -- мягко поддержал ее Люсин. -- Одн...</td>\n",
       "      <td>горн</td>\n",
       "      <td>ROOT</td>\n",
       "    </tr>\n",
       "    <tr>\n",
       "      <th>882</th>\n",
       "      <td>883</td>\n",
       "      <td>купюра</td>\n",
       "      <td>2</td>\n",
       "      <td>NaN</td>\n",
       "      <td>[72, 77]</td>\n",
       "      <td>им обманывать? -- Найдут зачем. С МММ обманули...</td>\n",
       "      <td>Купюры</td>\n",
       "      <td>ROOT</td>\n",
       "    </tr>\n",
       "    <tr>\n",
       "      <th>552</th>\n",
       "      <td>553</td>\n",
       "      <td>жаба</td>\n",
       "      <td>1</td>\n",
       "      <td>NaN</td>\n",
       "      <td>[71, 74]</td>\n",
       "      <td>порвать волоски. -- Ах, так!.. Тогда и меня пр...</td>\n",
       "      <td>жабу</td>\n",
       "      <td>ROOT</td>\n",
       "    </tr>\n",
       "    <tr>\n",
       "      <th>2395</th>\n",
       "      <td>2396</td>\n",
       "      <td>поток</td>\n",
       "      <td>2</td>\n",
       "      <td>NaN</td>\n",
       "      <td>[62, 67]</td>\n",
       "      <td>уже сила. У нас много желаний, хороших и честн...</td>\n",
       "      <td>потоки</td>\n",
       "      <td>ROOT</td>\n",
       "    </tr>\n",
       "    <tr>\n",
       "      <th>828</th>\n",
       "      <td>829</td>\n",
       "      <td>крыло</td>\n",
       "      <td>1</td>\n",
       "      <td>NaN</td>\n",
       "      <td>[89, 93]</td>\n",
       "      <td>больше финансовых благ, чем все остальные, но ...</td>\n",
       "      <td>крыло</td>\n",
       "      <td>ROOT</td>\n",
       "    </tr>\n",
       "    <tr>\n",
       "      <th>...</th>\n",
       "      <td>...</td>\n",
       "      <td>...</td>\n",
       "      <td>...</td>\n",
       "      <td>...</td>\n",
       "      <td>...</td>\n",
       "      <td>...</td>\n",
       "      <td>...</td>\n",
       "      <td>...</td>\n",
       "    </tr>\n",
       "    <tr>\n",
       "      <th>3400</th>\n",
       "      <td>3401</td>\n",
       "      <td>штамп</td>\n",
       "      <td>1</td>\n",
       "      <td>NaN</td>\n",
       "      <td>[65, 71]</td>\n",
       "      <td>раз проверил у Артема и Ульмана документы, и в...</td>\n",
       "      <td>штампом</td>\n",
       "      <td>None</td>\n",
       "    </tr>\n",
       "    <tr>\n",
       "      <th>3422</th>\n",
       "      <td>3423</td>\n",
       "      <td>штамп</td>\n",
       "      <td>1</td>\n",
       "      <td>NaN</td>\n",
       "      <td>[82, 87]</td>\n",
       "      <td>коем случае нельзя! Не допускается и переправл...</td>\n",
       "      <td>штампе</td>\n",
       "      <td>None</td>\n",
       "    </tr>\n",
       "    <tr>\n",
       "      <th>3444</th>\n",
       "      <td>3445</td>\n",
       "      <td>штамп</td>\n",
       "      <td>4</td>\n",
       "      <td>NaN</td>\n",
       "      <td>[87, 92]</td>\n",
       "      <td>имеет полное право оставить за собой определен...</td>\n",
       "      <td>штампа</td>\n",
       "      <td>None</td>\n",
       "    </tr>\n",
       "    <tr>\n",
       "      <th>3453</th>\n",
       "      <td>3454</td>\n",
       "      <td>штамп</td>\n",
       "      <td>4</td>\n",
       "      <td>NaN</td>\n",
       "      <td>[80, 84]</td>\n",
       "      <td>, ожидающей Ромео. В нем есть слова, которые о...</td>\n",
       "      <td>штамп</td>\n",
       "      <td>None</td>\n",
       "    </tr>\n",
       "    <tr>\n",
       "      <th>3464</th>\n",
       "      <td>3465</td>\n",
       "      <td>штамп</td>\n",
       "      <td>4</td>\n",
       "      <td>NaN</td>\n",
       "      <td>[0, 4]</td>\n",
       "      <td>Штамп«они были первыми» идеален для Людмилы Бе...</td>\n",
       "      <td>Штамп</td>\n",
       "      <td>None</td>\n",
       "    </tr>\n",
       "  </tbody>\n",
       "</table>\n",
       "<p>3491 rows × 8 columns</p>\n",
       "</div>"
      ],
      "text/plain": [
       "      context_id    word gold_sense_id  predict_sense_id positions  \\\n",
       "320          321    горн             1               NaN  [85, 88]   \n",
       "882          883  купюра             2               NaN  [72, 77]   \n",
       "552          553    жаба             1               NaN  [71, 74]   \n",
       "2395        2396   поток             2               NaN  [62, 67]   \n",
       "828          829   крыло             1               NaN  [89, 93]   \n",
       "...          ...     ...           ...               ...       ...   \n",
       "3400        3401   штамп             1               NaN  [65, 71]   \n",
       "3422        3423   штамп             1               NaN  [82, 87]   \n",
       "3444        3445   штамп             4               NaN  [87, 92]   \n",
       "3453        3454   штамп             4               NaN  [80, 84]   \n",
       "3464        3465   штамп             4               NaN    [0, 4]   \n",
       "\n",
       "                                                context word_form   dep  \n",
       "320   то правда, -- мягко поддержал ее Люсин. -- Одн...      горн  ROOT  \n",
       "882   им обманывать? -- Найдут зачем. С МММ обманули...    Купюры  ROOT  \n",
       "552   порвать волоски. -- Ах, так!.. Тогда и меня пр...      жабу  ROOT  \n",
       "2395  уже сила. У нас много желаний, хороших и честн...    потоки  ROOT  \n",
       "828   больше финансовых благ, чем все остальные, но ...     крыло  ROOT  \n",
       "...                                                 ...       ...   ...  \n",
       "3400  раз проверил у Артема и Ульмана документы, и в...   штампом  None  \n",
       "3422  коем случае нельзя! Не допускается и переправл...    штампе  None  \n",
       "3444  имеет полное право оставить за собой определен...    штампа  None  \n",
       "3453  , ожидающей Ромео. В нем есть слова, которые о...     штамп  None  \n",
       "3464  Штамп«они были первыми» идеален для Людмилы Бе...     Штамп  None  \n",
       "\n",
       "[3491 rows x 8 columns]"
      ]
     },
     "execution_count": 9,
     "metadata": {},
     "output_type": "execute_result"
    }
   ],
   "source": [
    "train_df = train_df.sort_values(by='dep')\n",
    "train_df"
   ]
  },
  {
   "cell_type": "code",
   "execution_count": 29,
   "metadata": {},
   "outputs": [],
   "source": [
    "goal_word = 'крыло'"
   ]
  },
  {
   "cell_type": "code",
   "execution_count": 30,
   "metadata": {},
   "outputs": [],
   "source": [
    "word_df = train_df[train_df['word'] == goal_word]"
   ]
  },
  {
   "cell_type": "code",
   "execution_count": 31,
   "metadata": {},
   "outputs": [
    {
     "data": {
      "text/html": [
       "<div>\n",
       "<style scoped>\n",
       "    .dataframe tbody tr th:only-of-type {\n",
       "        vertical-align: middle;\n",
       "    }\n",
       "\n",
       "    .dataframe tbody tr th {\n",
       "        vertical-align: top;\n",
       "    }\n",
       "\n",
       "    .dataframe thead th {\n",
       "        text-align: right;\n",
       "    }\n",
       "</style>\n",
       "<table border=\"1\" class=\"dataframe\">\n",
       "  <thead>\n",
       "    <tr style=\"text-align: right;\">\n",
       "      <th></th>\n",
       "      <th>context_id</th>\n",
       "      <th>word</th>\n",
       "      <th>gold_sense_id</th>\n",
       "      <th>predict_sense_id</th>\n",
       "      <th>positions</th>\n",
       "      <th>context</th>\n",
       "      <th>word_form</th>\n",
       "      <th>dep</th>\n",
       "    </tr>\n",
       "  </thead>\n",
       "  <tbody>\n",
       "    <tr>\n",
       "      <th>828</th>\n",
       "      <td>829</td>\n",
       "      <td>крыло</td>\n",
       "      <td>1</td>\n",
       "      <td>NaN</td>\n",
       "      <td>[89, 93]</td>\n",
       "      <td>больше финансовых благ, чем все остальные, но ...</td>\n",
       "      <td>крыло</td>\n",
       "      <td>ROOT</td>\n",
       "    </tr>\n",
       "    <tr>\n",
       "      <th>804</th>\n",
       "      <td>805</td>\n",
       "      <td>крыло</td>\n",
       "      <td>1</td>\n",
       "      <td>NaN</td>\n",
       "      <td>[3, 9]</td>\n",
       "      <td>На крыльях срезанных... О. Мандельштам Этюд пе...</td>\n",
       "      <td>крыльях</td>\n",
       "      <td>ROOT</td>\n",
       "    </tr>\n",
       "    <tr>\n",
       "      <th>844</th>\n",
       "      <td>845</td>\n",
       "      <td>крыло</td>\n",
       "      <td>2</td>\n",
       "      <td>NaN</td>\n",
       "      <td>[83, 87]</td>\n",
       "      <td>приземляться, приблизившись к ВПП на как можно...</td>\n",
       "      <td>крыла</td>\n",
       "      <td>ROOT</td>\n",
       "    </tr>\n",
       "    <tr>\n",
       "      <th>842</th>\n",
       "      <td>843</td>\n",
       "      <td>крыло</td>\n",
       "      <td>2</td>\n",
       "      <td>NaN</td>\n",
       "      <td>[70, 74]</td>\n",
       "      <td>Мое жилье, А над землей - Могучее крыло мое......</td>\n",
       "      <td>крыло</td>\n",
       "      <td>ROOT</td>\n",
       "    </tr>\n",
       "    <tr>\n",
       "      <th>806</th>\n",
       "      <td>807</td>\n",
       "      <td>крыло</td>\n",
       "      <td>1</td>\n",
       "      <td>NaN</td>\n",
       "      <td>[83, 88]</td>\n",
       "      <td>Гусевым ему не хотелось идти. Третьим пойдет.....</td>\n",
       "      <td>крылья</td>\n",
       "      <td>advcl</td>\n",
       "    </tr>\n",
       "    <tr>\n",
       "      <th>...</th>\n",
       "      <td>...</td>\n",
       "      <td>...</td>\n",
       "      <td>...</td>\n",
       "      <td>...</td>\n",
       "      <td>...</td>\n",
       "      <td>...</td>\n",
       "      <td>...</td>\n",
       "      <td>...</td>\n",
       "    </tr>\n",
       "    <tr>\n",
       "      <th>810</th>\n",
       "      <td>811</td>\n",
       "      <td>крыло</td>\n",
       "      <td>1</td>\n",
       "      <td>NaN</td>\n",
       "      <td>[80, 84]</td>\n",
       "      <td>полок -- звяк! звяк! звяк! Он открыл глаза... ...</td>\n",
       "      <td>крыла</td>\n",
       "      <td>parataxis</td>\n",
       "    </tr>\n",
       "    <tr>\n",
       "      <th>839</th>\n",
       "      <td>840</td>\n",
       "      <td>крыло</td>\n",
       "      <td>2</td>\n",
       "      <td>NaN</td>\n",
       "      <td>[71, 75]</td>\n",
       "      <td>, А над землей - Могучее крыло мое... А над зе...</td>\n",
       "      <td>Крыло</td>\n",
       "      <td>parataxis</td>\n",
       "    </tr>\n",
       "    <tr>\n",
       "      <th>796</th>\n",
       "      <td>797</td>\n",
       "      <td>крыло</td>\n",
       "      <td>1</td>\n",
       "      <td>NaN</td>\n",
       "      <td>[86, 90]</td>\n",
       "      <td>2004 г. она станет полноправным членом объедин...</td>\n",
       "      <td>крыло</td>\n",
       "      <td>None</td>\n",
       "    </tr>\n",
       "    <tr>\n",
       "      <th>801</th>\n",
       "      <td>802</td>\n",
       "      <td>крыло</td>\n",
       "      <td>1</td>\n",
       "      <td>NaN</td>\n",
       "      <td>[72, 75]</td>\n",
       "      <td>мимо. Мы все еще чувствуем сладость ее благоух...</td>\n",
       "      <td>крыл</td>\n",
       "      <td>None</td>\n",
       "    </tr>\n",
       "    <tr>\n",
       "      <th>807</th>\n",
       "      <td>808</td>\n",
       "      <td>крыло</td>\n",
       "      <td>1</td>\n",
       "      <td>NaN</td>\n",
       "      <td>[86, 93]</td>\n",
       "      <td>. Вышли сборники повестей и рассказов В. Токар...</td>\n",
       "      <td>крыльями</td>\n",
       "      <td>None</td>\n",
       "    </tr>\n",
       "  </tbody>\n",
       "</table>\n",
       "<p>91 rows × 8 columns</p>\n",
       "</div>"
      ],
      "text/plain": [
       "     context_id   word gold_sense_id  predict_sense_id positions  \\\n",
       "828         829  крыло             1               NaN  [89, 93]   \n",
       "804         805  крыло             1               NaN    [3, 9]   \n",
       "844         845  крыло             2               NaN  [83, 87]   \n",
       "842         843  крыло             2               NaN  [70, 74]   \n",
       "806         807  крыло             1               NaN  [83, 88]   \n",
       "..          ...    ...           ...               ...       ...   \n",
       "810         811  крыло             1               NaN  [80, 84]   \n",
       "839         840  крыло             2               NaN  [71, 75]   \n",
       "796         797  крыло             1               NaN  [86, 90]   \n",
       "801         802  крыло             1               NaN  [72, 75]   \n",
       "807         808  крыло             1               NaN  [86, 93]   \n",
       "\n",
       "                                               context word_form        dep  \n",
       "828  больше финансовых благ, чем все остальные, но ...     крыло       ROOT  \n",
       "804  На крыльях срезанных... О. Мандельштам Этюд пе...   крыльях       ROOT  \n",
       "844  приземляться, приблизившись к ВПП на как можно...     крыла       ROOT  \n",
       "842  Мое жилье, А над землей - Могучее крыло мое......     крыло       ROOT  \n",
       "806  Гусевым ему не хотелось идти. Третьим пойдет.....    крылья      advcl  \n",
       "..                                                 ...       ...        ...  \n",
       "810  полок -- звяк! звяк! звяк! Он открыл глаза... ...     крыла  parataxis  \n",
       "839  , А над землей - Могучее крыло мое... А над зе...     Крыло  parataxis  \n",
       "796  2004 г. она станет полноправным членом объедин...     крыло       None  \n",
       "801  мимо. Мы все еще чувствуем сладость ее благоух...      крыл       None  \n",
       "807  . Вышли сборники повестей и рассказов В. Токар...  крыльями       None  \n",
       "\n",
       "[91 rows x 8 columns]"
      ]
     },
     "execution_count": 31,
     "metadata": {},
     "output_type": "execute_result"
    }
   ],
   "source": [
    "word_df"
   ]
  },
  {
   "cell_type": "code",
   "execution_count": 32,
   "metadata": {},
   "outputs": [
    {
     "data": {
      "text/plain": [
       "<AxesSubplot:>"
      ]
     },
     "execution_count": 32,
     "metadata": {},
     "output_type": "execute_result"
    },
    {
     "data": {
      "image/png": "[encoded data removed]",
      "text/plain": [
       "<Figure size 432x288 with 1 Axes>"
      ]
     },
     "metadata": {
      "needs_background": "light"
     },
     "output_type": "display_data"
    }
   ],
   "source": [
    "word_df[word_df['gold_sense_id'] == '1']['dep'].hist()"
   ]
  },
  {
   "cell_type": "code",
   "execution_count": 34,
   "metadata": {},
   "outputs": [
    {
     "data": {
      "text/plain": [
       "<AxesSubplot:>"
      ]
     },
     "execution_count": 34,
     "metadata": {},
     "output_type": "execute_result"
    },
    {
     "data": {
      "image/png": "[encoded data removed]",
      "text/plain": [
       "<Figure size 432x288 with 1 Axes>"
      ]
     },
     "metadata": {
      "needs_background": "light"
     },
     "output_type": "display_data"
    }
   ],
   "source": [
    "word_df[word_df['gold_sense_id'] == '2']['dep'].hist()"
   ]
  },
  {
   "cell_type": "code",
   "execution_count": null,
   "metadata": {},
   "outputs": [],
   "source": []
  }
 ],
 "metadata": {
  "kernelspec": {
   "display_name": "wsi",
   "language": "python",
   "name": "wsi"
  },
  "language_info": {
   "codemirror_mode": {
    "name": "ipython",
    "version": 3
   },
   "file_extension": ".py",
   "mimetype": "text/x-python",
   "name": "python",
   "nbconvert_exporter": "python",
   "pygments_lexer": "ipython3",
   "version": "3.9.7"
  }
 },
 "nbformat": 4,
 "nbformat_minor": 2
}
