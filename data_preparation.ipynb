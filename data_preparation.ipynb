{
 "cells": [
  {
   "cell_type": "markdown",
   "id": "3d4cfff4",
   "metadata": {},
   "source": [
    "## Imports"
   ]
  },
  {
   "cell_type": "code",
   "execution_count": null,
   "id": "03fcd8cd",
   "metadata": {},
   "outputs": [],
   "source": [
    "import torch\n",
    "\n",
    "import networkx as nx\n",
    "\n",
    "from sklearn.model_selection import train_test_split"
   ]
  },
  {
   "cell_type": "code",
   "execution_count": null,
   "id": "14a028f7",
   "metadata": {},
   "outputs": [],
   "source": [
    "from utils.corpus_utils import Corpus, CorpusMaker"
   ]
  },
  {
   "cell_type": "markdown",
   "id": "b9e1cb3e",
   "metadata": {},
   "source": [
    "## Data opening"
   ]
  },
  {
   "cell_type": "code",
   "execution_count": null,
   "id": "dcdef23a",
   "metadata": {},
   "outputs": [],
   "source": [
    "filepath = 'data/Bunin-Temnye_allei.txt'"
   ]
  },
  {
   "cell_type": "code",
   "execution_count": null,
   "id": "56392d65",
   "metadata": {},
   "outputs": [],
   "source": [
    "with open(filepath, 'r', encoding='cp1251') as f:\n",
    "    corpus_raw = f.read().lower()"
   ]
  },
  {
   "cell_type": "code",
   "execution_count": null,
   "id": "268b7a9c",
   "metadata": {},
   "outputs": [],
   "source": [
    "test_corpus_raw = corpus_raw.split('\\n')[57: 56+100]"
   ]
  },
  {
   "cell_type": "markdown",
   "id": "014009a5",
   "metadata": {},
   "source": [
    "## Texts to graph"
   ]
  },
  {
   "cell_type": "code",
   "execution_count": null,
   "id": "d115f104",
   "metadata": {},
   "outputs": [],
   "source": [
    "corpus_maker = CorpusMaker()"
   ]
  },
  {
   "cell_type": "code",
   "execution_count": null,
   "id": "a7f43864",
   "metadata": {},
   "outputs": [],
   "source": [
    "%%time\n",
    "train_graph = corpus_maker.create_graph('lenta')"
   ]
  },
  {
   "cell_type": "code",
   "execution_count": null,
   "id": "b7aeb26a",
   "metadata": {},
   "outputs": [],
   "source": [
    "test_graph = corpus_maker.create_graph(test_corpus_raw, dicts=(train_graph.token2idx, train_graph.idx2token))"
   ]
  },
  {
   "cell_type": "markdown",
   "id": "4031c863",
   "metadata": {},
   "source": [
    "## Saving"
   ]
  },
  {
   "cell_type": "code",
   "execution_count": null,
   "id": "51f99392",
   "metadata": {},
   "outputs": [],
   "source": [
    "torch.save(train_graph, 'data/train_oldtorch.pickle')\n",
    "torch.save(test_graph, 'data/test_oldtorch.pickle')"
   ]
  },
  {
   "cell_type": "code",
   "execution_count": null,
   "id": "9793ca7c",
   "metadata": {},
   "outputs": [],
   "source": [
    "## Vizualization"
   ]
  },
  {
   "cell_type": "code",
   "execution_count": null,
   "id": "be638359",
   "metadata": {},
   "outputs": [],
   "source": [
    "# G = nx.Graph(train_graph['edge_index'].tolist())"
   ]
  },
  {
   "cell_type": "code",
   "execution_count": null,
   "id": "b7d943d2",
   "metadata": {},
   "outputs": [],
   "source": [
    "# nx.write_gexf(G, \"test.gexf\")"
   ]
  },
  {
   "cell_type": "code",
   "execution_count": null,
   "id": "1c19148a",
   "metadata": {},
   "outputs": [],
   "source": [
    "# nx.draw_networkx(G)"
   ]
  }
 ],
 "metadata": {
  "kernelspec": {
   "display_name": "intermet",
   "language": "python",
   "name": "intermet"
  },
  "language_info": {
   "codemirror_mode": {
    "name": "ipython",
    "version": 3
   },
   "file_extension": ".py",
   "mimetype": "text/x-python",
   "name": "python",
   "nbconvert_exporter": "python",
   "pygments_lexer": "ipython3",
   "version": "3.8.12"
  }
 },
 "nbformat": 4,
 "nbformat_minor": 5
}
